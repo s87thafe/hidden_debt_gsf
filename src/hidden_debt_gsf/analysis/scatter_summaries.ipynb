{
 "cells": [
  {
   "cell_type": "code",
   "execution_count": 7,
   "metadata": {},
   "outputs": [
    {
     "data": {
      "application/vnd.plotly.v1+json": {
       "config": {
        "plotlyServerURL": "https://plot.ly"
       },
       "data": [
        {
         "customdata": [
          [
           "Net incurrence of liabilities",
           "Budgetary central government",
           "Domestic currency"
          ],
          [
           "Net incurrence of liabilities",
           "Budgetary central government",
           "Percent of GDP"
          ],
          [
           "Net incurrence of liabilities",
           "Central government (excl. social security funds)",
           "Domestic currency"
          ],
          [
           "Net incurrence of liabilities",
           "Central government (excl. social security funds)",
           "Percent of GDP"
          ],
          [
           "Net incurrence of liabilities",
           "Social security funds",
           "Domestic currency"
          ],
          [
           "Net incurrence of liabilities",
           "Social security funds",
           "Percent of GDP"
          ],
          [
           "Net incurrence of liabilities",
           "General government",
           "Domestic currency"
          ],
          [
           "Net incurrence of liabilities",
           "Local governments",
           "Domestic currency"
          ],
          [
           "Net incurrence of liabilities",
           "Central government (incl. social security funds)",
           "Domestic currency"
          ],
          [
           "Net incurrence of liabilities",
           "General government",
           "Percent of GDP"
          ],
          [
           "Net incurrence of liabilities",
           "Local governments",
           "Percent of GDP"
          ],
          [
           "Net incurrence of liabilities",
           "Central government (incl. social security funds)",
           "Percent of GDP"
          ],
          [
           "Stock position liabilities",
           "Social security funds",
           "Domestic currency"
          ],
          [
           "Stock position liabilities",
           "Social security funds",
           "Percent of GDP"
          ],
          [
           "Stock position liabilities",
           "Central government (excl. social security funds)",
           "Domestic currency"
          ],
          [
           "Stock position liabilities",
           "Central government (excl. social security funds)",
           "Percent of GDP"
          ],
          [
           "Stock position liabilities",
           "Local governments",
           "Domestic currency"
          ],
          [
           "Stock position liabilities",
           "Local governments",
           "Percent of GDP"
          ],
          [
           "Stock position liabilities",
           "General government",
           "Domestic currency"
          ],
          [
           "Stock position liabilities",
           "General government",
           "Percent of GDP"
          ],
          [
           "Stock position liabilities",
           "Budgetary central government",
           "Domestic currency"
          ],
          [
           "Stock position liabilities",
           "Budgetary central government",
           "Percent of GDP"
          ],
          [
           "Net incurrence of liabilities",
           "Extrabudgetary central government",
           "Domestic currency"
          ],
          [
           "Net incurrence of liabilities",
           "Extrabudgetary central government",
           "Percent of GDP"
          ],
          [
           "Stock position liabilities",
           "Central government (incl. social security funds)",
           "Domestic currency"
          ],
          [
           "Stock position liabilities",
           "Central government (incl. social security funds)",
           "Percent of GDP"
          ],
          [
           "Net incurrence of liabilities",
           "State governments",
           "Domestic currency"
          ],
          [
           "Net incurrence of liabilities",
           "State governments",
           "Percent of GDP"
          ],
          [
           "Stock position liabilities",
           "State governments",
           "Domestic currency"
          ],
          [
           "Stock position liabilities",
           "State governments",
           "Percent of GDP"
          ],
          [
           "Stock position liabilities",
           "Extrabudgetary central government",
           "Domestic currency"
          ],
          [
           "Stock position liabilities",
           "Extrabudgetary central government",
           "Percent of GDP"
          ],
          [
           "Other economic flows in liabilities",
           "Local governments",
           "Domestic currency"
          ],
          [
           "Other economic flows in liabilities",
           "Local governments",
           "Percent of GDP"
          ],
          [
           "Other economic flows in liabilities",
           "General government",
           "Domestic currency"
          ],
          [
           "Other economic flows in liabilities",
           "General government",
           "Percent of GDP"
          ],
          [
           "Other economic flows in liabilities",
           "Central government (excl. social security funds)",
           "Domestic currency"
          ],
          [
           "Other economic flows in liabilities",
           "Central government (excl. social security funds)",
           "Percent of GDP"
          ],
          [
           "Other economic flows in liabilities",
           "Social security funds",
           "Domestic currency"
          ],
          [
           "Other economic flows in liabilities",
           "Social security funds",
           "Percent of GDP"
          ],
          [
           "Volume changes in liabilities",
           "Social security funds",
           "Domestic currency"
          ],
          [
           "Volume changes in liabilities",
           "Social security funds",
           "Percent of GDP"
          ],
          [
           "Volume changes in liabilities",
           "Local governments",
           "Domestic currency"
          ],
          [
           "Volume changes in liabilities",
           "Local governments",
           "Percent of GDP"
          ],
          [
           "Holding gains and losses in liabilities",
           "Social security funds",
           "Domestic currency"
          ],
          [
           "Holding gains and losses in liabilities",
           "Social security funds",
           "Percent of GDP"
          ],
          [
           "Holding gains and losses in liabilities",
           "Local governments",
           "Domestic currency"
          ],
          [
           "Holding gains and losses in liabilities",
           "Local governments",
           "Percent of GDP"
          ],
          [
           "Volume changes in liabilities",
           "General government",
           "Domestic currency"
          ],
          [
           "Volume changes in liabilities",
           "General government",
           "Percent of GDP"
          ],
          [
           "Volume changes in liabilities",
           "Central government (excl. social security funds)",
           "Domestic currency"
          ],
          [
           "Volume changes in liabilities",
           "Central government (excl. social security funds)",
           "Percent of GDP"
          ],
          [
           "Holding gains and losses in liabilities",
           "General government",
           "Domestic currency"
          ],
          [
           "Holding gains and losses in liabilities",
           "General government",
           "Percent of GDP"
          ],
          [
           "Holding gains and losses in liabilities",
           "Central government (excl. social security funds)",
           "Domestic currency"
          ],
          [
           "Holding gains and losses in liabilities",
           "Central government (excl. social security funds)",
           "Percent of GDP"
          ],
          [
           "Other economic flows in liabilities",
           "Central government (incl. social security funds)",
           "Domestic currency"
          ],
          [
           "Other economic flows in liabilities",
           "Central government (incl. social security funds)",
           "Percent of GDP"
          ],
          [
           "Other economic flows in liabilities",
           "Budgetary central government",
           "Domestic currency"
          ],
          [
           "Other economic flows in liabilities",
           "State governments",
           "Domestic currency"
          ],
          [
           "Other economic flows in liabilities",
           "Budgetary central government",
           "Percent of GDP"
          ],
          [
           "Other economic flows in liabilities",
           "State governments",
           "Percent of GDP"
          ],
          [
           "Holding gains and losses in liabilities",
           "Central government (incl. social security funds)",
           "Domestic currency"
          ],
          [
           "Holding gains and losses in liabilities",
           "Central government (incl. social security funds)",
           "Percent of GDP"
          ],
          [
           "Holding gains and losses in liabilities",
           "Budgetary central government",
           "Domestic currency"
          ],
          [
           "Volume changes in liabilities",
           "Central government (incl. social security funds)",
           "Domestic currency"
          ],
          [
           "Volume changes in liabilities",
           "Central government (incl. social security funds)",
           "Percent of GDP"
          ],
          [
           "Holding gains and losses in liabilities",
           "Budgetary central government",
           "Percent of GDP"
          ],
          [
           "Volume changes in liabilities",
           "Budgetary central government",
           "Domestic currency"
          ],
          [
           "Holding gains and losses in liabilities",
           "State governments",
           "Domestic currency"
          ],
          [
           "Holding gains and losses in liabilities",
           "State governments",
           "Percent of GDP"
          ],
          [
           "Volume changes in liabilities",
           "State governments",
           "Domestic currency"
          ],
          [
           "Volume changes in liabilities",
           "State governments",
           "Percent of GDP"
          ],
          [
           "Volume changes in liabilities",
           "Budgetary central government",
           "Percent of GDP"
          ],
          [
           "Other economic flows in liabilities",
           "Extrabudgetary central government",
           "Domestic currency"
          ],
          [
           "Holding gains and losses in liabilities",
           "Extrabudgetary central government",
           "Domestic currency"
          ],
          [
           "Other economic flows in liabilities",
           "Extrabudgetary central government",
           "Percent of GDP"
          ],
          [
           "Holding gains and losses in liabilities",
           "Extrabudgetary central government",
           "Percent of GDP"
          ],
          [
           "Volume changes in liabilities",
           "Extrabudgetary central government",
           "Domestic currency"
          ],
          [
           "Volume changes in liabilities",
           "Extrabudgetary central government",
           "Percent of GDP"
          ]
         ],
         "hovertemplate": "Folder=GFSISB<br>Sum of Legitimate Entries=%{x}<br>Number of Covered Countries=%{y}<br>Classification Name=%{customdata[0]}<br>Sector Name=%{customdata[1]}<br>Unit Name=%{customdata[2]}<extra></extra>",
         "legendgroup": "GFSISB",
         "marker": {
          "color": "#636efa",
          "symbol": "circle"
         },
         "mode": "markers",
         "name": "GFSISB",
         "orientation": "v",
         "showlegend": true,
         "type": "scatter",
         "x": [
          284477,
          279892,
          194651,
          191750,
          190171,
          187794,
          180017,
          178543,
          178394,
          178012,
          176256,
          172388,
          144886,
          144065,
          132766,
          132154,
          131339,
          130879,
          120770,
          120349,
          116840,
          115526,
          111997,
          109100,
          86797,
          85997,
          84582,
          83116,
          65127,
          64372,
          54804,
          53504,
          35340,
          35331,
          34295,
          34226,
          33695,
          33605,
          32271,
          32236,
          19537,
          19467,
          19261,
          19180,
          19007,
          18972,
          18037,
          17991,
          15490,
          15379,
          15112,
          14978,
          14384,
          14307,
          13763,
          13667,
          11544,
          11519,
          8840,
          8529,
          8513,
          8457,
          8060,
          8037,
          7880,
          7777,
          7718,
          7589,
          6697,
          6683,
          6580,
          6500,
          6427,
          6420,
          6135,
          6041,
          5854,
          5804,
          5559,
          5356
         ],
         "xaxis": "x",
         "y": [
          160,
          156,
          115,
          114,
          134,
          133,
          104,
          119,
          113,
          103,
          118,
          109,
          121,
          120,
          85,
          84,
          104,
          103,
          75,
          74,
          122,
          121,
          87,
          85,
          79,
          77,
          169,
          168,
          160,
          159,
          82,
          81,
          50,
          50,
          51,
          50,
          52,
          52,
          51,
          50,
          45,
          44,
          50,
          50,
          47,
          46,
          50,
          50,
          36,
          34,
          44,
          42,
          37,
          35,
          43,
          42,
          30,
          30,
          42,
          19,
          41,
          19,
          28,
          27,
          42,
          28,
          27,
          40,
          39,
          17,
          16,
          16,
          15,
          37,
          33,
          31,
          32,
          30,
          30,
          29
         ],
         "yaxis": "y"
        },
        {
         "customdata": [
          [
           "Net incurrence of liabilities",
           "Social security funds",
           "Domestic currency"
          ],
          [
           "Net incurrence of liabilities",
           "Social security funds",
           "Percent of GDP"
          ],
          [
           "Net incurrence of liabilities",
           "General government",
           "Domestic currency"
          ],
          [
           "Net incurrence of liabilities",
           "General government",
           "Percent of GDP"
          ],
          [
           "Net incurrence of liabilities",
           "Central government (incl. social security funds)",
           "Domestic currency"
          ],
          [
           "Net incurrence of liabilities",
           "Central government (incl. social security funds)",
           "Percent of GDP"
          ],
          [
           "Net incurrence of liabilities",
           "Budgetary central government",
           "Domestic currency"
          ],
          [
           "Net incurrence of liabilities",
           "Budgetary central government",
           "Percent of GDP"
          ],
          [
           "Net incurrence of liabilities",
           "Central government (excl. social security funds)",
           "Domestic currency"
          ],
          [
           "Net incurrence of liabilities",
           "Central government (excl. social security funds)",
           "Percent of GDP"
          ],
          [
           "Net incurrence of liabilities",
           "Local governments",
           "Domestic currency"
          ],
          [
           "Net incurrence of liabilities",
           "Local governments",
           "Percent of GDP"
          ],
          [
           "Net incurrence of liabilities",
           "Extrabudgetary central government",
           "Domestic currency"
          ],
          [
           "Net incurrence of liabilities",
           "Extrabudgetary central government",
           "Percent of GDP"
          ],
          [
           "Stock position of liabilities",
           "General government",
           "Domestic currency"
          ],
          [
           "Stock position of liabilities",
           "General government",
           "Percent of GDP"
          ],
          [
           "Stock position of liabilities",
           "Social security funds",
           "Domestic currency"
          ],
          [
           "Stock position of liabilities",
           "Social security funds",
           "Percent of GDP"
          ],
          [
           "Stock position of liabilities",
           "Central government (excl. social security funds)",
           "Domestic currency"
          ],
          [
           "Stock position of liabilities",
           "Central government (excl. social security funds)",
           "Percent of GDP"
          ],
          [
           "Stock position of liabilities",
           "Central government (incl. social security funds)",
           "Domestic currency"
          ],
          [
           "Stock position of liabilities",
           "Central government (incl. social security funds)",
           "Percent of GDP"
          ],
          [
           "Net incurrence of liabilities",
           "State governments",
           "Domestic currency"
          ],
          [
           "Net incurrence of liabilities",
           "State governments",
           "Percent of GDP"
          ],
          [
           "Stock position of liabilities",
           "Local governments",
           "Domestic currency"
          ],
          [
           "Stock position of liabilities",
           "Local governments",
           "Percent of GDP"
          ],
          [
           "Stock position of liabilities",
           "Extrabudgetary central government",
           "Domestic currency"
          ],
          [
           "Stock position of liabilities",
           "Extrabudgetary central government",
           "Percent of GDP"
          ],
          [
           "Stock position of liabilities",
           "State governments",
           "Domestic currency"
          ],
          [
           "Stock position of liabilities",
           "State governments",
           "Percent of GDP"
          ],
          [
           "Stock position of liabilities",
           "Budgetary central government",
           "Domestic currency"
          ],
          [
           "Stock position of liabilities",
           "Budgetary central government",
           "Percent of GDP"
          ]
         ],
         "hovertemplate": "Folder=GFSFALCS<br>Sum of Legitimate Entries=%{x}<br>Number of Covered Countries=%{y}<br>Classification Name=%{customdata[0]}<br>Sector Name=%{customdata[1]}<br>Unit Name=%{customdata[2]}<extra></extra>",
         "legendgroup": "GFSFALCS",
         "marker": {
          "color": "#EF553B",
          "symbol": "circle"
         },
         "mode": "markers",
         "name": "GFSFALCS",
         "orientation": "v",
         "showlegend": true,
         "type": "scatter",
         "x": [
          53630,
          52863,
          50774,
          50505,
          46586,
          46041,
          43509,
          42679,
          42148,
          41801,
          39788,
          39313,
          35583,
          34641,
          27304,
          27296,
          18626,
          18470,
          17334,
          17330,
          16198,
          16198,
          15351,
          15186,
          12720,
          12708,
          5892,
          5660,
          4052,
          4028,
          3888,
          3748
         ],
         "xaxis": "x",
         "y": [
          87,
          83,
          66,
          65,
          80,
          77,
          110,
          107,
          68,
          64,
          65,
          64,
          81,
          78,
          37,
          37,
          55,
          55,
          36,
          36,
          37,
          37,
          30,
          29,
          33,
          33,
          40,
          40,
          15,
          15,
          20,
          20
         ],
         "yaxis": "y"
        },
        {
         "customdata": [
          [
           "Net lending (+) / Net borrowing (-)",
           "Central government (incl. social security funds)",
           "Domestic currency"
          ],
          [
           "Primary net lending / borrowing",
           "Central government (incl. social security funds)",
           "Domestic currency"
          ],
          [
           "Net lending (+) / Net borrowing (-)",
           "Central government (incl. social security funds)",
           "Percent of GDP"
          ],
          [
           "Primary net lending / borrowing",
           "Central government (incl. social security funds)",
           "Percent of GDP"
          ],
          [
           "Net lending (+) / Net borrowing (-)",
           "Budgetary central government",
           "Domestic currency"
          ],
          [
           "Primary net lending / borrowing",
           "Budgetary central government",
           "Domestic currency"
          ],
          [
           "Net lending (+) / Net borrowing (-)",
           "Budgetary central government",
           "Percent of GDP"
          ],
          [
           "Primary net lending / borrowing",
           "Budgetary central government",
           "Percent of GDP"
          ],
          [
           "Net incurrence of liabilities",
           "Budgetary central government",
           "Domestic currency"
          ],
          [
           "Net lending (+) / Net borrowing (-)",
           "Local governments",
           "Domestic currency"
          ],
          [
           "Primary net lending / borrowing",
           "Local governments",
           "Domestic currency"
          ],
          [
           "Net incurrence of liabilities",
           "Budgetary central government",
           "Percent of GDP"
          ],
          [
           "Net lending (+) / Net borrowing (-)",
           "Local governments",
           "Percent of GDP"
          ],
          [
           "Net lending (+) / Net borrowing (-)",
           "General government",
           "Domestic currency"
          ],
          [
           "Primary net lending / borrowing",
           "Local governments",
           "Percent of GDP"
          ],
          [
           "Net lending (+) / Net borrowing (-)",
           "Central government (excl. social security funds)",
           "Domestic currency"
          ],
          [
           "Primary net lending / borrowing",
           "General government",
           "Domestic currency"
          ],
          [
           "Primary net lending / borrowing",
           "Central government (excl. social security funds)",
           "Domestic currency"
          ],
          [
           "Net incurrence of liabilities",
           "Central government (incl. social security funds)",
           "Domestic currency"
          ],
          [
           "Net lending (+) / Net borrowing (-)",
           "General government",
           "Percent of GDP"
          ],
          [
           "Primary net lending / borrowing",
           "General government",
           "Percent of GDP"
          ],
          [
           "Net lending (+) / Net borrowing (-)",
           "Central government (excl. social security funds)",
           "Percent of GDP"
          ],
          [
           "Primary net lending / borrowing",
           "Central government (excl. social security funds)",
           "Percent of GDP"
          ],
          [
           "Net incurrence of liabilities",
           "Central government (incl. social security funds)",
           "Percent of GDP"
          ],
          [
           "Net lending (+) / Net borrowing (-)",
           "Social security funds",
           "Domestic currency"
          ],
          [
           "Net lending (+) / Net borrowing (-)",
           "Social security funds",
           "Percent of GDP"
          ],
          [
           "Primary net lending / borrowing",
           "Social security funds",
           "Domestic currency"
          ],
          [
           "Primary net lending / borrowing",
           "Social security funds",
           "Percent of GDP"
          ],
          [
           "Net incurrence of liabilities",
           "General government",
           "Domestic currency"
          ],
          [
           "Net incurrence of liabilities",
           "Central government (excl. social security funds)",
           "Domestic currency"
          ],
          [
           "Net incurrence of liabilities",
           "General government",
           "Percent of GDP"
          ],
          [
           "Net incurrence of liabilities",
           "Local governments",
           "Domestic currency"
          ],
          [
           "Net incurrence of liabilities",
           "Central government (excl. social security funds)",
           "Percent of GDP"
          ],
          [
           "Net incurrence of liabilities",
           "Local governments",
           "Percent of GDP"
          ],
          [
           "Stock position of liabilities",
           "Budgetary central government",
           "Domestic currency"
          ],
          [
           "Stock position of liabilities",
           "Budgetary central government",
           "Percent of GDP"
          ],
          [
           "D1 debt liabilities at market value ",
           "General government",
           "Domestic currency"
          ],
          [
           "D1 debt liabilities at market value ",
           "General government",
           "Percent of GDP"
          ],
          [
           "D1 debt liabilities at market value ",
           "Local governments",
           "Domestic currency"
          ],
          [
           "D1 debt liabilities at market value ",
           "Local governments",
           "Percent of GDP"
          ],
          [
           "D2 debt liabilities at market value ",
           "General government",
           "Domestic currency"
          ],
          [
           "D2 debt liabilities at market value ",
           "General government",
           "Percent of GDP"
          ],
          [
           "Net incurrence of liabilities",
           "Social security funds",
           "Domestic currency"
          ],
          [
           "D3 debt liabilities at market value ",
           "General government",
           "Domestic currency"
          ],
          [
           "D3 debt liabilities at market value ",
           "General government",
           "Percent of GDP"
          ],
          [
           "Net incurrence of liabilities",
           "Social security funds",
           "Percent of GDP"
          ],
          [
           "D1 debt liabilities at market value ",
           "Central government (excl. social security funds)",
           "Domestic currency"
          ],
          [
           "D1 debt liabilities at market value ",
           "Central government (excl. social security funds)",
           "Percent of GDP"
          ],
          [
           "D2 debt liabilities at market value ",
           "Local governments",
           "Percent of GDP"
          ],
          [
           "D2 debt liabilities at market value ",
           "Local governments",
           "Domestic currency"
          ],
          [
           "D3 debt liabilities at market value ",
           "Local governments",
           "Domestic currency"
          ],
          [
           "D3 debt liabilities at market value ",
           "Local governments",
           "Percent of GDP"
          ],
          [
           "D2 debt liabilities at market value ",
           "Central government (excl. social security funds)",
           "Percent of GDP"
          ],
          [
           "D2 debt liabilities at market value ",
           "Central government (excl. social security funds)",
           "Domestic currency"
          ],
          [
           "D3 debt liabilities at market value ",
           "Central government (excl. social security funds)",
           "Percent of GDP"
          ],
          [
           "D3 debt liabilities at market value ",
           "Central government (excl. social security funds)",
           "Domestic currency"
          ],
          [
           "D1 debt liabilities at market value ",
           "Social security funds",
           "Domestic currency"
          ],
          [
           "D1 debt liabilities at market value ",
           "Social security funds",
           "Percent of GDP"
          ],
          [
           "Stock position of liabilities",
           "Central government (excl. social security funds)",
           "Domestic currency"
          ],
          [
           "Stock position of liabilities",
           "Central government (excl. social security funds)",
           "Percent of GDP"
          ],
          [
           "D2 debt liabilities at market value ",
           "Social security funds",
           "Percent of GDP"
          ],
          [
           "D2 debt liabilities at market value ",
           "Social security funds",
           "Domestic currency"
          ],
          [
           "D3 debt liabilities at market value ",
           "Social security funds",
           "Percent of GDP"
          ],
          [
           "D3 debt liabilities at market value ",
           "Social security funds",
           "Domestic currency"
          ],
          [
           "Stock position of liabilities",
           "Social security funds",
           "Domestic currency"
          ],
          [
           "Stock position of liabilities",
           "Social security funds",
           "Percent of GDP"
          ],
          [
           "Stock position of liabilities",
           "Local governments",
           "Domestic currency"
          ],
          [
           "Stock position of liabilities",
           "Local governments",
           "Percent of GDP"
          ],
          [
           "Stock position of liabilities",
           "General government",
           "Domestic currency"
          ],
          [
           "Stock position of liabilities",
           "General government",
           "Percent of GDP"
          ],
          [
           "Stock position of liabilities",
           "Central government (incl. social security funds)",
           "Domestic currency"
          ],
          [
           "Net lending (+) / Net borrowing (-)",
           "Extrabudgetary central government",
           "Domestic currency"
          ],
          [
           "Primary net lending / borrowing",
           "Extrabudgetary central government",
           "Domestic currency"
          ],
          [
           "Stock position of liabilities",
           "Central government (incl. social security funds)",
           "Percent of GDP"
          ],
          [
           "Net lending (+) / Net borrowing (-)",
           "Extrabudgetary central government",
           "Percent of GDP"
          ],
          [
           "Primary net lending / borrowing",
           "Extrabudgetary central government",
           "Percent of GDP"
          ],
          [
           "Net incurrence of liabilities",
           "Extrabudgetary central government",
           "Domestic currency"
          ],
          [
           "Net incurrence of liabilities",
           "Extrabudgetary central government",
           "Percent of GDP"
          ],
          [
           "Net lending (+) / Net borrowing (-)",
           "State governments",
           "Domestic currency"
          ],
          [
           "Primary net lending / borrowing",
           "State governments",
           "Domestic currency"
          ],
          [
           "Net lending (+) / Net borrowing (-)",
           "State governments",
           "Percent of GDP"
          ],
          [
           "Primary net lending / borrowing",
           "State governments",
           "Percent of GDP"
          ],
          [
           "Gross debt (D4) at market value ",
           "General government",
           "Domestic currency"
          ],
          [
           "Gross debt (D4) at market value ",
           "General government",
           "Percent of GDP"
          ],
          [
           "Gross debt (D4) at market value ",
           "Central government (excl. social security funds)",
           "Percent of GDP"
          ],
          [
           "Gross debt (D4) at market value ",
           "Central government (excl. social security funds)",
           "Domestic currency"
          ],
          [
           "Gross debt (D4) at market value ",
           "Local governments",
           "Percent of GDP"
          ],
          [
           "Gross debt (D4) at market value ",
           "Local governments",
           "Domestic currency"
          ],
          [
           "Net debt",
           "Local governments",
           "Domestic currency"
          ],
          [
           "Net debt",
           "Local governments",
           "Percent of GDP"
          ],
          [
           "D1 debt liabilities at market value ",
           "Central government (incl. social security funds)",
           "Domestic currency"
          ],
          [
           "D1 debt liabilities at market value ",
           "Central government (incl. social security funds)",
           "Percent of GDP"
          ],
          [
           "Net incurrence of liabilities",
           "State governments",
           "Domestic currency"
          ],
          [
           "Net debt",
           "General government",
           "Percent of GDP"
          ],
          [
           "Net debt",
           "General government",
           "Domestic currency"
          ],
          [
           "Net incurrence of liabilities",
           "State governments",
           "Percent of GDP"
          ],
          [
           "Stock position of liabilities",
           "Extrabudgetary central government",
           "Domestic currency"
          ],
          [
           "Gross debt (D4) at market value ",
           "Social security funds",
           "Percent of GDP"
          ],
          [
           "Gross debt (D4) at market value ",
           "Social security funds",
           "Domestic currency"
          ],
          [
           "Net debt",
           "Central government (excl. social security funds)",
           "Percent of GDP"
          ],
          [
           "Net debt",
           "Central government (excl. social security funds)",
           "Domestic currency"
          ],
          [
           "Stock position of liabilities",
           "Extrabudgetary central government",
           "Percent of GDP"
          ],
          [
           "D2 debt liabilities at market value ",
           "Central government (incl. social security funds)",
           "Domestic currency"
          ],
          [
           "D2 debt liabilities at market value ",
           "Central government (incl. social security funds)",
           "Percent of GDP"
          ],
          [
           "Net debt",
           "Social security funds",
           "Percent of GDP"
          ],
          [
           "Net debt",
           "Social security funds",
           "Domestic currency"
          ],
          [
           "D3 debt liabilities at market value ",
           "Central government (incl. social security funds)",
           "Domestic currency"
          ],
          [
           "D3 debt liabilities at market value ",
           "Central government (incl. social security funds)",
           "Percent of GDP"
          ],
          [
           "D1 debt liabilities at market value ",
           "State governments",
           "Percent of GDP"
          ],
          [
           "D1 debt liabilities at market value ",
           "State governments",
           "Domestic currency"
          ],
          [
           "D2 debt liabilities at market value ",
           "State governments",
           "Domestic currency"
          ],
          [
           "D2 debt liabilities at market value ",
           "State governments",
           "Percent of GDP"
          ],
          [
           "D1 debt liabilities at market value ",
           "Budgetary central government",
           "Percent of GDP"
          ],
          [
           "D1 debt liabilities at market value ",
           "Budgetary central government",
           "Domestic currency"
          ],
          [
           "D3 debt liabilities at market value ",
           "State governments",
           "Percent of GDP"
          ],
          [
           "D3 debt liabilities at market value ",
           "State governments",
           "Domestic currency"
          ],
          [
           "Stock position of liabilities",
           "State governments",
           "Domestic currency"
          ],
          [
           "Stock position of liabilities",
           "State governments",
           "Percent of GDP"
          ],
          [
           "D2 debt liabilities at market value ",
           "Budgetary central government",
           "Domestic currency"
          ],
          [
           "D2 debt liabilities at market value ",
           "Budgetary central government",
           "Percent of GDP"
          ],
          [
           "D3 debt liabilities at market value ",
           "Budgetary central government",
           "Percent of GDP"
          ],
          [
           "D3 debt liabilities at market value ",
           "Budgetary central government",
           "Domestic currency"
          ],
          [
           "Debt, net of highly liquid assets",
           "General government",
           "Domestic currency"
          ],
          [
           "Debt, net of highly liquid assets",
           "General government",
           "Percent of GDP"
          ],
          [
           "Debt, net of highly liquid assets",
           "Local governments",
           "Percent of GDP"
          ],
          [
           "Debt, net of highly liquid assets",
           "Local governments",
           "Domestic currency"
          ],
          [
           "Gross debt (D4) at market value ",
           "Central government (incl. social security funds)",
           "Percent of GDP"
          ],
          [
           "Gross debt (D4) at market value ",
           "Central government (incl. social security funds)",
           "Domestic currency"
          ],
          [
           "Debt, net of highly liquid assets",
           "Central government (excl. social security funds)",
           "Domestic currency"
          ],
          [
           "Debt, net of highly liquid assets",
           "Central government (excl. social security funds)",
           "Percent of GDP"
          ],
          [
           "Debt, net of highly liquid assets",
           "Social security funds",
           "Percent of GDP"
          ],
          [
           "Debt, net of highly liquid assets",
           "Social security funds",
           "Domestic currency"
          ],
          [
           "Net debt",
           "Central government (incl. social security funds)",
           "Domestic currency"
          ],
          [
           "Net debt",
           "Central government (incl. social security funds)",
           "Percent of GDP"
          ],
          [
           "Gross debt (D4) at market value ",
           "State governments",
           "Percent of GDP"
          ],
          [
           "Gross debt (D4) at market value ",
           "State governments",
           "Domestic currency"
          ],
          [
           "Net debt",
           "State governments",
           "Domestic currency"
          ],
          [
           "Net debt",
           "State governments",
           "Percent of GDP"
          ],
          [
           "Debt, net of highly liquid assets",
           "Central government (incl. social security funds)",
           "Percent of GDP"
          ],
          [
           "Debt, net of highly liquid assets",
           "Central government (incl. social security funds)",
           "Domestic currency"
          ],
          [
           "Gross debt (D4) at market value ",
           "Budgetary central government",
           "Domestic currency"
          ],
          [
           "Gross debt (D4) at market value ",
           "Budgetary central government",
           "Percent of GDP"
          ],
          [
           "Net debt",
           "Budgetary central government",
           "Domestic currency"
          ],
          [
           "Net debt",
           "Budgetary central government",
           "Percent of GDP"
          ],
          [
           "D1 debt liabilities at market value ",
           "Extrabudgetary central government",
           "Domestic currency"
          ],
          [
           "D1 debt liabilities at market value ",
           "Extrabudgetary central government",
           "Percent of GDP"
          ],
          [
           "Debt, net of highly liquid assets",
           "State governments",
           "Percent of GDP"
          ],
          [
           "Debt, net of highly liquid assets",
           "State governments",
           "Domestic currency"
          ],
          [
           "Debt, net of highly liquid assets",
           "Budgetary central government",
           "Domestic currency"
          ],
          [
           "Debt, net of highly liquid assets",
           "Budgetary central government",
           "Percent of GDP"
          ],
          [
           "D3 debt liabilities at market value ",
           "Extrabudgetary central government",
           "Domestic currency"
          ],
          [
           "D2 debt liabilities at market value ",
           "Extrabudgetary central government",
           "Percent of GDP"
          ],
          [
           "D2 debt liabilities at market value ",
           "Extrabudgetary central government",
           "Domestic currency"
          ],
          [
           "D3 debt liabilities at market value ",
           "Extrabudgetary central government",
           "Percent of GDP"
          ],
          [
           "Gross debt (D4) at market value ",
           "Extrabudgetary central government",
           "Percent of GDP"
          ],
          [
           "Gross debt (D4) at market value ",
           "Extrabudgetary central government",
           "Domestic currency"
          ],
          [
           "Debt, net of highly liquid assets",
           "Extrabudgetary central government",
           "Domestic currency"
          ],
          [
           "Debt, net of highly liquid assets",
           "Extrabudgetary central government",
           "Percent of GDP"
          ],
          [
           "Net debt",
           "Extrabudgetary central government",
           "Domestic currency"
          ],
          [
           "Net debt",
           "Extrabudgetary central government",
           "Percent of GDP"
          ]
         ],
         "hovertemplate": "Folder=GFSMAB<br>Sum of Legitimate Entries=%{x}<br>Number of Covered Countries=%{y}<br>Classification Name=%{customdata[0]}<br>Sector Name=%{customdata[1]}<br>Unit Name=%{customdata[2]}<extra></extra>",
         "legendgroup": "GFSMAB",
         "marker": {
          "color": "#00cc96",
          "symbol": "circle"
         },
         "mode": "markers",
         "name": "GFSMAB",
         "orientation": "v",
         "showlegend": true,
         "type": "scatter",
         "x": [
          16634,
          16465,
          14752,
          14586,
          14204,
          14157,
          13869,
          13831,
          11628,
          11617,
          11388,
          11368,
          11022,
          10880,
          10812,
          10742,
          10679,
          10598,
          10569,
          10425,
          10237,
          10217,
          10084,
          9330,
          9251,
          9134,
          9083,
          8966,
          8744,
          8700,
          8519,
          8394,
          8344,
          8125,
          8118,
          7997,
          7774,
          7768,
          7642,
          7642,
          7504,
          7498,
          7498,
          7418,
          7412,
          7404,
          7372,
          7372,
          7350,
          7350,
          7236,
          7236,
          7190,
          7190,
          7152,
          7152,
          6686,
          6686,
          6534,
          6460,
          6384,
          6384,
          6342,
          6342,
          5975,
          5916,
          5884,
          5868,
          5796,
          5787,
          5551,
          5508,
          5488,
          5427,
          5369,
          5349,
          4340,
          4227,
          3670,
          3525,
          3482,
          3338,
          3170,
          3167,
          3061,
          3061,
          2881,
          2881,
          2748,
          2748,
          2682,
          2682,
          2607,
          2600,
          2600,
          2531,
          2503,
          2503,
          2503,
          2465,
          2465,
          2434,
          2324,
          2324,
          2292,
          2292,
          2288,
          2288,
          2064,
          2064,
          1980,
          1980,
          1786,
          1786,
          1756,
          1756,
          1752,
          1746,
          1506,
          1506,
          1376,
          1376,
          1084,
          1081,
          999,
          999,
          993,
          993,
          987,
          987,
          895,
          895,
          868,
          868,
          767,
          767,
          750,
          750,
          679,
          679,
          601,
          601,
          518,
          518,
          472,
          472,
          434,
          434,
          417,
          417,
          370,
          370,
          370,
          370,
          110,
          110,
          69,
          69,
          47,
          47
         ],
         "xaxis": "x",
         "y": [
          122,
          122,
          122,
          122,
          172,
          172,
          168,
          168,
          160,
          101,
          100,
          156,
          101,
          107,
          100,
          124,
          106,
          124,
          111,
          106,
          105,
          123,
          123,
          107,
          98,
          98,
          97,
          97,
          101,
          115,
          100,
          87,
          114,
          87,
          122,
          121,
          41,
          41,
          39,
          39,
          40,
          39,
          90,
          40,
          39,
          90,
          37,
          37,
          38,
          38,
          38,
          38,
          36,
          36,
          36,
          36,
          39,
          39,
          85,
          84,
          36,
          36,
          36,
          36,
          70,
          69,
          71,
          70,
          69,
          68,
          79,
          96,
          96,
          77,
          93,
          93,
          86,
          83,
          35,
          34,
          36,
          35,
          36,
          35,
          33,
          33,
          32,
          32,
          32,
          32,
          27,
          27,
          34,
          29,
          29,
          34,
          54,
          31,
          31,
          27,
          27,
          53,
          14,
          14,
          29,
          29,
          14,
          14,
          12,
          12,
          10,
          10,
          20,
          20,
          10,
          10,
          26,
          26,
          17,
          17,
          14,
          14,
          15,
          15,
          13,
          13,
          12,
          12,
          13,
          13,
          12,
          12,
          10,
          10,
          9,
          9,
          9,
          9,
          11,
          11,
          13,
          13,
          10,
          10,
          11,
          11,
          5,
          5,
          12,
          12,
          5,
          5,
          5,
          5,
          4,
          4,
          3,
          3,
          3,
          3
         ],
         "yaxis": "y"
        },
        {
         "customdata": [
          [
           "Net incurrence of liabilities",
           "Budgetary central government",
           "Domestic currency"
          ],
          [
           "Net incurrence of liabilities",
           "Budgetary central government",
           "Percent of GDP"
          ],
          [
           "Net incurrence of liabilities",
           "Central government (incl. social security funds)",
           "Domestic currency"
          ],
          [
           "Net incurrence of liabilities",
           "Central government (incl. social security funds)",
           "Percent of GDP"
          ],
          [
           "Net incurrence of liabilities",
           "General government",
           "Domestic currency"
          ],
          [
           "Net incurrence of liabilities",
           "Central government (excl. social security funds)",
           "Domestic currency"
          ],
          [
           "Net incurrence of liabilities",
           "Local governments",
           "Domestic currency"
          ],
          [
           "Net incurrence of liabilities",
           "General government",
           "Percent of GDP"
          ],
          [
           "Net incurrence of liabilities",
           "Central government (excl. social security funds)",
           "Percent of GDP"
          ],
          [
           "Net incurrence of liabilities",
           "Local governments",
           "Percent of GDP"
          ],
          [
           "Net incurrence of liabilities",
           "Social security funds",
           "Domestic currency"
          ],
          [
           "Net incurrence of liabilities",
           "Social security funds",
           "Percent of GDP"
          ],
          [
           "Net incurrence of liabilities",
           "Extrabudgetary central government",
           "Domestic currency"
          ],
          [
           "Net incurrence of liabilities",
           "Extrabudgetary central government",
           "Percent of GDP"
          ],
          [
           "Net incurrence of liabilities",
           "State governments",
           "Domestic currency"
          ],
          [
           "Net incurrence of liabilities",
           "State governments",
           "Percent of GDP"
          ]
         ],
         "hovertemplate": "Folder=GFSSSUC<br>Sum of Legitimate Entries=%{x}<br>Number of Covered Countries=%{y}<br>Classification Name=%{customdata[0]}<br>Sector Name=%{customdata[1]}<br>Unit Name=%{customdata[2]}<extra></extra>",
         "legendgroup": "GFSSSUC",
         "marker": {
          "color": "#ab63fa",
          "symbol": "circle"
         },
         "mode": "markers",
         "name": "GFSSSUC",
         "orientation": "v",
         "showlegend": true,
         "type": "scatter",
         "x": [
          9672,
          9393,
          9138,
          7782,
          4760,
          4713,
          4520,
          4497,
          4284,
          4255,
          3697,
          3607,
          3568,
          3462,
          1641,
          1548
         ],
         "xaxis": "x",
         "y": [
          148,
          144,
          105,
          101,
          69,
          81,
          66,
          69,
          81,
          63,
          72,
          69,
          77,
          73,
          26,
          26
         ],
         "yaxis": "y"
        }
       ],
       "layout": {
        "legend": {
         "title": {
          "text": "Folder"
         },
         "tracegroupgap": 0
        },
        "template": {
         "data": {
          "bar": [
           {
            "error_x": {
             "color": "#2a3f5f"
            },
            "error_y": {
             "color": "#2a3f5f"
            },
            "marker": {
             "line": {
              "color": "#E5ECF6",
              "width": 0.5
             },
             "pattern": {
              "fillmode": "overlay",
              "size": 10,
              "solidity": 0.2
             }
            },
            "type": "bar"
           }
          ],
          "barpolar": [
           {
            "marker": {
             "line": {
              "color": "#E5ECF6",
              "width": 0.5
             },
             "pattern": {
              "fillmode": "overlay",
              "size": 10,
              "solidity": 0.2
             }
            },
            "type": "barpolar"
           }
          ],
          "carpet": [
           {
            "aaxis": {
             "endlinecolor": "#2a3f5f",
             "gridcolor": "white",
             "linecolor": "white",
             "minorgridcolor": "white",
             "startlinecolor": "#2a3f5f"
            },
            "baxis": {
             "endlinecolor": "#2a3f5f",
             "gridcolor": "white",
             "linecolor": "white",
             "minorgridcolor": "white",
             "startlinecolor": "#2a3f5f"
            },
            "type": "carpet"
           }
          ],
          "choropleth": [
           {
            "colorbar": {
             "outlinewidth": 0,
             "ticks": ""
            },
            "type": "choropleth"
           }
          ],
          "contour": [
           {
            "colorbar": {
             "outlinewidth": 0,
             "ticks": ""
            },
            "colorscale": [
             [
              0,
              "#0d0887"
             ],
             [
              0.1111111111111111,
              "#46039f"
             ],
             [
              0.2222222222222222,
              "#7201a8"
             ],
             [
              0.3333333333333333,
              "#9c179e"
             ],
             [
              0.4444444444444444,
              "#bd3786"
             ],
             [
              0.5555555555555556,
              "#d8576b"
             ],
             [
              0.6666666666666666,
              "#ed7953"
             ],
             [
              0.7777777777777778,
              "#fb9f3a"
             ],
             [
              0.8888888888888888,
              "#fdca26"
             ],
             [
              1,
              "#f0f921"
             ]
            ],
            "type": "contour"
           }
          ],
          "contourcarpet": [
           {
            "colorbar": {
             "outlinewidth": 0,
             "ticks": ""
            },
            "type": "contourcarpet"
           }
          ],
          "heatmap": [
           {
            "colorbar": {
             "outlinewidth": 0,
             "ticks": ""
            },
            "colorscale": [
             [
              0,
              "#0d0887"
             ],
             [
              0.1111111111111111,
              "#46039f"
             ],
             [
              0.2222222222222222,
              "#7201a8"
             ],
             [
              0.3333333333333333,
              "#9c179e"
             ],
             [
              0.4444444444444444,
              "#bd3786"
             ],
             [
              0.5555555555555556,
              "#d8576b"
             ],
             [
              0.6666666666666666,
              "#ed7953"
             ],
             [
              0.7777777777777778,
              "#fb9f3a"
             ],
             [
              0.8888888888888888,
              "#fdca26"
             ],
             [
              1,
              "#f0f921"
             ]
            ],
            "type": "heatmap"
           }
          ],
          "heatmapgl": [
           {
            "colorbar": {
             "outlinewidth": 0,
             "ticks": ""
            },
            "colorscale": [
             [
              0,
              "#0d0887"
             ],
             [
              0.1111111111111111,
              "#46039f"
             ],
             [
              0.2222222222222222,
              "#7201a8"
             ],
             [
              0.3333333333333333,
              "#9c179e"
             ],
             [
              0.4444444444444444,
              "#bd3786"
             ],
             [
              0.5555555555555556,
              "#d8576b"
             ],
             [
              0.6666666666666666,
              "#ed7953"
             ],
             [
              0.7777777777777778,
              "#fb9f3a"
             ],
             [
              0.8888888888888888,
              "#fdca26"
             ],
             [
              1,
              "#f0f921"
             ]
            ],
            "type": "heatmapgl"
           }
          ],
          "histogram": [
           {
            "marker": {
             "pattern": {
              "fillmode": "overlay",
              "size": 10,
              "solidity": 0.2
             }
            },
            "type": "histogram"
           }
          ],
          "histogram2d": [
           {
            "colorbar": {
             "outlinewidth": 0,
             "ticks": ""
            },
            "colorscale": [
             [
              0,
              "#0d0887"
             ],
             [
              0.1111111111111111,
              "#46039f"
             ],
             [
              0.2222222222222222,
              "#7201a8"
             ],
             [
              0.3333333333333333,
              "#9c179e"
             ],
             [
              0.4444444444444444,
              "#bd3786"
             ],
             [
              0.5555555555555556,
              "#d8576b"
             ],
             [
              0.6666666666666666,
              "#ed7953"
             ],
             [
              0.7777777777777778,
              "#fb9f3a"
             ],
             [
              0.8888888888888888,
              "#fdca26"
             ],
             [
              1,
              "#f0f921"
             ]
            ],
            "type": "histogram2d"
           }
          ],
          "histogram2dcontour": [
           {
            "colorbar": {
             "outlinewidth": 0,
             "ticks": ""
            },
            "colorscale": [
             [
              0,
              "#0d0887"
             ],
             [
              0.1111111111111111,
              "#46039f"
             ],
             [
              0.2222222222222222,
              "#7201a8"
             ],
             [
              0.3333333333333333,
              "#9c179e"
             ],
             [
              0.4444444444444444,
              "#bd3786"
             ],
             [
              0.5555555555555556,
              "#d8576b"
             ],
             [
              0.6666666666666666,
              "#ed7953"
             ],
             [
              0.7777777777777778,
              "#fb9f3a"
             ],
             [
              0.8888888888888888,
              "#fdca26"
             ],
             [
              1,
              "#f0f921"
             ]
            ],
            "type": "histogram2dcontour"
           }
          ],
          "mesh3d": [
           {
            "colorbar": {
             "outlinewidth": 0,
             "ticks": ""
            },
            "type": "mesh3d"
           }
          ],
          "parcoords": [
           {
            "line": {
             "colorbar": {
              "outlinewidth": 0,
              "ticks": ""
             }
            },
            "type": "parcoords"
           }
          ],
          "pie": [
           {
            "automargin": true,
            "type": "pie"
           }
          ],
          "scatter": [
           {
            "fillpattern": {
             "fillmode": "overlay",
             "size": 10,
             "solidity": 0.2
            },
            "type": "scatter"
           }
          ],
          "scatter3d": [
           {
            "line": {
             "colorbar": {
              "outlinewidth": 0,
              "ticks": ""
             }
            },
            "marker": {
             "colorbar": {
              "outlinewidth": 0,
              "ticks": ""
             }
            },
            "type": "scatter3d"
           }
          ],
          "scattercarpet": [
           {
            "marker": {
             "colorbar": {
              "outlinewidth": 0,
              "ticks": ""
             }
            },
            "type": "scattercarpet"
           }
          ],
          "scattergeo": [
           {
            "marker": {
             "colorbar": {
              "outlinewidth": 0,
              "ticks": ""
             }
            },
            "type": "scattergeo"
           }
          ],
          "scattergl": [
           {
            "marker": {
             "colorbar": {
              "outlinewidth": 0,
              "ticks": ""
             }
            },
            "type": "scattergl"
           }
          ],
          "scattermapbox": [
           {
            "marker": {
             "colorbar": {
              "outlinewidth": 0,
              "ticks": ""
             }
            },
            "type": "scattermapbox"
           }
          ],
          "scatterpolar": [
           {
            "marker": {
             "colorbar": {
              "outlinewidth": 0,
              "ticks": ""
             }
            },
            "type": "scatterpolar"
           }
          ],
          "scatterpolargl": [
           {
            "marker": {
             "colorbar": {
              "outlinewidth": 0,
              "ticks": ""
             }
            },
            "type": "scatterpolargl"
           }
          ],
          "scatterternary": [
           {
            "marker": {
             "colorbar": {
              "outlinewidth": 0,
              "ticks": ""
             }
            },
            "type": "scatterternary"
           }
          ],
          "surface": [
           {
            "colorbar": {
             "outlinewidth": 0,
             "ticks": ""
            },
            "colorscale": [
             [
              0,
              "#0d0887"
             ],
             [
              0.1111111111111111,
              "#46039f"
             ],
             [
              0.2222222222222222,
              "#7201a8"
             ],
             [
              0.3333333333333333,
              "#9c179e"
             ],
             [
              0.4444444444444444,
              "#bd3786"
             ],
             [
              0.5555555555555556,
              "#d8576b"
             ],
             [
              0.6666666666666666,
              "#ed7953"
             ],
             [
              0.7777777777777778,
              "#fb9f3a"
             ],
             [
              0.8888888888888888,
              "#fdca26"
             ],
             [
              1,
              "#f0f921"
             ]
            ],
            "type": "surface"
           }
          ],
          "table": [
           {
            "cells": {
             "fill": {
              "color": "#EBF0F8"
             },
             "line": {
              "color": "white"
             }
            },
            "header": {
             "fill": {
              "color": "#C8D4E3"
             },
             "line": {
              "color": "white"
             }
            },
            "type": "table"
           }
          ]
         },
         "layout": {
          "annotationdefaults": {
           "arrowcolor": "#2a3f5f",
           "arrowhead": 0,
           "arrowwidth": 1
          },
          "autotypenumbers": "strict",
          "coloraxis": {
           "colorbar": {
            "outlinewidth": 0,
            "ticks": ""
           }
          },
          "colorscale": {
           "diverging": [
            [
             0,
             "#8e0152"
            ],
            [
             0.1,
             "#c51b7d"
            ],
            [
             0.2,
             "#de77ae"
            ],
            [
             0.3,
             "#f1b6da"
            ],
            [
             0.4,
             "#fde0ef"
            ],
            [
             0.5,
             "#f7f7f7"
            ],
            [
             0.6,
             "#e6f5d0"
            ],
            [
             0.7,
             "#b8e186"
            ],
            [
             0.8,
             "#7fbc41"
            ],
            [
             0.9,
             "#4d9221"
            ],
            [
             1,
             "#276419"
            ]
           ],
           "sequential": [
            [
             0,
             "#0d0887"
            ],
            [
             0.1111111111111111,
             "#46039f"
            ],
            [
             0.2222222222222222,
             "#7201a8"
            ],
            [
             0.3333333333333333,
             "#9c179e"
            ],
            [
             0.4444444444444444,
             "#bd3786"
            ],
            [
             0.5555555555555556,
             "#d8576b"
            ],
            [
             0.6666666666666666,
             "#ed7953"
            ],
            [
             0.7777777777777778,
             "#fb9f3a"
            ],
            [
             0.8888888888888888,
             "#fdca26"
            ],
            [
             1,
             "#f0f921"
            ]
           ],
           "sequentialminus": [
            [
             0,
             "#0d0887"
            ],
            [
             0.1111111111111111,
             "#46039f"
            ],
            [
             0.2222222222222222,
             "#7201a8"
            ],
            [
             0.3333333333333333,
             "#9c179e"
            ],
            [
             0.4444444444444444,
             "#bd3786"
            ],
            [
             0.5555555555555556,
             "#d8576b"
            ],
            [
             0.6666666666666666,
             "#ed7953"
            ],
            [
             0.7777777777777778,
             "#fb9f3a"
            ],
            [
             0.8888888888888888,
             "#fdca26"
            ],
            [
             1,
             "#f0f921"
            ]
           ]
          },
          "colorway": [
           "#636efa",
           "#EF553B",
           "#00cc96",
           "#ab63fa",
           "#FFA15A",
           "#19d3f3",
           "#FF6692",
           "#B6E880",
           "#FF97FF",
           "#FECB52"
          ],
          "font": {
           "color": "#2a3f5f"
          },
          "geo": {
           "bgcolor": "white",
           "lakecolor": "white",
           "landcolor": "#E5ECF6",
           "showlakes": true,
           "showland": true,
           "subunitcolor": "white"
          },
          "hoverlabel": {
           "align": "left"
          },
          "hovermode": "closest",
          "mapbox": {
           "style": "light"
          },
          "paper_bgcolor": "white",
          "plot_bgcolor": "#E5ECF6",
          "polar": {
           "angularaxis": {
            "gridcolor": "white",
            "linecolor": "white",
            "ticks": ""
           },
           "bgcolor": "#E5ECF6",
           "radialaxis": {
            "gridcolor": "white",
            "linecolor": "white",
            "ticks": ""
           }
          },
          "scene": {
           "xaxis": {
            "backgroundcolor": "#E5ECF6",
            "gridcolor": "white",
            "gridwidth": 2,
            "linecolor": "white",
            "showbackground": true,
            "ticks": "",
            "zerolinecolor": "white"
           },
           "yaxis": {
            "backgroundcolor": "#E5ECF6",
            "gridcolor": "white",
            "gridwidth": 2,
            "linecolor": "white",
            "showbackground": true,
            "ticks": "",
            "zerolinecolor": "white"
           },
           "zaxis": {
            "backgroundcolor": "#E5ECF6",
            "gridcolor": "white",
            "gridwidth": 2,
            "linecolor": "white",
            "showbackground": true,
            "ticks": "",
            "zerolinecolor": "white"
           }
          },
          "shapedefaults": {
           "line": {
            "color": "#2a3f5f"
           }
          },
          "ternary": {
           "aaxis": {
            "gridcolor": "white",
            "linecolor": "white",
            "ticks": ""
           },
           "baxis": {
            "gridcolor": "white",
            "linecolor": "white",
            "ticks": ""
           },
           "bgcolor": "#E5ECF6",
           "caxis": {
            "gridcolor": "white",
            "linecolor": "white",
            "ticks": ""
           }
          },
          "title": {
           "x": 0.05
          },
          "xaxis": {
           "automargin": true,
           "gridcolor": "white",
           "linecolor": "white",
           "ticks": "",
           "title": {
            "standoff": 15
           },
           "zerolinecolor": "white",
           "zerolinewidth": 2
          },
          "yaxis": {
           "automargin": true,
           "gridcolor": "white",
           "linecolor": "white",
           "ticks": "",
           "title": {
            "standoff": 15
           },
           "zerolinecolor": "white",
           "zerolinewidth": 2
          }
         }
        },
        "title": {
         "text": "Scatter Plot of Sum of Legitimate Entries vs Number of Covered Countries"
        },
        "xaxis": {
         "anchor": "y",
         "domain": [
          0,
          1
         ],
         "title": {
          "text": "Sum of Legitimate Entries"
         }
        },
        "yaxis": {
         "anchor": "x",
         "domain": [
          0,
          1
         ],
         "title": {
          "text": "Number of Covered Countries"
         }
        }
       }
      }
     },
     "metadata": {},
     "output_type": "display_data"
    }
   ],
   "source": [
    "import pandas as pd\n",
    "import plotly.express as px\n",
    "from itertools import combinations\n",
    "from pathlib import Path\n",
    "\n",
    "# Base directory for all folders\n",
    "base_dir = Path.cwd().parent / \"data\"\n",
    "\n",
    "# Folders to process\n",
    "folders = [\"GFSISB\", \"GFSFALCS\", \"GFSMAB\", \"GFSSSUC\"]\n",
    "\n",
    "# Initialize an empty list to store DataFrames\n",
    "data_frames = []\n",
    "\n",
    "# Loop through each folder and load summaries\n",
    "for folder in folders:\n",
    "    summary_dir = base_dir / folder / \"Summaries\"\n",
    "    aggregated_file = summary_dir / 'aggregated_summary_2014_2020.csv'\n",
    "    if aggregated_file.exists():\n",
    "        # Load the aggregated summary\n",
    "        df = pd.read_csv(aggregated_file)\n",
    "        \n",
    "        # Add a folder identifier for coloring\n",
    "        df['Folder'] = folder\n",
    "        \n",
    "        # Rename column if necessary\n",
    "        if folder == \"GFSISB\":\n",
    "            df.rename(columns={'Stocks, Transactions, and Other Flows Name': 'Classification Name'}, inplace=True)\n",
    "        \n",
    "        data_frames.append(df)\n",
    "    else:\n",
    "        print(f\"Aggregated file not found in {folder}.\")\n",
    "\n",
    "# Combine all DataFrames into one\n",
    "agg_summary = pd.concat(data_frames, ignore_index=True)\n",
    "\n",
    "# Define numeric columns for scatter plots\n",
    "numeric_columns = ['Sum of Legitimate Entries', 'Number of Covered Countries']\n",
    "\n",
    "# Generate scatter plots for all possible combinations of numeric columns\n",
    "scatter_plots = []\n",
    "for x_col, y_col in combinations(numeric_columns, 2):\n",
    "    fig = px.scatter(\n",
    "        agg_summary,\n",
    "        x=x_col,\n",
    "        y=y_col,\n",
    "        color='Folder',  # Color by folder\n",
    "        hover_data=['Classification Name', 'Sector Name', 'Unit Name'],\n",
    "        title=f\"Scatter Plot of {x_col} vs {y_col}\",\n",
    "        labels={x_col: x_col, y_col: y_col}\n",
    "    )\n",
    "    scatter_plots.append(fig)\n",
    "    fig.show()  # Display the plot\n",
    "\n",
    "# Optional: Save plots as HTML files\n",
    "output_dir = base_dir / \"All_Plots\"\n",
    "output_dir.mkdir(parents=True, exist_ok=True)\n",
    "for i, fig in enumerate(scatter_plots, start=1):\n",
    "    fig.write_html(output_dir / f\"scatter_plot_{i}.html\")\n"
   ]
  }
 ],
 "metadata": {
  "kernelspec": {
   "display_name": "hidden_debt_gsf",
   "language": "python",
   "name": "python3"
  },
  "language_info": {
   "codemirror_mode": {
    "name": "ipython",
    "version": 3
   },
   "file_extension": ".py",
   "mimetype": "text/x-python",
   "name": "python",
   "nbconvert_exporter": "python",
   "pygments_lexer": "ipython3",
   "version": "3.12.0"
  }
 },
 "nbformat": 4,
 "nbformat_minor": 2
}
