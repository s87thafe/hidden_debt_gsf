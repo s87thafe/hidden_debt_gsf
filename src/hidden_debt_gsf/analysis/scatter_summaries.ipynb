{
 "cells": [
  {
   "cell_type": "code",
   "execution_count": 1,
   "metadata": {},
   "outputs": [
    {
     "data": {
      "application/vnd.plotly.v1+json": {
       "config": {
        "plotlyServerURL": "https://plot.ly"
       },
       "data": [
        {
         "customdata": [
          [
           "Net incurrence of liabilities",
           "State governments",
           "Domestic currency"
          ],
          [
           "Net incurrence of liabilities",
           "State governments",
           "Domestic currency"
          ],
          [
           "Net incurrence of liabilities",
           "State governments",
           "Percent of GDP"
          ],
          [
           "Net incurrence of liabilities",
           "State governments",
           "Percent of GDP"
          ],
          [
           "Stock position liabilities",
           "State governments",
           "Domestic currency"
          ],
          [
           "Stock position liabilities",
           "State governments",
           "Domestic currency"
          ],
          [
           "Stock position liabilities",
           "State governments",
           "Percent of GDP"
          ],
          [
           "Stock position liabilities",
           "State governments",
           "Percent of GDP"
          ],
          [
           "Net incurrence of liabilities",
           "Budgetary central government",
           "Domestic currency"
          ],
          [
           "Net incurrence of liabilities",
           "Budgetary central government",
           "Percent of GDP"
          ],
          [
           "Net incurrence of liabilities",
           "Budgetary central government",
           "Domestic currency"
          ],
          [
           "Net incurrence of liabilities",
           "Budgetary central government",
           "Domestic currency"
          ],
          [
           "Net incurrence of liabilities",
           "Budgetary central government",
           "Percent of GDP"
          ],
          [
           "Net incurrence of liabilities",
           "Budgetary central government",
           "Percent of GDP"
          ],
          [
           "Net incurrence of liabilities",
           "Budgetary central government",
           "Domestic currency"
          ],
          [
           "Net incurrence of liabilities",
           "Budgetary central government",
           "Domestic currency"
          ],
          [
           "Net incurrence of liabilities",
           "Budgetary central government",
           "Domestic currency"
          ],
          [
           "Net incurrence of liabilities",
           "Budgetary central government",
           "Domestic currency"
          ],
          [
           "Net incurrence of liabilities",
           "Budgetary central government",
           "Domestic currency"
          ],
          [
           "Net incurrence of liabilities",
           "Budgetary central government",
           "Domestic currency"
          ],
          [
           "Net incurrence of liabilities",
           "Budgetary central government",
           "Domestic currency"
          ],
          [
           "Net incurrence of liabilities",
           "Budgetary central government",
           "Domestic currency"
          ],
          [
           "Net incurrence of liabilities",
           "Budgetary central government",
           "Percent of GDP"
          ],
          [
           "Net incurrence of liabilities",
           "Budgetary central government",
           "Percent of GDP"
          ],
          [
           "Net incurrence of liabilities",
           "Budgetary central government",
           "Percent of GDP"
          ],
          [
           "Net incurrence of liabilities",
           "Budgetary central government",
           "Percent of GDP"
          ],
          [
           "Net incurrence of liabilities",
           "Budgetary central government",
           "Percent of GDP"
          ],
          [
           "Net incurrence of liabilities",
           "Budgetary central government",
           "Domestic currency"
          ],
          [
           "Net incurrence of liabilities",
           "Central government (incl. social security funds)",
           "Domestic currency"
          ],
          [
           "Net incurrence of liabilities",
           "Budgetary central government",
           "Percent of GDP"
          ],
          [
           "Net incurrence of liabilities",
           "Budgetary central government",
           "Percent of GDP"
          ],
          [
           "Net incurrence of liabilities",
           "Budgetary central government",
           "Percent of GDP"
          ],
          [
           "Net incurrence of liabilities",
           "Central government (incl. social security funds)",
           "Domestic currency"
          ],
          [
           "Net incurrence of liabilities",
           "Budgetary central government",
           "Percent of GDP"
          ],
          [
           "Net incurrence of liabilities",
           "Central government (incl. social security funds)",
           "Domestic currency"
          ],
          [
           "Net incurrence of liabilities",
           "Social security funds",
           "Domestic currency"
          ],
          [
           "Net incurrence of liabilities",
           "Social security funds",
           "Domestic currency"
          ],
          [
           "Net incurrence of liabilities",
           "Social security funds",
           "Percent of GDP"
          ],
          [
           "Net incurrence of liabilities",
           "Social security funds",
           "Percent of GDP"
          ],
          [
           "Net incurrence of liabilities",
           "Local governments",
           "Domestic currency"
          ],
          [
           "Net incurrence of liabilities",
           "Central government (incl. social security funds)",
           "Percent of GDP"
          ],
          [
           "Net incurrence of liabilities",
           "Local governments",
           "Domestic currency"
          ],
          [
           "Net incurrence of liabilities",
           "Budgetary central government",
           "Domestic currency"
          ],
          [
           "Net incurrence of liabilities",
           "Central government (incl. social security funds)",
           "Percent of GDP"
          ],
          [
           "Net incurrence of liabilities",
           "Local governments",
           "Percent of GDP"
          ],
          [
           "Net incurrence of liabilities",
           "Budgetary central government",
           "Percent of GDP"
          ],
          [
           "Net incurrence of liabilities",
           "Budgetary central government",
           "Domestic currency"
          ],
          [
           "Net incurrence of liabilities",
           "Local governments",
           "Percent of GDP"
          ],
          [
           "Net incurrence of liabilities",
           "Budgetary central government",
           "Domestic currency"
          ],
          [
           "Net incurrence of liabilities",
           "Budgetary central government",
           "Domestic currency"
          ],
          [
           "Net incurrence of liabilities",
           "Budgetary central government",
           "Domestic currency"
          ],
          [
           "Net incurrence of liabilities",
           "Budgetary central government",
           "Percent of GDP"
          ],
          [
           "Net incurrence of liabilities",
           "Budgetary central government",
           "Percent of GDP"
          ],
          [
           "Net incurrence of liabilities",
           "Budgetary central government",
           "Domestic currency"
          ],
          [
           "Net incurrence of liabilities",
           "Budgetary central government",
           "Percent of GDP"
          ],
          [
           "Net incurrence of liabilities",
           "Budgetary central government",
           "Percent of GDP"
          ],
          [
           "Stock position liabilities",
           "Social security funds",
           "Domestic currency"
          ],
          [
           "Net incurrence of liabilities",
           "Budgetary central government",
           "Percent of GDP"
          ],
          [
           "Stock position liabilities",
           "Social security funds",
           "Domestic currency"
          ],
          [
           "Stock position liabilities",
           "Social security funds",
           "Percent of GDP"
          ],
          [
           "Net incurrence of liabilities",
           "Central government (incl. social security funds)",
           "Percent of GDP"
          ],
          [
           "Net incurrence of liabilities",
           "General government",
           "Domestic currency"
          ],
          [
           "Net incurrence of liabilities",
           "Budgetary central government",
           "Domestic currency"
          ],
          [
           "Stock position liabilities",
           "Social security funds",
           "Percent of GDP"
          ],
          [
           "Net incurrence of liabilities",
           "Central government (excl. social security funds)",
           "Domestic currency"
          ],
          [
           "Net incurrence of liabilities",
           "Budgetary central government",
           "Percent of GDP"
          ],
          [
           "Net incurrence of liabilities",
           "Budgetary central government",
           "Domestic currency"
          ],
          [
           "Net incurrence of liabilities",
           "General government",
           "Percent of GDP"
          ],
          [
           "Net incurrence of liabilities",
           "Budgetary central government",
           "Domestic currency"
          ],
          [
           "Net incurrence of liabilities",
           "Budgetary central government",
           "Percent of GDP"
          ],
          [
           "Net incurrence of liabilities",
           "Local governments",
           "Domestic currency"
          ],
          [
           "Net incurrence of liabilities",
           "Budgetary central government",
           "Percent of GDP"
          ],
          [
           "Net incurrence of liabilities",
           "Budgetary central government",
           "Domestic currency"
          ],
          [
           "Net incurrence of liabilities",
           "Central government (excl. social security funds)",
           "Percent of GDP"
          ],
          [
           "Net incurrence of liabilities",
           "Budgetary central government",
           "Domestic currency"
          ],
          [
           "Net incurrence of liabilities",
           "Budgetary central government",
           "Percent of GDP"
          ],
          [
           "Net incurrence of liabilities",
           "Budgetary central government",
           "Domestic currency"
          ],
          [
           "Net incurrence of liabilities",
           "Budgetary central government",
           "Domestic currency"
          ],
          [
           "Net incurrence of liabilities",
           "Budgetary central government",
           "Domestic currency"
          ],
          [
           "Net incurrence of liabilities",
           "Local governments",
           "Percent of GDP"
          ],
          [
           "Net incurrence of liabilities",
           "Budgetary central government",
           "Domestic currency"
          ],
          [
           "Net incurrence of liabilities",
           "Budgetary central government",
           "Domestic currency"
          ],
          [
           "Stock position liabilities",
           "Budgetary central government",
           "Domestic currency"
          ],
          [
           "Net incurrence of liabilities",
           "Budgetary central government",
           "Percent of GDP"
          ],
          [
           "Net incurrence of liabilities",
           "Budgetary central government",
           "Percent of GDP"
          ],
          [
           "Stock position liabilities",
           "Local governments",
           "Domestic currency"
          ],
          [
           "Net incurrence of liabilities",
           "Budgetary central government",
           "Percent of GDP"
          ],
          [
           "Stock position liabilities",
           "Local governments",
           "Domestic currency"
          ],
          [
           "Stock position liabilities",
           "Budgetary central government",
           "Percent of GDP"
          ],
          [
           "Net incurrence of liabilities",
           "Budgetary central government",
           "Percent of GDP"
          ],
          [
           "Net incurrence of liabilities",
           "Budgetary central government",
           "Percent of GDP"
          ],
          [
           "Net incurrence of liabilities",
           "Budgetary central government",
           "Percent of GDP"
          ],
          [
           "Stock position liabilities",
           "Local governments",
           "Percent of GDP"
          ],
          [
           "Stock position liabilities",
           "Local governments",
           "Percent of GDP"
          ],
          [
           "Net incurrence of liabilities",
           "Central government (excl. social security funds)",
           "Domestic currency"
          ],
          [
           "Net incurrence of liabilities",
           "Central government (excl. social security funds)",
           "Percent of GDP"
          ],
          [
           "Net incurrence of liabilities",
           "Central government (excl. social security funds)",
           "Domestic currency"
          ],
          [
           "Net incurrence of liabilities",
           "Central government (excl. social security funds)",
           "Domestic currency"
          ],
          [
           "Net incurrence of liabilities",
           "Central government (excl. social security funds)",
           "Percent of GDP"
          ],
          [
           "Net incurrence of liabilities",
           "Central government (excl. social security funds)",
           "Percent of GDP"
          ],
          [
           "Net incurrence of liabilities",
           "Central government (excl. social security funds)",
           "Domestic currency"
          ],
          [
           "Net incurrence of liabilities",
           "Social security funds",
           "Domestic currency"
          ],
          [
           "Net incurrence of liabilities",
           "Social security funds",
           "Domestic currency"
          ],
          [
           "Net incurrence of liabilities",
           "Central government (excl. social security funds)",
           "Percent of GDP"
          ],
          [
           "Net incurrence of liabilities",
           "Social security funds",
           "Domestic currency"
          ],
          [
           "Net incurrence of liabilities",
           "Central government (excl. social security funds)",
           "Domestic currency"
          ],
          [
           "Net incurrence of liabilities",
           "General government",
           "Domestic currency"
          ],
          [
           "Net incurrence of liabilities",
           "Social security funds",
           "Percent of GDP"
          ],
          [
           "Net incurrence of liabilities",
           "Social security funds",
           "Percent of GDP"
          ],
          [
           "Net incurrence of liabilities",
           "General government",
           "Domestic currency"
          ],
          [
           "Net incurrence of liabilities",
           "General government",
           "Domestic currency"
          ],
          [
           "Net incurrence of liabilities",
           "General government",
           "Percent of GDP"
          ],
          [
           "Net incurrence of liabilities",
           "Social security funds",
           "Percent of GDP"
          ],
          [
           "Net incurrence of liabilities",
           "Social security funds",
           "Domestic currency"
          ],
          [
           "Net incurrence of liabilities",
           "General government",
           "Percent of GDP"
          ],
          [
           "Net incurrence of liabilities",
           "General government",
           "Percent of GDP"
          ],
          [
           "Net incurrence of liabilities",
           "Central government (excl. social security funds)",
           "Percent of GDP"
          ],
          [
           "Net incurrence of liabilities",
           "Central government (excl. social security funds)",
           "Domestic currency"
          ],
          [
           "Net incurrence of liabilities",
           "Social security funds",
           "Domestic currency"
          ],
          [
           "Net incurrence of liabilities",
           "General government",
           "Domestic currency"
          ],
          [
           "Net incurrence of liabilities",
           "Central government (excl. social security funds)",
           "Domestic currency"
          ],
          [
           "Net incurrence of liabilities",
           "Central government (excl. social security funds)",
           "Percent of GDP"
          ],
          [
           "Net incurrence of liabilities",
           "Central government (excl. social security funds)",
           "Percent of GDP"
          ],
          [
           "Net incurrence of liabilities",
           "Social security funds",
           "Percent of GDP"
          ],
          [
           "Stock position liabilities",
           "Budgetary central government",
           "Domestic currency"
          ],
          [
           "Net incurrence of liabilities",
           "Social security funds",
           "Percent of GDP"
          ],
          [
           "Stock position liabilities",
           "Budgetary central government",
           "Domestic currency"
          ],
          [
           "Net incurrence of liabilities",
           "General government",
           "Domestic currency"
          ],
          [
           "Net incurrence of liabilities",
           "General government",
           "Percent of GDP"
          ],
          [
           "Net incurrence of liabilities",
           "General government",
           "Percent of GDP"
          ],
          [
           "Stock position liabilities",
           "Budgetary central government",
           "Percent of GDP"
          ],
          [
           "Stock position liabilities",
           "Budgetary central government",
           "Percent of GDP"
          ],
          [
           "Net incurrence of liabilities",
           "General government",
           "Domestic currency"
          ],
          [
           "Net incurrence of liabilities",
           "General government",
           "Percent of GDP"
          ],
          [
           "Net incurrence of liabilities",
           "Social security funds",
           "Domestic currency"
          ],
          [
           "Net incurrence of liabilities",
           "General government",
           "Domestic currency"
          ],
          [
           "Net incurrence of liabilities",
           "Social security funds",
           "Domestic currency"
          ],
          [
           "Net incurrence of liabilities",
           "Central government (excl. social security funds)",
           "Domestic currency"
          ],
          [
           "Net incurrence of liabilities",
           "General government",
           "Percent of GDP"
          ],
          [
           "Net incurrence of liabilities",
           "Central government (excl. social security funds)",
           "Percent of GDP"
          ],
          [
           "Net incurrence of liabilities",
           "Central government (incl. social security funds)",
           "Domestic currency"
          ],
          [
           "Net incurrence of liabilities",
           "Central government (excl. social security funds)",
           "Domestic currency"
          ],
          [
           "Net incurrence of liabilities",
           "Social security funds",
           "Percent of GDP"
          ],
          [
           "Net incurrence of liabilities",
           "Social security funds",
           "Percent of GDP"
          ],
          [
           "Net incurrence of liabilities",
           "Central government (incl. social security funds)",
           "Domestic currency"
          ],
          [
           "Net incurrence of liabilities",
           "Central government (incl. social security funds)",
           "Domestic currency"
          ],
          [
           "Net incurrence of liabilities",
           "Social security funds",
           "Domestic currency"
          ],
          [
           "Net incurrence of liabilities",
           "Central government (excl. social security funds)",
           "Percent of GDP"
          ],
          [
           "Net incurrence of liabilities",
           "Central government (incl. social security funds)",
           "Percent of GDP"
          ],
          [
           "Net incurrence of liabilities",
           "Central government (incl. social security funds)",
           "Domestic currency"
          ],
          [
           "Net incurrence of liabilities",
           "Central government (incl. social security funds)",
           "Percent of GDP"
          ],
          [
           "Net incurrence of liabilities",
           "Central government (excl. social security funds)",
           "Domestic currency"
          ],
          [
           "Net incurrence of liabilities",
           "Central government (incl. social security funds)",
           "Percent of GDP"
          ],
          [
           "Net incurrence of liabilities",
           "Local governments",
           "Domestic currency"
          ],
          [
           "Net incurrence of liabilities",
           "Social security funds",
           "Percent of GDP"
          ],
          [
           "Net incurrence of liabilities",
           "Central government (incl. social security funds)",
           "Percent of GDP"
          ],
          [
           "Net incurrence of liabilities",
           "Central government (excl. social security funds)",
           "Percent of GDP"
          ],
          [
           "Net incurrence of liabilities",
           "Local governments",
           "Percent of GDP"
          ],
          [
           "Net incurrence of liabilities",
           "Central government (excl. social security funds)",
           "Domestic currency"
          ],
          [
           "Net incurrence of liabilities",
           "Central government (excl. social security funds)",
           "Domestic currency"
          ],
          [
           "Net incurrence of liabilities",
           "Central government (incl. social security funds)",
           "Domestic currency"
          ],
          [
           "Net incurrence of liabilities",
           "Local governments",
           "Domestic currency"
          ],
          [
           "Net incurrence of liabilities",
           "Central government (excl. social security funds)",
           "Percent of GDP"
          ],
          [
           "Net incurrence of liabilities",
           "Central government (excl. social security funds)",
           "Percent of GDP"
          ],
          [
           "Net incurrence of liabilities",
           "Local governments",
           "Domestic currency"
          ],
          [
           "Net incurrence of liabilities",
           "Local governments",
           "Percent of GDP"
          ],
          [
           "Net incurrence of liabilities",
           "Central government (excl. social security funds)",
           "Domestic currency"
          ],
          [
           "Net incurrence of liabilities",
           "Central government (incl. social security funds)",
           "Domestic currency"
          ],
          [
           "Net incurrence of liabilities",
           "Local governments",
           "Percent of GDP"
          ],
          [
           "Net incurrence of liabilities",
           "Local governments",
           "Domestic currency"
          ],
          [
           "Net incurrence of liabilities",
           "Central government (incl. social security funds)",
           "Domestic currency"
          ],
          [
           "Stock position liabilities",
           "Central government (excl. social security funds)",
           "Domestic currency"
          ],
          [
           "Net incurrence of liabilities",
           "Central government (incl. social security funds)",
           "Domestic currency"
          ],
          [
           "Net incurrence of liabilities",
           "Central government (excl. social security funds)",
           "Percent of GDP"
          ],
          [
           "Net incurrence of liabilities",
           "Central government (incl. social security funds)",
           "Domestic currency"
          ],
          [
           "Net incurrence of liabilities",
           "Central government (excl. social security funds)",
           "Domestic currency"
          ],
          [
           "Net incurrence of liabilities",
           "Central government (incl. social security funds)",
           "Percent of GDP"
          ],
          [
           "Net incurrence of liabilities",
           "Local governments",
           "Percent of GDP"
          ],
          [
           "Net incurrence of liabilities",
           "General government",
           "Domestic currency"
          ],
          [
           "Net incurrence of liabilities",
           "Central government (excl. social security funds)",
           "Domestic currency"
          ],
          [
           "Net incurrence of liabilities",
           "Central government (excl. social security funds)",
           "Domestic currency"
          ],
          [
           "Stock position liabilities",
           "Central government (excl. social security funds)",
           "Percent of GDP"
          ],
          [
           "Net incurrence of liabilities",
           "Central government (excl. social security funds)",
           "Domestic currency"
          ],
          [
           "Net incurrence of liabilities",
           "General government",
           "Domestic currency"
          ],
          [
           "Net incurrence of liabilities",
           "General government",
           "Percent of GDP"
          ],
          [
           "Net incurrence of liabilities",
           "Central government (excl. social security funds)",
           "Percent of GDP"
          ],
          [
           "Net incurrence of liabilities",
           "Central government (excl. social security funds)",
           "Domestic currency"
          ],
          [
           "Net incurrence of liabilities",
           "Central government (excl. social security funds)",
           "Percent of GDP"
          ],
          [
           "Net incurrence of liabilities",
           "General government",
           "Percent of GDP"
          ],
          [
           "Net incurrence of liabilities",
           "Central government (incl. social security funds)",
           "Percent of GDP"
          ],
          [
           "Net incurrence of liabilities",
           "Central government (incl. social security funds)",
           "Percent of GDP"
          ],
          [
           "Net incurrence of liabilities",
           "Central government (excl. social security funds)",
           "Percent of GDP"
          ],
          [
           "Net incurrence of liabilities",
           "Central government (incl. social security funds)",
           "Percent of GDP"
          ],
          [
           "Net incurrence of liabilities",
           "Central government (incl. social security funds)",
           "Percent of GDP"
          ],
          [
           "Net incurrence of liabilities",
           "Local governments",
           "Domestic currency"
          ],
          [
           "Net incurrence of liabilities",
           "Social security funds",
           "Domestic currency"
          ],
          [
           "Net incurrence of liabilities",
           "Central government (excl. social security funds)",
           "Percent of GDP"
          ],
          [
           "Net incurrence of liabilities",
           "Local governments",
           "Domestic currency"
          ],
          [
           "Net incurrence of liabilities",
           "General government",
           "Domestic currency"
          ],
          [
           "Net incurrence of liabilities",
           "Local governments",
           "Percent of GDP"
          ],
          [
           "Net incurrence of liabilities",
           "Social security funds",
           "Percent of GDP"
          ],
          [
           "Net incurrence of liabilities",
           "Local governments",
           "Percent of GDP"
          ],
          [
           "Net incurrence of liabilities",
           "Local governments",
           "Domestic currency"
          ],
          [
           "Net incurrence of liabilities",
           "General government",
           "Percent of GDP"
          ],
          [
           "Net incurrence of liabilities",
           "Social security funds",
           "Domestic currency"
          ],
          [
           "Net incurrence of liabilities",
           "Local governments",
           "Percent of GDP"
          ],
          [
           "Net incurrence of liabilities",
           "Local governments",
           "Domestic currency"
          ],
          [
           "Net incurrence of liabilities",
           "Social security funds",
           "Percent of GDP"
          ],
          [
           "Net incurrence of liabilities",
           "General government",
           "Domestic currency"
          ],
          [
           "Net incurrence of liabilities",
           "General government",
           "Domestic currency"
          ],
          [
           "Net incurrence of liabilities",
           "Local governments",
           "Percent of GDP"
          ],
          [
           "Stock position liabilities",
           "Central government (excl. social security funds)",
           "Domestic currency"
          ],
          [
           "Net incurrence of liabilities",
           "Social security funds",
           "Domestic currency"
          ],
          [
           "Net incurrence of liabilities",
           "General government",
           "Percent of GDP"
          ],
          [
           "Net incurrence of liabilities",
           "Social security funds",
           "Domestic currency"
          ],
          [
           "Net incurrence of liabilities",
           "General government",
           "Percent of GDP"
          ],
          [
           "Net incurrence of liabilities",
           "Local governments",
           "Domestic currency"
          ],
          [
           "Net incurrence of liabilities",
           "Social security funds",
           "Percent of GDP"
          ],
          [
           "Net incurrence of liabilities",
           "Social security funds",
           "Percent of GDP"
          ],
          [
           "Stock position liabilities",
           "Central government (excl. social security funds)",
           "Percent of GDP"
          ],
          [
           "Net incurrence of liabilities",
           "General government",
           "Domestic currency"
          ],
          [
           "Net incurrence of liabilities",
           "Central government (excl. social security funds)",
           "Domestic currency"
          ],
          [
           "Net incurrence of liabilities",
           "Local governments",
           "Domestic currency"
          ],
          [
           "Net incurrence of liabilities",
           "Central government (excl. social security funds)",
           "Percent of GDP"
          ],
          [
           "Net incurrence of liabilities",
           "Social security funds",
           "Domestic currency"
          ],
          [
           "Net incurrence of liabilities",
           "General government",
           "Percent of GDP"
          ],
          [
           "Net incurrence of liabilities",
           "Local governments",
           "Percent of GDP"
          ],
          [
           "Net incurrence of liabilities",
           "General government",
           "Domestic currency"
          ],
          [
           "Net incurrence of liabilities",
           "Social security funds",
           "Percent of GDP"
          ],
          [
           "Net incurrence of liabilities",
           "Local governments",
           "Domestic currency"
          ],
          [
           "Stock position liabilities",
           "Central government (excl. social security funds)",
           "Domestic currency"
          ],
          [
           "Net incurrence of liabilities",
           "Social security funds",
           "Domestic currency"
          ],
          [
           "Net incurrence of liabilities",
           "General government",
           "Percent of GDP"
          ],
          [
           "Net incurrence of liabilities",
           "Local governments",
           "Domestic currency"
          ],
          [
           "Stock position liabilities",
           "Social security funds",
           "Domestic currency"
          ],
          [
           "Net incurrence of liabilities",
           "Local governments",
           "Percent of GDP"
          ],
          [
           "Net incurrence of liabilities",
           "Social security funds",
           "Percent of GDP"
          ],
          [
           "Net incurrence of liabilities",
           "Social security funds",
           "Domestic currency"
          ],
          [
           "Net incurrence of liabilities",
           "Local governments",
           "Percent of GDP"
          ],
          [
           "Net incurrence of liabilities",
           "Central government (excl. social security funds)",
           "Domestic currency"
          ],
          [
           "Net incurrence of liabilities",
           "Social security funds",
           "Domestic currency"
          ],
          [
           "Stock position liabilities",
           "General government",
           "Domestic currency"
          ],
          [
           "Net incurrence of liabilities",
           "General government",
           "Domestic currency"
          ],
          [
           "Stock position liabilities",
           "Central government (excl. social security funds)",
           "Percent of GDP"
          ],
          [
           "Stock position liabilities",
           "Social security funds",
           "Percent of GDP"
          ],
          [
           "Net incurrence of liabilities",
           "Social security funds",
           "Percent of GDP"
          ],
          [
           "Stock position liabilities",
           "Local governments",
           "Domestic currency"
          ],
          [
           "Net incurrence of liabilities",
           "General government",
           "Percent of GDP"
          ],
          [
           "Net incurrence of liabilities",
           "Local governments",
           "Percent of GDP"
          ],
          [
           "Net incurrence of liabilities",
           "Central government (excl. social security funds)",
           "Percent of GDP"
          ],
          [
           "Stock position liabilities",
           "Local governments",
           "Percent of GDP"
          ],
          [
           "Net incurrence of liabilities",
           "Social security funds",
           "Domestic currency"
          ],
          [
           "Net incurrence of liabilities",
           "Local governments",
           "Domestic currency"
          ],
          [
           "Net incurrence of liabilities",
           "Social security funds",
           "Percent of GDP"
          ],
          [
           "Net incurrence of liabilities",
           "Social security funds",
           "Domestic currency"
          ],
          [
           "Stock position liabilities",
           "General government",
           "Percent of GDP"
          ],
          [
           "Net incurrence of liabilities",
           "Local governments",
           "Percent of GDP"
          ],
          [
           "Net incurrence of liabilities",
           "Social security funds",
           "Percent of GDP"
          ],
          [
           "Stock position liabilities",
           "General government",
           "Domestic currency"
          ],
          [
           "Net incurrence of liabilities",
           "Local governments",
           "Domestic currency"
          ],
          [
           "Stock position liabilities",
           "General government",
           "Percent of GDP"
          ],
          [
           "Net incurrence of liabilities",
           "General government",
           "Domestic currency"
          ],
          [
           "Net incurrence of liabilities",
           "Social security funds",
           "Percent of GDP"
          ],
          [
           "Net incurrence of liabilities",
           "Central government (excl. social security funds)",
           "Domestic currency"
          ],
          [
           "Net incurrence of liabilities",
           "Central government (excl. social security funds)",
           "Percent of GDP"
          ],
          [
           "Net incurrence of liabilities",
           "Local governments",
           "Domestic currency"
          ],
          [
           "Net incurrence of liabilities",
           "General government",
           "Domestic currency"
          ],
          [
           "Net incurrence of liabilities",
           "Central government (excl. social security funds)",
           "Domestic currency"
          ],
          [
           "Net incurrence of liabilities",
           "Social security funds",
           "Domestic currency"
          ],
          [
           "Net incurrence of liabilities",
           "Central government (excl. social security funds)",
           "Percent of GDP"
          ],
          [
           "Net incurrence of liabilities",
           "Central government (excl. social security funds)",
           "Domestic currency"
          ],
          [
           "Net incurrence of liabilities",
           "Social security funds",
           "Domestic currency"
          ],
          [
           "Net incurrence of liabilities",
           "Local governments",
           "Percent of GDP"
          ],
          [
           "Net incurrence of liabilities",
           "General government",
           "Percent of GDP"
          ],
          [
           "Net incurrence of liabilities",
           "General government",
           "Domestic currency"
          ],
          [
           "Net incurrence of liabilities",
           "Central government (excl. social security funds)",
           "Percent of GDP"
          ],
          [
           "Net incurrence of liabilities",
           "Central government (excl. social security funds)",
           "Domestic currency"
          ],
          [
           "Net incurrence of liabilities",
           "Social security funds",
           "Percent of GDP"
          ],
          [
           "Net incurrence of liabilities",
           "Social security funds",
           "Domestic currency"
          ],
          [
           "Stock position liabilities",
           "General government",
           "Domestic currency"
          ],
          [
           "Net incurrence of liabilities",
           "Social security funds",
           "Percent of GDP"
          ],
          [
           "Net incurrence of liabilities",
           "Central government (excl. social security funds)",
           "Percent of GDP"
          ],
          [
           "Net incurrence of liabilities",
           "Central government (excl. social security funds)",
           "Domestic currency"
          ],
          [
           "Net incurrence of liabilities",
           "Social security funds",
           "Domestic currency"
          ],
          [
           "Net incurrence of liabilities",
           "Social security funds",
           "Percent of GDP"
          ],
          [
           "Net incurrence of liabilities",
           "General government",
           "Percent of GDP"
          ],
          [
           "Stock position liabilities",
           "Central government (incl. social security funds)",
           "Domestic currency"
          ],
          [
           "Net incurrence of liabilities",
           "General government",
           "Domestic currency"
          ],
          [
           "Stock position liabilities",
           "Central government (excl. social security funds)",
           "Domestic currency"
          ],
          [
           "Stock position liabilities",
           "General government",
           "Percent of GDP"
          ],
          [
           "Net incurrence of liabilities",
           "Central government (excl. social security funds)",
           "Percent of GDP"
          ],
          [
           "Net incurrence of liabilities",
           "Central government (excl. social security funds)",
           "Percent of GDP"
          ],
          [
           "Stock position liabilities",
           "Central government (excl. social security funds)",
           "Percent of GDP"
          ],
          [
           "Net incurrence of liabilities",
           "Local governments",
           "Domestic currency"
          ],
          [
           "Net incurrence of liabilities",
           "General government",
           "Percent of GDP"
          ],
          [
           "Net incurrence of liabilities",
           "Local governments",
           "Percent of GDP"
          ],
          [
           "Stock position liabilities",
           "Central government (excl. social security funds)",
           "Domestic currency"
          ],
          [
           "Stock position liabilities",
           "Central government (excl. social security funds)",
           "Percent of GDP"
          ],
          [
           "Net incurrence of liabilities",
           "Social security funds",
           "Percent of GDP"
          ],
          [
           "Net incurrence of liabilities",
           "Local governments",
           "Percent of GDP"
          ],
          [
           "Net incurrence of liabilities",
           "General government",
           "Percent of GDP"
          ],
          [
           "Net incurrence of liabilities",
           "Local governments",
           "Domestic currency"
          ],
          [
           "Stock position liabilities",
           "Central government (incl. social security funds)",
           "Percent of GDP"
          ],
          [
           "Stock position liabilities",
           "General government",
           "Domestic currency"
          ],
          [
           "Stock position liabilities",
           "General government",
           "Domestic currency"
          ],
          [
           "Stock position liabilities",
           "General government",
           "Percent of GDP"
          ],
          [
           "Stock position liabilities",
           "General government",
           "Percent of GDP"
          ],
          [
           "Stock position liabilities",
           "Central government (excl. social security funds)",
           "Domestic currency"
          ],
          [
           "Net incurrence of liabilities",
           "Central government (incl. social security funds)",
           "Domestic currency"
          ],
          [
           "Stock position liabilities",
           "Central government (excl. social security funds)",
           "Percent of GDP"
          ],
          [
           "Net incurrence of liabilities",
           "Central government (incl. social security funds)",
           "Domestic currency"
          ],
          [
           "Net incurrence of liabilities",
           "Extrabudgetary central government",
           "Domestic currency"
          ],
          [
           "Net incurrence of liabilities",
           "Extrabudgetary central government",
           "Domestic currency"
          ],
          [
           "Net incurrence of liabilities",
           "Local governments",
           "Percent of GDP"
          ],
          [
           "Net incurrence of liabilities",
           "Central government (incl. social security funds)",
           "Percent of GDP"
          ],
          [
           "Stock position liabilities",
           "Central government (excl. social security funds)",
           "Domestic currency"
          ],
          [
           "Net incurrence of liabilities",
           "Central government (incl. social security funds)",
           "Percent of GDP"
          ],
          [
           "Stock position liabilities",
           "Central government (excl. social security funds)",
           "Percent of GDP"
          ],
          [
           "Net incurrence of liabilities",
           "Central government (incl. social security funds)",
           "Domestic currency"
          ],
          [
           "Net incurrence of liabilities",
           "Central government (incl. social security funds)",
           "Domestic currency"
          ],
          [
           "Stock position liabilities",
           "Central government (excl. social security funds)",
           "Domestic currency"
          ],
          [
           "Stock position liabilities",
           "Central government (excl. social security funds)",
           "Percent of GDP"
          ],
          [
           "Net incurrence of liabilities",
           "Social security funds",
           "Domestic currency"
          ],
          [
           "Net incurrence of liabilities",
           "Central government (incl. social security funds)",
           "Domestic currency"
          ],
          [
           "Net incurrence of liabilities",
           "Central government (incl. social security funds)",
           "Percent of GDP"
          ],
          [
           "Net incurrence of liabilities",
           "Central government (incl. social security funds)",
           "Percent of GDP"
          ],
          [
           "Net incurrence of liabilities",
           "Social security funds",
           "Percent of GDP"
          ],
          [
           "Net incurrence of liabilities",
           "Local governments",
           "Domestic currency"
          ],
          [
           "Net incurrence of liabilities",
           "Central government (incl. social security funds)",
           "Domestic currency"
          ],
          [
           "Net incurrence of liabilities",
           "Central government (incl. social security funds)",
           "Percent of GDP"
          ],
          [
           "Net incurrence of liabilities",
           "Extrabudgetary central government",
           "Percent of GDP"
          ],
          [
           "Stock position liabilities",
           "General government",
           "Domestic currency"
          ],
          [
           "Stock position liabilities",
           "Local governments",
           "Domestic currency"
          ],
          [
           "Stock position liabilities",
           "Local governments",
           "Percent of GDP"
          ],
          [
           "Stock position liabilities",
           "General government",
           "Percent of GDP"
          ],
          [
           "Net incurrence of liabilities",
           "Local governments",
           "Percent of GDP"
          ],
          [
           "Stock position liabilities",
           "General government",
           "Domestic currency"
          ],
          [
           "Net incurrence of liabilities",
           "Extrabudgetary central government",
           "Percent of GDP"
          ],
          [
           "Stock position liabilities",
           "General government",
           "Percent of GDP"
          ],
          [
           "Stock position liabilities",
           "Social security funds",
           "Domestic currency"
          ],
          [
           "Stock position liabilities",
           "Social security funds",
           "Percent of GDP"
          ],
          [
           "Net incurrence of liabilities",
           "Local governments",
           "Domestic currency"
          ],
          [
           "Stock position liabilities",
           "Social security funds",
           "Domestic currency"
          ],
          [
           "Net incurrence of liabilities",
           "Local governments",
           "Percent of GDP"
          ],
          [
           "Stock position liabilities",
           "Social security funds",
           "Percent of GDP"
          ],
          [
           "Stock position liabilities",
           "General government",
           "Domestic currency"
          ],
          [
           "Stock position liabilities",
           "General government",
           "Percent of GDP"
          ],
          [
           "Stock position liabilities",
           "Local governments",
           "Domestic currency"
          ],
          [
           "Stock position liabilities",
           "Local governments",
           "Percent of GDP"
          ],
          [
           "Net incurrence of liabilities",
           "Central government (incl. social security funds)",
           "Domestic currency"
          ],
          [
           "Stock position liabilities",
           "Social security funds",
           "Domestic currency"
          ],
          [
           "Net incurrence of liabilities",
           "Central government (incl. social security funds)",
           "Percent of GDP"
          ],
          [
           "Stock position liabilities",
           "Social security funds",
           "Percent of GDP"
          ],
          [
           "Net incurrence of liabilities",
           "General government",
           "Domestic currency"
          ],
          [
           "Net incurrence of liabilities",
           "Central government (incl. social security funds)",
           "Percent of GDP"
          ],
          [
           "Stock position liabilities",
           "Central government (excl. social security funds)",
           "Domestic currency"
          ],
          [
           "Stock position liabilities",
           "Social security funds",
           "Domestic currency"
          ],
          [
           "Net incurrence of liabilities",
           "Central government (incl. social security funds)",
           "Domestic currency"
          ],
          [
           "Stock position liabilities",
           "Central government (excl. social security funds)",
           "Percent of GDP"
          ],
          [
           "Stock position liabilities",
           "Social security funds",
           "Percent of GDP"
          ],
          [
           "Stock position liabilities",
           "Social security funds",
           "Domestic currency"
          ],
          [
           "Stock position liabilities",
           "Social security funds",
           "Domestic currency"
          ],
          [
           "Stock position liabilities",
           "Local governments",
           "Domestic currency"
          ],
          [
           "Stock position liabilities",
           "General government",
           "Domestic currency"
          ],
          [
           "Net incurrence of liabilities",
           "General government",
           "Percent of GDP"
          ],
          [
           "Stock position liabilities",
           "Social security funds",
           "Percent of GDP"
          ],
          [
           "Stock position liabilities",
           "General government",
           "Percent of GDP"
          ],
          [
           "Stock position liabilities",
           "Social security funds",
           "Percent of GDP"
          ],
          [
           "Stock position liabilities",
           "Social security funds",
           "Domestic currency"
          ],
          [
           "Stock position liabilities",
           "Local governments",
           "Percent of GDP"
          ],
          [
           "Stock position liabilities",
           "Local governments",
           "Percent of GDP"
          ],
          [
           "Stock position liabilities",
           "Local governments",
           "Domestic currency"
          ],
          [
           "Stock position liabilities",
           "Social security funds",
           "Percent of GDP"
          ],
          [
           "Net incurrence of liabilities",
           "Central government (incl. social security funds)",
           "Percent of GDP"
          ],
          [
           "Net incurrence of liabilities",
           "Social security funds",
           "Domestic currency"
          ],
          [
           "Stock position liabilities",
           "Local governments",
           "Domestic currency"
          ],
          [
           "Net incurrence of liabilities",
           "Social security funds",
           "Percent of GDP"
          ],
          [
           "Stock position liabilities",
           "Social security funds",
           "Domestic currency"
          ],
          [
           "Stock position liabilities",
           "Central government (excl. social security funds)",
           "Domestic currency"
          ],
          [
           "Stock position liabilities",
           "Social security funds",
           "Domestic currency"
          ],
          [
           "Stock position liabilities",
           "Social security funds",
           "Percent of GDP"
          ],
          [
           "Stock position liabilities",
           "Local governments",
           "Percent of GDP"
          ],
          [
           "Net incurrence of liabilities",
           "General government",
           "Domestic currency"
          ],
          [
           "Stock position liabilities",
           "Central government (excl. social security funds)",
           "Domestic currency"
          ],
          [
           "Stock position liabilities",
           "Social security funds",
           "Percent of GDP"
          ],
          [
           "Stock position liabilities",
           "Social security funds",
           "Domestic currency"
          ],
          [
           "Stock position liabilities",
           "Central government (excl. social security funds)",
           "Percent of GDP"
          ],
          [
           "Stock position liabilities",
           "Central government (excl. social security funds)",
           "Percent of GDP"
          ],
          [
           "Stock position liabilities",
           "Social security funds",
           "Domestic currency"
          ],
          [
           "Stock position liabilities",
           "Social security funds",
           "Percent of GDP"
          ],
          [
           "Stock position liabilities",
           "Social security funds",
           "Percent of GDP"
          ],
          [
           "Stock position liabilities",
           "Social security funds",
           "Domestic currency"
          ],
          [
           "Stock position liabilities",
           "Social security funds",
           "Percent of GDP"
          ],
          [
           "Net incurrence of liabilities",
           "Central government (incl. social security funds)",
           "Domestic currency"
          ],
          [
           "Stock position liabilities",
           "Central government (incl. social security funds)",
           "Domestic currency"
          ],
          [
           "Net incurrence of liabilities",
           "General government",
           "Percent of GDP"
          ],
          [
           "Stock position liabilities",
           "General government",
           "Domestic currency"
          ],
          [
           "Net incurrence of liabilities",
           "General government",
           "Domestic currency"
          ],
          [
           "Stock position liabilities",
           "Central government (excl. social security funds)",
           "Domestic currency"
          ],
          [
           "Stock position liabilities",
           "General government",
           "Percent of GDP"
          ],
          [
           "Stock position liabilities",
           "Local governments",
           "Domestic currency"
          ],
          [
           "Net incurrence of liabilities",
           "General government",
           "Domestic currency"
          ],
          [
           "Net incurrence of liabilities",
           "Central government (incl. social security funds)",
           "Percent of GDP"
          ],
          [
           "Stock position liabilities",
           "Local governments",
           "Percent of GDP"
          ],
          [
           "Stock position liabilities",
           "Central government (excl. social security funds)",
           "Percent of GDP"
          ],
          [
           "Net incurrence of liabilities",
           "General government",
           "Percent of GDP"
          ],
          [
           "Stock position liabilities",
           "Local governments",
           "Domestic currency"
          ],
          [
           "Net incurrence of liabilities",
           "Central government (incl. social security funds)",
           "Domestic currency"
          ],
          [
           "Net incurrence of liabilities",
           "Budgetary central government",
           "Domestic currency"
          ],
          [
           "Net incurrence of liabilities",
           "General government",
           "Percent of GDP"
          ],
          [
           "Stock position liabilities",
           "Central government (incl. social security funds)",
           "Domestic currency"
          ],
          [
           "Net incurrence of liabilities",
           "Local governments",
           "Domestic currency"
          ],
          [
           "Stock position liabilities",
           "Social security funds",
           "Domestic currency"
          ],
          [
           "Stock position liabilities",
           "Local governments",
           "Percent of GDP"
          ],
          [
           "Stock position liabilities",
           "Social security funds",
           "Percent of GDP"
          ],
          [
           "Stock position liabilities",
           "Local governments",
           "Domestic currency"
          ],
          [
           "Stock position liabilities",
           "Local governments",
           "Percent of GDP"
          ],
          [
           "Stock position liabilities",
           "Local governments",
           "Domestic currency"
          ],
          [
           "Stock position liabilities",
           "Social security funds",
           "Domestic currency"
          ],
          [
           "Stock position liabilities",
           "Social security funds",
           "Percent of GDP"
          ],
          [
           "Stock position liabilities",
           "Local governments",
           "Percent of GDP"
          ],
          [
           "Stock position liabilities",
           "Local governments",
           "Domestic currency"
          ],
          [
           "Net incurrence of liabilities",
           "Central government (incl. social security funds)",
           "Percent of GDP"
          ],
          [
           "Net incurrence of liabilities",
           "Budgetary central government",
           "Percent of GDP"
          ],
          [
           "Stock position liabilities",
           "Local governments",
           "Percent of GDP"
          ],
          [
           "Stock position liabilities",
           "Central government (incl. social security funds)",
           "Percent of GDP"
          ],
          [
           "Net incurrence of liabilities",
           "General government",
           "Domestic currency"
          ],
          [
           "Net incurrence of liabilities",
           "Local governments",
           "Percent of GDP"
          ],
          [
           "Net incurrence of liabilities",
           "General government",
           "Domestic currency"
          ],
          [
           "Stock position liabilities",
           "Social security funds",
           "Domestic currency"
          ],
          [
           "Stock position liabilities",
           "Social security funds",
           "Percent of GDP"
          ],
          [
           "Net incurrence of liabilities",
           "General government",
           "Percent of GDP"
          ],
          [
           "Stock position liabilities",
           "Local governments",
           "Domestic currency"
          ],
          [
           "Stock position liabilities",
           "Local governments",
           "Percent of GDP"
          ],
          [
           "Net incurrence of liabilities",
           "General government",
           "Percent of GDP"
          ],
          [
           "Net incurrence of liabilities",
           "Central government (incl. social security funds)",
           "Domestic currency"
          ],
          [
           "Net incurrence of liabilities",
           "Local governments",
           "Domestic currency"
          ],
          [
           "Net incurrence of liabilities",
           "Central government (excl. social security funds)",
           "Domestic currency"
          ],
          [
           "Stock position liabilities",
           "Social security funds",
           "Domestic currency"
          ],
          [
           "Stock position liabilities",
           "Central government (incl. social security funds)",
           "Percent of GDP"
          ],
          [
           "Stock position liabilities",
           "Social security funds",
           "Percent of GDP"
          ],
          [
           "Stock position liabilities",
           "Local governments",
           "Domestic currency"
          ],
          [
           "Net incurrence of liabilities",
           "Central government (incl. social security funds)",
           "Percent of GDP"
          ],
          [
           "Stock position liabilities",
           "Local governments",
           "Domestic currency"
          ],
          [
           "Stock position liabilities",
           "Local governments",
           "Percent of GDP"
          ],
          [
           "Stock position liabilities",
           "Local governments",
           "Percent of GDP"
          ],
          [
           "Net incurrence of liabilities",
           "Local governments",
           "Percent of GDP"
          ],
          [
           "Net incurrence of liabilities",
           "Central government (excl. social security funds)",
           "Domestic currency"
          ],
          [
           "Stock position liabilities",
           "Local governments",
           "Domestic currency"
          ],
          [
           "Stock position liabilities",
           "Local governments",
           "Percent of GDP"
          ],
          [
           "Net incurrence of liabilities",
           "Central government (excl. social security funds)",
           "Percent of GDP"
          ],
          [
           "Net incurrence of liabilities",
           "Extrabudgetary central government",
           "Domestic currency"
          ],
          [
           "Stock position liabilities",
           "General government",
           "Domestic currency"
          ],
          [
           "Net incurrence of liabilities",
           "Central government (excl. social security funds)",
           "Domestic currency"
          ],
          [
           "Net incurrence of liabilities",
           "Central government (excl. social security funds)",
           "Percent of GDP"
          ],
          [
           "Net incurrence of liabilities",
           "Local governments",
           "Domestic currency"
          ],
          [
           "Stock position liabilities",
           "Social security funds",
           "Domestic currency"
          ],
          [
           "Stock position liabilities",
           "General government",
           "Percent of GDP"
          ],
          [
           "Net incurrence of liabilities",
           "Central government (incl. social security funds)",
           "Domestic currency"
          ],
          [
           "Stock position liabilities",
           "Social security funds",
           "Percent of GDP"
          ],
          [
           "Net incurrence of liabilities",
           "Local governments",
           "Percent of GDP"
          ],
          [
           "Stock position liabilities",
           "General government",
           "Domestic currency"
          ],
          [
           "Net incurrence of liabilities",
           "Central government (incl. social security funds)",
           "Domestic currency"
          ],
          [
           "Net incurrence of liabilities",
           "Budgetary central government",
           "Domestic currency"
          ],
          [
           "Stock position liabilities",
           "Central government (excl. social security funds)",
           "Domestic currency"
          ],
          [
           "Stock position liabilities",
           "Central government (excl. social security funds)",
           "Percent of GDP"
          ],
          [
           "Stock position liabilities",
           "General government",
           "Percent of GDP"
          ],
          [
           "Net incurrence of liabilities",
           "Extrabudgetary central government",
           "Domestic currency"
          ],
          [
           "Net incurrence of liabilities",
           "Central government (excl. social security funds)",
           "Percent of GDP"
          ],
          [
           "Net incurrence of liabilities",
           "Central government (incl. social security funds)",
           "Percent of GDP"
          ],
          [
           "Net incurrence of liabilities",
           "Budgetary central government",
           "Percent of GDP"
          ],
          [
           "Net incurrence of liabilities",
           "Extrabudgetary central government",
           "Domestic currency"
          ],
          [
           "Stock position liabilities",
           "Budgetary central government",
           "Domestic currency"
          ],
          [
           "Stock position liabilities",
           "Central government (excl. social security funds)",
           "Domestic currency"
          ],
          [
           "Net incurrence of liabilities",
           "Central government (incl. social security funds)",
           "Percent of GDP"
          ],
          [
           "Net incurrence of liabilities",
           "General government",
           "Domestic currency"
          ],
          [
           "Stock position liabilities",
           "Central government (excl. social security funds)",
           "Percent of GDP"
          ],
          [
           "Stock position liabilities",
           "Local governments",
           "Domestic currency"
          ],
          [
           "Stock position liabilities",
           "Local governments",
           "Percent of GDP"
          ],
          [
           "Net incurrence of liabilities",
           "General government",
           "Domestic currency"
          ],
          [
           "Stock position liabilities",
           "Central government (excl. social security funds)",
           "Domestic currency"
          ],
          [
           "Net incurrence of liabilities",
           "Extrabudgetary central government",
           "Percent of GDP"
          ],
          [
           "Stock position liabilities",
           "Central government (excl. social security funds)",
           "Percent of GDP"
          ],
          [
           "Net incurrence of liabilities",
           "Extrabudgetary central government",
           "Domestic currency"
          ],
          [
           "Net incurrence of liabilities",
           "Local governments",
           "Domestic currency"
          ],
          [
           "Stock position liabilities",
           "Central government (excl. social security funds)",
           "Domestic currency"
          ],
          [
           "Net incurrence of liabilities",
           "Social security funds",
           "Domestic currency"
          ],
          [
           "Net incurrence of liabilities",
           "Extrabudgetary central government",
           "Percent of GDP"
          ],
          [
           "Net incurrence of liabilities",
           "General government",
           "Percent of GDP"
          ],
          [
           "Stock position liabilities",
           "Central government (excl. social security funds)",
           "Percent of GDP"
          ],
          [
           "Net incurrence of liabilities",
           "General government",
           "Percent of GDP"
          ],
          [
           "Stock position liabilities",
           "Budgetary central government",
           "Percent of GDP"
          ],
          [
           "Net incurrence of liabilities",
           "Extrabudgetary central government",
           "Domestic currency"
          ],
          [
           "Net incurrence of liabilities",
           "Extrabudgetary central government",
           "Percent of GDP"
          ],
          [
           "Net incurrence of liabilities",
           "Extrabudgetary central government",
           "Domestic currency"
          ],
          [
           "Net incurrence of liabilities",
           "Local governments",
           "Percent of GDP"
          ],
          [
           "Net incurrence of liabilities",
           "Social security funds",
           "Domestic currency"
          ],
          [
           "Stock position liabilities",
           "Budgetary central government",
           "Domestic currency"
          ],
          [
           "Stock position liabilities",
           "Central government (excl. social security funds)",
           "Domestic currency"
          ],
          [
           "Net incurrence of liabilities",
           "Extrabudgetary central government",
           "Domestic currency"
          ],
          [
           "Stock position liabilities",
           "Central government (excl. social security funds)",
           "Percent of GDP"
          ],
          [
           "Net incurrence of liabilities",
           "Central government (incl. social security funds)",
           "Domestic currency"
          ],
          [
           "Stock position liabilities",
           "Central government (excl. social security funds)",
           "Domestic currency"
          ],
          [
           "Net incurrence of liabilities",
           "Social security funds",
           "Percent of GDP"
          ],
          [
           "Stock position liabilities",
           "Central government (excl. social security funds)",
           "Percent of GDP"
          ],
          [
           "Net incurrence of liabilities",
           "General government",
           "Domestic currency"
          ],
          [
           "Net incurrence of liabilities",
           "Extrabudgetary central government",
           "Domestic currency"
          ],
          [
           "Stock position liabilities",
           "Extrabudgetary central government",
           "Domestic currency"
          ],
          [
           "Net incurrence of liabilities",
           "Extrabudgetary central government",
           "Domestic currency"
          ],
          [
           "Net incurrence of liabilities",
           "Central government (incl. social security funds)",
           "Domestic currency"
          ],
          [
           "Stock position liabilities",
           "Extrabudgetary central government",
           "Domestic currency"
          ],
          [
           "Net incurrence of liabilities",
           "Extrabudgetary central government",
           "Percent of GDP"
          ],
          [
           "Net incurrence of liabilities",
           "Extrabudgetary central government",
           "Domestic currency"
          ],
          [
           "Net incurrence of liabilities",
           "Social security funds",
           "Percent of GDP"
          ],
          [
           "Stock position liabilities",
           "Central government (excl. social security funds)",
           "Domestic currency"
          ],
          [
           "Stock position liabilities",
           "Central government (excl. social security funds)",
           "Percent of GDP"
          ],
          [
           "Net incurrence of liabilities",
           "Extrabudgetary central government",
           "Domestic currency"
          ],
          [
           "Net incurrence of liabilities",
           "Central government (incl. social security funds)",
           "Percent of GDP"
          ],
          [
           "Net incurrence of liabilities",
           "General government",
           "Percent of GDP"
          ],
          [
           "Net incurrence of liabilities",
           "Central government (incl. social security funds)",
           "Domestic currency"
          ],
          [
           "Net incurrence of liabilities",
           "Extrabudgetary central government",
           "Percent of GDP"
          ],
          [
           "Net incurrence of liabilities",
           "Extrabudgetary central government",
           "Domestic currency"
          ],
          [
           "Stock position liabilities",
           "Budgetary central government",
           "Percent of GDP"
          ],
          [
           "Net incurrence of liabilities",
           "Central government (incl. social security funds)",
           "Percent of GDP"
          ],
          [
           "Net incurrence of liabilities",
           "Extrabudgetary central government",
           "Percent of GDP"
          ],
          [
           "Net incurrence of liabilities",
           "Local governments",
           "Domestic currency"
          ],
          [
           "Net incurrence of liabilities",
           "Extrabudgetary central government",
           "Percent of GDP"
          ],
          [
           "Net incurrence of liabilities",
           "Social security funds",
           "Domestic currency"
          ],
          [
           "Net incurrence of liabilities",
           "Central government (incl. social security funds)",
           "Percent of GDP"
          ],
          [
           "Net incurrence of liabilities",
           "Extrabudgetary central government",
           "Percent of GDP"
          ],
          [
           "Net incurrence of liabilities",
           "Extrabudgetary central government",
           "Percent of GDP"
          ],
          [
           "Net incurrence of liabilities",
           "Extrabudgetary central government",
           "Percent of GDP"
          ],
          [
           "Net incurrence of liabilities",
           "Local governments",
           "Domestic currency"
          ],
          [
           "Net incurrence of liabilities",
           "Extrabudgetary central government",
           "Percent of GDP"
          ],
          [
           "Stock position liabilities",
           "General government",
           "Domestic currency"
          ],
          [
           "Net incurrence of liabilities",
           "Local governments",
           "Percent of GDP"
          ],
          [
           "Stock position liabilities",
           "Extrabudgetary central government",
           "Percent of GDP"
          ],
          [
           "Stock position liabilities",
           "General government",
           "Percent of GDP"
          ],
          [
           "Stock position liabilities",
           "Extrabudgetary central government",
           "Percent of GDP"
          ],
          [
           "Net incurrence of liabilities",
           "Social security funds",
           "Percent of GDP"
          ],
          [
           "Net incurrence of liabilities",
           "Extrabudgetary central government",
           "Percent of GDP"
          ],
          [
           "Stock position liabilities",
           "General government",
           "Domestic currency"
          ],
          [
           "Stock position liabilities",
           "General government",
           "Domestic currency"
          ],
          [
           "Stock position liabilities",
           "General government",
           "Percent of GDP"
          ],
          [
           "Stock position liabilities",
           "General government",
           "Percent of GDP"
          ],
          [
           "Net incurrence of liabilities",
           "Local governments",
           "Percent of GDP"
          ],
          [
           "Net incurrence of liabilities",
           "Budgetary central government",
           "Domestic currency"
          ],
          [
           "Stock position liabilities",
           "Social security funds",
           "Domestic currency"
          ],
          [
           "Net incurrence of liabilities",
           "Local governments",
           "Domestic currency"
          ],
          [
           "Stock position liabilities",
           "General government",
           "Domestic currency"
          ],
          [
           "Stock position liabilities",
           "General government",
           "Percent of GDP"
          ],
          [
           "Net incurrence of liabilities",
           "Budgetary central government",
           "Percent of GDP"
          ],
          [
           "Stock position liabilities",
           "General government",
           "Domestic currency"
          ],
          [
           "Stock position liabilities",
           "Social security funds",
           "Percent of GDP"
          ],
          [
           "Stock position liabilities",
           "General government",
           "Percent of GDP"
          ],
          [
           "Net incurrence of liabilities",
           "Local governments",
           "Percent of GDP"
          ],
          [
           "Stock position liabilities",
           "Social security funds",
           "Domestic currency"
          ],
          [
           "Stock position liabilities",
           "Social security funds",
           "Domestic currency"
          ],
          [
           "Stock position liabilities",
           "Social security funds",
           "Percent of GDP"
          ],
          [
           "Stock position liabilities",
           "Social security funds",
           "Domestic currency"
          ],
          [
           "Stock position liabilities",
           "Social security funds",
           "Percent of GDP"
          ],
          [
           "Other economic flows in liabilities",
           "Local governments",
           "Domestic currency"
          ],
          [
           "Other economic flows in liabilities",
           "Local governments",
           "Percent of GDP"
          ],
          [
           "Stock position liabilities",
           "Central government (excl. social security funds)",
           "Domestic currency"
          ],
          [
           "Stock position liabilities",
           "Social security funds",
           "Percent of GDP"
          ],
          [
           "Stock position liabilities",
           "Central government (excl. social security funds)",
           "Percent of GDP"
          ],
          [
           "Stock position liabilities",
           "Social security funds",
           "Domestic currency"
          ],
          [
           "Stock position liabilities",
           "Local governments",
           "Domestic currency"
          ],
          [
           "Stock position liabilities",
           "Local governments",
           "Percent of GDP"
          ],
          [
           "Stock position liabilities",
           "Social security funds",
           "Percent of GDP"
          ],
          [
           "Stock position liabilities",
           "Central government (excl. social security funds)",
           "Domestic currency"
          ],
          [
           "Stock position liabilities",
           "Budgetary central government",
           "Domestic currency"
          ],
          [
           "Stock position liabilities",
           "Central government (excl. social security funds)",
           "Domestic currency"
          ],
          [
           "Stock position liabilities",
           "Central government (excl. social security funds)",
           "Percent of GDP"
          ],
          [
           "Stock position liabilities",
           "Budgetary central government",
           "Domestic currency"
          ],
          [
           "Stock position liabilities",
           "Budgetary central government",
           "Domestic currency"
          ],
          [
           "Stock position liabilities",
           "Budgetary central government",
           "Domestic currency"
          ],
          [
           "Stock position liabilities",
           "Budgetary central government",
           "Domestic currency"
          ],
          [
           "Other economic flows in liabilities",
           "General government",
           "Domestic currency"
          ],
          [
           "Stock position liabilities",
           "Central government (excl. social security funds)",
           "Percent of GDP"
          ],
          [
           "Stock position liabilities",
           "Budgetary central government",
           "Percent of GDP"
          ],
          [
           "Stock position liabilities",
           "Budgetary central government",
           "Domestic currency"
          ],
          [
           "Stock position liabilities",
           "Budgetary central government",
           "Percent of GDP"
          ],
          [
           "Stock position liabilities",
           "Budgetary central government",
           "Percent of GDP"
          ],
          [
           "Other economic flows in liabilities",
           "General government",
           "Percent of GDP"
          ],
          [
           "Stock position liabilities",
           "Budgetary central government",
           "Domestic currency"
          ],
          [
           "Stock position liabilities",
           "Budgetary central government",
           "Percent of GDP"
          ],
          [
           "Other economic flows in liabilities",
           "Local governments",
           "Domestic currency"
          ],
          [
           "Other economic flows in liabilities",
           "Local governments",
           "Percent of GDP"
          ],
          [
           "Stock position liabilities",
           "Budgetary central government",
           "Domestic currency"
          ],
          [
           "Stock position liabilities",
           "Budgetary central government",
           "Domestic currency"
          ],
          [
           "Stock position liabilities",
           "Budgetary central government",
           "Percent of GDP"
          ],
          [
           "Stock position liabilities",
           "Budgetary central government",
           "Percent of GDP"
          ],
          [
           "Stock position liabilities",
           "Budgetary central government",
           "Percent of GDP"
          ],
          [
           "Stock position liabilities",
           "Central government (incl. social security funds)",
           "Domestic currency"
          ],
          [
           "Stock position liabilities",
           "Budgetary central government",
           "Domestic currency"
          ],
          [
           "Stock position liabilities",
           "Budgetary central government",
           "Percent of GDP"
          ],
          [
           "Stock position liabilities",
           "Budgetary central government",
           "Domestic currency"
          ],
          [
           "Stock position liabilities",
           "Budgetary central government",
           "Percent of GDP"
          ],
          [
           "Stock position liabilities",
           "Central government (excl. social security funds)",
           "Domestic currency"
          ],
          [
           "Stock position liabilities",
           "Central government (excl. social security funds)",
           "Percent of GDP"
          ],
          [
           "Stock position liabilities",
           "Budgetary central government",
           "Percent of GDP"
          ],
          [
           "Stock position liabilities",
           "Budgetary central government",
           "Domestic currency"
          ],
          [
           "Stock position liabilities",
           "Budgetary central government",
           "Percent of GDP"
          ],
          [
           "Other economic flows in liabilities",
           "Central government (excl. social security funds)",
           "Domestic currency"
          ],
          [
           "Other economic flows in liabilities",
           "Central government (excl. social security funds)",
           "Percent of GDP"
          ],
          [
           "Other economic flows in liabilities",
           "Local governments",
           "Domestic currency"
          ],
          [
           "Other economic flows in liabilities",
           "Local governments",
           "Percent of GDP"
          ],
          [
           "Other economic flows in liabilities",
           "Local governments",
           "Domestic currency"
          ],
          [
           "Other economic flows in liabilities",
           "Local governments",
           "Percent of GDP"
          ],
          [
           "Stock position liabilities",
           "Budgetary central government",
           "Domestic currency"
          ],
          [
           "Stock position liabilities",
           "Budgetary central government",
           "Domestic currency"
          ],
          [
           "Stock position liabilities",
           "Budgetary central government",
           "Percent of GDP"
          ],
          [
           "Stock position liabilities",
           "Budgetary central government",
           "Percent of GDP"
          ],
          [
           "Stock position liabilities",
           "Budgetary central government",
           "Domestic currency"
          ],
          [
           "Other economic flows in liabilities",
           "General government",
           "Domestic currency"
          ],
          [
           "Stock position liabilities",
           "Budgetary central government",
           "Percent of GDP"
          ],
          [
           "Stock position liabilities",
           "Central government (incl. social security funds)",
           "Percent of GDP"
          ],
          [
           "Other economic flows in liabilities",
           "General government",
           "Domestic currency"
          ],
          [
           "Other economic flows in liabilities",
           "General government",
           "Percent of GDP"
          ],
          [
           "Other economic flows in liabilities",
           "General government",
           "Percent of GDP"
          ],
          [
           "Stock position liabilities",
           "Social security funds",
           "Domestic currency"
          ],
          [
           "Other economic flows in liabilities",
           "Local governments",
           "Percent of GDP"
          ],
          [
           "Other economic flows in liabilities",
           "Local governments",
           "Domestic currency"
          ],
          [
           "Stock position liabilities",
           "General government",
           "Domestic currency"
          ],
          [
           "Stock position liabilities",
           "General government",
           "Percent of GDP"
          ],
          [
           "Stock position liabilities",
           "Social security funds",
           "Percent of GDP"
          ],
          [
           "Other economic flows in liabilities",
           "Local governments",
           "Domestic currency"
          ],
          [
           "Other economic flows in liabilities",
           "Local governments",
           "Percent of GDP"
          ],
          [
           "Other economic flows in liabilities",
           "Local governments",
           "Domestic currency"
          ],
          [
           "Other economic flows in liabilities",
           "Local governments",
           "Percent of GDP"
          ],
          [
           "Other economic flows in liabilities",
           "General government",
           "Domestic currency"
          ],
          [
           "Other economic flows in liabilities",
           "Local governments",
           "Percent of GDP"
          ],
          [
           "Other economic flows in liabilities",
           "Local governments",
           "Domestic currency"
          ],
          [
           "Stock position liabilities",
           "Central government (excl. social security funds)",
           "Domestic currency"
          ],
          [
           "Other economic flows in liabilities",
           "General government",
           "Percent of GDP"
          ],
          [
           "Stock position liabilities",
           "Budgetary central government",
           "Percent of GDP"
          ],
          [
           "Stock position liabilities",
           "Budgetary central government",
           "Domestic currency"
          ],
          [
           "Stock position liabilities",
           "Central government (excl. social security funds)",
           "Percent of GDP"
          ],
          [
           "Stock position liabilities",
           "Local governments",
           "Domestic currency"
          ],
          [
           "Other economic flows in liabilities",
           "Local governments",
           "Domestic currency"
          ],
          [
           "Other economic flows in liabilities",
           "Local governments",
           "Percent of GDP"
          ],
          [
           "Stock position liabilities",
           "Budgetary central government",
           "Domestic currency"
          ],
          [
           "Stock position liabilities",
           "Budgetary central government",
           "Percent of GDP"
          ],
          [
           "Other economic flows in liabilities",
           "General government",
           "Domestic currency"
          ],
          [
           "Stock position liabilities",
           "Budgetary central government",
           "Percent of GDP"
          ],
          [
           "Other economic flows in liabilities",
           "General government",
           "Domestic currency"
          ],
          [
           "Stock position liabilities",
           "Local governments",
           "Percent of GDP"
          ],
          [
           "Other economic flows in liabilities",
           "General government",
           "Percent of GDP"
          ],
          [
           "Other economic flows in liabilities",
           "General government",
           "Domestic currency"
          ],
          [
           "Stock position liabilities",
           "Local governments",
           "Domestic currency"
          ],
          [
           "Other economic flows in liabilities",
           "General government",
           "Percent of GDP"
          ],
          [
           "Stock position liabilities",
           "Local governments",
           "Percent of GDP"
          ],
          [
           "Other economic flows in liabilities",
           "General government",
           "Domestic currency"
          ],
          [
           "Other economic flows in liabilities",
           "General government",
           "Percent of GDP"
          ],
          [
           "Other economic flows in liabilities",
           "Central government (excl. social security funds)",
           "Domestic currency"
          ],
          [
           "Other economic flows in liabilities",
           "General government",
           "Percent of GDP"
          ],
          [
           "Other economic flows in liabilities",
           "Central government (excl. social security funds)",
           "Domestic currency"
          ],
          [
           "Other economic flows in liabilities",
           "Central government (excl. social security funds)",
           "Percent of GDP"
          ],
          [
           "Other economic flows in liabilities",
           "General government",
           "Domestic currency"
          ],
          [
           "Stock position liabilities",
           "Budgetary central government",
           "Domestic currency"
          ],
          [
           "Other economic flows in liabilities",
           "Central government (excl. social security funds)",
           "Percent of GDP"
          ],
          [
           "Other economic flows in liabilities",
           "Central government (excl. social security funds)",
           "Domestic currency"
          ],
          [
           "Other economic flows in liabilities",
           "General government",
           "Percent of GDP"
          ],
          [
           "Stock position liabilities",
           "Budgetary central government",
           "Percent of GDP"
          ],
          [
           "Other economic flows in liabilities",
           "Central government (excl. social security funds)",
           "Domestic currency"
          ],
          [
           "Other economic flows in liabilities",
           "Central government (excl. social security funds)",
           "Percent of GDP"
          ],
          [
           "Other economic flows in liabilities",
           "Central government (excl. social security funds)",
           "Percent of GDP"
          ],
          [
           "Other economic flows in liabilities",
           "Central government (excl. social security funds)",
           "Domestic currency"
          ],
          [
           "Stock position liabilities",
           "Central government (incl. social security funds)",
           "Domestic currency"
          ],
          [
           "Other economic flows in liabilities",
           "Central government (excl. social security funds)",
           "Percent of GDP"
          ],
          [
           "Other economic flows in liabilities",
           "Central government (excl. social security funds)",
           "Domestic currency"
          ],
          [
           "Other economic flows in liabilities",
           "Central government (excl. social security funds)",
           "Domestic currency"
          ],
          [
           "Other economic flows in liabilities",
           "Central government (excl. social security funds)",
           "Domestic currency"
          ],
          [
           "Other economic flows in liabilities",
           "Central government (excl. social security funds)",
           "Percent of GDP"
          ],
          [
           "Other economic flows in liabilities",
           "Central government (excl. social security funds)",
           "Percent of GDP"
          ],
          [
           "Other economic flows in liabilities",
           "Central government (excl. social security funds)",
           "Percent of GDP"
          ],
          [
           "Holding gains and losses in liabilities",
           "Local governments",
           "Domestic currency"
          ],
          [
           "Holding gains and losses in liabilities",
           "Local governments",
           "Percent of GDP"
          ],
          [
           "Volume changes in liabilities",
           "Local governments",
           "Domestic currency"
          ],
          [
           "Other economic flows in liabilities",
           "Social security funds",
           "Domestic currency"
          ],
          [
           "Other economic flows in liabilities",
           "Social security funds",
           "Percent of GDP"
          ],
          [
           "Volume changes in liabilities",
           "Local governments",
           "Percent of GDP"
          ],
          [
           "Stock position liabilities",
           "Central government (incl. social security funds)",
           "Percent of GDP"
          ],
          [
           "Stock position liabilities",
           "Local governments",
           "Domestic currency"
          ],
          [
           "Stock position liabilities",
           "Local governments",
           "Percent of GDP"
          ],
          [
           "Stock position liabilities",
           "General government",
           "Domestic currency"
          ],
          [
           "Stock position liabilities",
           "General government",
           "Percent of GDP"
          ],
          [
           "Stock position liabilities",
           "General government",
           "Domestic currency"
          ],
          [
           "Stock position liabilities",
           "General government",
           "Percent of GDP"
          ],
          [
           "Net incurrence of liabilities",
           "Extrabudgetary central government",
           "Domestic currency"
          ],
          [
           "Net incurrence of liabilities",
           "Central government (incl. social security funds)",
           "Domestic currency"
          ],
          [
           "Net incurrence of liabilities",
           "Central government (incl. social security funds)",
           "Percent of GDP"
          ],
          [
           "Net incurrence of liabilities",
           "Extrabudgetary central government",
           "Domestic currency"
          ],
          [
           "Other economic flows in liabilities",
           "Social security funds",
           "Domestic currency"
          ],
          [
           "Other economic flows in liabilities",
           "Social security funds",
           "Percent of GDP"
          ],
          [
           "Net incurrence of liabilities",
           "Extrabudgetary central government",
           "Domestic currency"
          ],
          [
           "Net incurrence of liabilities",
           "Extrabudgetary central government",
           "Domestic currency"
          ],
          [
           "Net incurrence of liabilities",
           "Social security funds",
           "Domestic currency"
          ],
          [
           "Net incurrence of liabilities",
           "Extrabudgetary central government",
           "Percent of GDP"
          ],
          [
           "Net incurrence of liabilities",
           "Extrabudgetary central government",
           "Domestic currency"
          ],
          [
           "Other economic flows in liabilities",
           "Social security funds",
           "Domestic currency"
          ],
          [
           "Other economic flows in liabilities",
           "Social security funds",
           "Domestic currency"
          ],
          [
           "Other economic flows in liabilities",
           "Social security funds",
           "Percent of GDP"
          ],
          [
           "Other economic flows in liabilities",
           "Social security funds",
           "Percent of GDP"
          ],
          [
           "Net incurrence of liabilities",
           "Extrabudgetary central government",
           "Domestic currency"
          ],
          [
           "Net incurrence of liabilities",
           "Extrabudgetary central government",
           "Percent of GDP"
          ],
          [
           "Net incurrence of liabilities",
           "Social security funds",
           "Percent of GDP"
          ],
          [
           "Net incurrence of liabilities",
           "Extrabudgetary central government",
           "Percent of GDP"
          ],
          [
           "Other economic flows in liabilities",
           "Social security funds",
           "Domestic currency"
          ],
          [
           "Other economic flows in liabilities",
           "Social security funds",
           "Percent of GDP"
          ],
          [
           "Net incurrence of liabilities",
           "Extrabudgetary central government",
           "Percent of GDP"
          ],
          [
           "Net incurrence of liabilities",
           "Extrabudgetary central government",
           "Percent of GDP"
          ],
          [
           "Other economic flows in liabilities",
           "Social security funds",
           "Domestic currency"
          ],
          [
           "Other economic flows in liabilities",
           "Social security funds",
           "Domestic currency"
          ],
          [
           "Other economic flows in liabilities",
           "Social security funds",
           "Percent of GDP"
          ],
          [
           "Other economic flows in liabilities",
           "Social security funds",
           "Percent of GDP"
          ],
          [
           "Net incurrence of liabilities",
           "Extrabudgetary central government",
           "Percent of GDP"
          ],
          [
           "Other economic flows in liabilities",
           "Social security funds",
           "Domestic currency"
          ],
          [
           "Other economic flows in liabilities",
           "Social security funds",
           "Percent of GDP"
          ],
          [
           "Other economic flows in liabilities",
           "Social security funds",
           "Domestic currency"
          ],
          [
           "Other economic flows in liabilities",
           "Social security funds",
           "Percent of GDP"
          ],
          [
           "Holding gains and losses in liabilities",
           "Social security funds",
           "Domestic currency"
          ],
          [
           "Net incurrence of liabilities",
           "Social security funds",
           "Domestic currency"
          ],
          [
           "Holding gains and losses in liabilities",
           "Social security funds",
           "Percent of GDP"
          ],
          [
           "Net incurrence of liabilities",
           "Social security funds",
           "Percent of GDP"
          ],
          [
           "Volume changes in liabilities",
           "Social security funds",
           "Domestic currency"
          ],
          [
           "Volume changes in liabilities",
           "Social security funds",
           "Percent of GDP"
          ],
          [
           "Stock position liabilities",
           "Local governments",
           "Domestic currency"
          ],
          [
           "Stock position liabilities",
           "Central government (incl. social security funds)",
           "Domestic currency"
          ],
          [
           "Stock position liabilities",
           "Local governments",
           "Domestic currency"
          ],
          [
           "Stock position liabilities",
           "Central government (incl. social security funds)",
           "Domestic currency"
          ],
          [
           "Stock position liabilities",
           "Central government (incl. social security funds)",
           "Percent of GDP"
          ],
          [
           "Stock position liabilities",
           "Central government (incl. social security funds)",
           "Percent of GDP"
          ],
          [
           "Stock position liabilities",
           "Local governments",
           "Percent of GDP"
          ],
          [
           "Stock position liabilities",
           "Local governments",
           "Percent of GDP"
          ],
          [
           "Net incurrence of liabilities",
           "Extrabudgetary central government",
           "Domestic currency"
          ],
          [
           "Net incurrence of liabilities",
           "Central government (excl. social security funds)",
           "Domestic currency"
          ],
          [
           "Stock position liabilities",
           "Central government (excl. social security funds)",
           "Domestic currency"
          ],
          [
           "Stock position liabilities",
           "Central government (incl. social security funds)",
           "Domestic currency"
          ],
          [
           "Stock position liabilities",
           "Central government (excl. social security funds)",
           "Percent of GDP"
          ],
          [
           "Stock position liabilities",
           "Central government (incl. social security funds)",
           "Percent of GDP"
          ],
          [
           "Stock position liabilities",
           "Central government (incl. social security funds)",
           "Domestic currency"
          ],
          [
           "Stock position liabilities",
           "Central government (incl. social security funds)",
           "Percent of GDP"
          ],
          [
           "Net incurrence of liabilities",
           "Extrabudgetary central government",
           "Domestic currency"
          ],
          [
           "Stock position liabilities",
           "Central government (incl. social security funds)",
           "Domestic currency"
          ],
          [
           "Net incurrence of liabilities",
           "Central government (excl. social security funds)",
           "Percent of GDP"
          ],
          [
           "Net incurrence of liabilities",
           "Extrabudgetary central government",
           "Domestic currency"
          ],
          [
           "Stock position liabilities",
           "Central government (incl. social security funds)",
           "Domestic currency"
          ],
          [
           "Net incurrence of liabilities",
           "Extrabudgetary central government",
           "Percent of GDP"
          ],
          [
           "Stock position liabilities",
           "Central government (incl. social security funds)",
           "Percent of GDP"
          ],
          [
           "Stock position liabilities",
           "Central government (incl. social security funds)",
           "Percent of GDP"
          ],
          [
           "Net incurrence of liabilities",
           "Extrabudgetary central government",
           "Domestic currency"
          ],
          [
           "Net incurrence of liabilities",
           "Extrabudgetary central government",
           "Domestic currency"
          ],
          [
           "Stock position liabilities",
           "Central government (incl. social security funds)",
           "Domestic currency"
          ],
          [
           "Stock position liabilities",
           "Central government (excl. social security funds)",
           "Domestic currency"
          ],
          [
           "Net incurrence of liabilities",
           "Extrabudgetary central government",
           "Domestic currency"
          ],
          [
           "Net incurrence of liabilities",
           "Extrabudgetary central government",
           "Domestic currency"
          ],
          [
           "Stock position liabilities",
           "Central government (excl. social security funds)",
           "Percent of GDP"
          ],
          [
           "Net incurrence of liabilities",
           "Extrabudgetary central government",
           "Domestic currency"
          ],
          [
           "Net incurrence of liabilities",
           "Local governments",
           "Domestic currency"
          ],
          [
           "Net incurrence of liabilities",
           "Extrabudgetary central government",
           "Percent of GDP"
          ],
          [
           "Stock position liabilities",
           "Central government (incl. social security funds)",
           "Percent of GDP"
          ],
          [
           "Net incurrence of liabilities",
           "Extrabudgetary central government",
           "Percent of GDP"
          ],
          [
           "Stock position liabilities",
           "General government",
           "Domestic currency"
          ],
          [
           "Stock position liabilities",
           "General government",
           "Domestic currency"
          ],
          [
           "Net incurrence of liabilities",
           "Central government (excl. social security funds)",
           "Domestic currency"
          ],
          [
           "Stock position liabilities",
           "General government",
           "Percent of GDP"
          ],
          [
           "Net incurrence of liabilities",
           "General government",
           "Domestic currency"
          ],
          [
           "Stock position liabilities",
           "General government",
           "Percent of GDP"
          ],
          [
           "Net incurrence of liabilities",
           "Local governments",
           "Percent of GDP"
          ],
          [
           "Stock position liabilities",
           "Central government (incl. social security funds)",
           "Domestic currency"
          ],
          [
           "Net incurrence of liabilities",
           "General government",
           "Percent of GDP"
          ],
          [
           "Stock position liabilities",
           "Central government (incl. social security funds)",
           "Percent of GDP"
          ],
          [
           "Net incurrence of liabilities",
           "Central government (excl. social security funds)",
           "Percent of GDP"
          ],
          [
           "Stock position liabilities",
           "Social security funds",
           "Domestic currency"
          ],
          [
           "Stock position liabilities",
           "Social security funds",
           "Percent of GDP"
          ],
          [
           "Net incurrence of liabilities",
           "Extrabudgetary central government",
           "Percent of GDP"
          ],
          [
           "Net incurrence of liabilities",
           "Extrabudgetary central government",
           "Percent of GDP"
          ],
          [
           "Net incurrence of liabilities",
           "Extrabudgetary central government",
           "Percent of GDP"
          ],
          [
           "Stock position liabilities",
           "General government",
           "Domestic currency"
          ],
          [
           "Net incurrence of liabilities",
           "Extrabudgetary central government",
           "Percent of GDP"
          ],
          [
           "Net incurrence of liabilities",
           "Extrabudgetary central government",
           "Percent of GDP"
          ],
          [
           "Stock position liabilities",
           "General government",
           "Percent of GDP"
          ],
          [
           "Stock position liabilities",
           "Social security funds",
           "Domestic currency"
          ],
          [
           "Net incurrence of liabilities",
           "Local governments",
           "Domestic currency"
          ],
          [
           "Stock position liabilities",
           "Local governments",
           "Domestic currency"
          ],
          [
           "Stock position liabilities",
           "Local governments",
           "Percent of GDP"
          ],
          [
           "Stock position liabilities",
           "Social security funds",
           "Percent of GDP"
          ],
          [
           "Stock position liabilities",
           "General government",
           "Domestic currency"
          ],
          [
           "Stock position liabilities",
           "General government",
           "Percent of GDP"
          ],
          [
           "Net incurrence of liabilities",
           "Local governments",
           "Percent of GDP"
          ],
          [
           "Stock position liabilities",
           "Central government (incl. social security funds)",
           "Domestic currency"
          ],
          [
           "Stock position liabilities",
           "Central government (incl. social security funds)",
           "Percent of GDP"
          ],
          [
           "Stock position liabilities",
           "Central government (incl. social security funds)",
           "Domestic currency"
          ],
          [
           "Stock position liabilities",
           "Central government (incl. social security funds)",
           "Percent of GDP"
          ],
          [
           "Stock position liabilities",
           "Social security funds",
           "Domestic currency"
          ],
          [
           "Stock position liabilities",
           "Social security funds",
           "Percent of GDP"
          ],
          [
           "Stock position liabilities",
           "General government",
           "Domestic currency"
          ],
          [
           "Stock position liabilities",
           "Central government (incl. social security funds)",
           "Domestic currency"
          ],
          [
           "Stock position liabilities",
           "General government",
           "Percent of GDP"
          ],
          [
           "Net incurrence of liabilities",
           "General government",
           "Domestic currency"
          ],
          [
           "Stock position liabilities",
           "Social security funds",
           "Domestic currency"
          ],
          [
           "Stock position liabilities",
           "Central government (incl. social security funds)",
           "Percent of GDP"
          ],
          [
           "Stock position liabilities",
           "General government",
           "Domestic currency"
          ],
          [
           "Stock position liabilities",
           "Social security funds",
           "Percent of GDP"
          ],
          [
           "Stock position liabilities",
           "General government",
           "Percent of GDP"
          ],
          [
           "Net incurrence of liabilities",
           "Central government (incl. social security funds)",
           "Domestic currency"
          ],
          [
           "Net incurrence of liabilities",
           "General government",
           "Percent of GDP"
          ],
          [
           "Net incurrence of liabilities",
           "Central government (incl. social security funds)",
           "Percent of GDP"
          ],
          [
           "Stock position liabilities",
           "Local governments",
           "Domestic currency"
          ],
          [
           "Stock position liabilities",
           "Local governments",
           "Percent of GDP"
          ],
          [
           "Stock position liabilities",
           "Central government (incl. social security funds)",
           "Domestic currency"
          ],
          [
           "Stock position liabilities",
           "Budgetary central government",
           "Domestic currency"
          ],
          [
           "Stock position liabilities",
           "Budgetary central government",
           "Domestic currency"
          ],
          [
           "Stock position liabilities",
           "Central government (incl. social security funds)",
           "Domestic currency"
          ],
          [
           "Net incurrence of liabilities",
           "State governments",
           "Domestic currency"
          ],
          [
           "Stock position liabilities",
           "Central government (incl. social security funds)",
           "Percent of GDP"
          ],
          [
           "Stock position liabilities",
           "Central government (incl. social security funds)",
           "Percent of GDP"
          ],
          [
           "Stock position liabilities",
           "Central government (incl. social security funds)",
           "Domestic currency"
          ],
          [
           "Stock position liabilities",
           "Central government (incl. social security funds)",
           "Percent of GDP"
          ],
          [
           "Stock position liabilities",
           "Budgetary central government",
           "Percent of GDP"
          ],
          [
           "Stock position liabilities",
           "Budgetary central government",
           "Percent of GDP"
          ],
          [
           "Stock position liabilities",
           "Budgetary central government",
           "Domestic currency"
          ],
          [
           "Stock position liabilities",
           "Central government (incl. social security funds)",
           "Domestic currency"
          ],
          [
           "Stock position liabilities",
           "Central government (incl. social security funds)",
           "Domestic currency"
          ],
          [
           "Stock position liabilities",
           "Central government (incl. social security funds)",
           "Percent of GDP"
          ],
          [
           "Stock position liabilities",
           "Central government (incl. social security funds)",
           "Percent of GDP"
          ],
          [
           "Stock position liabilities",
           "Budgetary central government",
           "Percent of GDP"
          ],
          [
           "Stock position liabilities",
           "Central government (incl. social security funds)",
           "Domestic currency"
          ],
          [
           "Stock position liabilities",
           "Budgetary central government",
           "Domestic currency"
          ],
          [
           "Net incurrence of liabilities",
           "State governments",
           "Percent of GDP"
          ],
          [
           "Stock position liabilities",
           "Central government (incl. social security funds)",
           "Percent of GDP"
          ],
          [
           "Stock position liabilities",
           "Social security funds",
           "Domestic currency"
          ],
          [
           "Stock position liabilities",
           "Social security funds",
           "Percent of GDP"
          ],
          [
           "Stock position liabilities",
           "Extrabudgetary central government",
           "Domestic currency"
          ],
          [
           "Stock position liabilities",
           "Extrabudgetary central government",
           "Domestic currency"
          ],
          [
           "Stock position liabilities",
           "Budgetary central government",
           "Percent of GDP"
          ],
          [
           "Stock position liabilities",
           "Central government (excl. social security funds)",
           "Domestic currency"
          ],
          [
           "Stock position liabilities",
           "Central government (excl. social security funds)",
           "Percent of GDP"
          ],
          [
           "Stock position liabilities",
           "Budgetary central government",
           "Domestic currency"
          ],
          [
           "Net incurrence of liabilities",
           "Central government (incl. social security funds)",
           "Domestic currency"
          ],
          [
           "Stock position liabilities",
           "Budgetary central government",
           "Domestic currency"
          ],
          [
           "Stock position liabilities",
           "Central government (incl. social security funds)",
           "Domestic currency"
          ],
          [
           "Stock position liabilities",
           "Central government (incl. social security funds)",
           "Percent of GDP"
          ],
          [
           "Stock position liabilities",
           "Extrabudgetary central government",
           "Domestic currency"
          ],
          [
           "Stock position liabilities",
           "Central government (excl. social security funds)",
           "Domestic currency"
          ],
          [
           "Net incurrence of liabilities",
           "Central government (incl. social security funds)",
           "Percent of GDP"
          ],
          [
           "Stock position liabilities",
           "Central government (excl. social security funds)",
           "Percent of GDP"
          ],
          [
           "Stock position liabilities",
           "Extrabudgetary central government",
           "Percent of GDP"
          ],
          [
           "Stock position liabilities",
           "Central government (incl. social security funds)",
           "Domestic currency"
          ],
          [
           "Stock position liabilities",
           "Extrabudgetary central government",
           "Percent of GDP"
          ],
          [
           "Stock position liabilities",
           "Central government (incl. social security funds)",
           "Percent of GDP"
          ],
          [
           "Stock position liabilities",
           "Budgetary central government",
           "Percent of GDP"
          ],
          [
           "Stock position liabilities",
           "Budgetary central government",
           "Percent of GDP"
          ],
          [
           "Stock position liabilities",
           "Extrabudgetary central government",
           "Percent of GDP"
          ],
          [
           "Stock position liabilities",
           "Central government (excl. social security funds)",
           "Domestic currency"
          ],
          [
           "Stock position liabilities",
           "Central government (excl. social security funds)",
           "Percent of GDP"
          ],
          [
           "Stock position liabilities",
           "General government",
           "Domestic currency"
          ],
          [
           "Stock position liabilities",
           "General government",
           "Percent of GDP"
          ],
          [
           "Stock position liabilities",
           "General government",
           "Domestic currency"
          ],
          [
           "Stock position liabilities",
           "General government",
           "Percent of GDP"
          ],
          [
           "Stock position liabilities",
           "Local governments",
           "Domestic currency"
          ],
          [
           "Net incurrence of liabilities",
           "State governments",
           "Domestic currency"
          ],
          [
           "Stock position liabilities",
           "Local governments",
           "Percent of GDP"
          ],
          [
           "Stock position liabilities",
           "Local governments",
           "Domestic currency"
          ],
          [
           "Stock position liabilities",
           "Local governments",
           "Percent of GDP"
          ],
          [
           "Net incurrence of liabilities",
           "State governments",
           "Domestic currency"
          ],
          [
           "Stock position liabilities",
           "Local governments",
           "Domestic currency"
          ],
          [
           "Stock position liabilities",
           "Local governments",
           "Percent of GDP"
          ],
          [
           "Net incurrence of liabilities",
           "State governments",
           "Domestic currency"
          ],
          [
           "Net incurrence of liabilities",
           "State governments",
           "Domestic currency"
          ],
          [
           "Net incurrence of liabilities",
           "State governments",
           "Percent of GDP"
          ],
          [
           "Stock position liabilities",
           "Central government (excl. social security funds)",
           "Domestic currency"
          ],
          [
           "Net incurrence of liabilities",
           "State governments",
           "Percent of GDP"
          ],
          [
           "Net incurrence of liabilities",
           "State governments",
           "Domestic currency"
          ],
          [
           "Stock position liabilities",
           "Central government (excl. social security funds)",
           "Percent of GDP"
          ],
          [
           "Net incurrence of liabilities",
           "State governments",
           "Percent of GDP"
          ],
          [
           "Net incurrence of liabilities",
           "State governments",
           "Percent of GDP"
          ],
          [
           "Stock position liabilities",
           "General government",
           "Domestic currency"
          ],
          [
           "Net incurrence of liabilities",
           "State governments",
           "Domestic currency"
          ],
          [
           "Net incurrence of liabilities",
           "State governments",
           "Domestic currency"
          ],
          [
           "Net incurrence of liabilities",
           "State governments",
           "Percent of GDP"
          ],
          [
           "Stock position liabilities",
           "General government",
           "Percent of GDP"
          ],
          [
           "Net incurrence of liabilities",
           "State governments",
           "Domestic currency"
          ],
          [
           "Stock position liabilities",
           "Local governments",
           "Domestic currency"
          ],
          [
           "Stock position liabilities",
           "Local governments",
           "Percent of GDP"
          ],
          [
           "Net incurrence of liabilities",
           "State governments",
           "Domestic currency"
          ],
          [
           "Net incurrence of liabilities",
           "State governments",
           "Percent of GDP"
          ],
          [
           "Net incurrence of liabilities",
           "State governments",
           "Percent of GDP"
          ],
          [
           "Net incurrence of liabilities",
           "State governments",
           "Percent of GDP"
          ],
          [
           "Stock position liabilities",
           "Local governments",
           "Domestic currency"
          ],
          [
           "Stock position liabilities",
           "Local governments",
           "Percent of GDP"
          ],
          [
           "Stock position liabilities",
           "General government",
           "Domestic currency"
          ],
          [
           "Stock position liabilities",
           "General government",
           "Percent of GDP"
          ],
          [
           "Net incurrence of liabilities",
           "State governments",
           "Domestic currency"
          ],
          [
           "Stock position liabilities",
           "Central government (excl. social security funds)",
           "Domestic currency"
          ],
          [
           "Stock position liabilities",
           "Central government (excl. social security funds)",
           "Percent of GDP"
          ],
          [
           "Net incurrence of liabilities",
           "State governments",
           "Percent of GDP"
          ],
          [
           "Net incurrence of liabilities",
           "State governments",
           "Domestic currency"
          ],
          [
           "Net incurrence of liabilities",
           "State governments",
           "Percent of GDP"
          ],
          [
           "Net incurrence of liabilities",
           "Extrabudgetary central government",
           "Domestic currency"
          ],
          [
           "Net incurrence of liabilities",
           "State governments",
           "Domestic currency"
          ],
          [
           "Net incurrence of liabilities",
           "Extrabudgetary central government",
           "Percent of GDP"
          ],
          [
           "Volume changes in liabilities",
           "Social security funds",
           "Domestic currency"
          ],
          [
           "Net incurrence of liabilities",
           "State governments",
           "Percent of GDP"
          ],
          [
           "Volume changes in liabilities",
           "Social security funds",
           "Percent of GDP"
          ],
          [
           "Stock position liabilities",
           "Budgetary central government",
           "Domestic currency"
          ],
          [
           "Net incurrence of liabilities",
           "State governments",
           "Percent of GDP"
          ],
          [
           "Net incurrence of liabilities",
           "Extrabudgetary central government",
           "Domestic currency"
          ],
          [
           "Stock position liabilities",
           "Budgetary central government",
           "Percent of GDP"
          ],
          [
           "Net incurrence of liabilities",
           "Extrabudgetary central government",
           "Percent of GDP"
          ],
          [
           "Stock position liabilities",
           "Central government (incl. social security funds)",
           "Domestic currency"
          ],
          [
           "Stock position liabilities",
           "Central government (incl. social security funds)",
           "Percent of GDP"
          ],
          [
           "Stock position liabilities",
           "Central government (incl. social security funds)",
           "Domestic currency"
          ],
          [
           "Stock position liabilities",
           "Central government (incl. social security funds)",
           "Percent of GDP"
          ],
          [
           "Net incurrence of liabilities",
           "Extrabudgetary central government",
           "Domestic currency"
          ],
          [
           "Stock position liabilities",
           "General government",
           "Domestic currency"
          ],
          [
           "Net incurrence of liabilities",
           "State governments",
           "Domestic currency"
          ],
          [
           "Net incurrence of liabilities",
           "Extrabudgetary central government",
           "Percent of GDP"
          ],
          [
           "Stock position liabilities",
           "General government",
           "Percent of GDP"
          ],
          [
           "Holding gains and losses in liabilities",
           "Social security funds",
           "Domestic currency"
          ],
          [
           "Holding gains and losses in liabilities",
           "Social security funds",
           "Percent of GDP"
          ],
          [
           "Net incurrence of liabilities",
           "State governments",
           "Domestic currency"
          ],
          [
           "Net incurrence of liabilities",
           "State governments",
           "Domestic currency"
          ],
          [
           "Net incurrence of liabilities",
           "State governments",
           "Percent of GDP"
          ],
          [
           "Net incurrence of liabilities",
           "State governments",
           "Percent of GDP"
          ],
          [
           "Net incurrence of liabilities",
           "State governments",
           "Percent of GDP"
          ],
          [
           "Volume changes in liabilities",
           "Local governments",
           "Domestic currency"
          ],
          [
           "Volume changes in liabilities",
           "Local governments",
           "Percent of GDP"
          ],
          [
           "Net incurrence of liabilities",
           "State governments",
           "Domestic currency"
          ],
          [
           "Stock position liabilities",
           "Extrabudgetary central government",
           "Domestic currency"
          ],
          [
           "Net incurrence of liabilities",
           "State governments",
           "Percent of GDP"
          ],
          [
           "Stock position liabilities",
           "Extrabudgetary central government",
           "Domestic currency"
          ],
          [
           "Net incurrence of liabilities",
           "State governments",
           "Domestic currency"
          ],
          [
           "Net incurrence of liabilities",
           "State governments",
           "Domestic currency"
          ],
          [
           "Stock position liabilities",
           "Extrabudgetary central government",
           "Domestic currency"
          ],
          [
           "Stock position liabilities",
           "State governments",
           "Domestic currency"
          ],
          [
           "Net incurrence of liabilities",
           "State governments",
           "Domestic currency"
          ],
          [
           "Stock position liabilities",
           "State governments",
           "Percent of GDP"
          ],
          [
           "Stock position liabilities",
           "Extrabudgetary central government",
           "Percent of GDP"
          ],
          [
           "Stock position liabilities",
           "Extrabudgetary central government",
           "Domestic currency"
          ],
          [
           "Net incurrence of liabilities",
           "State governments",
           "Domestic currency"
          ],
          [
           "Net incurrence of liabilities",
           "State governments",
           "Domestic currency"
          ],
          [
           "Stock position liabilities",
           "Extrabudgetary central government",
           "Percent of GDP"
          ],
          [
           "Net incurrence of liabilities",
           "State governments",
           "Domestic currency"
          ],
          [
           "Net incurrence of liabilities",
           "State governments",
           "Percent of GDP"
          ],
          [
           "Net incurrence of liabilities",
           "State governments",
           "Percent of GDP"
          ],
          [
           "Net incurrence of liabilities",
           "State governments",
           "Domestic currency"
          ],
          [
           "Net incurrence of liabilities",
           "State governments",
           "Domestic currency"
          ],
          [
           "Stock position liabilities",
           "Extrabudgetary central government",
           "Percent of GDP"
          ],
          [
           "Net incurrence of liabilities",
           "State governments",
           "Percent of GDP"
          ],
          [
           "Holding gains and losses in liabilities",
           "Social security funds",
           "Domestic currency"
          ],
          [
           "Holding gains and losses in liabilities",
           "Social security funds",
           "Percent of GDP"
          ],
          [
           "Net incurrence of liabilities",
           "State governments",
           "Percent of GDP"
          ],
          [
           "Net incurrence of liabilities",
           "State governments",
           "Percent of GDP"
          ],
          [
           "Holding gains and losses in liabilities",
           "Social security funds",
           "Domestic currency"
          ],
          [
           "Net incurrence of liabilities",
           "State governments",
           "Percent of GDP"
          ],
          [
           "Holding gains and losses in liabilities",
           "Social security funds",
           "Percent of GDP"
          ],
          [
           "Net incurrence of liabilities",
           "State governments",
           "Percent of GDP"
          ],
          [
           "Stock position liabilities",
           "Extrabudgetary central government",
           "Domestic currency"
          ],
          [
           "Stock position liabilities",
           "Central government (incl. social security funds)",
           "Domestic currency"
          ],
          [
           "Stock position liabilities",
           "Extrabudgetary central government",
           "Percent of GDP"
          ],
          [
           "Stock position liabilities",
           "Extrabudgetary central government",
           "Percent of GDP"
          ],
          [
           "Net incurrence of liabilities",
           "State governments",
           "Percent of GDP"
          ],
          [
           "Holding gains and losses in liabilities",
           "Local governments",
           "Domestic currency"
          ],
          [
           "Net incurrence of liabilities",
           "State governments",
           "Domestic currency"
          ],
          [
           "Stock position liabilities",
           "Central government (incl. social security funds)",
           "Domestic currency"
          ],
          [
           "Stock position liabilities",
           "Central government (incl. social security funds)",
           "Percent of GDP"
          ],
          [
           "Stock position liabilities",
           "Central government (incl. social security funds)",
           "Domestic currency"
          ],
          [
           "Holding gains and losses in liabilities",
           "Local governments",
           "Percent of GDP"
          ],
          [
           "Stock position liabilities",
           "Central government (incl. social security funds)",
           "Percent of GDP"
          ],
          [
           "Stock position liabilities",
           "Central government (incl. social security funds)",
           "Percent of GDP"
          ],
          [
           "Stock position liabilities",
           "Budgetary central government",
           "Domestic currency"
          ],
          [
           "Net incurrence of liabilities",
           "State governments",
           "Percent of GDP"
          ],
          [
           "Other economic flows in liabilities",
           "Social security funds",
           "Domestic currency"
          ],
          [
           "Stock position liabilities",
           "Extrabudgetary central government",
           "Domestic currency"
          ],
          [
           "Other economic flows in liabilities",
           "Social security funds",
           "Percent of GDP"
          ],
          [
           "Other economic flows in liabilities",
           "Social security funds",
           "Domestic currency"
          ],
          [
           "Volume changes in liabilities",
           "Social security funds",
           "Domestic currency"
          ],
          [
           "Other economic flows in liabilities",
           "Social security funds",
           "Percent of GDP"
          ],
          [
           "Volume changes in liabilities",
           "Social security funds",
           "Domestic currency"
          ],
          [
           "Net incurrence of liabilities",
           "State governments",
           "Domestic currency"
          ],
          [
           "Stock position liabilities",
           "Budgetary central government",
           "Percent of GDP"
          ],
          [
           "Stock position liabilities",
           "Extrabudgetary central government",
           "Domestic currency"
          ],
          [
           "Volume changes in liabilities",
           "Social security funds",
           "Percent of GDP"
          ],
          [
           "Stock position liabilities",
           "Central government (incl. social security funds)",
           "Domestic currency"
          ],
          [
           "Volume changes in liabilities",
           "Social security funds",
           "Percent of GDP"
          ],
          [
           "Stock position liabilities",
           "Central government (incl. social security funds)",
           "Percent of GDP"
          ],
          [
           "Net incurrence of liabilities",
           "State governments",
           "Percent of GDP"
          ],
          [
           "Stock position liabilities",
           "Extrabudgetary central government",
           "Domestic currency"
          ],
          [
           "Volume changes in liabilities",
           "Local governments",
           "Domestic currency"
          ],
          [
           "Volume changes in liabilities",
           "Local governments",
           "Domestic currency"
          ],
          [
           "Stock position liabilities",
           "Extrabudgetary central government",
           "Domestic currency"
          ],
          [
           "Stock position liabilities",
           "Extrabudgetary central government",
           "Domestic currency"
          ],
          [
           "Volume changes in liabilities",
           "Local governments",
           "Percent of GDP"
          ],
          [
           "Volume changes in liabilities",
           "Local governments",
           "Percent of GDP"
          ],
          [
           "Stock position liabilities",
           "Extrabudgetary central government",
           "Percent of GDP"
          ],
          [
           "Volume changes in liabilities",
           "Social security funds",
           "Domestic currency"
          ],
          [
           "Volume changes in liabilities",
           "Social security funds",
           "Domestic currency"
          ],
          [
           "Stock position liabilities",
           "Extrabudgetary central government",
           "Domestic currency"
          ],
          [
           "Volume changes in liabilities",
           "Social security funds",
           "Percent of GDP"
          ],
          [
           "Stock position liabilities",
           "Extrabudgetary central government",
           "Domestic currency"
          ],
          [
           "Volume changes in liabilities",
           "Social security funds",
           "Percent of GDP"
          ],
          [
           "Stock position liabilities",
           "Extrabudgetary central government",
           "Domestic currency"
          ],
          [
           "Volume changes in liabilities",
           "Local governments",
           "Domestic currency"
          ],
          [
           "Stock position liabilities",
           "Extrabudgetary central government",
           "Percent of GDP"
          ],
          [
           "Stock position liabilities",
           "Extrabudgetary central government",
           "Percent of GDP"
          ],
          [
           "Volume changes in liabilities",
           "Local governments",
           "Domestic currency"
          ],
          [
           "Volume changes in liabilities",
           "Social security funds",
           "Domestic currency"
          ],
          [
           "Volume changes in liabilities",
           "Local governments",
           "Percent of GDP"
          ],
          [
           "Volume changes in liabilities",
           "Social security funds",
           "Percent of GDP"
          ],
          [
           "Volume changes in liabilities",
           "Local governments",
           "Percent of GDP"
          ],
          [
           "Stock position liabilities",
           "Extrabudgetary central government",
           "Percent of GDP"
          ],
          [
           "Stock position liabilities",
           "Extrabudgetary central government",
           "Percent of GDP"
          ],
          [
           "Volume changes in liabilities",
           "Local governments",
           "Domestic currency"
          ],
          [
           "Stock position liabilities",
           "Extrabudgetary central government",
           "Percent of GDP"
          ],
          [
           "Stock position liabilities",
           "Extrabudgetary central government",
           "Percent of GDP"
          ],
          [
           "Stock position liabilities",
           "Extrabudgetary central government",
           "Domestic currency"
          ],
          [
           "Volume changes in liabilities",
           "Local governments",
           "Percent of GDP"
          ],
          [
           "Volume changes in liabilities",
           "Social security funds",
           "Domestic currency"
          ],
          [
           "Volume changes in liabilities",
           "Social security funds",
           "Percent of GDP"
          ],
          [
           "Volume changes in liabilities",
           "General government",
           "Domestic currency"
          ],
          [
           "Volume changes in liabilities",
           "Social security funds",
           "Domestic currency"
          ],
          [
           "Stock position liabilities",
           "Extrabudgetary central government",
           "Percent of GDP"
          ],
          [
           "Volume changes in liabilities",
           "Social security funds",
           "Percent of GDP"
          ],
          [
           "Stock position liabilities",
           "Extrabudgetary central government",
           "Domestic currency"
          ],
          [
           "Volume changes in liabilities",
           "General government",
           "Percent of GDP"
          ],
          [
           "Stock position liabilities",
           "Extrabudgetary central government",
           "Percent of GDP"
          ],
          [
           "Volume changes in liabilities",
           "Local governments",
           "Domestic currency"
          ],
          [
           "Volume changes in liabilities",
           "Local governments",
           "Percent of GDP"
          ],
          [
           "Stock position liabilities",
           "Extrabudgetary central government",
           "Percent of GDP"
          ],
          [
           "Stock position liabilities",
           "State governments",
           "Domestic currency"
          ],
          [
           "Volume changes in liabilities",
           "Social security funds",
           "Domestic currency"
          ],
          [
           "Volume changes in liabilities",
           "Social security funds",
           "Percent of GDP"
          ],
          [
           "Volume changes in liabilities",
           "Local governments",
           "Domestic currency"
          ],
          [
           "Volume changes in liabilities",
           "Local governments",
           "Percent of GDP"
          ],
          [
           "Stock position liabilities",
           "State governments",
           "Percent of GDP"
          ],
          [
           "Volume changes in liabilities",
           "Social security funds",
           "Domestic currency"
          ],
          [
           "Volume changes in liabilities",
           "Social security funds",
           "Percent of GDP"
          ],
          [
           "Stock position liabilities",
           "Extrabudgetary central government",
           "Domestic currency"
          ],
          [
           "Stock position liabilities",
           "State governments",
           "Domestic currency"
          ],
          [
           "Holding gains and losses in liabilities",
           "Social security funds",
           "Domestic currency"
          ],
          [
           "Volume changes in liabilities",
           "Central government (excl. social security funds)",
           "Domestic currency"
          ],
          [
           "Stock position liabilities",
           "State governments",
           "Domestic currency"
          ],
          [
           "Stock position liabilities",
           "State governments",
           "Domestic currency"
          ],
          [
           "Holding gains and losses in liabilities",
           "Social security funds",
           "Domestic currency"
          ],
          [
           "Holding gains and losses in liabilities",
           "Social security funds",
           "Percent of GDP"
          ],
          [
           "Stock position liabilities",
           "Extrabudgetary central government",
           "Percent of GDP"
          ],
          [
           "Holding gains and losses in liabilities",
           "Social security funds",
           "Domestic currency"
          ],
          [
           "Holding gains and losses in liabilities",
           "Social security funds",
           "Percent of GDP"
          ],
          [
           "Holding gains and losses in liabilities",
           "Social security funds",
           "Percent of GDP"
          ],
          [
           "Volume changes in liabilities",
           "Central government (excl. social security funds)",
           "Percent of GDP"
          ],
          [
           "Stock position liabilities",
           "State governments",
           "Percent of GDP"
          ],
          [
           "Stock position liabilities",
           "State governments",
           "Domestic currency"
          ],
          [
           "Volume changes in liabilities",
           "General government",
           "Domestic currency"
          ],
          [
           "Stock position liabilities",
           "State governments",
           "Percent of GDP"
          ],
          [
           "Volume changes in liabilities",
           "General government",
           "Domestic currency"
          ],
          [
           "Stock position liabilities",
           "Central government (incl. social security funds)",
           "Domestic currency"
          ],
          [
           "Stock position liabilities",
           "State governments",
           "Percent of GDP"
          ],
          [
           "Volume changes in liabilities",
           "General government",
           "Percent of GDP"
          ],
          [
           "Holding gains and losses in liabilities",
           "Social security funds",
           "Domestic currency"
          ],
          [
           "Stock position liabilities",
           "State governments",
           "Percent of GDP"
          ],
          [
           "Volume changes in liabilities",
           "General government",
           "Percent of GDP"
          ],
          [
           "Holding gains and losses in liabilities",
           "Local governments",
           "Domestic currency"
          ],
          [
           "Holding gains and losses in liabilities",
           "Local governments",
           "Domestic currency"
          ],
          [
           "Holding gains and losses in liabilities",
           "Social security funds",
           "Percent of GDP"
          ],
          [
           "Holding gains and losses in liabilities",
           "Social security funds",
           "Domestic currency"
          ],
          [
           "Holding gains and losses in liabilities",
           "Local governments",
           "Percent of GDP"
          ],
          [
           "Holding gains and losses in liabilities",
           "Local governments",
           "Percent of GDP"
          ],
          [
           "Holding gains and losses in liabilities",
           "Social security funds",
           "Percent of GDP"
          ],
          [
           "Volume changes in liabilities",
           "General government",
           "Domestic currency"
          ],
          [
           "Holding gains and losses in liabilities",
           "Social security funds",
           "Domestic currency"
          ],
          [
           "Holding gains and losses in liabilities",
           "General government",
           "Domestic currency"
          ],
          [
           "Stock position liabilities",
           "Central government (incl. social security funds)",
           "Percent of GDP"
          ],
          [
           "Volume changes in liabilities",
           "General government",
           "Domestic currency"
          ],
          [
           "Holding gains and losses in liabilities",
           "Social security funds",
           "Percent of GDP"
          ],
          [
           "Holding gains and losses in liabilities",
           "Social security funds",
           "Domestic currency"
          ],
          [
           "Volume changes in liabilities",
           "General government",
           "Percent of GDP"
          ],
          [
           "Holding gains and losses in liabilities",
           "Social security funds",
           "Percent of GDP"
          ],
          [
           "Holding gains and losses in liabilities",
           "General government",
           "Percent of GDP"
          ],
          [
           "Holding gains and losses in liabilities",
           "Local governments",
           "Domestic currency"
          ],
          [
           "Volume changes in liabilities",
           "General government",
           "Percent of GDP"
          ],
          [
           "Volume changes in liabilities",
           "Central government (excl. social security funds)",
           "Domestic currency"
          ],
          [
           "Holding gains and losses in liabilities",
           "Local governments",
           "Domestic currency"
          ],
          [
           "Volume changes in liabilities",
           "General government",
           "Domestic currency"
          ],
          [
           "Holding gains and losses in liabilities",
           "Local governments",
           "Percent of GDP"
          ],
          [
           "Holding gains and losses in liabilities",
           "Local governments",
           "Domestic currency"
          ],
          [
           "Stock position liabilities",
           "State governments",
           "Domestic currency"
          ],
          [
           "Volume changes in liabilities",
           "General government",
           "Domestic currency"
          ],
          [
           "Holding gains and losses in liabilities",
           "Local governments",
           "Percent of GDP"
          ],
          [
           "Volume changes in liabilities",
           "Central government (excl. social security funds)",
           "Domestic currency"
          ],
          [
           "Holding gains and losses in liabilities",
           "Local governments",
           "Percent of GDP"
          ],
          [
           "Stock position liabilities",
           "State governments",
           "Domestic currency"
          ],
          [
           "Volume changes in liabilities",
           "General government",
           "Percent of GDP"
          ],
          [
           "Holding gains and losses in liabilities",
           "Local governments",
           "Domestic currency"
          ],
          [
           "Volume changes in liabilities",
           "Central government (excl. social security funds)",
           "Percent of GDP"
          ],
          [
           "Stock position liabilities",
           "State governments",
           "Domestic currency"
          ],
          [
           "Volume changes in liabilities",
           "General government",
           "Percent of GDP"
          ],
          [
           "Holding gains and losses in liabilities",
           "Local governments",
           "Domestic currency"
          ],
          [
           "Holding gains and losses in liabilities",
           "Local governments",
           "Percent of GDP"
          ],
          [
           "Volume changes in liabilities",
           "Central government (excl. social security funds)",
           "Percent of GDP"
          ],
          [
           "Holding gains and losses in liabilities",
           "Local governments",
           "Percent of GDP"
          ],
          [
           "Stock position liabilities",
           "State governments",
           "Percent of GDP"
          ],
          [
           "Volume changes in liabilities",
           "General government",
           "Domestic currency"
          ],
          [
           "Volume changes in liabilities",
           "Central government (excl. social security funds)",
           "Domestic currency"
          ],
          [
           "Stock position liabilities",
           "State governments",
           "Percent of GDP"
          ],
          [
           "Stock position liabilities",
           "State governments",
           "Percent of GDP"
          ],
          [
           "Stock position liabilities",
           "Extrabudgetary central government",
           "Domestic currency"
          ],
          [
           "Volume changes in liabilities",
           "Central government (excl. social security funds)",
           "Domestic currency"
          ],
          [
           "Stock position liabilities",
           "State governments",
           "Domestic currency"
          ],
          [
           "Volume changes in liabilities",
           "General government",
           "Percent of GDP"
          ],
          [
           "Stock position liabilities",
           "State governments",
           "Domestic currency"
          ],
          [
           "Volume changes in liabilities",
           "Central government (excl. social security funds)",
           "Percent of GDP"
          ],
          [
           "Stock position liabilities",
           "State governments",
           "Percent of GDP"
          ],
          [
           "Volume changes in liabilities",
           "Central government (excl. social security funds)",
           "Domestic currency"
          ],
          [
           "Volume changes in liabilities",
           "Central government (excl. social security funds)",
           "Domestic currency"
          ],
          [
           "Volume changes in liabilities",
           "Central government (excl. social security funds)",
           "Percent of GDP"
          ],
          [
           "Stock position liabilities",
           "Extrabudgetary central government",
           "Percent of GDP"
          ],
          [
           "Stock position liabilities",
           "State governments",
           "Domestic currency"
          ],
          [
           "Volume changes in liabilities",
           "Central government (excl. social security funds)",
           "Percent of GDP"
          ],
          [
           "Volume changes in liabilities",
           "Central government (excl. social security funds)",
           "Percent of GDP"
          ],
          [
           "Stock position liabilities",
           "State governments",
           "Percent of GDP"
          ],
          [
           "Stock position liabilities",
           "State governments",
           "Percent of GDP"
          ],
          [
           "Stock position liabilities",
           "State governments",
           "Domestic currency"
          ],
          [
           "Volume changes in liabilities",
           "Central government (excl. social security funds)",
           "Domestic currency"
          ],
          [
           "Stock position liabilities",
           "State governments",
           "Domestic currency"
          ],
          [
           "Stock position liabilities",
           "State governments",
           "Percent of GDP"
          ],
          [
           "Stock position liabilities",
           "State governments",
           "Percent of GDP"
          ],
          [
           "Volume changes in liabilities",
           "Central government (excl. social security funds)",
           "Percent of GDP"
          ],
          [
           "Volume changes in liabilities",
           "Local governments",
           "Domestic currency"
          ],
          [
           "Holding gains and losses in liabilities",
           "General government",
           "Domestic currency"
          ],
          [
           "Volume changes in liabilities",
           "Local governments",
           "Domestic currency"
          ],
          [
           "Holding gains and losses in liabilities",
           "General government",
           "Domestic currency"
          ],
          [
           "Holding gains and losses in liabilities",
           "General government",
           "Domestic currency"
          ],
          [
           "Holding gains and losses in liabilities",
           "Central government (excl. social security funds)",
           "Domestic currency"
          ],
          [
           "Holding gains and losses in liabilities",
           "General government",
           "Percent of GDP"
          ],
          [
           "Holding gains and losses in liabilities",
           "General government",
           "Percent of GDP"
          ],
          [
           "Holding gains and losses in liabilities",
           "General government",
           "Percent of GDP"
          ],
          [
           "Holding gains and losses in liabilities",
           "Central government (excl. social security funds)",
           "Percent of GDP"
          ],
          [
           "Volume changes in liabilities",
           "Local governments",
           "Percent of GDP"
          ],
          [
           "Volume changes in liabilities",
           "Local governments",
           "Percent of GDP"
          ],
          [
           "Holding gains and losses in liabilities",
           "General government",
           "Domestic currency"
          ],
          [
           "Holding gains and losses in liabilities",
           "General government",
           "Domestic currency"
          ],
          [
           "Holding gains and losses in liabilities",
           "General government",
           "Percent of GDP"
          ],
          [
           "Holding gains and losses in liabilities",
           "General government",
           "Domestic currency"
          ],
          [
           "Holding gains and losses in liabilities",
           "General government",
           "Percent of GDP"
          ],
          [
           "Holding gains and losses in liabilities",
           "General government",
           "Domestic currency"
          ],
          [
           "Volume changes in liabilities",
           "General government",
           "Domestic currency"
          ],
          [
           "Holding gains and losses in liabilities",
           "General government",
           "Percent of GDP"
          ],
          [
           "Holding gains and losses in liabilities",
           "General government",
           "Percent of GDP"
          ],
          [
           "Volume changes in liabilities",
           "General government",
           "Percent of GDP"
          ],
          [
           "Holding gains and losses in liabilities",
           "Central government (excl. social security funds)",
           "Domestic currency"
          ],
          [
           "Stock position liabilities",
           "Extrabudgetary central government",
           "Domestic currency"
          ],
          [
           "Holding gains and losses in liabilities",
           "Central government (excl. social security funds)",
           "Domestic currency"
          ],
          [
           "Stock position liabilities",
           "Extrabudgetary central government",
           "Domestic currency"
          ],
          [
           "Holding gains and losses in liabilities",
           "Central government (excl. social security funds)",
           "Domestic currency"
          ],
          [
           "Holding gains and losses in liabilities",
           "Central government (excl. social security funds)",
           "Percent of GDP"
          ],
          [
           "Holding gains and losses in liabilities",
           "Central government (excl. social security funds)",
           "Percent of GDP"
          ],
          [
           "Stock position liabilities",
           "Extrabudgetary central government",
           "Percent of GDP"
          ],
          [
           "Stock position liabilities",
           "Extrabudgetary central government",
           "Domestic currency"
          ],
          [
           "Holding gains and losses in liabilities",
           "Central government (excl. social security funds)",
           "Percent of GDP"
          ],
          [
           "Holding gains and losses in liabilities",
           "Central government (excl. social security funds)",
           "Domestic currency"
          ],
          [
           "Holding gains and losses in liabilities",
           "Central government (excl. social security funds)",
           "Domestic currency"
          ],
          [
           "Stock position liabilities",
           "Extrabudgetary central government",
           "Percent of GDP"
          ],
          [
           "Stock position liabilities",
           "Extrabudgetary central government",
           "Percent of GDP"
          ],
          [
           "Holding gains and losses in liabilities",
           "Central government (excl. social security funds)",
           "Percent of GDP"
          ],
          [
           "Holding gains and losses in liabilities",
           "Central government (excl. social security funds)",
           "Percent of GDP"
          ],
          [
           "Holding gains and losses in liabilities",
           "Central government (excl. social security funds)",
           "Domestic currency"
          ],
          [
           "Holding gains and losses in liabilities",
           "Central government (excl. social security funds)",
           "Domestic currency"
          ],
          [
           "Volume changes in liabilities",
           "Central government (excl. social security funds)",
           "Domestic currency"
          ],
          [
           "Stock position liabilities",
           "State governments",
           "Domestic currency"
          ],
          [
           "Holding gains and losses in liabilities",
           "Central government (excl. social security funds)",
           "Percent of GDP"
          ],
          [
           "Holding gains and losses in liabilities",
           "Central government (excl. social security funds)",
           "Percent of GDP"
          ],
          [
           "Holding gains and losses in liabilities",
           "General government",
           "Domestic currency"
          ],
          [
           "Volume changes in liabilities",
           "Central government (excl. social security funds)",
           "Percent of GDP"
          ],
          [
           "Holding gains and losses in liabilities",
           "General government",
           "Percent of GDP"
          ],
          [
           "Stock position liabilities",
           "State governments",
           "Percent of GDP"
          ],
          [
           "Holding gains and losses in liabilities",
           "Central government (excl. social security funds)",
           "Domestic currency"
          ],
          [
           "Holding gains and losses in liabilities",
           "Central government (excl. social security funds)",
           "Percent of GDP"
          ],
          [
           "Holding gains and losses in liabilities",
           "Local governments",
           "Domestic currency"
          ],
          [
           "Other economic flows in liabilities",
           "Central government (incl. social security funds)",
           "Domestic currency"
          ],
          [
           "Holding gains and losses in liabilities",
           "Local governments",
           "Percent of GDP"
          ],
          [
           "Holding gains and losses in liabilities",
           "Local governments",
           "Domestic currency"
          ],
          [
           "Other economic flows in liabilities",
           "Central government (incl. social security funds)",
           "Percent of GDP"
          ],
          [
           "Holding gains and losses in liabilities",
           "Local governments",
           "Percent of GDP"
          ],
          [
           "Stock position liabilities",
           "State governments",
           "Domestic currency"
          ],
          [
           "Stock position liabilities",
           "State governments",
           "Percent of GDP"
          ],
          [
           "Stock position liabilities",
           "State governments",
           "Domestic currency"
          ],
          [
           "Stock position liabilities",
           "State governments",
           "Percent of GDP"
          ],
          [
           "Stock position liabilities",
           "Extrabudgetary central government",
           "Domestic currency"
          ],
          [
           "Stock position liabilities",
           "Extrabudgetary central government",
           "Percent of GDP"
          ],
          [
           "Stock position liabilities",
           "State governments",
           "Domestic currency"
          ],
          [
           "Net incurrence of liabilities",
           "State governments",
           "Domestic currency"
          ],
          [
           "Other economic flows in liabilities",
           "Local governments",
           "Domestic currency"
          ],
          [
           "Other economic flows in liabilities",
           "Local governments",
           "Domestic currency"
          ],
          [
           "Other economic flows in liabilities",
           "Local governments",
           "Percent of GDP"
          ],
          [
           "Other economic flows in liabilities",
           "Local governments",
           "Percent of GDP"
          ],
          [
           "Stock position liabilities",
           "State governments",
           "Percent of GDP"
          ],
          [
           "Net incurrence of liabilities",
           "State governments",
           "Percent of GDP"
          ],
          [
           "Net incurrence of liabilities",
           "State governments",
           "Domestic currency"
          ],
          [
           "Other economic flows in liabilities",
           "Central government (incl. social security funds)",
           "Domestic currency"
          ],
          [
           "Other economic flows in liabilities",
           "Central government (incl. social security funds)",
           "Domestic currency"
          ],
          [
           "Other economic flows in liabilities",
           "Central government (incl. social security funds)",
           "Percent of GDP"
          ],
          [
           "Other economic flows in liabilities",
           "Central government (incl. social security funds)",
           "Percent of GDP"
          ],
          [
           "Net incurrence of liabilities",
           "State governments",
           "Percent of GDP"
          ],
          [
           "Other economic flows in liabilities",
           "Central government (incl. social security funds)",
           "Domestic currency"
          ],
          [
           "Other economic flows in liabilities",
           "Central government (incl. social security funds)",
           "Percent of GDP"
          ],
          [
           "Stock position liabilities",
           "Extrabudgetary central government",
           "Domestic currency"
          ],
          [
           "Other economic flows in liabilities",
           "Central government (incl. social security funds)",
           "Domestic currency"
          ],
          [
           "Stock position liabilities",
           "Extrabudgetary central government",
           "Domestic currency"
          ],
          [
           "Other economic flows in liabilities",
           "Central government (incl. social security funds)",
           "Domestic currency"
          ],
          [
           "Other economic flows in liabilities",
           "Central government (incl. social security funds)",
           "Domestic currency"
          ],
          [
           "Other economic flows in liabilities",
           "Central government (incl. social security funds)",
           "Percent of GDP"
          ],
          [
           "Other economic flows in liabilities",
           "Central government (incl. social security funds)",
           "Percent of GDP"
          ],
          [
           "Other economic flows in liabilities",
           "Central government (incl. social security funds)",
           "Percent of GDP"
          ],
          [
           "Other economic flows in liabilities",
           "Central government (incl. social security funds)",
           "Domestic currency"
          ],
          [
           "Other economic flows in liabilities",
           "Central government (incl. social security funds)",
           "Percent of GDP"
          ],
          [
           "Stock position liabilities",
           "State governments",
           "Domestic currency"
          ],
          [
           "Stock position liabilities",
           "State governments",
           "Percent of GDP"
          ],
          [
           "Other economic flows in liabilities",
           "Central government (incl. social security funds)",
           "Domestic currency"
          ],
          [
           "Other economic flows in liabilities",
           "Central government (incl. social security funds)",
           "Percent of GDP"
          ],
          [
           "Stock position liabilities",
           "Extrabudgetary central government",
           "Domestic currency"
          ],
          [
           "Stock position liabilities",
           "Extrabudgetary central government",
           "Domestic currency"
          ],
          [
           "Stock position liabilities",
           "Extrabudgetary central government",
           "Domestic currency"
          ],
          [
           "Stock position liabilities",
           "State governments",
           "Domestic currency"
          ],
          [
           "Volume changes in liabilities",
           "General government",
           "Domestic currency"
          ],
          [
           "Volume changes in liabilities",
           "General government",
           "Domestic currency"
          ],
          [
           "Stock position liabilities",
           "Extrabudgetary central government",
           "Percent of GDP"
          ],
          [
           "Stock position liabilities",
           "State governments",
           "Percent of GDP"
          ],
          [
           "Stock position liabilities",
           "Extrabudgetary central government",
           "Percent of GDP"
          ],
          [
           "Volume changes in liabilities",
           "Central government (excl. social security funds)",
           "Domestic currency"
          ],
          [
           "Volume changes in liabilities",
           "Central government (excl. social security funds)",
           "Domestic currency"
          ],
          [
           "Volume changes in liabilities",
           "General government",
           "Percent of GDP"
          ],
          [
           "Volume changes in liabilities",
           "General government",
           "Percent of GDP"
          ],
          [
           "Stock position liabilities",
           "State governments",
           "Domestic currency"
          ],
          [
           "Stock position liabilities",
           "State governments",
           "Percent of GDP"
          ],
          [
           "Stock position liabilities",
           "Extrabudgetary central government",
           "Percent of GDP"
          ],
          [
           "Stock position liabilities",
           "Extrabudgetary central government",
           "Percent of GDP"
          ],
          [
           "Stock position liabilities",
           "Extrabudgetary central government",
           "Percent of GDP"
          ],
          [
           "Volume changes in liabilities",
           "Central government (excl. social security funds)",
           "Percent of GDP"
          ],
          [
           "Volume changes in liabilities",
           "Central government (excl. social security funds)",
           "Percent of GDP"
          ],
          [
           "Stock position liabilities",
           "State governments",
           "Domestic currency"
          ],
          [
           "Stock position liabilities",
           "State governments",
           "Percent of GDP"
          ],
          [
           "Holding gains and losses in liabilities",
           "General government",
           "Domestic currency"
          ],
          [
           "Holding gains and losses in liabilities",
           "General government",
           "Domestic currency"
          ],
          [
           "Holding gains and losses in liabilities",
           "General government",
           "Percent of GDP"
          ],
          [
           "Holding gains and losses in liabilities",
           "General government",
           "Percent of GDP"
          ],
          [
           "Stock position liabilities",
           "State governments",
           "Domestic currency"
          ],
          [
           "Stock position liabilities",
           "State governments",
           "Percent of GDP"
          ],
          [
           "Stock position liabilities",
           "State governments",
           "Domestic currency"
          ],
          [
           "Stock position liabilities",
           "State governments",
           "Percent of GDP"
          ],
          [
           "Stock position liabilities",
           "State governments",
           "Domestic currency"
          ],
          [
           "Stock position liabilities",
           "State governments",
           "Percent of GDP"
          ],
          [
           "Stock position liabilities",
           "State governments",
           "Percent of GDP"
          ],
          [
           "Stock position liabilities",
           "State governments",
           "Domestic currency"
          ],
          [
           "Other economic flows in liabilities",
           "General government",
           "Domestic currency"
          ],
          [
           "Other economic flows in liabilities",
           "General government",
           "Domestic currency"
          ],
          [
           "Other economic flows in liabilities",
           "Budgetary central government",
           "Domestic currency"
          ],
          [
           "Other economic flows in liabilities",
           "General government",
           "Percent of GDP"
          ],
          [
           "Stock position liabilities",
           "State governments",
           "Domestic currency"
          ],
          [
           "Other economic flows in liabilities",
           "General government",
           "Percent of GDP"
          ],
          [
           "Other economic flows in liabilities",
           "Budgetary central government",
           "Percent of GDP"
          ],
          [
           "Stock position liabilities",
           "State governments",
           "Percent of GDP"
          ],
          [
           "Stock position liabilities",
           "State governments",
           "Domestic currency"
          ],
          [
           "Stock position liabilities",
           "State governments",
           "Percent of GDP"
          ],
          [
           "Stock position liabilities",
           "State governments",
           "Domestic currency"
          ],
          [
           "Stock position liabilities",
           "State governments",
           "Percent of GDP"
          ],
          [
           "Other economic flows in liabilities",
           "Central government (excl. social security funds)",
           "Domestic currency"
          ],
          [
           "Holding gains and losses in liabilities",
           "Central government (excl. social security funds)",
           "Domestic currency"
          ],
          [
           "Holding gains and losses in liabilities",
           "Central government (excl. social security funds)",
           "Domestic currency"
          ],
          [
           "Other economic flows in liabilities",
           "Central government (excl. social security funds)",
           "Domestic currency"
          ],
          [
           "Other economic flows in liabilities",
           "Central government (excl. social security funds)",
           "Percent of GDP"
          ],
          [
           "Holding gains and losses in liabilities",
           "Central government (excl. social security funds)",
           "Percent of GDP"
          ],
          [
           "Holding gains and losses in liabilities",
           "Central government (excl. social security funds)",
           "Percent of GDP"
          ],
          [
           "Other economic flows in liabilities",
           "Central government (excl. social security funds)",
           "Percent of GDP"
          ],
          [
           "Other economic flows in liabilities",
           "State governments",
           "Domestic currency"
          ],
          [
           "Other economic flows in liabilities",
           "State governments",
           "Domestic currency"
          ],
          [
           "Other economic flows in liabilities",
           "State governments",
           "Percent of GDP"
          ],
          [
           "Other economic flows in liabilities",
           "Budgetary central government",
           "Domestic currency"
          ],
          [
           "Other economic flows in liabilities",
           "Budgetary central government",
           "Domestic currency"
          ],
          [
           "Other economic flows in liabilities",
           "State governments",
           "Domestic currency"
          ],
          [
           "Other economic flows in liabilities",
           "State governments",
           "Percent of GDP"
          ],
          [
           "Other economic flows in liabilities",
           "Budgetary central government",
           "Domestic currency"
          ],
          [
           "Other economic flows in liabilities",
           "State governments",
           "Domestic currency"
          ],
          [
           "Other economic flows in liabilities",
           "State governments",
           "Domestic currency"
          ],
          [
           "Other economic flows in liabilities",
           "State governments",
           "Domestic currency"
          ],
          [
           "Other economic flows in liabilities",
           "State governments",
           "Domestic currency"
          ],
          [
           "Other economic flows in liabilities",
           "State governments",
           "Domestic currency"
          ],
          [
           "Other economic flows in liabilities",
           "State governments",
           "Percent of GDP"
          ],
          [
           "Other economic flows in liabilities",
           "State governments",
           "Percent of GDP"
          ],
          [
           "Other economic flows in liabilities",
           "State governments",
           "Percent of GDP"
          ],
          [
           "Other economic flows in liabilities",
           "State governments",
           "Percent of GDP"
          ],
          [
           "Other economic flows in liabilities",
           "State governments",
           "Percent of GDP"
          ],
          [
           "Other economic flows in liabilities",
           "Budgetary central government",
           "Domestic currency"
          ],
          [
           "Other economic flows in liabilities",
           "State governments",
           "Percent of GDP"
          ],
          [
           "Holding gains and losses in liabilities",
           "Central government (incl. social security funds)",
           "Domestic currency"
          ],
          [
           "Holding gains and losses in liabilities",
           "Central government (incl. social security funds)",
           "Percent of GDP"
          ],
          [
           "Other economic flows in liabilities",
           "Budgetary central government",
           "Domestic currency"
          ],
          [
           "Other economic flows in liabilities",
           "Budgetary central government",
           "Domestic currency"
          ],
          [
           "Other economic flows in liabilities",
           "Budgetary central government",
           "Percent of GDP"
          ],
          [
           "Holding gains and losses in liabilities",
           "Budgetary central government",
           "Domestic currency"
          ],
          [
           "Other economic flows in liabilities",
           "Budgetary central government",
           "Percent of GDP"
          ],
          [
           "Other economic flows in liabilities",
           "Budgetary central government",
           "Percent of GDP"
          ],
          [
           "Other economic flows in liabilities",
           "Budgetary central government",
           "Domestic currency"
          ],
          [
           "Other economic flows in liabilities",
           "State governments",
           "Domestic currency"
          ],
          [
           "Other economic flows in liabilities",
           "Budgetary central government",
           "Domestic currency"
          ],
          [
           "Other economic flows in liabilities",
           "State governments",
           "Percent of GDP"
          ],
          [
           "Other economic flows in liabilities",
           "Budgetary central government",
           "Percent of GDP"
          ],
          [
           "Other economic flows in liabilities",
           "Budgetary central government",
           "Percent of GDP"
          ],
          [
           "Holding gains and losses in liabilities",
           "State governments",
           "Domestic currency"
          ],
          [
           "Other economic flows in liabilities",
           "Budgetary central government",
           "Percent of GDP"
          ],
          [
           "Holding gains and losses in liabilities",
           "Budgetary central government",
           "Percent of GDP"
          ],
          [
           "Volume changes in liabilities",
           "Central government (incl. social security funds)",
           "Domestic currency"
          ],
          [
           "Volume changes in liabilities",
           "Central government (incl. social security funds)",
           "Percent of GDP"
          ],
          [
           "Other economic flows in liabilities",
           "Budgetary central government",
           "Percent of GDP"
          ],
          [
           "Holding gains and losses in liabilities",
           "State governments",
           "Percent of GDP"
          ],
          [
           "Other economic flows in liabilities",
           "Budgetary central government",
           "Percent of GDP"
          ],
          [
           "Volume changes in liabilities",
           "State governments",
           "Domestic currency"
          ],
          [
           "Holding gains and losses in liabilities",
           "Central government (incl. social security funds)",
           "Domestic currency"
          ],
          [
           "Holding gains and losses in liabilities",
           "Central government (incl. social security funds)",
           "Percent of GDP"
          ],
          [
           "Volume changes in liabilities",
           "State governments",
           "Percent of GDP"
          ],
          [
           "Holding gains and losses in liabilities",
           "Central government (incl. social security funds)",
           "Domestic currency"
          ],
          [
           "Holding gains and losses in liabilities",
           "Central government (incl. social security funds)",
           "Domestic currency"
          ],
          [
           "Holding gains and losses in liabilities",
           "Central government (incl. social security funds)",
           "Percent of GDP"
          ],
          [
           "Holding gains and losses in liabilities",
           "Central government (incl. social security funds)",
           "Percent of GDP"
          ],
          [
           "Holding gains and losses in liabilities",
           "Budgetary central government",
           "Domestic currency"
          ],
          [
           "Holding gains and losses in liabilities",
           "Central government (incl. social security funds)",
           "Domestic currency"
          ],
          [
           "Holding gains and losses in liabilities",
           "Central government (incl. social security funds)",
           "Domestic currency"
          ],
          [
           "Holding gains and losses in liabilities",
           "Central government (incl. social security funds)",
           "Percent of GDP"
          ],
          [
           "Holding gains and losses in liabilities",
           "Central government (incl. social security funds)",
           "Percent of GDP"
          ],
          [
           "Holding gains and losses in liabilities",
           "Budgetary central government",
           "Domestic currency"
          ],
          [
           "Holding gains and losses in liabilities",
           "Central government (incl. social security funds)",
           "Domestic currency"
          ],
          [
           "Volume changes in liabilities",
           "Central government (incl. social security funds)",
           "Domestic currency"
          ],
          [
           "Volume changes in liabilities",
           "Central government (incl. social security funds)",
           "Domestic currency"
          ],
          [
           "Volume changes in liabilities",
           "Central government (incl. social security funds)",
           "Domestic currency"
          ],
          [
           "Holding gains and losses in liabilities",
           "Central government (incl. social security funds)",
           "Percent of GDP"
          ],
          [
           "Volume changes in liabilities",
           "Central government (incl. social security funds)",
           "Percent of GDP"
          ],
          [
           "Volume changes in liabilities",
           "Central government (incl. social security funds)",
           "Percent of GDP"
          ],
          [
           "Volume changes in liabilities",
           "Central government (incl. social security funds)",
           "Percent of GDP"
          ],
          [
           "Holding gains and losses in liabilities",
           "Central government (incl. social security funds)",
           "Domestic currency"
          ],
          [
           "Holding gains and losses in liabilities",
           "Budgetary central government",
           "Domestic currency"
          ],
          [
           "Holding gains and losses in liabilities",
           "Central government (incl. social security funds)",
           "Percent of GDP"
          ],
          [
           "Holding gains and losses in liabilities",
           "Budgetary central government",
           "Domestic currency"
          ],
          [
           "Volume changes in liabilities",
           "Central government (incl. social security funds)",
           "Domestic currency"
          ],
          [
           "Volume changes in liabilities",
           "Central government (incl. social security funds)",
           "Percent of GDP"
          ],
          [
           "Volume changes in liabilities",
           "Central government (incl. social security funds)",
           "Domestic currency"
          ],
          [
           "Volume changes in liabilities",
           "Central government (incl. social security funds)",
           "Domestic currency"
          ],
          [
           "Holding gains and losses in liabilities",
           "Budgetary central government",
           "Domestic currency"
          ],
          [
           "Holding gains and losses in liabilities",
           "Budgetary central government",
           "Percent of GDP"
          ],
          [
           "Volume changes in liabilities",
           "Central government (incl. social security funds)",
           "Percent of GDP"
          ],
          [
           "Volume changes in liabilities",
           "Central government (incl. social security funds)",
           "Percent of GDP"
          ],
          [
           "Holding gains and losses in liabilities",
           "Budgetary central government",
           "Domestic currency"
          ],
          [
           "Holding gains and losses in liabilities",
           "Budgetary central government",
           "Domestic currency"
          ],
          [
           "Holding gains and losses in liabilities",
           "Budgetary central government",
           "Percent of GDP"
          ],
          [
           "Holding gains and losses in liabilities",
           "Budgetary central government",
           "Percent of GDP"
          ],
          [
           "Holding gains and losses in liabilities",
           "Budgetary central government",
           "Percent of GDP"
          ],
          [
           "Volume changes in liabilities",
           "Central government (incl. social security funds)",
           "Domestic currency"
          ],
          [
           "Volume changes in liabilities",
           "Central government (incl. social security funds)",
           "Percent of GDP"
          ],
          [
           "Holding gains and losses in liabilities",
           "Budgetary central government",
           "Percent of GDP"
          ],
          [
           "Holding gains and losses in liabilities",
           "Budgetary central government",
           "Domestic currency"
          ],
          [
           "Holding gains and losses in liabilities",
           "Budgetary central government",
           "Percent of GDP"
          ],
          [
           "Volume changes in liabilities",
           "Budgetary central government",
           "Domestic currency"
          ],
          [
           "Holding gains and losses in liabilities",
           "Central government (incl. social security funds)",
           "Domestic currency"
          ],
          [
           "Holding gains and losses in liabilities",
           "Central government (incl. social security funds)",
           "Percent of GDP"
          ],
          [
           "Holding gains and losses in liabilities",
           "Budgetary central government",
           "Percent of GDP"
          ],
          [
           "Volume changes in liabilities",
           "Budgetary central government",
           "Percent of GDP"
          ],
          [
           "Holding gains and losses in liabilities",
           "State governments",
           "Domestic currency"
          ],
          [
           "Holding gains and losses in liabilities",
           "State governments",
           "Percent of GDP"
          ],
          [
           "Volume changes in liabilities",
           "State governments",
           "Domestic currency"
          ],
          [
           "Holding gains and losses in liabilities",
           "Budgetary central government",
           "Percent of GDP"
          ],
          [
           "Volume changes in liabilities",
           "State governments",
           "Percent of GDP"
          ],
          [
           "Volume changes in liabilities",
           "Budgetary central government",
           "Domestic currency"
          ],
          [
           "Volume changes in liabilities",
           "Budgetary central government",
           "Domestic currency"
          ],
          [
           "Volume changes in liabilities",
           "Budgetary central government",
           "Domestic currency"
          ],
          [
           "Other economic flows in liabilities",
           "Central government (incl. social security funds)",
           "Domestic currency"
          ],
          [
           "Other economic flows in liabilities",
           "Central government (incl. social security funds)",
           "Domestic currency"
          ],
          [
           "Other economic flows in liabilities",
           "Central government (incl. social security funds)",
           "Percent of GDP"
          ],
          [
           "Other economic flows in liabilities",
           "Central government (incl. social security funds)",
           "Percent of GDP"
          ],
          [
           "Volume changes in liabilities",
           "Central government (incl. social security funds)",
           "Domestic currency"
          ],
          [
           "Volume changes in liabilities",
           "Budgetary central government",
           "Domestic currency"
          ],
          [
           "Volume changes in liabilities",
           "Budgetary central government",
           "Percent of GDP"
          ],
          [
           "Volume changes in liabilities",
           "Central government (incl. social security funds)",
           "Percent of GDP"
          ],
          [
           "Volume changes in liabilities",
           "Budgetary central government",
           "Domestic currency"
          ],
          [
           "Volume changes in liabilities",
           "Central government (incl. social security funds)",
           "Domestic currency"
          ],
          [
           "Volume changes in liabilities",
           "Central government (incl. social security funds)",
           "Domestic currency"
          ],
          [
           "Holding gains and losses in liabilities",
           "Budgetary central government",
           "Domestic currency"
          ],
          [
           "Volume changes in liabilities",
           "Budgetary central government",
           "Percent of GDP"
          ],
          [
           "Holding gains and losses in liabilities",
           "Budgetary central government",
           "Domestic currency"
          ],
          [
           "Holding gains and losses in liabilities",
           "Budgetary central government",
           "Percent of GDP"
          ],
          [
           "Volume changes in liabilities",
           "Budgetary central government",
           "Percent of GDP"
          ],
          [
           "Volume changes in liabilities",
           "Budgetary central government",
           "Domestic currency"
          ],
          [
           "Volume changes in liabilities",
           "Budgetary central government",
           "Percent of GDP"
          ],
          [
           "Other economic flows in liabilities",
           "Extrabudgetary central government",
           "Domestic currency"
          ],
          [
           "Holding gains and losses in liabilities",
           "Central government (incl. social security funds)",
           "Domestic currency"
          ],
          [
           "Holding gains and losses in liabilities",
           "Central government (incl. social security funds)",
           "Domestic currency"
          ],
          [
           "Holding gains and losses in liabilities",
           "State governments",
           "Domestic currency"
          ],
          [
           "Holding gains and losses in liabilities",
           "Central government (incl. social security funds)",
           "Percent of GDP"
          ],
          [
           "Holding gains and losses in liabilities",
           "Central government (incl. social security funds)",
           "Percent of GDP"
          ],
          [
           "Holding gains and losses in liabilities",
           "State governments",
           "Domestic currency"
          ],
          [
           "Holding gains and losses in liabilities",
           "State governments",
           "Domestic currency"
          ],
          [
           "Holding gains and losses in liabilities",
           "Budgetary central government",
           "Percent of GDP"
          ],
          [
           "Holding gains and losses in liabilities",
           "State governments",
           "Domestic currency"
          ],
          [
           "Volume changes in liabilities",
           "Central government (incl. social security funds)",
           "Percent of GDP"
          ],
          [
           "Volume changes in liabilities",
           "Central government (incl. social security funds)",
           "Percent of GDP"
          ],
          [
           "Volume changes in liabilities",
           "Budgetary central government",
           "Domestic currency"
          ],
          [
           "Other economic flows in liabilities",
           "Extrabudgetary central government",
           "Domestic currency"
          ],
          [
           "Holding gains and losses in liabilities",
           "State governments",
           "Percent of GDP"
          ],
          [
           "Holding gains and losses in liabilities",
           "State governments",
           "Domestic currency"
          ],
          [
           "Volume changes in liabilities",
           "State governments",
           "Domestic currency"
          ],
          [
           "Volume changes in liabilities",
           "State governments",
           "Domestic currency"
          ],
          [
           "Volume changes in liabilities",
           "Budgetary central government",
           "Percent of GDP"
          ],
          [
           "Volume changes in liabilities",
           "State governments",
           "Domestic currency"
          ],
          [
           "Holding gains and losses in liabilities",
           "State governments",
           "Percent of GDP"
          ],
          [
           "Holding gains and losses in liabilities",
           "State governments",
           "Percent of GDP"
          ],
          [
           "Holding gains and losses in liabilities",
           "State governments",
           "Percent of GDP"
          ],
          [
           "Other economic flows in liabilities",
           "Extrabudgetary central government",
           "Domestic currency"
          ],
          [
           "Volume changes in liabilities",
           "State governments",
           "Domestic currency"
          ],
          [
           "Holding gains and losses in liabilities",
           "State governments",
           "Percent of GDP"
          ],
          [
           "Holding gains and losses in liabilities",
           "State governments",
           "Domestic currency"
          ],
          [
           "Volume changes in liabilities",
           "Budgetary central government",
           "Percent of GDP"
          ],
          [
           "Holding gains and losses in liabilities",
           "State governments",
           "Percent of GDP"
          ],
          [
           "Holding gains and losses in liabilities",
           "State governments",
           "Domestic currency"
          ],
          [
           "Volume changes in liabilities",
           "State governments",
           "Percent of GDP"
          ],
          [
           "Volume changes in liabilities",
           "State governments",
           "Percent of GDP"
          ],
          [
           "Volume changes in liabilities",
           "State governments",
           "Percent of GDP"
          ],
          [
           "Volume changes in liabilities",
           "State governments",
           "Percent of GDP"
          ],
          [
           "Volume changes in liabilities",
           "State governments",
           "Domestic currency"
          ],
          [
           "Volume changes in liabilities",
           "State governments",
           "Domestic currency"
          ],
          [
           "Other economic flows in liabilities",
           "Extrabudgetary central government",
           "Domestic currency"
          ],
          [
           "Volume changes in liabilities",
           "State governments",
           "Percent of GDP"
          ],
          [
           "Volume changes in liabilities",
           "State governments",
           "Percent of GDP"
          ],
          [
           "Holding gains and losses in liabilities",
           "Extrabudgetary central government",
           "Domestic currency"
          ],
          [
           "Other economic flows in liabilities",
           "Extrabudgetary central government",
           "Domestic currency"
          ],
          [
           "Holding gains and losses in liabilities",
           "Extrabudgetary central government",
           "Domestic currency"
          ],
          [
           "Holding gains and losses in liabilities",
           "State governments",
           "Percent of GDP"
          ],
          [
           "Volume changes in liabilities",
           "Budgetary central government",
           "Percent of GDP"
          ],
          [
           "Other economic flows in liabilities",
           "Extrabudgetary central government",
           "Percent of GDP"
          ],
          [
           "Other economic flows in liabilities",
           "Budgetary central government",
           "Domestic currency"
          ],
          [
           "Holding gains and losses in liabilities",
           "Extrabudgetary central government",
           "Domestic currency"
          ],
          [
           "Holding gains and losses in liabilities",
           "Extrabudgetary central government",
           "Percent of GDP"
          ],
          [
           "Holding gains and losses in liabilities",
           "Extrabudgetary central government",
           "Domestic currency"
          ],
          [
           "Holding gains and losses in liabilities",
           "Extrabudgetary central government",
           "Domestic currency"
          ],
          [
           "Other economic flows in liabilities",
           "Budgetary central government",
           "Domestic currency"
          ],
          [
           "Holding gains and losses in liabilities",
           "Extrabudgetary central government",
           "Domestic currency"
          ],
          [
           "Other economic flows in liabilities",
           "Extrabudgetary central government",
           "Percent of GDP"
          ],
          [
           "Other economic flows in liabilities",
           "Extrabudgetary central government",
           "Domestic currency"
          ],
          [
           "Other economic flows in liabilities",
           "Extrabudgetary central government",
           "Domestic currency"
          ],
          [
           "Other economic flows in liabilities",
           "Extrabudgetary central government",
           "Domestic currency"
          ],
          [
           "Other economic flows in liabilities",
           "Budgetary central government",
           "Percent of GDP"
          ],
          [
           "Other economic flows in liabilities",
           "Budgetary central government",
           "Percent of GDP"
          ],
          [
           "Volume changes in liabilities",
           "State governments",
           "Domestic currency"
          ],
          [
           "Volume changes in liabilities",
           "Budgetary central government",
           "Domestic currency"
          ],
          [
           "Holding gains and losses in liabilities",
           "Extrabudgetary central government",
           "Domestic currency"
          ],
          [
           "Volume changes in liabilities",
           "State governments",
           "Percent of GDP"
          ],
          [
           "Other economic flows in liabilities",
           "Extrabudgetary central government",
           "Percent of GDP"
          ],
          [
           "Volume changes in liabilities",
           "Budgetary central government",
           "Domestic currency"
          ],
          [
           "Other economic flows in liabilities",
           "Extrabudgetary central government",
           "Percent of GDP"
          ],
          [
           "Holding gains and losses in liabilities",
           "Extrabudgetary central government",
           "Percent of GDP"
          ],
          [
           "Holding gains and losses in liabilities",
           "Extrabudgetary central government",
           "Domestic currency"
          ],
          [
           "Volume changes in liabilities",
           "Budgetary central government",
           "Domestic currency"
          ],
          [
           "Holding gains and losses in liabilities",
           "Extrabudgetary central government",
           "Percent of GDP"
          ],
          [
           "Other economic flows in liabilities",
           "Extrabudgetary central government",
           "Percent of GDP"
          ],
          [
           "Volume changes in liabilities",
           "Extrabudgetary central government",
           "Domestic currency"
          ],
          [
           "Other economic flows in liabilities",
           "Extrabudgetary central government",
           "Percent of GDP"
          ],
          [
           "Holding gains and losses in liabilities",
           "Extrabudgetary central government",
           "Percent of GDP"
          ],
          [
           "Holding gains and losses in liabilities",
           "Extrabudgetary central government",
           "Percent of GDP"
          ],
          [
           "Other economic flows in liabilities",
           "Extrabudgetary central government",
           "Percent of GDP"
          ],
          [
           "Holding gains and losses in liabilities",
           "Extrabudgetary central government",
           "Domestic currency"
          ],
          [
           "Volume changes in liabilities",
           "Extrabudgetary central government",
           "Percent of GDP"
          ],
          [
           "Other economic flows in liabilities",
           "Extrabudgetary central government",
           "Domestic currency"
          ],
          [
           "Volume changes in liabilities",
           "Extrabudgetary central government",
           "Domestic currency"
          ],
          [
           "Holding gains and losses in liabilities",
           "Extrabudgetary central government",
           "Percent of GDP"
          ],
          [
           "Holding gains and losses in liabilities",
           "Extrabudgetary central government",
           "Percent of GDP"
          ],
          [
           "Holding gains and losses in liabilities",
           "Extrabudgetary central government",
           "Percent of GDP"
          ],
          [
           "Holding gains and losses in liabilities",
           "Extrabudgetary central government",
           "Percent of GDP"
          ],
          [
           "Volume changes in liabilities",
           "Extrabudgetary central government",
           "Domestic currency"
          ],
          [
           "Other economic flows in liabilities",
           "Extrabudgetary central government",
           "Percent of GDP"
          ],
          [
           "Other economic flows in liabilities",
           "Extrabudgetary central government",
           "Percent of GDP"
          ],
          [
           "Volume changes in liabilities",
           "Extrabudgetary central government",
           "Domestic currency"
          ],
          [
           "Holding gains and losses in liabilities",
           "Extrabudgetary central government",
           "Domestic currency"
          ],
          [
           "Volume changes in liabilities",
           "Budgetary central government",
           "Percent of GDP"
          ],
          [
           "Holding gains and losses in liabilities",
           "State governments",
           "Domestic currency"
          ],
          [
           "Volume changes in liabilities",
           "Budgetary central government",
           "Percent of GDP"
          ],
          [
           "Volume changes in liabilities",
           "Extrabudgetary central government",
           "Percent of GDP"
          ],
          [
           "Holding gains and losses in liabilities",
           "Extrabudgetary central government",
           "Percent of GDP"
          ],
          [
           "Volume changes in liabilities",
           "Extrabudgetary central government",
           "Domestic currency"
          ],
          [
           "Volume changes in liabilities",
           "Budgetary central government",
           "Percent of GDP"
          ],
          [
           "Volume changes in liabilities",
           "Extrabudgetary central government",
           "Percent of GDP"
          ],
          [
           "Holding gains and losses in liabilities",
           "Extrabudgetary central government",
           "Domestic currency"
          ],
          [
           "Holding gains and losses in liabilities",
           "State governments",
           "Domestic currency"
          ],
          [
           "Holding gains and losses in liabilities",
           "State governments",
           "Percent of GDP"
          ],
          [
           "Other economic flows in liabilities",
           "Extrabudgetary central government",
           "Domestic currency"
          ],
          [
           "Volume changes in liabilities",
           "Extrabudgetary central government",
           "Domestic currency"
          ],
          [
           "Volume changes in liabilities",
           "Extrabudgetary central government",
           "Percent of GDP"
          ],
          [
           "Volume changes in liabilities",
           "Extrabudgetary central government",
           "Percent of GDP"
          ],
          [
           "Holding gains and losses in liabilities",
           "State governments",
           "Percent of GDP"
          ],
          [
           "Volume changes in liabilities",
           "Extrabudgetary central government",
           "Domestic currency"
          ],
          [
           "Volume changes in liabilities",
           "State governments",
           "Domestic currency"
          ],
          [
           "Other economic flows in liabilities",
           "Extrabudgetary central government",
           "Percent of GDP"
          ],
          [
           "Volume changes in liabilities",
           "Extrabudgetary central government",
           "Domestic currency"
          ],
          [
           "Volume changes in liabilities",
           "State governments",
           "Domestic currency"
          ],
          [
           "Volume changes in liabilities",
           "State governments",
           "Percent of GDP"
          ],
          [
           "Other economic flows in liabilities",
           "Extrabudgetary central government",
           "Domestic currency"
          ],
          [
           "Volume changes in liabilities",
           "State governments",
           "Percent of GDP"
          ],
          [
           "Volume changes in liabilities",
           "Extrabudgetary central government",
           "Domestic currency"
          ],
          [
           "Volume changes in liabilities",
           "Extrabudgetary central government",
           "Domestic currency"
          ],
          [
           "Other economic flows in liabilities",
           "Extrabudgetary central government",
           "Percent of GDP"
          ],
          [
           "Volume changes in liabilities",
           "Extrabudgetary central government",
           "Percent of GDP"
          ],
          [
           "Volume changes in liabilities",
           "Extrabudgetary central government",
           "Percent of GDP"
          ],
          [
           "Volume changes in liabilities",
           "Extrabudgetary central government",
           "Percent of GDP"
          ],
          [
           "Volume changes in liabilities",
           "Extrabudgetary central government",
           "Percent of GDP"
          ],
          [
           "Holding gains and losses in liabilities",
           "Extrabudgetary central government",
           "Percent of GDP"
          ],
          [
           "Volume changes in liabilities",
           "Extrabudgetary central government",
           "Percent of GDP"
          ],
          [
           "Volume changes in liabilities",
           "Extrabudgetary central government",
           "Domestic currency"
          ],
          [
           "Volume changes in liabilities",
           "Extrabudgetary central government",
           "Percent of GDP"
          ],
          [
           "Other economic flows in liabilities",
           "State governments",
           "Domestic currency"
          ],
          [
           "Other economic flows in liabilities",
           "State governments",
           "Percent of GDP"
          ],
          [
           "Other economic flows in liabilities",
           "State governments",
           "Domestic currency"
          ],
          [
           "Other economic flows in liabilities",
           "State governments",
           "Percent of GDP"
          ]
         ],
         "hovertemplate": "Folder=GFSISB<br>Sum of Legitimate Entries=%{x}<br>Number of Covered Countries=%{y}<br>Classification Name=%{customdata[0]}<br>Sector Name=%{customdata[1]}<br>Unit Name=%{customdata[2]}<extra></extra>",
         "legendgroup": "GFSISB",
         "marker": {
          "color": "#636efa",
          "symbol": "circle"
         },
         "mode": "markers",
         "name": "GFSISB",
         "showlegend": true,
         "type": "scattergl",
         "x": [
          14692,
          14631,
          14435,
          14373,
          14177,
          14119,
          13917,
          13859,
          11902,
          11639,
          11628,
          11448,
          11368,
          11184,
          10997,
          10920,
          10885,
          10885,
          10880,
          10814,
          10803,
          10802,
          10786,
          10723,
          10721,
          10719,
          10717,
          10702,
          10654,
          10649,
          10640,
          10638,
          10570,
          10539,
          10004,
          9739,
          9694,
          9521,
          9459,
          9351,
          9331,
          9318,
          9300,
          9273,
          9202,
          9199,
          9194,
          9192,
          9189,
          9146,
          9135,
          9100,
          9071,
          9054,
          9041,
          9038,
          9018,
          8946,
          8934,
          8813,
          8753,
          8748,
          8736,
          8734,
          8704,
          8622,
          8586,
          8523,
          8503,
          8472,
          8398,
          8389,
          8385,
          8348,
          8273,
          8271,
          8259,
          8192,
          8161,
          8129,
          8127,
          8122,
          8118,
          8095,
          8091,
          8038,
          8027,
          8010,
          7997,
          7996,
          7967,
          7957,
          7931,
          7902,
          7811,
          7763,
          7725,
          7712,
          7677,
          7663,
          7540,
          7509,
          7502,
          7452,
          7447,
          7427,
          7419,
          7412,
          7408,
          7373,
          7362,
          7339,
          7331,
          7329,
          7328,
          7324,
          7310,
          7310,
          7300,
          7295,
          7290,
          7265,
          7245,
          7232,
          7211,
          7184,
          7180,
          7177,
          7173,
          7143,
          7102,
          7079,
          7037,
          7007,
          6966,
          6958,
          6957,
          6956,
          6928,
          6908,
          6905,
          6869,
          6868,
          6859,
          6857,
          6838,
          6800,
          6800,
          6796,
          6789,
          6748,
          6744,
          6730,
          6712,
          6703,
          6681,
          6679,
          6673,
          6664,
          6664,
          6651,
          6632,
          6618,
          6604,
          6600,
          6593,
          6567,
          6558,
          6553,
          6551,
          6544,
          6538,
          6520,
          6517,
          6516,
          6513,
          6511,
          6504,
          6492,
          6492,
          6479,
          6464,
          6464,
          6460,
          6456,
          6455,
          6438,
          6430,
          6410,
          6408,
          6402,
          6394,
          6384,
          6380,
          6379,
          6371,
          6358,
          6347,
          6345,
          6336,
          6331,
          6318,
          6306,
          6295,
          6284,
          6263,
          6259,
          6244,
          6240,
          6217,
          6216,
          6199,
          6183,
          6182,
          6174,
          6173,
          6160,
          6143,
          6134,
          6113,
          6110,
          6110,
          6089,
          6077,
          6075,
          6075,
          6060,
          6047,
          6035,
          6017,
          6015,
          6014,
          6004,
          5994,
          5979,
          5978,
          5974,
          5963,
          5961,
          5958,
          5950,
          5935,
          5930,
          5928,
          5920,
          5916,
          5888,
          5887,
          5885,
          5878,
          5872,
          5868,
          5868,
          5865,
          5852,
          5851,
          5843,
          5834,
          5800,
          5794,
          5791,
          5767,
          5758,
          5757,
          5754,
          5743,
          5738,
          5733,
          5715,
          5709,
          5684,
          5679,
          5677,
          5671,
          5656,
          5652,
          5647,
          5645,
          5639,
          5634,
          5617,
          5616,
          5583,
          5582,
          5577,
          5554,
          5552,
          5552,
          5549,
          5549,
          5545,
          5545,
          5540,
          5535,
          5532,
          5524,
          5517,
          5505,
          5488,
          5456,
          5447,
          5430,
          5428,
          5421,
          5420,
          5413,
          5412,
          5394,
          5387,
          5387,
          5381,
          5377,
          5368,
          5364,
          5354,
          5349,
          5343,
          5335,
          5334,
          5324,
          5318,
          5311,
          5308,
          5305,
          5284,
          5272,
          5246,
          5243,
          5238,
          5224,
          5218,
          5215,
          5212,
          5211,
          5208,
          5196,
          5189,
          5186,
          5182,
          5179,
          5166,
          5162,
          5148,
          5142,
          5140,
          5135,
          5128,
          5123,
          5122,
          5121,
          5120,
          5111,
          5107,
          5095,
          5075,
          5070,
          5064,
          5062,
          5062,
          5056,
          5035,
          5032,
          5031,
          5029,
          5027,
          5022,
          5022,
          5019,
          5015,
          5014,
          5011,
          5011,
          5007,
          5004,
          4994,
          4977,
          4969,
          4969,
          4968,
          4963,
          4960,
          4960,
          4959,
          4954,
          4950,
          4948,
          4944,
          4940,
          4939,
          4936,
          4931,
          4918,
          4909,
          4909,
          4898,
          4891,
          4888,
          4888,
          4880,
          4879,
          4875,
          4873,
          4866,
          4858,
          4856,
          4854,
          4841,
          4840,
          4839,
          4839,
          4834,
          4833,
          4830,
          4824,
          4821,
          4820,
          4820,
          4816,
          4814,
          4803,
          4799,
          4799,
          4797,
          4783,
          4780,
          4774,
          4772,
          4768,
          4765,
          4759,
          4750,
          4738,
          4736,
          4736,
          4731,
          4724,
          4723,
          4718,
          4714,
          4710,
          4702,
          4695,
          4695,
          4689,
          4676,
          4672,
          4671,
          4659,
          4651,
          4649,
          4637,
          4600,
          4583,
          4580,
          4578,
          4569,
          4561,
          4557,
          4551,
          4547,
          4536,
          4536,
          4532,
          4532,
          4526,
          4518,
          4510,
          4506,
          4499,
          4483,
          4476,
          4476,
          4473,
          4469,
          4464,
          4456,
          4454,
          4452,
          4452,
          4445,
          4441,
          4437,
          4433,
          4407,
          4399,
          4393,
          4391,
          4390,
          4388,
          4379,
          4377,
          4372,
          4367,
          4363,
          4360,
          4351,
          4349,
          4345,
          4344,
          4339,
          4338,
          4334,
          4330,
          4329,
          4328,
          4324,
          4299,
          4299,
          4298,
          4298,
          4297,
          4293,
          4291,
          4287,
          4286,
          4280,
          4273,
          4265,
          4256,
          4255,
          4249,
          4244,
          4239,
          4229,
          4226,
          4217,
          4212,
          4197,
          4186,
          4185,
          4184,
          4177,
          4169,
          4157,
          4154,
          4151,
          4146,
          4145,
          4143,
          4135,
          4132,
          4121,
          4117,
          4116,
          4112,
          4103,
          4078,
          4076,
          4071,
          4069,
          4053,
          4028,
          4026,
          4017,
          4010,
          4005,
          3987,
          3986,
          3983,
          3982,
          3971,
          3938,
          3938,
          3936,
          3927,
          3873,
          3838,
          3837,
          3834,
          3826,
          3824,
          3820,
          3803,
          3801,
          3795,
          3787,
          3765,
          3763,
          3762,
          3761,
          3760,
          3759,
          3757,
          3755,
          3755,
          3745,
          3741,
          3737,
          3736,
          3736,
          3735,
          3735,
          3728,
          3724,
          3714,
          3714,
          3711,
          3705,
          3702,
          3701,
          3694,
          3677,
          3667,
          3666,
          3658,
          3652,
          3649,
          3649,
          3648,
          3648,
          3638,
          3633,
          3631,
          3629,
          3629,
          3627,
          3626,
          3624,
          3622,
          3621,
          3616,
          3605,
          3604,
          3604,
          3604,
          3603,
          3601,
          3600,
          3600,
          3598,
          3598,
          3595,
          3593,
          3593,
          3591,
          3589,
          3588,
          3585,
          3585,
          3582,
          3581,
          3581,
          3579,
          3572,
          3571,
          3571,
          3569,
          3566,
          3565,
          3564,
          3564,
          3563,
          3561,
          3558,
          3558,
          3555,
          3552,
          3550,
          3547,
          3546,
          3543,
          3542,
          3541,
          3540,
          3536,
          3536,
          3533,
          3527,
          3524,
          3523,
          3516,
          3513,
          3509,
          3506,
          3505,
          3501,
          3498,
          3454,
          3450,
          3437,
          3436,
          3433,
          3433,
          3432,
          3411,
          3395,
          3341,
          3332,
          3313,
          3305,
          3294,
          3290,
          3274,
          3264,
          3248,
          3243,
          3241,
          3233,
          3223,
          3220,
          3219,
          3218,
          3218,
          3215,
          3215,
          3208,
          3207,
          3198,
          3177,
          3177,
          3174,
          3169,
          3169,
          3165,
          3164,
          3162,
          3161,
          3158,
          3154,
          3151,
          3147,
          3144,
          3118,
          3117,
          3115,
          3092,
          3080,
          3077,
          3039,
          3039,
          3035,
          3035,
          3029,
          3025,
          3023,
          3019,
          3002,
          2989,
          2986,
          2985,
          2980,
          2978,
          2975,
          2968,
          2953,
          2952,
          2951,
          2942,
          2938,
          2933,
          2931,
          2924,
          2920,
          2910,
          2907,
          2900,
          2900,
          2895,
          2894,
          2892,
          2884,
          2884,
          2879,
          2873,
          2868,
          2867,
          2864,
          2859,
          2859,
          2858,
          2848,
          2838,
          2831,
          2827,
          2823,
          2823,
          2816,
          2811,
          2811,
          2804,
          2801,
          2799,
          2796,
          2793,
          2790,
          2790,
          2788,
          2787,
          2783,
          2768,
          2760,
          2758,
          2750,
          2742,
          2730,
          2722,
          2694,
          2690,
          2676,
          2672,
          2668,
          2658,
          2657,
          2657,
          2654,
          2653,
          2646,
          2642,
          2629,
          2626,
          2624,
          2623,
          2622,
          2618,
          2615,
          2610,
          2607,
          2607,
          2603,
          2578,
          2571,
          2569,
          2568,
          2559,
          2556,
          2551,
          2548,
          2544,
          2541,
          2535,
          2533,
          2531,
          2520,
          2509,
          2505,
          2503,
          2499,
          2490,
          2476,
          2474,
          2467,
          2461,
          2460,
          2456,
          2449,
          2448,
          2439,
          2439,
          2437,
          2434,
          2433,
          2430,
          2426,
          2424,
          2417,
          2379,
          2359,
          2357,
          2252,
          2251,
          2228,
          2227,
          2211,
          2210,
          2208,
          2202,
          2200,
          2197,
          2186,
          2183,
          2179,
          2168,
          2159,
          2148,
          2145,
          2138,
          2135,
          2132,
          2131,
          2129,
          2129,
          2129,
          2128,
          2128,
          2116,
          2108,
          2105,
          2103,
          2101,
          2094,
          2093,
          2088,
          2086,
          2074,
          2066,
          2064,
          2063,
          2048,
          2040,
          2032,
          2026,
          2020,
          2012,
          2007,
          2001,
          1998,
          1997,
          1986,
          1978,
          1970,
          1964,
          1957,
          1951,
          1950,
          1947,
          1946,
          1929,
          1923,
          1922,
          1916,
          1915,
          1910,
          1905,
          1895,
          1884,
          1884,
          1860,
          1850,
          1826,
          1821,
          1793,
          1793,
          1783,
          1780,
          1772,
          1765,
          1753,
          1752,
          1749,
          1746,
          1746,
          1745,
          1744,
          1742,
          1737,
          1735,
          1734,
          1730,
          1729,
          1725,
          1724,
          1720,
          1720,
          1717,
          1714,
          1714,
          1713,
          1710,
          1710,
          1709,
          1707,
          1699,
          1694,
          1692,
          1691,
          1690,
          1687,
          1685,
          1685,
          1684,
          1684,
          1684,
          1683,
          1677,
          1677,
          1675,
          1674,
          1672,
          1669,
          1669,
          1666,
          1663,
          1656,
          1655,
          1650,
          1648,
          1642,
          1642,
          1641,
          1639,
          1635,
          1634,
          1634,
          1633,
          1632,
          1630,
          1630,
          1620,
          1619,
          1618,
          1618,
          1616,
          1616,
          1615,
          1613,
          1611,
          1610,
          1609,
          1609,
          1609,
          1607,
          1606,
          1605,
          1602,
          1598,
          1597,
          1596,
          1596,
          1594,
          1593,
          1593,
          1590,
          1586,
          1585,
          1585,
          1582,
          1582,
          1581,
          1580,
          1578,
          1574,
          1568,
          1562,
          1560,
          1557,
          1551,
          1547,
          1545,
          1540,
          1537,
          1533,
          1527,
          1523,
          1522,
          1522,
          1521,
          1521,
          1520,
          1520,
          1519,
          1518,
          1516,
          1516,
          1515,
          1513,
          1511,
          1511,
          1509,
          1506,
          1505,
          1504,
          1504,
          1504,
          1502,
          1501,
          1501,
          1501,
          1500,
          1497,
          1497,
          1497,
          1492,
          1491,
          1491,
          1490,
          1489,
          1488,
          1488,
          1485,
          1485,
          1484,
          1482,
          1482,
          1479,
          1478,
          1478,
          1478,
          1477,
          1476,
          1475,
          1474,
          1474,
          1473,
          1471,
          1471,
          1471,
          1470,
          1469,
          1468,
          1468,
          1467,
          1465,
          1464,
          1462,
          1456,
          1455,
          1454,
          1453,
          1450,
          1449,
          1449,
          1449,
          1446,
          1446,
          1443,
          1443,
          1443,
          1440,
          1439,
          1439,
          1434,
          1434,
          1433,
          1430,
          1423,
          1421,
          1420,
          1417,
          1413,
          1411,
          1394,
          1391,
          1390,
          1389,
          1389,
          1387,
          1384,
          1382,
          1382,
          1381,
          1372,
          1368,
          1364,
          1361,
          1357,
          1356,
          1354,
          1353,
          1350,
          1349,
          1346,
          1343,
          1342,
          1341,
          1340,
          1337,
          1337,
          1333,
          1331,
          1329,
          1328,
          1328,
          1328,
          1327,
          1326,
          1320,
          1319,
          1318,
          1310,
          1310,
          1306,
          1304,
          1301,
          1301,
          1300,
          1297,
          1293,
          1288,
          1274,
          1265,
          1260,
          1257,
          1256,
          1255,
          1254,
          1251,
          1247,
          1241,
          1239,
          1233,
          1224,
          1216,
          1204,
          1202,
          1198,
          1194,
          1194,
          1190,
          1188,
          1185,
          1175,
          1156,
          1156,
          1153,
          1153,
          1152,
          1139,
          1137,
          1123,
          1120,
          1120,
          1119,
          1118,
          1118,
          1117,
          1116,
          1114,
          1112,
          1109,
          1103,
          1098,
          1096,
          1095,
          1094,
          1088,
          1074,
          1072,
          1072,
          1068,
          1068,
          1067,
          1061,
          1059,
          1047,
          1047,
          1046,
          1046,
          1046,
          1045,
          1039,
          1033,
          1032,
          1024,
          1018,
          995,
          995,
          988,
          988,
          980,
          976,
          961,
          957,
          944,
          944,
          944,
          944,
          943,
          938,
          938,
          936,
          932,
          931,
          926,
          926,
          925,
          925,
          908,
          908,
          905,
          904,
          904,
          898,
          896,
          895,
          895,
          888,
          879,
          878,
          875,
          872,
          869,
          866,
          866,
          866,
          865,
          863,
          857,
          857,
          857,
          855,
          855,
          853,
          853,
          851,
          851,
          848,
          848,
          845,
          842,
          838,
          822,
          820,
          820,
          819,
          819,
          819,
          818,
          817,
          815,
          811,
          809,
          807,
          807,
          801,
          798,
          797,
          796,
          793,
          787,
          776,
          774,
          774,
          774,
          774,
          772,
          772,
          754,
          751,
          749,
          749,
          747,
          746,
          746,
          745,
          745,
          745,
          744,
          743,
          743,
          743,
          739,
          739,
          737,
          734,
          726,
          724,
          721,
          721,
          721,
          720,
          719,
          719,
          717,
          715,
          713,
          712,
          703,
          703,
          701,
          697,
          697,
          690,
          690,
          689,
          687,
          679,
          678,
          672,
          668,
          657,
          655,
          654,
          640,
          640,
          635,
          634,
          633,
          632,
          631,
          626,
          625,
          624,
          624,
          623,
          622,
          622,
          622,
          616,
          615,
          610,
          610,
          609,
          609,
          609,
          607,
          607,
          607,
          605,
          605,
          604,
          604,
          603,
          603,
          602,
          602,
          598,
          595,
          594,
          593,
          593,
          593,
          592,
          592,
          591,
          591,
          590,
          587,
          587,
          587,
          586,
          585,
          584,
          583,
          581,
          581,
          579,
          578,
          574,
          574,
          573,
          572,
          572,
          572,
          572,
          572,
          570,
          567,
          565,
          565,
          563,
          563,
          563,
          562,
          562,
          560,
          559,
          559,
          556,
          556,
          553,
          550,
          549,
          549,
          547,
          547,
          546,
          546,
          545,
          544,
          542,
          542,
          541,
          540,
          538,
          536,
          535,
          535,
          534,
          532,
          530,
          529,
          527,
          526,
          526,
          525,
          525,
          523,
          522,
          522,
          521,
          520,
          515,
          515,
          514,
          514,
          513,
          511,
          510,
          509,
          508,
          507,
          507,
          505,
          505,
          503,
          503,
          502,
          499,
          498,
          498,
          497,
          496,
          495,
          494,
          494,
          493,
          492,
          487,
          477,
          475,
          475,
          473,
          471,
          468,
          453,
          429,
          397,
          395,
          391,
          389
         ],
         "xaxis": "x",
         "y": [
          169,
          169,
          168,
          168,
          160,
          160,
          159,
          159,
          158,
          154,
          160,
          158,
          156,
          154,
          156,
          157,
          157,
          157,
          158,
          158,
          158,
          157,
          152,
          153,
          153,
          153,
          154,
          157,
          113,
          154,
          153,
          154,
          111,
          153,
          110,
          134,
          134,
          133,
          133,
          119,
          107,
          119,
          140,
          109,
          118,
          138,
          140,
          118,
          138,
          139,
          139,
          138,
          136,
          137,
          137,
          137,
          121,
          135,
          120,
          120,
          106,
          101,
          135,
          119,
          115,
          134,
          135,
          100,
          135,
          134,
          87,
          134,
          134,
          114,
          137,
          133,
          137,
          137,
          136,
          87,
          134,
          136,
          122,
          135,
          135,
          104,
          135,
          104,
          121,
          134,
          133,
          134,
          103,
          103,
          109,
          108,
          109,
          109,
          108,
          108,
          106,
          90,
          90,
          105,
          92,
          106,
          104,
          90,
          90,
          99,
          99,
          98,
          92,
          90,
          98,
          103,
          105,
          105,
          90,
          104,
          103,
          104,
          102,
          89,
          114,
          90,
          111,
          98,
          103,
          97,
          113,
          110,
          98,
          97,
          91,
          96,
          89,
          107,
          95,
          106,
          99,
          106,
          91,
          87,
          99,
          100,
          88,
          105,
          96,
          102,
          96,
          102,
          97,
          85,
          88,
          99,
          101,
          85,
          102,
          100,
          100,
          85,
          99,
          101,
          87,
          84,
          106,
          101,
          87,
          88,
          101,
          85,
          100,
          105,
          101,
          103,
          97,
          88,
          95,
          106,
          98,
          84,
          102,
          100,
          94,
          102,
          98,
          105,
          99,
          98,
          98,
          101,
          98,
          97,
          86,
          90,
          97,
          84,
          98,
          86,
          90,
          84,
          83,
          97,
          89,
          83,
          85,
          89,
          92,
          100,
          85,
          78,
          88,
          99,
          89,
          91,
          80,
          88,
          89,
          77,
          98,
          95,
          81,
          93,
          89,
          97,
          81,
          96,
          89,
          83,
          78,
          86,
          95,
          82,
          70,
          83,
          86,
          87,
          80,
          95,
          88,
          75,
          93,
          77,
          69,
          88,
          71,
          92,
          78,
          94,
          70,
          87,
          80,
          85,
          89,
          74,
          80,
          87,
          69,
          74,
          68,
          82,
          86,
          95,
          92,
          80,
          89,
          105,
          85,
          95,
          98,
          85,
          80,
          88,
          80,
          100,
          104,
          85,
          85,
          73,
          83,
          97,
          91,
          87,
          85,
          81,
          79,
          83,
          71,
          72,
          97,
          90,
          71,
          82,
          82,
          72,
          71,
          71,
          84,
          80,
          79,
          78,
          77,
          67,
          67,
          66,
          66,
          72,
          82,
          72,
          85,
          86,
          86,
          78,
          81,
          71,
          83,
          71,
          84,
          82,
          73,
          73,
          83,
          82,
          83,
          79,
          83,
          82,
          82,
          81,
          85,
          65,
          61,
          61,
          64,
          82,
          65,
          85,
          64,
          66,
          66,
          74,
          68,
          73,
          68,
          64,
          63,
          60,
          60,
          84,
          67,
          81,
          67,
          86,
          80,
          71,
          66,
          83,
          71,
          66,
          67,
          65,
          64,
          63,
          82,
          67,
          62,
          65,
          67,
          64,
          60,
          60,
          67,
          79,
          76,
          64,
          75,
          66,
          71,
          64,
          66,
          64,
          85,
          65,
          64,
          65,
          70,
          65,
          67,
          65,
          66,
          66,
          66,
          81,
          77,
          81,
          64,
          78,
          71,
          63,
          64,
          76,
          77,
          64,
          70,
          77,
          60,
          80,
          115,
          75,
          78,
          73,
          65,
          59,
          65,
          58,
          58,
          60,
          63,
          63,
          60,
          62,
          77,
          113,
          62,
          76,
          76,
          72,
          74,
          67,
          66,
          75,
          59,
          59,
          74,
          79,
          79,
          82,
          66,
          75,
          65,
          61,
          75,
          60,
          61,
          59,
          76,
          83,
          58,
          58,
          80,
          87,
          64,
          80,
          79,
          72,
          64,
          63,
          76,
          63,
          71,
          64,
          76,
          111,
          71,
          70,
          63,
          87,
          79,
          75,
          109,
          87,
          83,
          69,
          75,
          75,
          68,
          59,
          59,
          74,
          71,
          84,
          70,
          87,
          79,
          69,
          75,
          84,
          74,
          68,
          73,
          82,
          85,
          84,
          85,
          76,
          73,
          82,
          66,
          86,
          66,
          74,
          60,
          74,
          60,
          74,
          86,
          82,
          85,
          74,
          80,
          84,
          85,
          72,
          65,
          65,
          85,
          73,
          73,
          74,
          82,
          84,
          81,
          73,
          83,
          67,
          82,
          72,
          73,
          83,
          82,
          82,
          68,
          82,
          64,
          65,
          81,
          63,
          79,
          71,
          81,
          64,
          58,
          57,
          63,
          65,
          114,
          62,
          66,
          61,
          60,
          112,
          60,
          60,
          59,
          64,
          61,
          61,
          61,
          58,
          58,
          50,
          50,
          74,
          59,
          70,
          59,
          53,
          53,
          59,
          70,
          78,
          59,
          58,
          79,
          79,
          74,
          74,
          51,
          66,
          76,
          77,
          74,
          74,
          50,
          78,
          79,
          48,
          48,
          79,
          74,
          76,
          77,
          74,
          56,
          79,
          77,
          79,
          76,
          65,
          65,
          76,
          79,
          77,
          52,
          52,
          50,
          50,
          50,
          50,
          72,
          73,
          72,
          76,
          75,
          48,
          73,
          55,
          48,
          47,
          47,
          58,
          50,
          50,
          54,
          53,
          58,
          49,
          49,
          50,
          50,
          48,
          49,
          49,
          64,
          47,
          73,
          73,
          64,
          55,
          50,
          50,
          73,
          73,
          48,
          73,
          48,
          55,
          47,
          48,
          53,
          47,
          53,
          48,
          47,
          50,
          47,
          50,
          50,
          48,
          72,
          50,
          49,
          47,
          72,
          49,
          49,
          49,
          49,
          55,
          49,
          49,
          49,
          49,
          49,
          49,
          49,
          50,
          50,
          50,
          46,
          46,
          50,
          54,
          51,
          51,
          55,
          54,
          55,
          54,
          68,
          73,
          70,
          69,
          51,
          50,
          68,
          67,
          66,
          66,
          67,
          49,
          49,
          49,
          49,
          67,
          67,
          65,
          65,
          48,
          48,
          65,
          65,
          48,
          48,
          48,
          48,
          65,
          48,
          48,
          48,
          48,
          44,
          66,
          44,
          65,
          42,
          42,
          59,
          51,
          58,
          51,
          51,
          51,
          57,
          56,
          64,
          75,
          59,
          51,
          59,
          51,
          51,
          51,
          64,
          51,
          74,
          64,
          51,
          63,
          51,
          50,
          61,
          61,
          52,
          59,
          61,
          61,
          59,
          61,
          62,
          63,
          51,
          63,
          51,
          51,
          76,
          50,
          64,
          50,
          59,
          50,
          63,
          50,
          75,
          52,
          52,
          60,
          60,
          60,
          47,
          60,
          60,
          47,
          53,
          62,
          48,
          48,
          53,
          47,
          47,
          59,
          50,
          49,
          51,
          50,
          53,
          53,
          47,
          50,
          47,
          64,
          52,
          49,
          47,
          52,
          47,
          68,
          63,
          65,
          46,
          46,
          51,
          65,
          65,
          45,
          34,
          50,
          45,
          46,
          46,
          65,
          65,
          67,
          48,
          49,
          48,
          49,
          67,
          50,
          65,
          34,
          50,
          52,
          52,
          54,
          56,
          65,
          54,
          53,
          64,
          69,
          64,
          45,
          45,
          53,
          54,
          66,
          53,
          53,
          46,
          54,
          46,
          64,
          64,
          51,
          53,
          52,
          46,
          46,
          46,
          46,
          44,
          34,
          44,
          45,
          44,
          39,
          44,
          44,
          39,
          39,
          37,
          52,
          37,
          36,
          52,
          37,
          34,
          45,
          38,
          39,
          36,
          45,
          33,
          43,
          43,
          34,
          36,
          34,
          37,
          45,
          44,
          45,
          45,
          39,
          53,
          53,
          33,
          39,
          37,
          54,
          39,
          54,
          45,
          37,
          44,
          63,
          37,
          52,
          62,
          52,
          37,
          37,
          37,
          37,
          55,
          43,
          36,
          55,
          43,
          47,
          46,
          35,
          37,
          34,
          33,
          35,
          42,
          40,
          34,
          43,
          34,
          47,
          39,
          36,
          46,
          26,
          36,
          26,
          43,
          44,
          35,
          39,
          46,
          35,
          37,
          34,
          31,
          34,
          44,
          31,
          46,
          46,
          34,
          37,
          46,
          33,
          46,
          33,
          43,
          45,
          43,
          43,
          32,
          43,
          32,
          34,
          45,
          34,
          41,
          34,
          34,
          64,
          32,
          47,
          46,
          47,
          47,
          43,
          47,
          43,
          35,
          63,
          45,
          43,
          34,
          43,
          34,
          34,
          47,
          41,
          41,
          46,
          46,
          40,
          40,
          46,
          44,
          44,
          46,
          44,
          41,
          44,
          41,
          41,
          44,
          45,
          40,
          44,
          40,
          44,
          39,
          45,
          40,
          40,
          41,
          44,
          42,
          39,
          43,
          43,
          36,
          43,
          45,
          43,
          40,
          34,
          42,
          40,
          39,
          40,
          26,
          43,
          43,
          40,
          39,
          25,
          43,
          43,
          41,
          26,
          46,
          44,
          25,
          24,
          46,
          46,
          41,
          46,
          46,
          46,
          42,
          24,
          25,
          34,
          25,
          34,
          43,
          24,
          33,
          45,
          24,
          33,
          42,
          42,
          45,
          45,
          41,
          41,
          45,
          33,
          45,
          37,
          43,
          34,
          45,
          45,
          32,
          45,
          35,
          41,
          33,
          43,
          41,
          34,
          40,
          42,
          25,
          33,
          40,
          43,
          41,
          26,
          33,
          41,
          42,
          27,
          32,
          41,
          40,
          42,
          40,
          24,
          33,
          42,
          25,
          26,
          38,
          43,
          25,
          32,
          26,
          41,
          25,
          42,
          43,
          42,
          38,
          23,
          41,
          42,
          23,
          25,
          25,
          42,
          26,
          25,
          25,
          41,
          40,
          35,
          40,
          35,
          35,
          43,
          34,
          34,
          34,
          41,
          39,
          39,
          34,
          35,
          33,
          34,
          34,
          34,
          32,
          33,
          33,
          31,
          43,
          41,
          43,
          37,
          42,
          42,
          42,
          41,
          40,
          41,
          42,
          42,
          37,
          40,
          41,
          41,
          42,
          43,
          40,
          25,
          42,
          41,
          32,
          39,
          31,
          24,
          40,
          39,
          39,
          30,
          38,
          39,
          30,
          38,
          25,
          25,
          24,
          24,
          36,
          36,
          25,
          32,
          39,
          39,
          38,
          38,
          24,
          31,
          33,
          30,
          30,
          29,
          29,
          31,
          29,
          29,
          36,
          28,
          36,
          27,
          26,
          28,
          27,
          26,
          28,
          28,
          22,
          22,
          28,
          28,
          36,
          36,
          36,
          22,
          33,
          33,
          36,
          22,
          36,
          42,
          42,
          31,
          31,
          16,
          16,
          36,
          36,
          36,
          40,
          40,
          22,
          22,
          29,
          29,
          28,
          28,
          21,
          21,
          22,
          22,
          15,
          15,
          15,
          15,
          29,
          29,
          41,
          28,
          21,
          28,
          40,
          21,
          15,
          15,
          16,
          16,
          37,
          37,
          37,
          37,
          36,
          36,
          36,
          36,
          18,
          18,
          17,
          42,
          41,
          19,
          17,
          42,
          19,
          19,
          19,
          19,
          19,
          19,
          19,
          18,
          18,
          18,
          42,
          18,
          28,
          27,
          39,
          40,
          39,
          42,
          41,
          41,
          40,
          17,
          39,
          17,
          39,
          40,
          17,
          39,
          40,
          28,
          27,
          41,
          16,
          37,
          16,
          27,
          27,
          15,
          27,
          27,
          27,
          27,
          41,
          26,
          26,
          26,
          26,
          41,
          27,
          27,
          27,
          27,
          27,
          27,
          27,
          27,
          26,
          41,
          26,
          41,
          26,
          26,
          26,
          27,
          40,
          39,
          26,
          27,
          40,
          41,
          40,
          40,
          40,
          26,
          26,
          39,
          40,
          37,
          39,
          25,
          25,
          38,
          37,
          17,
          16,
          16,
          38,
          15,
          38,
          38,
          38,
          23,
          22,
          23,
          22,
          24,
          39,
          36,
          24,
          37,
          26,
          26,
          38,
          36,
          38,
          37,
          37,
          37,
          37,
          32,
          24,
          24,
          17,
          24,
          24,
          17,
          17,
          37,
          17,
          25,
          25,
          37,
          32,
          16,
          17,
          16,
          16,
          36,
          16,
          16,
          16,
          16,
          33,
          16,
          16,
          16,
          36,
          16,
          17,
          15,
          15,
          15,
          15,
          15,
          15,
          32,
          15,
          15,
          31,
          31,
          30,
          16,
          36,
          31,
          35,
          29,
          30,
          29,
          30,
          35,
          30,
          31,
          30,
          31,
          29,
          34,
          34,
          15,
          38,
          29,
          15,
          31,
          37,
          32,
          30,
          30,
          37,
          29,
          29,
          30,
          30,
          30,
          30,
          29,
          29,
          29,
          29,
          29,
          28,
          28,
          29,
          27,
          29,
          30,
          29,
          29,
          29,
          36,
          16,
          36,
          28,
          29,
          30,
          36,
          28,
          28,
          16,
          15,
          28,
          29,
          29,
          29,
          15,
          27,
          15,
          28,
          27,
          14,
          14,
          28,
          14,
          28,
          27,
          28,
          27,
          27,
          27,
          27,
          27,
          27,
          27,
          27,
          15,
          15,
          15,
          15
         ],
         "yaxis": "y"
        },
        {
         "customdata": [
          [
           "Net incurrence of liabilities",
           "Budgetary central government",
           "Domestic currency"
          ],
          [
           "Net incurrence of liabilities",
           "Budgetary central government",
           "Domestic currency"
          ],
          [
           "Net incurrence of liabilities",
           "Budgetary central government",
           "Domestic currency"
          ],
          [
           "Net incurrence of liabilities",
           "Budgetary central government",
           "Percent of GDP"
          ],
          [
           "Net incurrence of liabilities",
           "Budgetary central government",
           "Percent of GDP"
          ],
          [
           "Net incurrence of liabilities",
           "Budgetary central government",
           "Percent of GDP"
          ],
          [
           "Net incurrence of liabilities",
           "Social security funds",
           "Domestic currency"
          ],
          [
           "Net incurrence of liabilities",
           "Social security funds",
           "Domestic currency"
          ],
          [
           "Net incurrence of liabilities",
           "Social security funds",
           "Domestic currency"
          ],
          [
           "Net incurrence of liabilities",
           "Social security funds",
           "Percent of GDP"
          ],
          [
           "Net incurrence of liabilities",
           "Social security funds",
           "Percent of GDP"
          ],
          [
           "Net incurrence of liabilities",
           "Social security funds",
           "Percent of GDP"
          ],
          [
           "Net incurrence of liabilities",
           "General government",
           "Domestic currency"
          ],
          [
           "Net incurrence of liabilities",
           "General government",
           "Percent of GDP"
          ],
          [
           "Net incurrence of liabilities",
           "Social security funds",
           "Domestic currency"
          ],
          [
           "Net incurrence of liabilities",
           "Social security funds",
           "Percent of GDP"
          ],
          [
           "Net incurrence of liabilities",
           "Local governments",
           "Domestic currency"
          ],
          [
           "Net incurrence of liabilities",
           "General government",
           "Domestic currency"
          ],
          [
           "Net incurrence of liabilities",
           "General government",
           "Domestic currency"
          ],
          [
           "Net incurrence of liabilities",
           "General government",
           "Domestic currency"
          ],
          [
           "Net incurrence of liabilities",
           "General government",
           "Domestic currency"
          ],
          [
           "Net incurrence of liabilities",
           "Local governments",
           "Percent of GDP"
          ],
          [
           "Net incurrence of liabilities",
           "Central government (excl. social security funds)",
           "Domestic currency"
          ],
          [
           "Net incurrence of liabilities",
           "General government",
           "Percent of GDP"
          ],
          [
           "Net incurrence of liabilities",
           "General government",
           "Percent of GDP"
          ],
          [
           "Net incurrence of liabilities",
           "General government",
           "Domestic currency"
          ],
          [
           "Net incurrence of liabilities",
           "General government",
           "Percent of GDP"
          ],
          [
           "Net incurrence of liabilities",
           "Central government (excl. social security funds)",
           "Percent of GDP"
          ],
          [
           "Net incurrence of liabilities",
           "General government",
           "Percent of GDP"
          ],
          [
           "Net incurrence of liabilities",
           "Central government (excl. social security funds)",
           "Domestic currency"
          ],
          [
           "Net incurrence of liabilities",
           "Central government (excl. social security funds)",
           "Domestic currency"
          ],
          [
           "Net incurrence of liabilities",
           "General government",
           "Percent of GDP"
          ],
          [
           "Net incurrence of liabilities",
           "Central government (excl. social security funds)",
           "Percent of GDP"
          ],
          [
           "Net incurrence of liabilities",
           "Central government (excl. social security funds)",
           "Percent of GDP"
          ],
          [
           "Net incurrence of liabilities",
           "Central government (incl. social security funds)",
           "Domestic currency"
          ],
          [
           "Net incurrence of liabilities",
           "Central government (incl. social security funds)",
           "Domestic currency"
          ],
          [
           "Net incurrence of liabilities",
           "Central government (incl. social security funds)",
           "Domestic currency"
          ],
          [
           "Net incurrence of liabilities",
           "Central government (incl. social security funds)",
           "Percent of GDP"
          ],
          [
           "Net incurrence of liabilities",
           "Central government (incl. social security funds)",
           "Percent of GDP"
          ],
          [
           "Net incurrence of liabilities",
           "Central government (incl. social security funds)",
           "Percent of GDP"
          ],
          [
           "Net incurrence of liabilities",
           "Central government (incl. social security funds)",
           "Domestic currency"
          ],
          [
           "Net incurrence of liabilities",
           "Central government (incl. social security funds)",
           "Domestic currency"
          ],
          [
           "Net incurrence of liabilities",
           "Central government (incl. social security funds)",
           "Domestic currency"
          ],
          [
           "Net incurrence of liabilities",
           "Central government (incl. social security funds)",
           "Percent of GDP"
          ],
          [
           "Net incurrence of liabilities",
           "Central government (incl. social security funds)",
           "Percent of GDP"
          ],
          [
           "Net incurrence of liabilities",
           "Central government (incl. social security funds)",
           "Percent of GDP"
          ],
          [
           "Net incurrence of liabilities",
           "General government",
           "Domestic currency"
          ],
          [
           "Net incurrence of liabilities",
           "Central government (incl. social security funds)",
           "Domestic currency"
          ],
          [
           "Net incurrence of liabilities",
           "General government",
           "Percent of GDP"
          ],
          [
           "Net incurrence of liabilities",
           "Central government (incl. social security funds)",
           "Percent of GDP"
          ],
          [
           "Net incurrence of liabilities",
           "Extrabudgetary central government",
           "Domestic currency"
          ],
          [
           "Net incurrence of liabilities",
           "Extrabudgetary central government",
           "Domestic currency"
          ],
          [
           "Net incurrence of liabilities",
           "Extrabudgetary central government",
           "Domestic currency"
          ],
          [
           "Net incurrence of liabilities",
           "Social security funds",
           "Domestic currency"
          ],
          [
           "Net incurrence of liabilities",
           "Social security funds",
           "Percent of GDP"
          ],
          [
           "Net incurrence of liabilities",
           "Extrabudgetary central government",
           "Percent of GDP"
          ],
          [
           "Net incurrence of liabilities",
           "Extrabudgetary central government",
           "Percent of GDP"
          ],
          [
           "Net incurrence of liabilities",
           "Extrabudgetary central government",
           "Percent of GDP"
          ],
          [
           "Net incurrence of liabilities",
           "Budgetary central government",
           "Domestic currency"
          ],
          [
           "Net incurrence of liabilities",
           "Budgetary central government",
           "Percent of GDP"
          ],
          [
           "Stock position of liabilities",
           "General government",
           "Domestic currency"
          ],
          [
           "Stock position of liabilities",
           "General government",
           "Percent of GDP"
          ],
          [
           "Stock position of liabilities",
           "General government",
           "Percent of GDP"
          ],
          [
           "Stock position of liabilities",
           "General government",
           "Domestic currency"
          ],
          [
           "Stock position of liabilities",
           "General government",
           "Percent of GDP"
          ],
          [
           "Stock position of liabilities",
           "General government",
           "Domestic currency"
          ],
          [
           "Stock position of liabilities",
           "General government",
           "Domestic currency"
          ],
          [
           "Stock position of liabilities",
           "General government",
           "Percent of GDP"
          ],
          [
           "Stock position of liabilities",
           "Central government (excl. social security funds)",
           "Domestic currency"
          ],
          [
           "Stock position of liabilities",
           "Central government (excl. social security funds)",
           "Percent of GDP"
          ],
          [
           "Stock position of liabilities",
           "Central government (incl. social security funds)",
           "Domestic currency"
          ],
          [
           "Stock position of liabilities",
           "Central government (incl. social security funds)",
           "Percent of GDP"
          ],
          [
           "Stock position of liabilities",
           "Central government (excl. social security funds)",
           "Percent of GDP"
          ],
          [
           "Stock position of liabilities",
           "Central government (excl. social security funds)",
           "Domestic currency"
          ],
          [
           "Stock position of liabilities",
           "Central government (excl. social security funds)",
           "Percent of GDP"
          ],
          [
           "Stock position of liabilities",
           "Central government (excl. social security funds)",
           "Domestic currency"
          ],
          [
           "Stock position of liabilities",
           "Central government (incl. social security funds)",
           "Percent of GDP"
          ],
          [
           "Stock position of liabilities",
           "Central government (incl. social security funds)",
           "Domestic currency"
          ],
          [
           "Stock position of liabilities",
           "Central government (incl. social security funds)",
           "Percent of GDP"
          ],
          [
           "Stock position of liabilities",
           "Central government (incl. social security funds)",
           "Domestic currency"
          ],
          [
           "Stock position of liabilities",
           "Local governments",
           "Percent of GDP"
          ],
          [
           "Stock position of liabilities",
           "Local governments",
           "Domestic currency"
          ],
          [
           "Stock position of liabilities",
           "General government",
           "Percent of GDP"
          ],
          [
           "Stock position of liabilities",
           "General government",
           "Domestic currency"
          ],
          [
           "Stock position of liabilities",
           "General government",
           "Percent of GDP"
          ],
          [
           "Stock position of liabilities",
           "General government",
           "Domestic currency"
          ],
          [
           "Net incurrence of liabilities",
           "Local governments",
           "Domestic currency"
          ],
          [
           "Net incurrence of liabilities",
           "Local governments",
           "Domestic currency"
          ],
          [
           "Net incurrence of liabilities",
           "Local governments",
           "Domestic currency"
          ],
          [
           "Net incurrence of liabilities",
           "Local governments",
           "Domestic currency"
          ],
          [
           "Net incurrence of liabilities",
           "Local governments",
           "Percent of GDP"
          ],
          [
           "Net incurrence of liabilities",
           "Local governments",
           "Percent of GDP"
          ],
          [
           "Net incurrence of liabilities",
           "Local governments",
           "Percent of GDP"
          ],
          [
           "Stock position of liabilities",
           "Central government (incl. social security funds)",
           "Percent of GDP"
          ],
          [
           "Stock position of liabilities",
           "Central government (incl. social security funds)",
           "Domestic currency"
          ],
          [
           "Net incurrence of liabilities",
           "Local governments",
           "Percent of GDP"
          ],
          [
           "Net incurrence of liabilities",
           "Social security funds",
           "Domestic currency"
          ],
          [
           "Stock position of liabilities",
           "General government",
           "Domestic currency"
          ],
          [
           "Stock position of liabilities",
           "General government",
           "Percent of GDP"
          ],
          [
           "Net incurrence of liabilities",
           "Social security funds",
           "Percent of GDP"
          ],
          [
           "Net incurrence of liabilities",
           "Central government (excl. social security funds)",
           "Domestic currency"
          ],
          [
           "Net incurrence of liabilities",
           "Central government (excl. social security funds)",
           "Domestic currency"
          ],
          [
           "Stock position of liabilities",
           "Social security funds",
           "Percent of GDP"
          ],
          [
           "Stock position of liabilities",
           "Social security funds",
           "Domestic currency"
          ],
          [
           "Net incurrence of liabilities",
           "Central government (excl. social security funds)",
           "Domestic currency"
          ],
          [
           "Net incurrence of liabilities",
           "Central government (excl. social security funds)",
           "Percent of GDP"
          ],
          [
           "Net incurrence of liabilities",
           "Central government (excl. social security funds)",
           "Percent of GDP"
          ],
          [
           "Net incurrence of liabilities",
           "Central government (excl. social security funds)",
           "Percent of GDP"
          ],
          [
           "Net incurrence of liabilities",
           "Social security funds",
           "Domestic currency"
          ],
          [
           "Net incurrence of liabilities",
           "Social security funds",
           "Domestic currency"
          ],
          [
           "Net incurrence of liabilities",
           "Social security funds",
           "Domestic currency"
          ],
          [
           "Net incurrence of liabilities",
           "Social security funds",
           "Percent of GDP"
          ],
          [
           "Net incurrence of liabilities",
           "Social security funds",
           "Domestic currency"
          ],
          [
           "Net incurrence of liabilities",
           "Social security funds",
           "Domestic currency"
          ],
          [
           "Net incurrence of liabilities",
           "Social security funds",
           "Percent of GDP"
          ],
          [
           "Net incurrence of liabilities",
           "Social security funds",
           "Percent of GDP"
          ],
          [
           "Net incurrence of liabilities",
           "Extrabudgetary central government",
           "Domestic currency"
          ],
          [
           "Net incurrence of liabilities",
           "Social security funds",
           "Percent of GDP"
          ],
          [
           "Net incurrence of liabilities",
           "Social security funds",
           "Percent of GDP"
          ],
          [
           "Net incurrence of liabilities",
           "Extrabudgetary central government",
           "Percent of GDP"
          ],
          [
           "Net incurrence of liabilities",
           "Central government (incl. social security funds)",
           "Domestic currency"
          ],
          [
           "Net incurrence of liabilities",
           "Central government (incl. social security funds)",
           "Percent of GDP"
          ],
          [
           "Stock position of liabilities",
           "Social security funds",
           "Domestic currency"
          ],
          [
           "Stock position of liabilities",
           "Social security funds",
           "Domestic currency"
          ],
          [
           "Stock position of liabilities",
           "Social security funds",
           "Domestic currency"
          ],
          [
           "Stock position of liabilities",
           "Social security funds",
           "Domestic currency"
          ],
          [
           "Stock position of liabilities",
           "Social security funds",
           "Percent of GDP"
          ],
          [
           "Stock position of liabilities",
           "Social security funds",
           "Percent of GDP"
          ],
          [
           "Stock position of liabilities",
           "Social security funds",
           "Percent of GDP"
          ],
          [
           "Stock position of liabilities",
           "Social security funds",
           "Percent of GDP"
          ],
          [
           "Net incurrence of liabilities",
           "Social security funds",
           "Domestic currency"
          ],
          [
           "Net incurrence of liabilities",
           "Social security funds",
           "Domestic currency"
          ],
          [
           "Net incurrence of liabilities",
           "Social security funds",
           "Percent of GDP"
          ],
          [
           "Net incurrence of liabilities",
           "Local governments",
           "Domestic currency"
          ],
          [
           "Net incurrence of liabilities",
           "Social security funds",
           "Percent of GDP"
          ],
          [
           "Net incurrence of liabilities",
           "Local governments",
           "Percent of GDP"
          ],
          [
           "Net incurrence of liabilities",
           "Central government (excl. social security funds)",
           "Domestic currency"
          ],
          [
           "Net incurrence of liabilities",
           "Central government (excl. social security funds)",
           "Percent of GDP"
          ],
          [
           "Net incurrence of liabilities",
           "Central government (excl. social security funds)",
           "Domestic currency"
          ],
          [
           "Net incurrence of liabilities",
           "Budgetary central government",
           "Domestic currency"
          ],
          [
           "Net incurrence of liabilities",
           "Central government (excl. social security funds)",
           "Percent of GDP"
          ],
          [
           "Net incurrence of liabilities",
           "General government",
           "Domestic currency"
          ],
          [
           "Net incurrence of liabilities",
           "General government",
           "Domestic currency"
          ],
          [
           "Net incurrence of liabilities",
           "Budgetary central government",
           "Percent of GDP"
          ],
          [
           "Net incurrence of liabilities",
           "General government",
           "Domestic currency"
          ],
          [
           "Net incurrence of liabilities",
           "General government",
           "Percent of GDP"
          ],
          [
           "Net incurrence of liabilities",
           "General government",
           "Percent of GDP"
          ],
          [
           "Net incurrence of liabilities",
           "Social security funds",
           "Domestic currency"
          ],
          [
           "Net incurrence of liabilities",
           "General government",
           "Percent of GDP"
          ],
          [
           "Net incurrence of liabilities",
           "Social security funds",
           "Domestic currency"
          ],
          [
           "Net incurrence of liabilities",
           "Social security funds",
           "Percent of GDP"
          ],
          [
           "Net incurrence of liabilities",
           "Social security funds",
           "Percent of GDP"
          ],
          [
           "Net incurrence of liabilities",
           "Budgetary central government",
           "Domestic currency"
          ],
          [
           "Net incurrence of liabilities",
           "Local governments",
           "Domestic currency"
          ],
          [
           "Net incurrence of liabilities",
           "Local governments",
           "Domestic currency"
          ],
          [
           "Net incurrence of liabilities",
           "Local governments",
           "Domestic currency"
          ],
          [
           "Net incurrence of liabilities",
           "Local governments",
           "Domestic currency"
          ],
          [
           "Net incurrence of liabilities",
           "Local governments",
           "Domestic currency"
          ],
          [
           "Net incurrence of liabilities",
           "Budgetary central government",
           "Domestic currency"
          ],
          [
           "Net incurrence of liabilities",
           "Local governments",
           "Percent of GDP"
          ],
          [
           "Net incurrence of liabilities",
           "Budgetary central government",
           "Percent of GDP"
          ],
          [
           "Net incurrence of liabilities",
           "Local governments",
           "Percent of GDP"
          ],
          [
           "Net incurrence of liabilities",
           "Local governments",
           "Percent of GDP"
          ],
          [
           "Net incurrence of liabilities",
           "Local governments",
           "Percent of GDP"
          ],
          [
           "Net incurrence of liabilities",
           "Local governments",
           "Percent of GDP"
          ],
          [
           "Net incurrence of liabilities",
           "Budgetary central government",
           "Percent of GDP"
          ],
          [
           "Net incurrence of liabilities",
           "Budgetary central government",
           "Domestic currency"
          ],
          [
           "Net incurrence of liabilities",
           "Budgetary central government",
           "Domestic currency"
          ],
          [
           "Net incurrence of liabilities",
           "Budgetary central government",
           "Domestic currency"
          ],
          [
           "Net incurrence of liabilities",
           "Social security funds",
           "Domestic currency"
          ],
          [
           "Net incurrence of liabilities",
           "Budgetary central government",
           "Percent of GDP"
          ],
          [
           "Net incurrence of liabilities",
           "Budgetary central government",
           "Percent of GDP"
          ],
          [
           "Net incurrence of liabilities",
           "Budgetary central government",
           "Percent of GDP"
          ],
          [
           "Net incurrence of liabilities",
           "General government",
           "Domestic currency"
          ],
          [
           "Net incurrence of liabilities",
           "Social security funds",
           "Percent of GDP"
          ],
          [
           "Net incurrence of liabilities",
           "General government",
           "Percent of GDP"
          ],
          [
           "Net incurrence of liabilities",
           "Budgetary central government",
           "Domestic currency"
          ],
          [
           "Net incurrence of liabilities",
           "Local governments",
           "Domestic currency"
          ],
          [
           "Net incurrence of liabilities",
           "Local governments",
           "Domestic currency"
          ],
          [
           "Net incurrence of liabilities",
           "Central government (excl. social security funds)",
           "Domestic currency"
          ],
          [
           "Net incurrence of liabilities",
           "Budgetary central government",
           "Percent of GDP"
          ],
          [
           "Net incurrence of liabilities",
           "Central government (excl. social security funds)",
           "Percent of GDP"
          ],
          [
           "Net incurrence of liabilities",
           "Local governments",
           "Percent of GDP"
          ],
          [
           "Net incurrence of liabilities",
           "Central government (excl. social security funds)",
           "Domestic currency"
          ],
          [
           "Net incurrence of liabilities",
           "Central government (excl. social security funds)",
           "Domestic currency"
          ],
          [
           "Net incurrence of liabilities",
           "Local governments",
           "Percent of GDP"
          ],
          [
           "Net incurrence of liabilities",
           "General government",
           "Domestic currency"
          ],
          [
           "Net incurrence of liabilities",
           "General government",
           "Domestic currency"
          ],
          [
           "Net incurrence of liabilities",
           "Extrabudgetary central government",
           "Domestic currency"
          ],
          [
           "Net incurrence of liabilities",
           "Central government (excl. social security funds)",
           "Percent of GDP"
          ],
          [
           "Net incurrence of liabilities",
           "Central government (excl. social security funds)",
           "Percent of GDP"
          ],
          [
           "Net incurrence of liabilities",
           "Central government (excl. social security funds)",
           "Domestic currency"
          ],
          [
           "Net incurrence of liabilities",
           "General government",
           "Percent of GDP"
          ],
          [
           "Net incurrence of liabilities",
           "Central government (excl. social security funds)",
           "Domestic currency"
          ],
          [
           "Net incurrence of liabilities",
           "General government",
           "Percent of GDP"
          ],
          [
           "Net incurrence of liabilities",
           "Extrabudgetary central government",
           "Domestic currency"
          ],
          [
           "Net incurrence of liabilities",
           "General government",
           "Domestic currency"
          ],
          [
           "Net incurrence of liabilities",
           "General government",
           "Domestic currency"
          ],
          [
           "Net incurrence of liabilities",
           "General government",
           "Domestic currency"
          ],
          [
           "Net incurrence of liabilities",
           "Extrabudgetary central government",
           "Domestic currency"
          ],
          [
           "Net incurrence of liabilities",
           "Central government (excl. social security funds)",
           "Percent of GDP"
          ],
          [
           "Net incurrence of liabilities",
           "Central government (excl. social security funds)",
           "Percent of GDP"
          ],
          [
           "Net incurrence of liabilities",
           "General government",
           "Percent of GDP"
          ],
          [
           "Net incurrence of liabilities",
           "Extrabudgetary central government",
           "Percent of GDP"
          ],
          [
           "Net incurrence of liabilities",
           "General government",
           "Percent of GDP"
          ],
          [
           "Net incurrence of liabilities",
           "General government",
           "Percent of GDP"
          ],
          [
           "Net incurrence of liabilities",
           "Extrabudgetary central government",
           "Domestic currency"
          ],
          [
           "Net incurrence of liabilities",
           "Extrabudgetary central government",
           "Domestic currency"
          ],
          [
           "Net incurrence of liabilities",
           "Extrabudgetary central government",
           "Percent of GDP"
          ],
          [
           "Net incurrence of liabilities",
           "Central government (excl. social security funds)",
           "Domestic currency"
          ],
          [
           "Net incurrence of liabilities",
           "Extrabudgetary central government",
           "Percent of GDP"
          ],
          [
           "Net incurrence of liabilities",
           "Extrabudgetary central government",
           "Domestic currency"
          ],
          [
           "Net incurrence of liabilities",
           "Central government (excl. social security funds)",
           "Percent of GDP"
          ],
          [
           "Net incurrence of liabilities",
           "Central government (incl. social security funds)",
           "Domestic currency"
          ],
          [
           "Net incurrence of liabilities",
           "Central government (excl. social security funds)",
           "Domestic currency"
          ],
          [
           "Net incurrence of liabilities",
           "Extrabudgetary central government",
           "Percent of GDP"
          ],
          [
           "Net incurrence of liabilities",
           "Extrabudgetary central government",
           "Percent of GDP"
          ],
          [
           "Net incurrence of liabilities",
           "Central government (excl. social security funds)",
           "Percent of GDP"
          ],
          [
           "Net incurrence of liabilities",
           "Central government (incl. social security funds)",
           "Percent of GDP"
          ],
          [
           "Net incurrence of liabilities",
           "Extrabudgetary central government",
           "Percent of GDP"
          ],
          [
           "Net incurrence of liabilities",
           "Extrabudgetary central government",
           "Domestic currency"
          ],
          [
           "Net incurrence of liabilities",
           "Central government (incl. social security funds)",
           "Domestic currency"
          ],
          [
           "Net incurrence of liabilities",
           "Central government (incl. social security funds)",
           "Domestic currency"
          ],
          [
           "Net incurrence of liabilities",
           "Central government (incl. social security funds)",
           "Percent of GDP"
          ],
          [
           "Net incurrence of liabilities",
           "Central government (incl. social security funds)",
           "Percent of GDP"
          ],
          [
           "Net incurrence of liabilities",
           "Extrabudgetary central government",
           "Percent of GDP"
          ],
          [
           "Net incurrence of liabilities",
           "Central government (incl. social security funds)",
           "Domestic currency"
          ],
          [
           "Net incurrence of liabilities",
           "Central government (incl. social security funds)",
           "Domestic currency"
          ],
          [
           "Net incurrence of liabilities",
           "Central government (incl. social security funds)",
           "Domestic currency"
          ],
          [
           "Net incurrence of liabilities",
           "Local governments",
           "Domestic currency"
          ],
          [
           "Net incurrence of liabilities",
           "Local governments",
           "Domestic currency"
          ],
          [
           "Net incurrence of liabilities",
           "Central government (incl. social security funds)",
           "Percent of GDP"
          ],
          [
           "Net incurrence of liabilities",
           "Central government (incl. social security funds)",
           "Percent of GDP"
          ],
          [
           "Net incurrence of liabilities",
           "Central government (incl. social security funds)",
           "Percent of GDP"
          ],
          [
           "Net incurrence of liabilities",
           "Local governments",
           "Percent of GDP"
          ],
          [
           "Net incurrence of liabilities",
           "Local governments",
           "Percent of GDP"
          ],
          [
           "Net incurrence of liabilities",
           "Budgetary central government",
           "Domestic currency"
          ],
          [
           "Net incurrence of liabilities",
           "Budgetary central government",
           "Domestic currency"
          ],
          [
           "Net incurrence of liabilities",
           "Local governments",
           "Domestic currency"
          ],
          [
           "Net incurrence of liabilities",
           "Budgetary central government",
           "Percent of GDP"
          ],
          [
           "Net incurrence of liabilities",
           "Budgetary central government",
           "Percent of GDP"
          ],
          [
           "Net incurrence of liabilities",
           "Local governments",
           "Percent of GDP"
          ],
          [
           "Net incurrence of liabilities",
           "Extrabudgetary central government",
           "Domestic currency"
          ],
          [
           "Net incurrence of liabilities",
           "Budgetary central government",
           "Domestic currency"
          ],
          [
           "Net incurrence of liabilities",
           "Budgetary central government",
           "Domestic currency"
          ],
          [
           "Net incurrence of liabilities",
           "Central government (excl. social security funds)",
           "Domestic currency"
          ],
          [
           "Net incurrence of liabilities",
           "Extrabudgetary central government",
           "Domestic currency"
          ],
          [
           "Net incurrence of liabilities",
           "Central government (excl. social security funds)",
           "Percent of GDP"
          ],
          [
           "Net incurrence of liabilities",
           "Extrabudgetary central government",
           "Domestic currency"
          ],
          [
           "Net incurrence of liabilities",
           "Extrabudgetary central government",
           "Domestic currency"
          ],
          [
           "Net incurrence of liabilities",
           "Budgetary central government",
           "Domestic currency"
          ],
          [
           "Net incurrence of liabilities",
           "Budgetary central government",
           "Percent of GDP"
          ],
          [
           "Net incurrence of liabilities",
           "Budgetary central government",
           "Percent of GDP"
          ],
          [
           "Net incurrence of liabilities",
           "Extrabudgetary central government",
           "Domestic currency"
          ],
          [
           "Net incurrence of liabilities",
           "Extrabudgetary central government",
           "Percent of GDP"
          ],
          [
           "Net incurrence of liabilities",
           "Extrabudgetary central government",
           "Percent of GDP"
          ],
          [
           "Net incurrence of liabilities",
           "Budgetary central government",
           "Percent of GDP"
          ],
          [
           "Net incurrence of liabilities",
           "Extrabudgetary central government",
           "Percent of GDP"
          ],
          [
           "Net incurrence of liabilities",
           "Extrabudgetary central government",
           "Percent of GDP"
          ],
          [
           "Net incurrence of liabilities",
           "Extrabudgetary central government",
           "Percent of GDP"
          ],
          [
           "Net incurrence of liabilities",
           "State governments",
           "Domestic currency"
          ],
          [
           "Net incurrence of liabilities",
           "State governments",
           "Domestic currency"
          ],
          [
           "Net incurrence of liabilities",
           "State governments",
           "Domestic currency"
          ],
          [
           "Net incurrence of liabilities",
           "State governments",
           "Percent of GDP"
          ],
          [
           "Net incurrence of liabilities",
           "Central government (incl. social security funds)",
           "Domestic currency"
          ],
          [
           "Net incurrence of liabilities",
           "State governments",
           "Percent of GDP"
          ],
          [
           "Net incurrence of liabilities",
           "State governments",
           "Percent of GDP"
          ],
          [
           "Net incurrence of liabilities",
           "State governments",
           "Domestic currency"
          ],
          [
           "Net incurrence of liabilities",
           "Central government (incl. social security funds)",
           "Percent of GDP"
          ],
          [
           "Net incurrence of liabilities",
           "State governments",
           "Percent of GDP"
          ],
          [
           "Stock position of liabilities",
           "Extrabudgetary central government",
           "Domestic currency"
          ],
          [
           "Stock position of liabilities",
           "Extrabudgetary central government",
           "Domestic currency"
          ],
          [
           "Stock position of liabilities",
           "Extrabudgetary central government",
           "Domestic currency"
          ],
          [
           "Stock position of liabilities",
           "Extrabudgetary central government",
           "Domestic currency"
          ],
          [
           "Stock position of liabilities",
           "Extrabudgetary central government",
           "Percent of GDP"
          ],
          [
           "Stock position of liabilities",
           "Extrabudgetary central government",
           "Percent of GDP"
          ],
          [
           "Stock position of liabilities",
           "Extrabudgetary central government",
           "Percent of GDP"
          ],
          [
           "Stock position of liabilities",
           "Extrabudgetary central government",
           "Percent of GDP"
          ],
          [
           "Net incurrence of liabilities",
           "Central government (incl. social security funds)",
           "Domestic currency"
          ],
          [
           "Net incurrence of liabilities",
           "Central government (incl. social security funds)",
           "Percent of GDP"
          ],
          [
           "Net incurrence of liabilities",
           "State governments",
           "Domestic currency"
          ],
          [
           "Net incurrence of liabilities",
           "State governments",
           "Percent of GDP"
          ],
          [
           "Stock position of liabilities",
           "Local governments",
           "Domestic currency"
          ],
          [
           "Stock position of liabilities",
           "Local governments",
           "Domestic currency"
          ],
          [
           "Stock position of liabilities",
           "Local governments",
           "Domestic currency"
          ],
          [
           "Stock position of liabilities",
           "Local governments",
           "Domestic currency"
          ],
          [
           "Stock position of liabilities",
           "Local governments",
           "Percent of GDP"
          ],
          [
           "Stock position of liabilities",
           "Local governments",
           "Percent of GDP"
          ],
          [
           "Stock position of liabilities",
           "Local governments",
           "Percent of GDP"
          ],
          [
           "Stock position of liabilities",
           "Local governments",
           "Percent of GDP"
          ],
          [
           "Net incurrence of liabilities",
           "State governments",
           "Domestic currency"
          ],
          [
           "Net incurrence of liabilities",
           "State governments",
           "Percent of GDP"
          ],
          [
           "Net incurrence of liabilities",
           "State governments",
           "Domestic currency"
          ],
          [
           "Net incurrence of liabilities",
           "State governments",
           "Domestic currency"
          ],
          [
           "Net incurrence of liabilities",
           "State governments",
           "Domestic currency"
          ],
          [
           "Net incurrence of liabilities",
           "State governments",
           "Percent of GDP"
          ],
          [
           "Net incurrence of liabilities",
           "State governments",
           "Domestic currency"
          ],
          [
           "Net incurrence of liabilities",
           "State governments",
           "Percent of GDP"
          ],
          [
           "Net incurrence of liabilities",
           "State governments",
           "Percent of GDP"
          ],
          [
           "Net incurrence of liabilities",
           "State governments",
           "Percent of GDP"
          ],
          [
           "Net incurrence of liabilities",
           "State governments",
           "Domestic currency"
          ],
          [
           "Net incurrence of liabilities",
           "State governments",
           "Percent of GDP"
          ],
          [
           "Stock position of liabilities",
           "Central government (excl. social security funds)",
           "Domestic currency"
          ],
          [
           "Stock position of liabilities",
           "Central government (excl. social security funds)",
           "Percent of GDP"
          ],
          [
           "Net incurrence of liabilities",
           "State governments",
           "Domestic currency"
          ],
          [
           "Stock position of liabilities",
           "Central government (excl. social security funds)",
           "Domestic currency"
          ],
          [
           "Stock position of liabilities",
           "Central government (excl. social security funds)",
           "Percent of GDP"
          ],
          [
           "Net incurrence of liabilities",
           "State governments",
           "Domestic currency"
          ],
          [
           "Net incurrence of liabilities",
           "State governments",
           "Domestic currency"
          ],
          [
           "Net incurrence of liabilities",
           "State governments",
           "Percent of GDP"
          ],
          [
           "Net incurrence of liabilities",
           "State governments",
           "Percent of GDP"
          ],
          [
           "Net incurrence of liabilities",
           "State governments",
           "Percent of GDP"
          ],
          [
           "Stock position of liabilities",
           "Central government (excl. social security funds)",
           "Percent of GDP"
          ],
          [
           "Stock position of liabilities",
           "Central government (excl. social security funds)",
           "Domestic currency"
          ],
          [
           "Stock position of liabilities",
           "Local governments",
           "Domestic currency"
          ],
          [
           "Stock position of liabilities",
           "Local governments",
           "Percent of GDP"
          ],
          [
           "Stock position of liabilities",
           "Social security funds",
           "Domestic currency"
          ],
          [
           "Stock position of liabilities",
           "Social security funds",
           "Percent of GDP"
          ],
          [
           "Stock position of liabilities",
           "Central government (excl. social security funds)",
           "Domestic currency"
          ],
          [
           "Stock position of liabilities",
           "Central government (excl. social security funds)",
           "Percent of GDP"
          ],
          [
           "Stock position of liabilities",
           "Local governments",
           "Domestic currency"
          ],
          [
           "Stock position of liabilities",
           "Local governments",
           "Percent of GDP"
          ],
          [
           "Stock position of liabilities",
           "Social security funds",
           "Percent of GDP"
          ],
          [
           "Stock position of liabilities",
           "Social security funds",
           "Domestic currency"
          ],
          [
           "Stock position of liabilities",
           "Social security funds",
           "Percent of GDP"
          ],
          [
           "Stock position of liabilities",
           "Social security funds",
           "Domestic currency"
          ],
          [
           "Stock position of liabilities",
           "Local governments",
           "Percent of GDP"
          ],
          [
           "Stock position of liabilities",
           "Local governments",
           "Domestic currency"
          ],
          [
           "Net incurrence of liabilities",
           "State governments",
           "Domestic currency"
          ],
          [
           "Net incurrence of liabilities",
           "State governments",
           "Domestic currency"
          ],
          [
           "Net incurrence of liabilities",
           "State governments",
           "Percent of GDP"
          ],
          [
           "Net incurrence of liabilities",
           "State governments",
           "Percent of GDP"
          ],
          [
           "Stock position of liabilities",
           "Budgetary central government",
           "Percent of GDP"
          ],
          [
           "Stock position of liabilities",
           "Budgetary central government",
           "Domestic currency"
          ],
          [
           "Stock position of liabilities",
           "Central government (excl. social security funds)",
           "Domestic currency"
          ],
          [
           "Stock position of liabilities",
           "Central government (excl. social security funds)",
           "Percent of GDP"
          ],
          [
           "Stock position of liabilities",
           "General government",
           "Domestic currency"
          ],
          [
           "Stock position of liabilities",
           "General government",
           "Percent of GDP"
          ],
          [
           "Stock position of liabilities",
           "Central government (excl. social security funds)",
           "Domestic currency"
          ],
          [
           "Stock position of liabilities",
           "Central government (excl. social security funds)",
           "Percent of GDP"
          ],
          [
           "Stock position of liabilities",
           "Central government (excl. social security funds)",
           "Domestic currency"
          ],
          [
           "Stock position of liabilities",
           "Central government (excl. social security funds)",
           "Percent of GDP"
          ],
          [
           "Stock position of liabilities",
           "General government",
           "Percent of GDP"
          ],
          [
           "Stock position of liabilities",
           "General government",
           "Domestic currency"
          ],
          [
           "Stock position of liabilities",
           "Central government (excl. social security funds)",
           "Domestic currency"
          ],
          [
           "Stock position of liabilities",
           "Central government (excl. social security funds)",
           "Percent of GDP"
          ],
          [
           "Stock position of liabilities",
           "General government",
           "Domestic currency"
          ],
          [
           "Stock position of liabilities",
           "General government",
           "Percent of GDP"
          ],
          [
           "Stock position of liabilities",
           "General government",
           "Percent of GDP"
          ],
          [
           "Stock position of liabilities",
           "General government",
           "Domestic currency"
          ],
          [
           "Stock position of liabilities",
           "General government",
           "Domestic currency"
          ],
          [
           "Stock position of liabilities",
           "General government",
           "Percent of GDP"
          ],
          [
           "Stock position of liabilities",
           "Central government (excl. social security funds)",
           "Domestic currency"
          ],
          [
           "Stock position of liabilities",
           "Central government (excl. social security funds)",
           "Domestic currency"
          ],
          [
           "Stock position of liabilities",
           "Central government (excl. social security funds)",
           "Percent of GDP"
          ],
          [
           "Stock position of liabilities",
           "Central government (excl. social security funds)",
           "Percent of GDP"
          ],
          [
           "Stock position of liabilities",
           "Local governments",
           "Domestic currency"
          ],
          [
           "Stock position of liabilities",
           "Local governments",
           "Domestic currency"
          ],
          [
           "Stock position of liabilities",
           "Local governments",
           "Domestic currency"
          ],
          [
           "Stock position of liabilities",
           "Local governments",
           "Percent of GDP"
          ],
          [
           "Stock position of liabilities",
           "Local governments",
           "Percent of GDP"
          ],
          [
           "Stock position of liabilities",
           "Local governments",
           "Percent of GDP"
          ],
          [
           "Stock position of liabilities",
           "Local governments",
           "Domestic currency"
          ],
          [
           "Stock position of liabilities",
           "Local governments",
           "Percent of GDP"
          ],
          [
           "Stock position of liabilities",
           "Local governments",
           "Percent of GDP"
          ],
          [
           "Stock position of liabilities",
           "Local governments",
           "Domestic currency"
          ],
          [
           "Stock position of liabilities",
           "State governments",
           "Domestic currency"
          ],
          [
           "Stock position of liabilities",
           "State governments",
           "Percent of GDP"
          ],
          [
           "Stock position of liabilities",
           "Central government (excl. social security funds)",
           "Domestic currency"
          ],
          [
           "Stock position of liabilities",
           "Central government (excl. social security funds)",
           "Percent of GDP"
          ],
          [
           "Stock position of liabilities",
           "State governments",
           "Domestic currency"
          ],
          [
           "Stock position of liabilities",
           "State governments",
           "Domestic currency"
          ],
          [
           "Stock position of liabilities",
           "State governments",
           "Domestic currency"
          ],
          [
           "Stock position of liabilities",
           "State governments",
           "Domestic currency"
          ],
          [
           "Stock position of liabilities",
           "Social security funds",
           "Percent of GDP"
          ],
          [
           "Stock position of liabilities",
           "Social security funds",
           "Domestic currency"
          ],
          [
           "Stock position of liabilities",
           "Social security funds",
           "Percent of GDP"
          ],
          [
           "Stock position of liabilities",
           "Social security funds",
           "Percent of GDP"
          ],
          [
           "Stock position of liabilities",
           "Social security funds",
           "Domestic currency"
          ],
          [
           "Stock position of liabilities",
           "Social security funds",
           "Domestic currency"
          ],
          [
           "Stock position of liabilities",
           "State governments",
           "Percent of GDP"
          ],
          [
           "Stock position of liabilities",
           "Social security funds",
           "Percent of GDP"
          ],
          [
           "Stock position of liabilities",
           "State governments",
           "Percent of GDP"
          ],
          [
           "Stock position of liabilities",
           "State governments",
           "Percent of GDP"
          ],
          [
           "Stock position of liabilities",
           "State governments",
           "Percent of GDP"
          ],
          [
           "Stock position of liabilities",
           "Social security funds",
           "Domestic currency"
          ],
          [
           "Stock position of liabilities",
           "Social security funds",
           "Domestic currency"
          ],
          [
           "Stock position of liabilities",
           "Social security funds",
           "Percent of GDP"
          ],
          [
           "Stock position of liabilities",
           "Budgetary central government",
           "Domestic currency"
          ],
          [
           "Stock position of liabilities",
           "Budgetary central government",
           "Percent of GDP"
          ],
          [
           "Stock position of liabilities",
           "Budgetary central government",
           "Domestic currency"
          ],
          [
           "Stock position of liabilities",
           "Budgetary central government",
           "Percent of GDP"
          ],
          [
           "Stock position of liabilities",
           "Budgetary central government",
           "Domestic currency"
          ],
          [
           "Stock position of liabilities",
           "Budgetary central government",
           "Percent of GDP"
          ],
          [
           "Stock position of liabilities",
           "Central government (excl. social security funds)",
           "Domestic currency"
          ],
          [
           "Stock position of liabilities",
           "Central government (excl. social security funds)",
           "Percent of GDP"
          ],
          [
           "Stock position of liabilities",
           "General government",
           "Domestic currency"
          ],
          [
           "Stock position of liabilities",
           "General government",
           "Domestic currency"
          ],
          [
           "Stock position of liabilities",
           "General government",
           "Percent of GDP"
          ],
          [
           "Stock position of liabilities",
           "General government",
           "Percent of GDP"
          ],
          [
           "Stock position of liabilities",
           "Budgetary central government",
           "Percent of GDP"
          ],
          [
           "Stock position of liabilities",
           "Budgetary central government",
           "Domestic currency"
          ],
          [
           "Stock position of liabilities",
           "Extrabudgetary central government",
           "Domestic currency"
          ],
          [
           "Stock position of liabilities",
           "Central government (incl. social security funds)",
           "Percent of GDP"
          ],
          [
           "Stock position of liabilities",
           "Central government (incl. social security funds)",
           "Domestic currency"
          ],
          [
           "Stock position of liabilities",
           "Social security funds",
           "Domestic currency"
          ],
          [
           "Stock position of liabilities",
           "Social security funds",
           "Percent of GDP"
          ],
          [
           "Stock position of liabilities",
           "General government",
           "Domestic currency"
          ],
          [
           "Stock position of liabilities",
           "General government",
           "Percent of GDP"
          ],
          [
           "Stock position of liabilities",
           "Social security funds",
           "Percent of GDP"
          ],
          [
           "Stock position of liabilities",
           "Social security funds",
           "Domestic currency"
          ],
          [
           "Stock position of liabilities",
           "General government",
           "Domestic currency"
          ],
          [
           "Stock position of liabilities",
           "Central government (incl. social security funds)",
           "Domestic currency"
          ],
          [
           "Stock position of liabilities",
           "Central government (incl. social security funds)",
           "Percent of GDP"
          ],
          [
           "Stock position of liabilities",
           "General government",
           "Percent of GDP"
          ],
          [
           "Stock position of liabilities",
           "Central government (incl. social security funds)",
           "Domestic currency"
          ],
          [
           "Stock position of liabilities",
           "Central government (incl. social security funds)",
           "Percent of GDP"
          ],
          [
           "Stock position of liabilities",
           "Central government (incl. social security funds)",
           "Domestic currency"
          ],
          [
           "Stock position of liabilities",
           "Central government (incl. social security funds)",
           "Percent of GDP"
          ],
          [
           "Stock position of liabilities",
           "Local governments",
           "Domestic currency"
          ],
          [
           "Stock position of liabilities",
           "Local governments",
           "Percent of GDP"
          ],
          [
           "Stock position of liabilities",
           "Extrabudgetary central government",
           "Percent of GDP"
          ],
          [
           "Stock position of liabilities",
           "Local governments",
           "Domestic currency"
          ],
          [
           "Stock position of liabilities",
           "Local governments",
           "Percent of GDP"
          ],
          [
           "Stock position of liabilities",
           "Central government (excl. social security funds)",
           "Domestic currency"
          ],
          [
           "Stock position of liabilities",
           "Central government (excl. social security funds)",
           "Percent of GDP"
          ],
          [
           "Stock position of liabilities",
           "Central government (incl. social security funds)",
           "Domestic currency"
          ],
          [
           "Stock position of liabilities",
           "Central government (incl. social security funds)",
           "Percent of GDP"
          ],
          [
           "Stock position of liabilities",
           "Central government (incl. social security funds)",
           "Domestic currency"
          ],
          [
           "Stock position of liabilities",
           "Central government (incl. social security funds)",
           "Percent of GDP"
          ],
          [
           "Stock position of liabilities",
           "Central government (incl. social security funds)",
           "Percent of GDP"
          ],
          [
           "Stock position of liabilities",
           "Central government (incl. social security funds)",
           "Domestic currency"
          ],
          [
           "Stock position of liabilities",
           "Social security funds",
           "Domestic currency"
          ],
          [
           "Stock position of liabilities",
           "Social security funds",
           "Percent of GDP"
          ],
          [
           "Stock position of liabilities",
           "Central government (incl. social security funds)",
           "Domestic currency"
          ],
          [
           "Stock position of liabilities",
           "Central government (incl. social security funds)",
           "Percent of GDP"
          ],
          [
           "Stock position of liabilities",
           "Central government (incl. social security funds)",
           "Domestic currency"
          ],
          [
           "Stock position of liabilities",
           "Central government (incl. social security funds)",
           "Domestic currency"
          ],
          [
           "Stock position of liabilities",
           "Central government (incl. social security funds)",
           "Percent of GDP"
          ],
          [
           "Stock position of liabilities",
           "Central government (incl. social security funds)",
           "Percent of GDP"
          ],
          [
           "Stock position of liabilities",
           "Local governments",
           "Domestic currency"
          ],
          [
           "Stock position of liabilities",
           "Local governments",
           "Percent of GDP"
          ],
          [
           "Stock position of liabilities",
           "Budgetary central government",
           "Domestic currency"
          ],
          [
           "Stock position of liabilities",
           "State governments",
           "Percent of GDP"
          ],
          [
           "Stock position of liabilities",
           "State governments",
           "Domestic currency"
          ],
          [
           "Stock position of liabilities",
           "Budgetary central government",
           "Domestic currency"
          ],
          [
           "Stock position of liabilities",
           "Budgetary central government",
           "Percent of GDP"
          ],
          [
           "Stock position of liabilities",
           "Central government (incl. social security funds)",
           "Domestic currency"
          ],
          [
           "Stock position of liabilities",
           "Central government (incl. social security funds)",
           "Percent of GDP"
          ],
          [
           "Stock position of liabilities",
           "Budgetary central government",
           "Percent of GDP"
          ],
          [
           "Stock position of liabilities",
           "State governments",
           "Percent of GDP"
          ],
          [
           "Stock position of liabilities",
           "State governments",
           "Percent of GDP"
          ],
          [
           "Stock position of liabilities",
           "State governments",
           "Domestic currency"
          ],
          [
           "Stock position of liabilities",
           "State governments",
           "Percent of GDP"
          ],
          [
           "Stock position of liabilities",
           "State governments",
           "Domestic currency"
          ],
          [
           "Stock position of liabilities",
           "State governments",
           "Domestic currency"
          ],
          [
           "Stock position of liabilities",
           "State governments",
           "Domestic currency"
          ],
          [
           "Stock position of liabilities",
           "State governments",
           "Percent of GDP"
          ],
          [
           "Stock position of liabilities",
           "State governments",
           "Domestic currency"
          ],
          [
           "Stock position of liabilities",
           "State governments",
           "Percent of GDP"
          ],
          [
           "Stock position of liabilities",
           "State governments",
           "Domestic currency"
          ],
          [
           "Stock position of liabilities",
           "State governments",
           "Percent of GDP"
          ],
          [
           "Stock position of liabilities",
           "Budgetary central government",
           "Domestic currency"
          ],
          [
           "Stock position of liabilities",
           "State governments",
           "Domestic currency"
          ],
          [
           "Stock position of liabilities",
           "State governments",
           "Percent of GDP"
          ],
          [
           "Stock position of liabilities",
           "Extrabudgetary central government",
           "Percent of GDP"
          ],
          [
           "Stock position of liabilities",
           "Extrabudgetary central government",
           "Domestic currency"
          ],
          [
           "Stock position of liabilities",
           "State governments",
           "Percent of GDP"
          ],
          [
           "Stock position of liabilities",
           "State governments",
           "Domestic currency"
          ],
          [
           "Stock position of liabilities",
           "Budgetary central government",
           "Domestic currency"
          ],
          [
           "Stock position of liabilities",
           "Budgetary central government",
           "Percent of GDP"
          ],
          [
           "Stock position of liabilities",
           "Budgetary central government",
           "Percent of GDP"
          ],
          [
           "Stock position of liabilities",
           "Budgetary central government",
           "Domestic currency"
          ],
          [
           "Stock position of liabilities",
           "Budgetary central government",
           "Domestic currency"
          ],
          [
           "Stock position of liabilities",
           "Budgetary central government",
           "Percent of GDP"
          ],
          [
           "Stock position of liabilities",
           "Budgetary central government",
           "Domestic currency"
          ],
          [
           "Stock position of liabilities",
           "Budgetary central government",
           "Percent of GDP"
          ],
          [
           "Stock position of liabilities",
           "Budgetary central government",
           "Domestic currency"
          ],
          [
           "Stock position of liabilities",
           "Budgetary central government",
           "Domestic currency"
          ],
          [
           "Stock position of liabilities",
           "Budgetary central government",
           "Percent of GDP"
          ],
          [
           "Stock position of liabilities",
           "Budgetary central government",
           "Domestic currency"
          ],
          [
           "Stock position of liabilities",
           "Budgetary central government",
           "Percent of GDP"
          ],
          [
           "Stock position of liabilities",
           "Extrabudgetary central government",
           "Domestic currency"
          ],
          [
           "Stock position of liabilities",
           "Budgetary central government",
           "Percent of GDP"
          ],
          [
           "Stock position of liabilities",
           "Budgetary central government",
           "Percent of GDP"
          ],
          [
           "Stock position of liabilities",
           "Budgetary central government",
           "Percent of GDP"
          ],
          [
           "Stock position of liabilities",
           "Budgetary central government",
           "Domestic currency"
          ],
          [
           "Stock position of liabilities",
           "Extrabudgetary central government",
           "Domestic currency"
          ],
          [
           "Stock position of liabilities",
           "Extrabudgetary central government",
           "Percent of GDP"
          ],
          [
           "Stock position of liabilities",
           "Extrabudgetary central government",
           "Domestic currency"
          ],
          [
           "Stock position of liabilities",
           "Central government (incl. social security funds)",
           "Percent of GDP"
          ],
          [
           "Stock position of liabilities",
           "Central government (incl. social security funds)",
           "Domestic currency"
          ],
          [
           "Stock position of liabilities",
           "State governments",
           "Percent of GDP"
          ],
          [
           "Stock position of liabilities",
           "State governments",
           "Domestic currency"
          ],
          [
           "Stock position of liabilities",
           "State governments",
           "Percent of GDP"
          ],
          [
           "Stock position of liabilities",
           "Extrabudgetary central government",
           "Domestic currency"
          ],
          [
           "Stock position of liabilities",
           "State governments",
           "Domestic currency"
          ],
          [
           "Stock position of liabilities",
           "Extrabudgetary central government",
           "Percent of GDP"
          ],
          [
           "Stock position of liabilities",
           "Extrabudgetary central government",
           "Percent of GDP"
          ],
          [
           "Stock position of liabilities",
           "Extrabudgetary central government",
           "Percent of GDP"
          ],
          [
           "Stock position of liabilities",
           "Extrabudgetary central government",
           "Domestic currency"
          ],
          [
           "Stock position of liabilities",
           "Extrabudgetary central government",
           "Percent of GDP"
          ],
          [
           "Stock position of liabilities",
           "Extrabudgetary central government",
           "Percent of GDP"
          ],
          [
           "Stock position of liabilities",
           "Extrabudgetary central government",
           "Domestic currency"
          ],
          [
           "Stock position of liabilities",
           "Extrabudgetary central government",
           "Domestic currency"
          ],
          [
           "Stock position of liabilities",
           "Extrabudgetary central government",
           "Domestic currency"
          ],
          [
           "Stock position of liabilities",
           "Extrabudgetary central government",
           "Percent of GDP"
          ],
          [
           "Stock position of liabilities",
           "Extrabudgetary central government",
           "Domestic currency"
          ],
          [
           "Stock position of liabilities",
           "Extrabudgetary central government",
           "Percent of GDP"
          ],
          [
           "Stock position of liabilities",
           "Extrabudgetary central government",
           "Percent of GDP"
          ],
          [
           "Stock position of liabilities",
           "Extrabudgetary central government",
           "Domestic currency"
          ],
          [
           "Stock position of liabilities",
           "Extrabudgetary central government",
           "Percent of GDP"
          ]
         ],
         "hovertemplate": "Folder=GFSFALCS<br>Sum of Legitimate Entries=%{x}<br>Number of Covered Countries=%{y}<br>Classification Name=%{customdata[0]}<br>Sector Name=%{customdata[1]}<br>Unit Name=%{customdata[2]}<extra></extra>",
         "legendgroup": "GFSFALCS",
         "marker": {
          "color": "#EF553B",
          "symbol": "circle"
         },
         "mode": "markers",
         "name": "GFSFALCS",
         "showlegend": true,
         "type": "scattergl",
         "x": [
          5716,
          5692,
          5691,
          5614,
          5590,
          5589,
          5432,
          5424,
          5418,
          5336,
          5328,
          5322,
          4974,
          4961,
          4720,
          4680,
          4631,
          4611,
          4610,
          4608,
          4600,
          4598,
          4597,
          4591,
          4590,
          4588,
          4588,
          4583,
          4580,
          4577,
          4568,
          4568,
          4563,
          4554,
          4437,
          4437,
          4434,
          4415,
          4415,
          4412,
          4406,
          4397,
          4394,
          4307,
          4298,
          4295,
          4208,
          4199,
          4188,
          4177,
          4041,
          4035,
          4034,
          4013,
          3972,
          3928,
          3922,
          3921,
          3659,
          3640,
          3419,
          3419,
          3411,
          3411,
          3411,
          3411,
          3389,
          3389,
          3365,
          3365,
          3364,
          3364,
          3315,
          3315,
          3308,
          3308,
          3304,
          3304,
          3301,
          3301,
          3278,
          3278,
          3203,
          3203,
          3199,
          3199,
          3179,
          3168,
          3167,
          3145,
          3140,
          3129,
          3128,
          3126,
          3126,
          3107,
          3050,
          3028,
          3028,
          3017,
          2913,
          2885,
          2880,
          2880,
          2878,
          2868,
          2842,
          2835,
          2827,
          2811,
          2797,
          2794,
          2792,
          2781,
          2778,
          2764,
          2760,
          2759,
          2748,
          2728,
          2709,
          2689,
          2652,
          2652,
          2652,
          2652,
          2613,
          2613,
          2613,
          2613,
          2500,
          2493,
          2460,
          2458,
          2453,
          2439,
          2331,
          2300,
          2287,
          2286,
          2270,
          2265,
          2263,
          2260,
          2255,
          2247,
          2245,
          2244,
          2237,
          2236,
          2204,
          2196,
          2193,
          2188,
          2186,
          2182,
          2180,
          2177,
          2175,
          2169,
          2167,
          2167,
          2163,
          2161,
          2158,
          2149,
          2116,
          2111,
          2106,
          2092,
          2090,
          2085,
          2080,
          2061,
          2052,
          2048,
          2027,
          2009,
          2003,
          1994,
          1993,
          1978,
          1976,
          1975,
          1971,
          1970,
          1959,
          1957,
          1957,
          1955,
          1955,
          1947,
          1946,
          1945,
          1944,
          1941,
          1940,
          1940,
          1935,
          1935,
          1931,
          1929,
          1927,
          1923,
          1923,
          1922,
          1911,
          1907,
          1907,
          1904,
          1901,
          1897,
          1890,
          1884,
          1883,
          1877,
          1873,
          1869,
          1868,
          1863,
          1804,
          1798,
          1795,
          1782,
          1779,
          1767,
          1767,
          1765,
          1765,
          1764,
          1756,
          1751,
          1749,
          1749,
          1727,
          1719,
          1651,
          1643,
          1595,
          1574,
          1564,
          1562,
          1510,
          1503,
          1493,
          1493,
          1492,
          1479,
          1474,
          1457,
          1447,
          1438,
          1434,
          1428,
          1420,
          1420,
          1412,
          1402,
          1399,
          1390,
          1279,
          1269,
          1267,
          1259,
          1258,
          1257,
          1251,
          1243,
          1236,
          1230,
          1203,
          1203,
          1198,
          1190,
          1180,
          1180,
          1175,
          1167,
          1141,
          1119,
          1049,
          1042,
          1032,
          1032,
          1032,
          1032,
          1029,
          1029,
          1029,
          1029,
          983,
          976,
          967,
          966,
          956,
          952,
          951,
          951,
          946,
          945,
          939,
          930,
          782,
          782,
          744,
          741,
          741,
          740,
          739,
          737,
          733,
          732,
          728,
          728,
          704,
          704,
          682,
          682,
          659,
          659,
          656,
          656,
          655,
          655,
          649,
          649,
          644,
          644,
          632,
          627,
          625,
          620,
          602,
          601,
          587,
          587,
          575,
          575,
          570,
          570,
          567,
          567,
          566,
          566,
          563,
          563,
          562,
          562,
          562,
          562,
          560,
          560,
          492,
          492,
          491,
          491,
          489,
          489,
          489,
          489,
          489,
          489,
          489,
          489,
          482,
          482,
          467,
          467,
          462,
          461,
          451,
          451,
          451,
          451,
          447,
          447,
          447,
          447,
          447,
          447,
          445,
          445,
          445,
          445,
          445,
          445,
          441,
          441,
          435,
          435,
          433,
          433,
          410,
          410,
          408,
          407,
          376,
          375,
          374,
          373,
          368,
          368,
          349,
          348,
          348,
          342,
          342,
          338,
          336,
          334,
          334,
          330,
          328,
          328,
          328,
          327,
          327,
          324,
          324,
          322,
          322,
          315,
          308,
          308,
          295,
          295,
          260,
          260,
          253,
          253,
          251,
          251,
          249,
          249,
          247,
          247,
          247,
          247,
          247,
          247,
          242,
          242,
          241,
          204,
          204,
          197,
          197,
          192,
          192,
          189,
          186,
          186,
          186,
          186,
          186,
          186,
          186,
          186,
          186,
          186,
          182,
          182,
          180,
          162,
          162,
          160,
          159,
          158,
          158,
          148,
          146,
          145,
          145,
          134,
          134,
          134,
          126,
          126,
          123,
          123,
          118,
          118,
          117,
          114,
          113,
          95,
          95,
          84,
          82,
          82,
          79,
          79,
          75,
          75,
          70,
          70,
          70,
          65,
          50,
          49,
          41,
          41,
          40,
          40,
          39,
          39,
          39,
          39,
          39,
          39,
          39,
          39
         ],
         "xaxis": "x",
         "y": [
          110,
          110,
          108,
          107,
          107,
          105,
          87,
          87,
          87,
          83,
          83,
          83,
          66,
          65,
          71,
          71,
          59,
          59,
          59,
          59,
          59,
          59,
          63,
          59,
          59,
          59,
          59,
          63,
          59,
          62,
          62,
          59,
          62,
          62,
          57,
          57,
          57,
          57,
          57,
          57,
          79,
          80,
          79,
          76,
          77,
          76,
          58,
          55,
          58,
          55,
          81,
          81,
          81,
          74,
          74,
          78,
          78,
          78,
          86,
          85,
          37,
          37,
          35,
          35,
          35,
          35,
          35,
          35,
          36,
          36,
          37,
          37,
          32,
          32,
          32,
          32,
          34,
          34,
          34,
          34,
          33,
          33,
          31,
          31,
          31,
          31,
          64,
          64,
          64,
          65,
          63,
          63,
          63,
          33,
          33,
          64,
          68,
          34,
          34,
          67,
          68,
          68,
          29,
          29,
          67,
          64,
          64,
          63,
          62,
          62,
          62,
          61,
          62,
          62,
          61,
          61,
          64,
          61,
          61,
          63,
          62,
          61,
          55,
          55,
          55,
          55,
          55,
          55,
          55,
          55,
          59,
          59,
          57,
          56,
          57,
          55,
          57,
          55,
          61,
          63,
          60,
          44,
          43,
          61,
          43,
          43,
          42,
          58,
          42,
          58,
          56,
          56,
          60,
          45,
          44,
          44,
          44,
          44,
          60,
          44,
          58,
          43,
          43,
          43,
          43,
          58,
          59,
          59,
          59,
          58,
          57,
          57,
          57,
          43,
          56,
          42,
          53,
          50,
          50,
          47,
          50,
          46,
          47,
          47,
          47,
          47,
          39,
          39,
          49,
          46,
          44,
          47,
          39,
          46,
          39,
          49,
          39,
          39,
          39,
          49,
          46,
          44,
          39,
          49,
          38,
          39,
          49,
          49,
          48,
          51,
          48,
          49,
          48,
          44,
          51,
          48,
          48,
          48,
          44,
          47,
          50,
          44,
          44,
          44,
          44,
          49,
          43,
          42,
          42,
          50,
          50,
          43,
          42,
          42,
          46,
          46,
          47,
          47,
          38,
          45,
          45,
          36,
          44,
          45,
          45,
          39,
          44,
          36,
          44,
          44,
          44,
          43,
          43,
          44,
          42,
          42,
          43,
          42,
          42,
          42,
          30,
          29,
          30,
          29,
          31,
          29,
          29,
          28,
          30,
          27,
          40,
          40,
          40,
          40,
          40,
          40,
          40,
          40,
          30,
          29,
          24,
          24,
          33,
          33,
          33,
          33,
          33,
          33,
          33,
          33,
          26,
          25,
          25,
          25,
          25,
          24,
          24,
          24,
          24,
          24,
          25,
          24,
          21,
          21,
          24,
          21,
          21,
          23,
          23,
          23,
          22,
          22,
          21,
          21,
          21,
          21,
          21,
          21,
          11,
          11,
          21,
          21,
          21,
          21,
          21,
          21,
          21,
          21,
          24,
          23,
          23,
          22,
          16,
          16,
          11,
          11,
          10,
          10,
          12,
          12,
          10,
          10,
          10,
          10,
          11,
          11,
          10,
          10,
          10,
          10,
          10,
          10,
          23,
          23,
          23,
          23,
          9,
          9,
          9,
          9,
          9,
          9,
          9,
          9,
          9,
          9,
          5,
          5,
          23,
          23,
          15,
          15,
          15,
          15,
          10,
          10,
          10,
          10,
          10,
          10,
          15,
          10,
          15,
          15,
          15,
          10,
          10,
          10,
          20,
          20,
          19,
          19,
          19,
          19,
          22,
          22,
          14,
          14,
          14,
          14,
          20,
          20,
          9,
          13,
          13,
          21,
          21,
          14,
          14,
          20,
          20,
          14,
          13,
          13,
          14,
          13,
          13,
          13,
          13,
          20,
          20,
          9,
          20,
          20,
          9,
          9,
          8,
          8,
          8,
          8,
          8,
          8,
          8,
          8,
          8,
          8,
          8,
          8,
          8,
          8,
          7,
          7,
          10,
          3,
          3,
          10,
          10,
          8,
          8,
          9,
          2,
          2,
          2,
          2,
          2,
          2,
          2,
          2,
          2,
          2,
          3,
          3,
          9,
          4,
          4,
          15,
          15,
          3,
          3,
          8,
          9,
          12,
          12,
          8,
          11,
          11,
          11,
          11,
          10,
          10,
          10,
          10,
          8,
          8,
          8,
          9,
          9,
          5,
          4,
          4,
          6,
          6,
          4,
          4,
          3,
          5,
          3,
          7,
          5,
          4,
          3,
          3,
          4,
          4,
          3,
          3,
          3,
          3,
          3,
          3,
          3,
          3
         ],
         "yaxis": "y"
        },
        {
         "customdata": [
          [
           "Net lending (+) / Net borrowing (-)",
           "Central government (incl. social security funds)",
           "Domestic currency"
          ],
          [
           "Primary net lending / borrowing",
           "Central government (incl. social security funds)",
           "Domestic currency"
          ],
          [
           "Net lending (+) / Net borrowing (-)",
           "Central government (incl. social security funds)",
           "Percent of GDP"
          ],
          [
           "Primary net lending / borrowing",
           "Central government (incl. social security funds)",
           "Percent of GDP"
          ],
          [
           "Net lending (+) / Net borrowing (-)",
           "Budgetary central government",
           "Domestic currency"
          ],
          [
           "Primary net lending / borrowing",
           "Budgetary central government",
           "Domestic currency"
          ],
          [
           "Net lending (+) / Net borrowing (-)",
           "Budgetary central government",
           "Percent of GDP"
          ],
          [
           "Primary net lending / borrowing",
           "Budgetary central government",
           "Percent of GDP"
          ],
          [
           "Net incurrence of liabilities",
           "Budgetary central government",
           "Domestic currency"
          ],
          [
           "Net lending (+) / Net borrowing (-)",
           "Local governments",
           "Domestic currency"
          ],
          [
           "Primary net lending / borrowing",
           "Local governments",
           "Domestic currency"
          ],
          [
           "Net incurrence of liabilities",
           "Budgetary central government",
           "Percent of GDP"
          ],
          [
           "Net lending (+) / Net borrowing (-)",
           "Local governments",
           "Percent of GDP"
          ],
          [
           "Net lending (+) / Net borrowing (-)",
           "General government",
           "Domestic currency"
          ],
          [
           "Primary net lending / borrowing",
           "Local governments",
           "Percent of GDP"
          ],
          [
           "Net lending (+) / Net borrowing (-)",
           "Central government (excl. social security funds)",
           "Domestic currency"
          ],
          [
           "Primary net lending / borrowing",
           "General government",
           "Domestic currency"
          ],
          [
           "Primary net lending / borrowing",
           "Central government (excl. social security funds)",
           "Domestic currency"
          ],
          [
           "Net incurrence of liabilities",
           "Central government (incl. social security funds)",
           "Domestic currency"
          ],
          [
           "Net lending (+) / Net borrowing (-)",
           "General government",
           "Percent of GDP"
          ],
          [
           "Primary net lending / borrowing",
           "General government",
           "Percent of GDP"
          ],
          [
           "Net lending (+) / Net borrowing (-)",
           "Central government (excl. social security funds)",
           "Percent of GDP"
          ],
          [
           "Primary net lending / borrowing",
           "Central government (excl. social security funds)",
           "Percent of GDP"
          ],
          [
           "Net incurrence of liabilities",
           "Central government (incl. social security funds)",
           "Percent of GDP"
          ],
          [
           "Net lending (+) / Net borrowing (-)",
           "Social security funds",
           "Domestic currency"
          ],
          [
           "Net lending (+) / Net borrowing (-)",
           "Social security funds",
           "Percent of GDP"
          ],
          [
           "Primary net lending / borrowing",
           "Social security funds",
           "Domestic currency"
          ],
          [
           "Primary net lending / borrowing",
           "Social security funds",
           "Percent of GDP"
          ],
          [
           "Net incurrence of liabilities",
           "General government",
           "Domestic currency"
          ],
          [
           "Net incurrence of liabilities",
           "Central government (excl. social security funds)",
           "Domestic currency"
          ],
          [
           "Net incurrence of liabilities",
           "General government",
           "Percent of GDP"
          ],
          [
           "Net incurrence of liabilities",
           "Local governments",
           "Domestic currency"
          ],
          [
           "Net incurrence of liabilities",
           "Central government (excl. social security funds)",
           "Percent of GDP"
          ],
          [
           "Net incurrence of liabilities",
           "Local governments",
           "Percent of GDP"
          ],
          [
           "Stock position of liabilities",
           "Budgetary central government",
           "Domestic currency"
          ],
          [
           "Stock position of liabilities",
           "Budgetary central government",
           "Percent of GDP"
          ],
          [
           "D1 debt liabilities at market value ",
           "General government",
           "Domestic currency"
          ],
          [
           "D1 debt liabilities at market value ",
           "General government",
           "Percent of GDP"
          ],
          [
           "D1 debt liabilities at market value ",
           "Local governments",
           "Domestic currency"
          ],
          [
           "D1 debt liabilities at market value ",
           "Local governments",
           "Percent of GDP"
          ],
          [
           "D2 debt liabilities at market value ",
           "General government",
           "Domestic currency"
          ],
          [
           "D2 debt liabilities at market value ",
           "General government",
           "Percent of GDP"
          ],
          [
           "Net incurrence of liabilities",
           "Social security funds",
           "Domestic currency"
          ],
          [
           "D3 debt liabilities at market value ",
           "General government",
           "Domestic currency"
          ],
          [
           "D3 debt liabilities at market value ",
           "General government",
           "Percent of GDP"
          ],
          [
           "Net incurrence of liabilities",
           "Social security funds",
           "Percent of GDP"
          ],
          [
           "D1 debt liabilities at market value ",
           "Central government (excl. social security funds)",
           "Domestic currency"
          ],
          [
           "D1 debt liabilities at market value ",
           "Central government (excl. social security funds)",
           "Percent of GDP"
          ],
          [
           "D2 debt liabilities at market value ",
           "Local governments",
           "Percent of GDP"
          ],
          [
           "D2 debt liabilities at market value ",
           "Local governments",
           "Domestic currency"
          ],
          [
           "D3 debt liabilities at market value ",
           "Local governments",
           "Domestic currency"
          ],
          [
           "D3 debt liabilities at market value ",
           "Local governments",
           "Percent of GDP"
          ],
          [
           "D2 debt liabilities at market value ",
           "Central government (excl. social security funds)",
           "Percent of GDP"
          ],
          [
           "D2 debt liabilities at market value ",
           "Central government (excl. social security funds)",
           "Domestic currency"
          ],
          [
           "D3 debt liabilities at market value ",
           "Central government (excl. social security funds)",
           "Percent of GDP"
          ],
          [
           "D3 debt liabilities at market value ",
           "Central government (excl. social security funds)",
           "Domestic currency"
          ],
          [
           "D1 debt liabilities at market value ",
           "Social security funds",
           "Domestic currency"
          ],
          [
           "D1 debt liabilities at market value ",
           "Social security funds",
           "Percent of GDP"
          ],
          [
           "Stock position of liabilities",
           "Central government (excl. social security funds)",
           "Domestic currency"
          ],
          [
           "Stock position of liabilities",
           "Central government (excl. social security funds)",
           "Percent of GDP"
          ],
          [
           "D2 debt liabilities at market value ",
           "Social security funds",
           "Percent of GDP"
          ],
          [
           "D2 debt liabilities at market value ",
           "Social security funds",
           "Domestic currency"
          ],
          [
           "D3 debt liabilities at market value ",
           "Social security funds",
           "Percent of GDP"
          ],
          [
           "D3 debt liabilities at market value ",
           "Social security funds",
           "Domestic currency"
          ],
          [
           "Stock position of liabilities",
           "Social security funds",
           "Domestic currency"
          ],
          [
           "Stock position of liabilities",
           "Social security funds",
           "Percent of GDP"
          ],
          [
           "Stock position of liabilities",
           "Local governments",
           "Domestic currency"
          ],
          [
           "Stock position of liabilities",
           "Local governments",
           "Percent of GDP"
          ],
          [
           "Stock position of liabilities",
           "General government",
           "Domestic currency"
          ],
          [
           "Stock position of liabilities",
           "General government",
           "Percent of GDP"
          ],
          [
           "Stock position of liabilities",
           "Central government (incl. social security funds)",
           "Domestic currency"
          ],
          [
           "Net lending (+) / Net borrowing (-)",
           "Extrabudgetary central government",
           "Domestic currency"
          ],
          [
           "Primary net lending / borrowing",
           "Extrabudgetary central government",
           "Domestic currency"
          ],
          [
           "Stock position of liabilities",
           "Central government (incl. social security funds)",
           "Percent of GDP"
          ],
          [
           "Net lending (+) / Net borrowing (-)",
           "Extrabudgetary central government",
           "Percent of GDP"
          ],
          [
           "Primary net lending / borrowing",
           "Extrabudgetary central government",
           "Percent of GDP"
          ],
          [
           "Net incurrence of liabilities",
           "Extrabudgetary central government",
           "Domestic currency"
          ],
          [
           "Net incurrence of liabilities",
           "Extrabudgetary central government",
           "Percent of GDP"
          ],
          [
           "Net lending (+) / Net borrowing (-)",
           "State governments",
           "Domestic currency"
          ],
          [
           "Primary net lending / borrowing",
           "State governments",
           "Domestic currency"
          ],
          [
           "Net lending (+) / Net borrowing (-)",
           "State governments",
           "Percent of GDP"
          ],
          [
           "Primary net lending / borrowing",
           "State governments",
           "Percent of GDP"
          ],
          [
           "Gross debt (D4) at market value ",
           "General government",
           "Domestic currency"
          ],
          [
           "Gross debt (D4) at market value ",
           "General government",
           "Percent of GDP"
          ],
          [
           "Gross debt (D4) at market value ",
           "Central government (excl. social security funds)",
           "Percent of GDP"
          ],
          [
           "Gross debt (D4) at market value ",
           "Central government (excl. social security funds)",
           "Domestic currency"
          ],
          [
           "Gross debt (D4) at market value ",
           "Local governments",
           "Percent of GDP"
          ],
          [
           "Gross debt (D4) at market value ",
           "Local governments",
           "Domestic currency"
          ],
          [
           "Net debt",
           "Local governments",
           "Domestic currency"
          ],
          [
           "Net debt",
           "Local governments",
           "Percent of GDP"
          ],
          [
           "D1 debt liabilities at market value ",
           "Central government (incl. social security funds)",
           "Domestic currency"
          ],
          [
           "D1 debt liabilities at market value ",
           "Central government (incl. social security funds)",
           "Percent of GDP"
          ],
          [
           "Net incurrence of liabilities",
           "State governments",
           "Domestic currency"
          ],
          [
           "Net debt",
           "General government",
           "Percent of GDP"
          ],
          [
           "Net debt",
           "General government",
           "Domestic currency"
          ],
          [
           "Net incurrence of liabilities",
           "State governments",
           "Percent of GDP"
          ],
          [
           "Stock position of liabilities",
           "Extrabudgetary central government",
           "Domestic currency"
          ],
          [
           "Gross debt (D4) at market value ",
           "Social security funds",
           "Percent of GDP"
          ],
          [
           "Gross debt (D4) at market value ",
           "Social security funds",
           "Domestic currency"
          ],
          [
           "Net debt",
           "Central government (excl. social security funds)",
           "Percent of GDP"
          ],
          [
           "Net debt",
           "Central government (excl. social security funds)",
           "Domestic currency"
          ],
          [
           "Stock position of liabilities",
           "Extrabudgetary central government",
           "Percent of GDP"
          ],
          [
           "D2 debt liabilities at market value ",
           "Central government (incl. social security funds)",
           "Domestic currency"
          ],
          [
           "D2 debt liabilities at market value ",
           "Central government (incl. social security funds)",
           "Percent of GDP"
          ],
          [
           "Net debt",
           "Social security funds",
           "Percent of GDP"
          ],
          [
           "Net debt",
           "Social security funds",
           "Domestic currency"
          ],
          [
           "D3 debt liabilities at market value ",
           "Central government (incl. social security funds)",
           "Domestic currency"
          ],
          [
           "D3 debt liabilities at market value ",
           "Central government (incl. social security funds)",
           "Percent of GDP"
          ],
          [
           "D1 debt liabilities at market value ",
           "State governments",
           "Percent of GDP"
          ],
          [
           "D1 debt liabilities at market value ",
           "State governments",
           "Domestic currency"
          ],
          [
           "D2 debt liabilities at market value ",
           "State governments",
           "Domestic currency"
          ],
          [
           "D2 debt liabilities at market value ",
           "State governments",
           "Percent of GDP"
          ],
          [
           "D1 debt liabilities at market value ",
           "Budgetary central government",
           "Percent of GDP"
          ],
          [
           "D1 debt liabilities at market value ",
           "Budgetary central government",
           "Domestic currency"
          ],
          [
           "D3 debt liabilities at market value ",
           "State governments",
           "Percent of GDP"
          ],
          [
           "D3 debt liabilities at market value ",
           "State governments",
           "Domestic currency"
          ],
          [
           "Stock position of liabilities",
           "State governments",
           "Domestic currency"
          ],
          [
           "Stock position of liabilities",
           "State governments",
           "Percent of GDP"
          ],
          [
           "D2 debt liabilities at market value ",
           "Budgetary central government",
           "Domestic currency"
          ],
          [
           "D2 debt liabilities at market value ",
           "Budgetary central government",
           "Percent of GDP"
          ],
          [
           "D3 debt liabilities at market value ",
           "Budgetary central government",
           "Percent of GDP"
          ],
          [
           "D3 debt liabilities at market value ",
           "Budgetary central government",
           "Domestic currency"
          ],
          [
           "Debt, net of highly liquid assets",
           "General government",
           "Domestic currency"
          ],
          [
           "Debt, net of highly liquid assets",
           "General government",
           "Percent of GDP"
          ],
          [
           "Debt, net of highly liquid assets",
           "Local governments",
           "Percent of GDP"
          ],
          [
           "Debt, net of highly liquid assets",
           "Local governments",
           "Domestic currency"
          ],
          [
           "Gross debt (D4) at market value ",
           "Central government (incl. social security funds)",
           "Percent of GDP"
          ],
          [
           "Gross debt (D4) at market value ",
           "Central government (incl. social security funds)",
           "Domestic currency"
          ],
          [
           "Debt, net of highly liquid assets",
           "Central government (excl. social security funds)",
           "Domestic currency"
          ],
          [
           "Debt, net of highly liquid assets",
           "Central government (excl. social security funds)",
           "Percent of GDP"
          ],
          [
           "Debt, net of highly liquid assets",
           "Social security funds",
           "Percent of GDP"
          ],
          [
           "Debt, net of highly liquid assets",
           "Social security funds",
           "Domestic currency"
          ],
          [
           "Net debt",
           "Central government (incl. social security funds)",
           "Domestic currency"
          ],
          [
           "Net debt",
           "Central government (incl. social security funds)",
           "Percent of GDP"
          ],
          [
           "Gross debt (D4) at market value ",
           "State governments",
           "Percent of GDP"
          ],
          [
           "Gross debt (D4) at market value ",
           "State governments",
           "Domestic currency"
          ],
          [
           "Net debt",
           "State governments",
           "Domestic currency"
          ],
          [
           "Net debt",
           "State governments",
           "Percent of GDP"
          ],
          [
           "Debt, net of highly liquid assets",
           "Central government (incl. social security funds)",
           "Percent of GDP"
          ],
          [
           "Debt, net of highly liquid assets",
           "Central government (incl. social security funds)",
           "Domestic currency"
          ],
          [
           "Gross debt (D4) at market value ",
           "Budgetary central government",
           "Domestic currency"
          ],
          [
           "Gross debt (D4) at market value ",
           "Budgetary central government",
           "Percent of GDP"
          ],
          [
           "Net debt",
           "Budgetary central government",
           "Domestic currency"
          ],
          [
           "Net debt",
           "Budgetary central government",
           "Percent of GDP"
          ],
          [
           "D1 debt liabilities at market value ",
           "Extrabudgetary central government",
           "Domestic currency"
          ],
          [
           "D1 debt liabilities at market value ",
           "Extrabudgetary central government",
           "Percent of GDP"
          ],
          [
           "Debt, net of highly liquid assets",
           "State governments",
           "Percent of GDP"
          ],
          [
           "Debt, net of highly liquid assets",
           "State governments",
           "Domestic currency"
          ],
          [
           "Debt, net of highly liquid assets",
           "Budgetary central government",
           "Domestic currency"
          ],
          [
           "Debt, net of highly liquid assets",
           "Budgetary central government",
           "Percent of GDP"
          ],
          [
           "D3 debt liabilities at market value ",
           "Extrabudgetary central government",
           "Domestic currency"
          ],
          [
           "D2 debt liabilities at market value ",
           "Extrabudgetary central government",
           "Percent of GDP"
          ],
          [
           "D2 debt liabilities at market value ",
           "Extrabudgetary central government",
           "Domestic currency"
          ],
          [
           "D3 debt liabilities at market value ",
           "Extrabudgetary central government",
           "Percent of GDP"
          ],
          [
           "Gross debt (D4) at market value ",
           "Extrabudgetary central government",
           "Percent of GDP"
          ],
          [
           "Gross debt (D4) at market value ",
           "Extrabudgetary central government",
           "Domestic currency"
          ],
          [
           "Debt, net of highly liquid assets",
           "Extrabudgetary central government",
           "Domestic currency"
          ],
          [
           "Debt, net of highly liquid assets",
           "Extrabudgetary central government",
           "Percent of GDP"
          ],
          [
           "Net debt",
           "Extrabudgetary central government",
           "Domestic currency"
          ],
          [
           "Net debt",
           "Extrabudgetary central government",
           "Percent of GDP"
          ]
         ],
         "hovertemplate": "Folder=GFSMAB<br>Sum of Legitimate Entries=%{x}<br>Number of Covered Countries=%{y}<br>Classification Name=%{customdata[0]}<br>Sector Name=%{customdata[1]}<br>Unit Name=%{customdata[2]}<extra></extra>",
         "legendgroup": "GFSMAB",
         "marker": {
          "color": "#00cc96",
          "symbol": "circle"
         },
         "mode": "markers",
         "name": "GFSMAB",
         "showlegend": true,
         "type": "scattergl",
         "x": [
          16634,
          16465,
          14752,
          14586,
          14204,
          14157,
          13869,
          13831,
          11628,
          11617,
          11388,
          11368,
          11022,
          10880,
          10812,
          10742,
          10679,
          10598,
          10569,
          10425,
          10237,
          10217,
          10084,
          9330,
          9251,
          9134,
          9083,
          8966,
          8744,
          8700,
          8519,
          8394,
          8344,
          8125,
          8118,
          7997,
          7774,
          7768,
          7642,
          7642,
          7504,
          7498,
          7498,
          7418,
          7412,
          7404,
          7372,
          7372,
          7350,
          7350,
          7236,
          7236,
          7190,
          7190,
          7152,
          7152,
          6686,
          6686,
          6534,
          6460,
          6384,
          6384,
          6342,
          6342,
          5975,
          5916,
          5884,
          5868,
          5796,
          5787,
          5551,
          5508,
          5488,
          5427,
          5369,
          5349,
          4340,
          4227,
          3670,
          3525,
          3482,
          3338,
          3170,
          3167,
          3061,
          3061,
          2881,
          2881,
          2748,
          2748,
          2682,
          2682,
          2607,
          2600,
          2600,
          2531,
          2503,
          2503,
          2503,
          2465,
          2465,
          2434,
          2324,
          2324,
          2292,
          2292,
          2288,
          2288,
          2064,
          2064,
          1980,
          1980,
          1786,
          1786,
          1756,
          1756,
          1752,
          1746,
          1506,
          1506,
          1376,
          1376,
          1084,
          1081,
          999,
          999,
          993,
          993,
          987,
          987,
          895,
          895,
          868,
          868,
          767,
          767,
          750,
          750,
          679,
          679,
          601,
          601,
          518,
          518,
          472,
          472,
          434,
          434,
          417,
          417,
          370,
          370,
          370,
          370,
          110,
          110,
          69,
          69,
          47,
          47
         ],
         "xaxis": "x",
         "y": [
          122,
          122,
          122,
          122,
          172,
          172,
          168,
          168,
          160,
          101,
          100,
          156,
          101,
          107,
          100,
          124,
          106,
          124,
          111,
          106,
          105,
          123,
          123,
          107,
          98,
          98,
          97,
          97,
          101,
          115,
          100,
          87,
          114,
          87,
          122,
          121,
          41,
          41,
          39,
          39,
          40,
          39,
          90,
          40,
          39,
          90,
          37,
          37,
          38,
          38,
          38,
          38,
          36,
          36,
          36,
          36,
          39,
          39,
          85,
          84,
          36,
          36,
          36,
          36,
          70,
          69,
          71,
          70,
          69,
          68,
          79,
          96,
          96,
          77,
          93,
          93,
          86,
          83,
          35,
          34,
          36,
          35,
          36,
          35,
          33,
          33,
          32,
          32,
          32,
          32,
          27,
          27,
          34,
          29,
          29,
          34,
          54,
          31,
          31,
          27,
          27,
          53,
          14,
          14,
          29,
          29,
          14,
          14,
          12,
          12,
          10,
          10,
          20,
          20,
          10,
          10,
          26,
          26,
          17,
          17,
          14,
          14,
          15,
          15,
          13,
          13,
          12,
          12,
          13,
          13,
          12,
          12,
          10,
          10,
          9,
          9,
          9,
          9,
          11,
          11,
          13,
          13,
          10,
          10,
          11,
          11,
          5,
          5,
          12,
          12,
          5,
          5,
          5,
          5,
          4,
          4,
          3,
          3,
          3,
          3
         ],
         "yaxis": "y"
        },
        {
         "customdata": [
          [
           "Net incurrence of liabilities",
           "Budgetary central government",
           "Domestic currency"
          ],
          [
           "Net incurrence of liabilities",
           "Budgetary central government",
           "Percent of GDP"
          ],
          [
           "Net incurrence of liabilities",
           "Central government (incl. social security funds)",
           "Domestic currency"
          ],
          [
           "Net incurrence of liabilities",
           "Central government (incl. social security funds)",
           "Percent of GDP"
          ],
          [
           "Net incurrence of liabilities",
           "General government",
           "Domestic currency"
          ],
          [
           "Net incurrence of liabilities",
           "Central government (excl. social security funds)",
           "Domestic currency"
          ],
          [
           "Net incurrence of liabilities",
           "Local governments",
           "Domestic currency"
          ],
          [
           "Net incurrence of liabilities",
           "General government",
           "Percent of GDP"
          ],
          [
           "Net incurrence of liabilities",
           "Central government (excl. social security funds)",
           "Percent of GDP"
          ],
          [
           "Net incurrence of liabilities",
           "Local governments",
           "Percent of GDP"
          ],
          [
           "Net incurrence of liabilities",
           "Social security funds",
           "Domestic currency"
          ],
          [
           "Net incurrence of liabilities",
           "Social security funds",
           "Percent of GDP"
          ],
          [
           "Net incurrence of liabilities",
           "Extrabudgetary central government",
           "Domestic currency"
          ],
          [
           "Net incurrence of liabilities",
           "Extrabudgetary central government",
           "Percent of GDP"
          ],
          [
           "Net incurrence of liabilities",
           "State governments",
           "Domestic currency"
          ],
          [
           "Net incurrence of liabilities",
           "State governments",
           "Percent of GDP"
          ]
         ],
         "hovertemplate": "Folder=GFSSSUC<br>Sum of Legitimate Entries=%{x}<br>Number of Covered Countries=%{y}<br>Classification Name=%{customdata[0]}<br>Sector Name=%{customdata[1]}<br>Unit Name=%{customdata[2]}<extra></extra>",
         "legendgroup": "GFSSSUC",
         "marker": {
          "color": "#ab63fa",
          "symbol": "circle"
         },
         "mode": "markers",
         "name": "GFSSSUC",
         "showlegend": true,
         "type": "scattergl",
         "x": [
          9672,
          9393,
          9138,
          7782,
          4760,
          4713,
          4520,
          4497,
          4284,
          4255,
          3697,
          3607,
          3568,
          3462,
          1641,
          1548
         ],
         "xaxis": "x",
         "y": [
          148,
          144,
          105,
          101,
          69,
          81,
          66,
          69,
          81,
          63,
          72,
          69,
          77,
          73,
          26,
          26
         ],
         "yaxis": "y"
        }
       ],
       "layout": {
        "legend": {
         "title": {
          "text": "Folder"
         },
         "tracegroupgap": 0
        },
        "template": {
         "data": {
          "bar": [
           {
            "error_x": {
             "color": "#2a3f5f"
            },
            "error_y": {
             "color": "#2a3f5f"
            },
            "marker": {
             "line": {
              "color": "#E5ECF6",
              "width": 0.5
             },
             "pattern": {
              "fillmode": "overlay",
              "size": 10,
              "solidity": 0.2
             }
            },
            "type": "bar"
           }
          ],
          "barpolar": [
           {
            "marker": {
             "line": {
              "color": "#E5ECF6",
              "width": 0.5
             },
             "pattern": {
              "fillmode": "overlay",
              "size": 10,
              "solidity": 0.2
             }
            },
            "type": "barpolar"
           }
          ],
          "carpet": [
           {
            "aaxis": {
             "endlinecolor": "#2a3f5f",
             "gridcolor": "white",
             "linecolor": "white",
             "minorgridcolor": "white",
             "startlinecolor": "#2a3f5f"
            },
            "baxis": {
             "endlinecolor": "#2a3f5f",
             "gridcolor": "white",
             "linecolor": "white",
             "minorgridcolor": "white",
             "startlinecolor": "#2a3f5f"
            },
            "type": "carpet"
           }
          ],
          "choropleth": [
           {
            "colorbar": {
             "outlinewidth": 0,
             "ticks": ""
            },
            "type": "choropleth"
           }
          ],
          "contour": [
           {
            "colorbar": {
             "outlinewidth": 0,
             "ticks": ""
            },
            "colorscale": [
             [
              0,
              "#0d0887"
             ],
             [
              0.1111111111111111,
              "#46039f"
             ],
             [
              0.2222222222222222,
              "#7201a8"
             ],
             [
              0.3333333333333333,
              "#9c179e"
             ],
             [
              0.4444444444444444,
              "#bd3786"
             ],
             [
              0.5555555555555556,
              "#d8576b"
             ],
             [
              0.6666666666666666,
              "#ed7953"
             ],
             [
              0.7777777777777778,
              "#fb9f3a"
             ],
             [
              0.8888888888888888,
              "#fdca26"
             ],
             [
              1,
              "#f0f921"
             ]
            ],
            "type": "contour"
           }
          ],
          "contourcarpet": [
           {
            "colorbar": {
             "outlinewidth": 0,
             "ticks": ""
            },
            "type": "contourcarpet"
           }
          ],
          "heatmap": [
           {
            "colorbar": {
             "outlinewidth": 0,
             "ticks": ""
            },
            "colorscale": [
             [
              0,
              "#0d0887"
             ],
             [
              0.1111111111111111,
              "#46039f"
             ],
             [
              0.2222222222222222,
              "#7201a8"
             ],
             [
              0.3333333333333333,
              "#9c179e"
             ],
             [
              0.4444444444444444,
              "#bd3786"
             ],
             [
              0.5555555555555556,
              "#d8576b"
             ],
             [
              0.6666666666666666,
              "#ed7953"
             ],
             [
              0.7777777777777778,
              "#fb9f3a"
             ],
             [
              0.8888888888888888,
              "#fdca26"
             ],
             [
              1,
              "#f0f921"
             ]
            ],
            "type": "heatmap"
           }
          ],
          "heatmapgl": [
           {
            "colorbar": {
             "outlinewidth": 0,
             "ticks": ""
            },
            "colorscale": [
             [
              0,
              "#0d0887"
             ],
             [
              0.1111111111111111,
              "#46039f"
             ],
             [
              0.2222222222222222,
              "#7201a8"
             ],
             [
              0.3333333333333333,
              "#9c179e"
             ],
             [
              0.4444444444444444,
              "#bd3786"
             ],
             [
              0.5555555555555556,
              "#d8576b"
             ],
             [
              0.6666666666666666,
              "#ed7953"
             ],
             [
              0.7777777777777778,
              "#fb9f3a"
             ],
             [
              0.8888888888888888,
              "#fdca26"
             ],
             [
              1,
              "#f0f921"
             ]
            ],
            "type": "heatmapgl"
           }
          ],
          "histogram": [
           {
            "marker": {
             "pattern": {
              "fillmode": "overlay",
              "size": 10,
              "solidity": 0.2
             }
            },
            "type": "histogram"
           }
          ],
          "histogram2d": [
           {
            "colorbar": {
             "outlinewidth": 0,
             "ticks": ""
            },
            "colorscale": [
             [
              0,
              "#0d0887"
             ],
             [
              0.1111111111111111,
              "#46039f"
             ],
             [
              0.2222222222222222,
              "#7201a8"
             ],
             [
              0.3333333333333333,
              "#9c179e"
             ],
             [
              0.4444444444444444,
              "#bd3786"
             ],
             [
              0.5555555555555556,
              "#d8576b"
             ],
             [
              0.6666666666666666,
              "#ed7953"
             ],
             [
              0.7777777777777778,
              "#fb9f3a"
             ],
             [
              0.8888888888888888,
              "#fdca26"
             ],
             [
              1,
              "#f0f921"
             ]
            ],
            "type": "histogram2d"
           }
          ],
          "histogram2dcontour": [
           {
            "colorbar": {
             "outlinewidth": 0,
             "ticks": ""
            },
            "colorscale": [
             [
              0,
              "#0d0887"
             ],
             [
              0.1111111111111111,
              "#46039f"
             ],
             [
              0.2222222222222222,
              "#7201a8"
             ],
             [
              0.3333333333333333,
              "#9c179e"
             ],
             [
              0.4444444444444444,
              "#bd3786"
             ],
             [
              0.5555555555555556,
              "#d8576b"
             ],
             [
              0.6666666666666666,
              "#ed7953"
             ],
             [
              0.7777777777777778,
              "#fb9f3a"
             ],
             [
              0.8888888888888888,
              "#fdca26"
             ],
             [
              1,
              "#f0f921"
             ]
            ],
            "type": "histogram2dcontour"
           }
          ],
          "mesh3d": [
           {
            "colorbar": {
             "outlinewidth": 0,
             "ticks": ""
            },
            "type": "mesh3d"
           }
          ],
          "parcoords": [
           {
            "line": {
             "colorbar": {
              "outlinewidth": 0,
              "ticks": ""
             }
            },
            "type": "parcoords"
           }
          ],
          "pie": [
           {
            "automargin": true,
            "type": "pie"
           }
          ],
          "scatter": [
           {
            "fillpattern": {
             "fillmode": "overlay",
             "size": 10,
             "solidity": 0.2
            },
            "type": "scatter"
           }
          ],
          "scatter3d": [
           {
            "line": {
             "colorbar": {
              "outlinewidth": 0,
              "ticks": ""
             }
            },
            "marker": {
             "colorbar": {
              "outlinewidth": 0,
              "ticks": ""
             }
            },
            "type": "scatter3d"
           }
          ],
          "scattercarpet": [
           {
            "marker": {
             "colorbar": {
              "outlinewidth": 0,
              "ticks": ""
             }
            },
            "type": "scattercarpet"
           }
          ],
          "scattergeo": [
           {
            "marker": {
             "colorbar": {
              "outlinewidth": 0,
              "ticks": ""
             }
            },
            "type": "scattergeo"
           }
          ],
          "scattergl": [
           {
            "marker": {
             "colorbar": {
              "outlinewidth": 0,
              "ticks": ""
             }
            },
            "type": "scattergl"
           }
          ],
          "scattermapbox": [
           {
            "marker": {
             "colorbar": {
              "outlinewidth": 0,
              "ticks": ""
             }
            },
            "type": "scattermapbox"
           }
          ],
          "scatterpolar": [
           {
            "marker": {
             "colorbar": {
              "outlinewidth": 0,
              "ticks": ""
             }
            },
            "type": "scatterpolar"
           }
          ],
          "scatterpolargl": [
           {
            "marker": {
             "colorbar": {
              "outlinewidth": 0,
              "ticks": ""
             }
            },
            "type": "scatterpolargl"
           }
          ],
          "scatterternary": [
           {
            "marker": {
             "colorbar": {
              "outlinewidth": 0,
              "ticks": ""
             }
            },
            "type": "scatterternary"
           }
          ],
          "surface": [
           {
            "colorbar": {
             "outlinewidth": 0,
             "ticks": ""
            },
            "colorscale": [
             [
              0,
              "#0d0887"
             ],
             [
              0.1111111111111111,
              "#46039f"
             ],
             [
              0.2222222222222222,
              "#7201a8"
             ],
             [
              0.3333333333333333,
              "#9c179e"
             ],
             [
              0.4444444444444444,
              "#bd3786"
             ],
             [
              0.5555555555555556,
              "#d8576b"
             ],
             [
              0.6666666666666666,
              "#ed7953"
             ],
             [
              0.7777777777777778,
              "#fb9f3a"
             ],
             [
              0.8888888888888888,
              "#fdca26"
             ],
             [
              1,
              "#f0f921"
             ]
            ],
            "type": "surface"
           }
          ],
          "table": [
           {
            "cells": {
             "fill": {
              "color": "#EBF0F8"
             },
             "line": {
              "color": "white"
             }
            },
            "header": {
             "fill": {
              "color": "#C8D4E3"
             },
             "line": {
              "color": "white"
             }
            },
            "type": "table"
           }
          ]
         },
         "layout": {
          "annotationdefaults": {
           "arrowcolor": "#2a3f5f",
           "arrowhead": 0,
           "arrowwidth": 1
          },
          "autotypenumbers": "strict",
          "coloraxis": {
           "colorbar": {
            "outlinewidth": 0,
            "ticks": ""
           }
          },
          "colorscale": {
           "diverging": [
            [
             0,
             "#8e0152"
            ],
            [
             0.1,
             "#c51b7d"
            ],
            [
             0.2,
             "#de77ae"
            ],
            [
             0.3,
             "#f1b6da"
            ],
            [
             0.4,
             "#fde0ef"
            ],
            [
             0.5,
             "#f7f7f7"
            ],
            [
             0.6,
             "#e6f5d0"
            ],
            [
             0.7,
             "#b8e186"
            ],
            [
             0.8,
             "#7fbc41"
            ],
            [
             0.9,
             "#4d9221"
            ],
            [
             1,
             "#276419"
            ]
           ],
           "sequential": [
            [
             0,
             "#0d0887"
            ],
            [
             0.1111111111111111,
             "#46039f"
            ],
            [
             0.2222222222222222,
             "#7201a8"
            ],
            [
             0.3333333333333333,
             "#9c179e"
            ],
            [
             0.4444444444444444,
             "#bd3786"
            ],
            [
             0.5555555555555556,
             "#d8576b"
            ],
            [
             0.6666666666666666,
             "#ed7953"
            ],
            [
             0.7777777777777778,
             "#fb9f3a"
            ],
            [
             0.8888888888888888,
             "#fdca26"
            ],
            [
             1,
             "#f0f921"
            ]
           ],
           "sequentialminus": [
            [
             0,
             "#0d0887"
            ],
            [
             0.1111111111111111,
             "#46039f"
            ],
            [
             0.2222222222222222,
             "#7201a8"
            ],
            [
             0.3333333333333333,
             "#9c179e"
            ],
            [
             0.4444444444444444,
             "#bd3786"
            ],
            [
             0.5555555555555556,
             "#d8576b"
            ],
            [
             0.6666666666666666,
             "#ed7953"
            ],
            [
             0.7777777777777778,
             "#fb9f3a"
            ],
            [
             0.8888888888888888,
             "#fdca26"
            ],
            [
             1,
             "#f0f921"
            ]
           ]
          },
          "colorway": [
           "#636efa",
           "#EF553B",
           "#00cc96",
           "#ab63fa",
           "#FFA15A",
           "#19d3f3",
           "#FF6692",
           "#B6E880",
           "#FF97FF",
           "#FECB52"
          ],
          "font": {
           "color": "#2a3f5f"
          },
          "geo": {
           "bgcolor": "white",
           "lakecolor": "white",
           "landcolor": "#E5ECF6",
           "showlakes": true,
           "showland": true,
           "subunitcolor": "white"
          },
          "hoverlabel": {
           "align": "left"
          },
          "hovermode": "closest",
          "mapbox": {
           "style": "light"
          },
          "paper_bgcolor": "white",
          "plot_bgcolor": "#E5ECF6",
          "polar": {
           "angularaxis": {
            "gridcolor": "white",
            "linecolor": "white",
            "ticks": ""
           },
           "bgcolor": "#E5ECF6",
           "radialaxis": {
            "gridcolor": "white",
            "linecolor": "white",
            "ticks": ""
           }
          },
          "scene": {
           "xaxis": {
            "backgroundcolor": "#E5ECF6",
            "gridcolor": "white",
            "gridwidth": 2,
            "linecolor": "white",
            "showbackground": true,
            "ticks": "",
            "zerolinecolor": "white"
           },
           "yaxis": {
            "backgroundcolor": "#E5ECF6",
            "gridcolor": "white",
            "gridwidth": 2,
            "linecolor": "white",
            "showbackground": true,
            "ticks": "",
            "zerolinecolor": "white"
           },
           "zaxis": {
            "backgroundcolor": "#E5ECF6",
            "gridcolor": "white",
            "gridwidth": 2,
            "linecolor": "white",
            "showbackground": true,
            "ticks": "",
            "zerolinecolor": "white"
           }
          },
          "shapedefaults": {
           "line": {
            "color": "#2a3f5f"
           }
          },
          "ternary": {
           "aaxis": {
            "gridcolor": "white",
            "linecolor": "white",
            "ticks": ""
           },
           "baxis": {
            "gridcolor": "white",
            "linecolor": "white",
            "ticks": ""
           },
           "bgcolor": "#E5ECF6",
           "caxis": {
            "gridcolor": "white",
            "linecolor": "white",
            "ticks": ""
           }
          },
          "title": {
           "x": 0.05
          },
          "xaxis": {
           "automargin": true,
           "gridcolor": "white",
           "linecolor": "white",
           "ticks": "",
           "title": {
            "standoff": 15
           },
           "zerolinecolor": "white",
           "zerolinewidth": 2
          },
          "yaxis": {
           "automargin": true,
           "gridcolor": "white",
           "linecolor": "white",
           "ticks": "",
           "title": {
            "standoff": 15
           },
           "zerolinecolor": "white",
           "zerolinewidth": 2
          }
         }
        },
        "title": {
         "text": "Scatter Plot of Sum of Legitimate Entries vs Number of Covered Countries"
        },
        "xaxis": {
         "anchor": "y",
         "domain": [
          0,
          1
         ],
         "title": {
          "text": "Sum of Legitimate Entries"
         }
        },
        "yaxis": {
         "anchor": "x",
         "domain": [
          0,
          1
         ],
         "title": {
          "text": "Number of Covered Countries"
         }
        }
       }
      }
     },
     "metadata": {},
     "output_type": "display_data"
    }
   ],
   "source": [
    "import pandas as pd\n",
    "import plotly.express as px\n",
    "from itertools import combinations\n",
    "from pathlib import Path\n",
    "\n",
    "# Base directory for all folders\n",
    "base_dir = Path.cwd().parent / \"data\"\n",
    "\n",
    "# Folders to process\n",
    "folders = [\"GFSISB\", \"GFSFALCS\", \"GFSMAB\", \"GFSSSUC\"]\n",
    "\n",
    "# Initialize an empty list to store DataFrames\n",
    "data_frames = []\n",
    "\n",
    "# Loop through each folder and load summaries\n",
    "for folder in folders:\n",
    "    summary_dir = base_dir / folder / \"Summaries\"\n",
    "    aggregated_file = summary_dir / 'aggregated_summary_2014_2020.csv'\n",
    "    if aggregated_file.exists():\n",
    "        # Load the aggregated summary\n",
    "        df = pd.read_csv(aggregated_file)\n",
    "        \n",
    "        # Add a folder identifier for coloring\n",
    "        df['Folder'] = folder\n",
    "        \n",
    "        # Rename column if necessary\n",
    "        if folder == \"GFSISB\":\n",
    "            df.rename(columns={'Stocks, Transactions, and Other Flows Name': 'Classification Name'}, inplace=True)\n",
    "        \n",
    "        data_frames.append(df)\n",
    "    else:\n",
    "        print(f\"Aggregated file not found in {folder}.\")\n",
    "\n",
    "# Combine all DataFrames into one\n",
    "agg_summary = pd.concat(data_frames, ignore_index=True)\n",
    "\n",
    "# Define numeric columns for scatter plots\n",
    "numeric_columns = ['Sum of Legitimate Entries', 'Number of Covered Countries']\n",
    "\n",
    "# Generate scatter plots for all possible combinations of numeric columns\n",
    "scatter_plots = []\n",
    "for x_col, y_col in combinations(numeric_columns, 2):\n",
    "    fig = px.scatter(\n",
    "        agg_summary,\n",
    "        x=x_col,\n",
    "        y=y_col,\n",
    "        color='Folder',  # Color by folder\n",
    "        hover_data=['Classification Name', 'Sector Name', 'Unit Name'],\n",
    "        title=f\"Scatter Plot of {x_col} vs {y_col}\",\n",
    "        labels={x_col: x_col, y_col: y_col}\n",
    "    )\n",
    "    scatter_plots.append(fig)\n",
    "    fig.show()  # Display the plot\n",
    "\n",
    "# Optional: Save plots as HTML files\n",
    "output_dir = base_dir / \"All_Plots\"\n",
    "output_dir.mkdir(parents=True, exist_ok=True)\n",
    "for i, fig in enumerate(scatter_plots, start=1):\n",
    "    fig.write_html(output_dir / f\"scatter_plot_{i}.html\")"
   ]
  }
 ],
 "metadata": {
  "kernelspec": {
   "display_name": "hidden_debt_gsf",
   "language": "python",
   "name": "python3"
  },
  "language_info": {
   "codemirror_mode": {
    "name": "ipython",
    "version": 3
   },
   "file_extension": ".py",
   "mimetype": "text/x-python",
   "name": "python",
   "nbconvert_exporter": "python",
   "pygments_lexer": "ipython3",
   "version": "3.12.0"
  }
 },
 "nbformat": 4,
 "nbformat_minor": 2
}
