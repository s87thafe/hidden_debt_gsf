{
 "cells": [
  {
   "cell_type": "code",
   "execution_count": 2,
   "metadata": {},
   "outputs": [],
   "source": [
    "import pandas as pd\n",
    "from pathlib import Path"
   ]
  },
  {
   "cell_type": "code",
   "execution_count": 3,
   "metadata": {},
   "outputs": [
    {
     "name": "stderr",
     "output_type": "stream",
     "text": [
      "/tmp/ipykernel_90188/4160114677.py:11: DtypeWarning: Columns (57) have mixed types. Specify dtype option on import or set low_memory=False.\n",
      "  data = pd.read_csv(file_path)\n"
     ]
    },
    {
     "name": "stdout",
     "output_type": "stream",
     "text": [
      "File loaded successfully.\n"
     ]
    }
   ],
   "source": [
    "# Get the data path\n",
    "data_path = Path.cwd().parent.resolve()/\"data\"/\"GFS_rest\"/\"GFSR2020\"\n",
    "\n",
    "# Define the file name\n",
    "file_name = \"GFSR2020_01-16-2025.csv\"\n",
    "\n",
    "# Combine the base path and file name\n",
    "file_path = data_path / file_name\n",
    "\n",
    "if file_path.exists():  # Check if the file exists\n",
    "    data = pd.read_csv(file_path)\n",
    "    print(\"File loaded successfully.\")\n",
    "else:\n",
    "    print(f\"File not found at {file_path}\")\n"
   ]
  },
  {
   "cell_type": "code",
   "execution_count": 4,
   "metadata": {},
   "outputs": [
    {
     "name": "stdout",
     "output_type": "stream",
     "text": [
      "  Country Name  Country Code                    Classification Name  \\\n",
      "0     Anguilla           312  Grants revenue from int orgs: current   \n",
      "1     Anguilla           312  Grants revenue from int orgs: current   \n",
      "2     Anguilla           312  Grants revenue from int orgs: current   \n",
      "3     Anguilla           312  Grants revenue from int orgs: current   \n",
      "4     Anguilla           312  Grants revenue from int orgs: current   \n",
      "\n",
      "  Classification Code                                       Sector Name  \\\n",
      "0          1A|S1|G13C  Central government (excl. social security funds)   \n",
      "1          1A|S1|G13C  Central government (excl. social security funds)   \n",
      "2          1A|S1|G13C  Central government (excl. social security funds)   \n",
      "3          1A|S1|G13C  Central government (excl. social security funds)   \n",
      "4          1A|S1|G13C  Central government (excl. social security funds)   \n",
      "\n",
      "  Sector Code       Unit Name   Unit Code  \\\n",
      "0       S1311  Percent of GDP  XDC_R_B1GQ   \n",
      "1       S1311  Percent of GDP  XDC_R_B1GQ   \n",
      "2       S1311  Percent of GDP  XDC_R_B1GQ   \n",
      "3       S1311  Percent of GDP  XDC_R_B1GQ   \n",
      "4       S1311  Percent of GDP  XDC_R_B1GQ   \n",
      "\n",
      "                             Attribute 1972  ... 2014 2015 2016 2017 2018  \\\n",
      "0                               Status  NaN  ...  NaN  NaN  NaN  NaN  NaN   \n",
      "1                            Valuation   NP  ...   NP   NP   NP   NP  NaN   \n",
      "2  Bases of recording (Cash/ Non Cash)  NaN  ...  NaN  NaN  NaN  NaN  NaN   \n",
      "3       Bases of recording (Gross/Net)   NP  ...   NP   NP   NP   NP  NaN   \n",
      "4                       Nature of data  NaN  ...  NaN  NaN  NaN  NaN  NaN   \n",
      "\n",
      "  2019 2020 Indicator Code Global DSD Time Series Code Unnamed: 60  \n",
      "0  NaN  NaN            NaN                         NaN         NaN  \n",
      "1  NaN  NaN            NaN                         NaN         NaN  \n",
      "2  NaN  NaN            NaN                         NaN         NaN  \n",
      "3  NaN  NaN            NaN                         NaN         NaN  \n",
      "4  NaN  NaN            NaN                         NaN         NaN  \n",
      "\n",
      "[5 rows x 61 columns]\n"
     ]
    }
   ],
   "source": [
    "print(data.head())"
   ]
  },
  {
   "cell_type": "code",
   "execution_count": 5,
   "metadata": {},
   "outputs": [
    {
     "name": "stdout",
     "output_type": "stream",
     "text": [
      "Unique classification names: []\n"
     ]
    }
   ],
   "source": [
    "def filter_and_combine(data, column_name, keywords, output_filename):\n",
    "    \"\"\"\n",
    "    Filters rows based on multiple keywords in a specified column and combines them into one CSV.\n",
    "    \n",
    "    Parameters:\n",
    "        data (pd.DataFrame): The DataFrame to search within.\n",
    "        column_name (str): The column to search for the keywords.\n",
    "        keywords (list): A list of keywords to search for.\n",
    "        output_filename (str): The filename to save the combined filtered rows.\n",
    "\n",
    "    Returns:\n",
    "        pd.DataFrame: Combined DataFrame of filtered rows.\n",
    "    \"\"\"\n",
    "    combined_rows = pd.DataFrame()  # Initialize an empty DataFrame\n",
    "\n",
    "    for keyword in keywords:\n",
    "        # Filter rows where the keyword appears in the specified column (case-insensitive)\n",
    "        filtered_rows = data[data[column_name].str.contains(keyword, case=False, na=False)]\n",
    "        \n",
    "        # Add a column to indicate the keyword used for filtering\n",
    "        filtered_rows['Keyword'] = keyword\n",
    "        \n",
    "        # Append to the combined DataFrame\n",
    "        combined_rows = pd.concat([combined_rows, filtered_rows], ignore_index=True)\n",
    "\n",
    "    # Save the combined rows to a single CSV file\n",
    "    combined_rows.to_csv(Path.cwd() / output_filename, index=False)\n",
    "    \n",
    "    # Return the combined DataFrame\n",
    "    return combined_rows\n",
    "\n",
    "# Define the DataFrame (assuming `data` is already loaded)\n",
    "column_name = \"Classification Name\"\n",
    "\n",
    "# List of keywords to search for\n",
    "keywords = [\"debt\", \"liabilities\", \"borrowing\"]\n",
    "\n",
    "# Call the function to filter and combine rows\n",
    "output_filename = \"filtered_rows_combined.csv\"\n",
    "combined_data = filter_and_combine(data, column_name, keywords, output_filename)\n",
    "\n",
    "# Display the unique values in the \"Classification Name\" column\n",
    "unique_classification_names = combined_data[column_name].unique()\n",
    "print(\"Unique classification names:\", unique_classification_names)"
   ]
  },
  {
   "cell_type": "markdown",
   "metadata": {},
   "source": [
    "# NO NEED TO FOR FURTHER ANALYSIS,AS NONE VALUE OF INTEREST"
   ]
  }
 ],
 "metadata": {
  "kernelspec": {
   "display_name": "hidden_debt_gsf",
   "language": "python",
   "name": "python3"
  },
  "language_info": {
   "codemirror_mode": {
    "name": "ipython",
    "version": 3
   },
   "file_extension": ".py",
   "mimetype": "text/x-python",
   "name": "python",
   "nbconvert_exporter": "python",
   "pygments_lexer": "ipython3",
   "version": "3.12.0"
  }
 },
 "nbformat": 4,
 "nbformat_minor": 2
}
