{
 "cells": [
  {
   "cell_type": "code",
   "execution_count": 1,
   "metadata": {},
   "outputs": [],
   "source": [
    "import pandas as pd\n",
    "from pathlib import Path"
   ]
  },
  {
   "cell_type": "code",
   "execution_count": 4,
   "metadata": {},
   "outputs": [
    {
     "name": "stderr",
     "output_type": "stream",
     "text": [
      "/tmp/ipykernel_132230/1128309908.py:11: DtypeWarning: Columns (56) have mixed types. Specify dtype option on import or set low_memory=False.\n",
      "  data = pd.read_csv(file_path)\n"
     ]
    },
    {
     "name": "stdout",
     "output_type": "stream",
     "text": [
      "File loaded successfully.\n"
     ]
    }
   ],
   "source": [
    "# Get the data path\n",
    "data_path = Path.cwd().parent.resolve()/ \"src\" / \"hidden_debt_gsf\" / \"data\"/\"GFS_rest\"/\"GFSCOFOG2019\"\n",
    "\n",
    "# Define the file name\n",
    "file_name = \"GFSCOFOG2019_01-16-2025.csv\"\n",
    "\n",
    "# Combine the base path and file name\n",
    "file_path = data_path / file_name\n",
    "\n",
    "if file_path.exists():  # Check if the file exists\n",
    "    data = pd.read_csv(file_path)\n",
    "    print(\"File loaded successfully.\")\n",
    "else:\n",
    "    print(f\"File not found at {file_path}\")\n"
   ]
  },
  {
   "cell_type": "code",
   "execution_count": 5,
   "metadata": {},
   "outputs": [
    {
     "name": "stdout",
     "output_type": "stream",
     "text": [
      "  Country Name  Country Code              COFOG Function Name  \\\n",
      "0      Albania           914  Expenditure on education n.e.c.   \n",
      "1      Albania           914  Expenditure on education n.e.c.   \n",
      "2      Albania           914  Expenditure on education n.e.c.   \n",
      "3      Albania           914  Expenditure on education n.e.c.   \n",
      "4      Albania           914  Expenditure on education n.e.c.   \n",
      "\n",
      "  COFOG Function Code                   Sector Name Sector Code  \\\n",
      "0              GF0908  Budgetary central government      S1311B   \n",
      "1              GF0908  Budgetary central government      S1311B   \n",
      "2              GF0908  Budgetary central government      S1311B   \n",
      "3              GF0908  Budgetary central government      S1311B   \n",
      "4              GF0908  Budgetary central government      S1311B   \n",
      "\n",
      "        Unit Name   Unit Code                            Attribute 1972  ...  \\\n",
      "0  Percent of GDP  XDC_R_B1GQ                                Value  NaN  ...   \n",
      "1  Percent of GDP  XDC_R_B1GQ                               Status  NaN  ...   \n",
      "2  Percent of GDP  XDC_R_B1GQ                            Valuation   NP  ...   \n",
      "3  Percent of GDP  XDC_R_B1GQ  Bases of recording (Cash/ Non Cash)   AC  ...   \n",
      "4  Percent of GDP  XDC_R_B1GQ       Bases of recording (Gross/Net)   NP  ...   \n",
      "\n",
      "                  2013                 2014                 2015  \\\n",
      "0  0.00414140947672592  0.00376899396466142  0.00416451821227569   \n",
      "1                  NaN                  NaN                  NaN   \n",
      "2                   NP                   NP                   NP   \n",
      "3                   AC                   AC                   AC   \n",
      "4                   NP                   NP                   NP   \n",
      "\n",
      "                 2016                 2017                 2018 2019  \\\n",
      "0  0.0046523524196995  0.00576320339603373  0.00671002806546174  NaN   \n",
      "1                 NaN                  NaN                  NaN  NaN   \n",
      "2                  NP                   NP                   NP  NaN   \n",
      "3                  AC                   AC                   AC  NaN   \n",
      "4                  NP                   NP                   NP  NaN   \n",
      "\n",
      "    Indicator Code                        Global DSD Time Series Code  \\\n",
      "0  GEEO_G14_GDP_PT  A|AL|S1311B|W0|S1|G2M|_Z|_Z|GF0908|XDC_R_B1GQ|...   \n",
      "1              NaN                                                NaN   \n",
      "2              NaN                                                NaN   \n",
      "3              NaN                                                NaN   \n",
      "4              NaN                                                NaN   \n",
      "\n",
      "  Unnamed: 59  \n",
      "0         NaN  \n",
      "1         NaN  \n",
      "2         NaN  \n",
      "3         NaN  \n",
      "4         NaN  \n",
      "\n",
      "[5 rows x 60 columns]\n"
     ]
    }
   ],
   "source": [
    "print(data.head())"
   ]
  },
  {
   "cell_type": "code",
   "execution_count": 6,
   "metadata": {},
   "outputs": [
    {
     "name": "stderr",
     "output_type": "stream",
     "text": [
      "/tmp/ipykernel_132230/4018456708.py:21: SettingWithCopyWarning: \n",
      "A value is trying to be set on a copy of a slice from a DataFrame.\n",
      "Try using .loc[row_indexer,col_indexer] = value instead\n",
      "\n",
      "See the caveats in the documentation: https://pandas.pydata.org/pandas-docs/stable/user_guide/indexing.html#returning-a-view-versus-a-copy\n",
      "  filtered_rows['Keyword'] = keyword\n"
     ]
    },
    {
     "name": "stdout",
     "output_type": "stream",
     "text": [
      "Unique classification names: ['Expenditure on public debt transactions']\n"
     ]
    }
   ],
   "source": [
    "def filter_and_combine(data, column_name, keywords, output_filename):\n",
    "    \"\"\"\n",
    "    Filters rows based on multiple keywords in a specified column and combines them into one CSV.\n",
    "    \n",
    "    Parameters:\n",
    "        data (pd.DataFrame): The DataFrame to search within.\n",
    "        column_name (str): The column to search for the keywords.\n",
    "        keywords (list): A list of keywords to search for.\n",
    "        output_filename (str): The filename to save the combined filtered rows.\n",
    "\n",
    "    Returns:\n",
    "        pd.DataFrame: Combined DataFrame of filtered rows.\n",
    "    \"\"\"\n",
    "    combined_rows = pd.DataFrame()  # Initialize an empty DataFrame\n",
    "\n",
    "    for keyword in keywords:\n",
    "        # Filter rows where the keyword appears in the specified column (case-insensitive)\n",
    "        filtered_rows = data[data[column_name].str.contains(keyword, case=False, na=False)]\n",
    "        \n",
    "        # Add a column to indicate the keyword used for filtering\n",
    "        filtered_rows['Keyword'] = keyword\n",
    "        \n",
    "        # Append to the combined DataFrame\n",
    "        combined_rows = pd.concat([combined_rows, filtered_rows], ignore_index=True)\n",
    "\n",
    "    # Save the combined rows to a single CSV file\n",
    "    combined_rows.to_csv(Path.cwd() / output_filename, index=False)\n",
    "    \n",
    "    # Return the combined DataFrame\n",
    "    return combined_rows\n",
    "\n",
    "# Define the DataFrame (assuming `data` is already loaded)\n",
    "column_name = \"COFOG Function Name\"\n",
    "\n",
    "# List of keywords to search for\n",
    "keywords = [\"debt\", \"liabilities\", \"borrowing\"]\n",
    "\n",
    "# Call the function to filter and combine rows\n",
    "output_filename = \"filtered_rows_combined.csv\"\n",
    "combined_data = filter_and_combine(data, column_name, keywords, output_filename)\n",
    "\n",
    "# Display the unique values in the \"Classification Name\" column\n",
    "unique_classification_names = combined_data[column_name].unique()\n",
    "print(\"Unique classification names:\", unique_classification_names)"
   ]
  },
  {
   "cell_type": "markdown",
   "metadata": {},
   "source": [
    "# NO NEED TO FOR FURTHER ANALYSIS,AS SOLE VALUE 'EXPENDITURE ON PUBLIC DEBT TRANSACTIONS' NOT OF INTEREST"
   ]
  }
 ],
 "metadata": {
  "kernelspec": {
   "display_name": "hidden_debt_gsf",
   "language": "python",
   "name": "python3"
  },
  "language_info": {
   "codemirror_mode": {
    "name": "ipython",
    "version": 3
   },
   "file_extension": ".py",
   "mimetype": "text/x-python",
   "name": "python",
   "nbconvert_exporter": "python",
   "pygments_lexer": "ipython3",
   "version": "3.12.0"
  }
 },
 "nbformat": 4,
 "nbformat_minor": 2
}
