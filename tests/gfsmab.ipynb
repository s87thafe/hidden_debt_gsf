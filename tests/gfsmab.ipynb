{
 "cells": [
  {
   "cell_type": "code",
   "execution_count": 1,
   "metadata": {},
   "outputs": [],
   "source": [
    "import pandas as pd\n",
    "from pathlib import Path"
   ]
  },
  {
   "cell_type": "code",
   "execution_count": 11,
   "metadata": {},
   "outputs": [
    {
     "name": "stdout",
     "output_type": "stream",
     "text": [
      "File loaded successfully.\n"
     ]
    }
   ],
   "source": [
    "# Get the data path\n",
    "data_path = Path.cwd().parent.resolve()/ \"src\" / \"hidden_debt_gsf\" /\"data\"/\"GFSMAB\"/\"GFSMAB2020\"\n",
    "\n",
    "# Define the file name\n",
    "file_name = \"GFSMAB2020_01-16-2025.csv\"\n",
    "\n",
    "# Combine the base path and file name\n",
    "file_path = data_path / file_name\n",
    "\n",
    "if file_path.exists():  # Check if the file exists\n",
    "    data_2020 = pd.read_csv(file_path)\n",
    "    print(\"File loaded successfully.\")\n",
    "else:\n",
    "    print(f\"File not found at {file_path}\")\n"
   ]
  },
  {
   "cell_type": "code",
   "execution_count": 16,
   "metadata": {},
   "outputs": [
    {
     "name": "stdout",
     "output_type": "stream",
     "text": [
      "Head saved\n",
      "540540 15967\n"
     ]
    }
   ],
   "source": [
    "# Extract head and save to CSV\n",
    "headers = pd.DataFrame(data_2020.head(1000))\n",
    "headers.to_csv(\"head_2020.csv\", index=False)\n",
    "print(f\"Head saved\")\n",
    "\n",
    "test_2020 = data_2020[data_2020['Classification Code']=='GNLB|_Z']\n",
    "print(len(data_2020), len(test_2020))"
   ]
  },
  {
   "cell_type": "code",
   "execution_count": 14,
   "metadata": {},
   "outputs": [
    {
     "name": "stdout",
     "output_type": "stream",
     "text": [
      "File loaded successfully.\n"
     ]
    }
   ],
   "source": [
    "# Get the data path\n",
    "data_path = Path.cwd().parent.resolve()/ \"src\" / \"hidden_debt_gsf\" /\"data\"/\"GFSMAB\"/\"GFSMAB2019\"\n",
    "\n",
    "# Define the file name\n",
    "file_name = \"GFSMAB2019_01-16-2025.csv\"\n",
    "\n",
    "# Combine the base path and file name\n",
    "file_path = data_path / file_name\n",
    "\n",
    "if file_path.exists():  # Check if the file exists\n",
    "    data_2019 = pd.read_csv(file_path)\n",
    "    print(\"File loaded successfully.\")\n",
    "else:\n",
    "    print(f\"File not found at {file_path}\")\n"
   ]
  },
  {
   "cell_type": "code",
   "execution_count": 22,
   "metadata": {},
   "outputs": [
    {
     "name": "stdout",
     "output_type": "stream",
     "text": [
      "Head saved\n",
      "Head saved\n",
      "508858 15022\n"
     ]
    }
   ],
   "source": [
    "# Extract head and save to CSV\n",
    "headers = pd.DataFrame(data_2019.head(1000))\n",
    "headers.to_csv(\"head_2019.csv\", index=False)\n",
    "print(f\"Head saved\")\n",
    "\n",
    "test_2019 = data_2019[data_2019['Classification Name']=='Net lending (+) / Net borrowing (-)']\n",
    "headers = pd.DataFrame(test_2019.head(1000))\n",
    "headers.to_csv(\"head_test_2019.csv\", index=False)\n",
    "print(f\"Head saved\")\n",
    "\n",
    "print(len(data_2019), len(test_2019))"
   ]
  },
  {
   "cell_type": "code",
   "execution_count": 13,
   "metadata": {},
   "outputs": [
    {
     "name": "stdout",
     "output_type": "stream",
     "text": [
      "540540 15967\n"
     ]
    }
   ],
   "source": [
    "test_2020 = data_2020[data_2020['Classification Code']=='GNLB|_Z']\n",
    "print(len(data_2020), len(test_2020))"
   ]
  },
  {
   "cell_type": "code",
   "execution_count": 67,
   "metadata": {},
   "outputs": [
    {
     "name": "stdout",
     "output_type": "stream",
     "text": [
      "File for 2014 loaded successfully.\n",
      "File for 2015 loaded successfully.\n",
      "File for 2016 loaded successfully.\n",
      "File for 2017 loaded successfully.\n",
      "File for 2019 loaded successfully.\n",
      "File for 2020 loaded successfully.\n",
      "All data successfully merged.\n"
     ]
    }
   ],
   "source": [
    "from pathlib import Path\n",
    "import pandas as pd\n",
    "\n",
    "# Define years of interest and base path\n",
    "years = [2014, 2015, 2016, 2017, 2019, 2020]\n",
    "base_path = Path.cwd().parent.resolve() / \"src\" / \"hidden_debt_gsf\" / \"data\" / \"GFSMAB\"\n",
    "\n",
    "# Initialize an empty list to collect yearly data\n",
    "merged_data = []\n",
    "\n",
    "# Loop through the years and process each dataset\n",
    "for year in years:\n",
    "    file_dir = f\"GFSMAB{year}\"\n",
    "    file_name = f\"GFSMAB{year}_01-16-2025.csv\"\n",
    "    file_path = base_path / file_dir / file_name\n",
    "    \n",
    "    if file_path.exists():\n",
    "        # Load the data for the year\n",
    "        data = pd.read_csv(file_path)\n",
    "        print(f\"File for {year} loaded successfully.\")\n",
    "        \n",
    "        # Add a vintage column\n",
    "        data['Vintage'] = year\n",
    "        \n",
    "        # Append to the merged list\n",
    "        merged_data.append(data)\n",
    "    else:\n",
    "        print(f\"File not found for {year}: {file_path}\")\n",
    "\n",
    "# Combine all the filtered data into a single DataFrame\n",
    "if merged_data:\n",
    "    merged_df = pd.concat(merged_data, ignore_index=True)\n",
    "    print(\"All data successfully merged.\")\n",
    "else:\n",
    "    print(\"No data to merge.\")"
   ]
  },
  {
   "cell_type": "code",
   "execution_count": 7,
   "metadata": {},
   "outputs": [
    {
     "name": "stdout",
     "output_type": "stream",
     "text": [
      "1095602\n"
     ]
    }
   ],
   "source": [
    "print(len(merged_df))"
   ]
  },
  {
   "cell_type": "code",
   "execution_count": 11,
   "metadata": {},
   "outputs": [
    {
     "name": "stdout",
     "output_type": "stream",
     "text": [
      "Processing file for 2014: /home/torbenhaferkamp/Desktop/IfW_Kiel/GSF/hidden_debt_gsf/src/hidden_debt_gsf/data/GFSMAB/GFSMAB2014/GFSMAB2014_01-16-2025.csv\n",
      "Processing file for 2015: /home/torbenhaferkamp/Desktop/IfW_Kiel/GSF/hidden_debt_gsf/src/hidden_debt_gsf/data/GFSMAB/GFSMAB2015/GFSMAB2015_01-16-2025.csv\n",
      "Processing file for 2016: /home/torbenhaferkamp/Desktop/IfW_Kiel/GSF/hidden_debt_gsf/src/hidden_debt_gsf/data/GFSMAB/GFSMAB2016/GFSMAB2016_01-16-2025.csv\n",
      "Processing file for 2017: /home/torbenhaferkamp/Desktop/IfW_Kiel/GSF/hidden_debt_gsf/src/hidden_debt_gsf/data/GFSMAB/GFSMAB2017/GFSMAB2017_01-16-2025.csv\n",
      "Processing file for 2019: /home/torbenhaferkamp/Desktop/IfW_Kiel/GSF/hidden_debt_gsf/src/hidden_debt_gsf/data/GFSMAB/GFSMAB2019/GFSMAB2019_01-16-2025.csv\n",
      "Processing file for 2020: /home/torbenhaferkamp/Desktop/IfW_Kiel/GSF/hidden_debt_gsf/src/hidden_debt_gsf/data/GFSMAB/GFSMAB2020/GFSMAB2020_01-16-2025.csv\n",
      "Filtered data saved to filtered_merged_data.parquet\n"
     ]
    }
   ],
   "source": [
    "from pathlib import Path\n",
    "import pandas as pd\n",
    "\n",
    "# Define keywords and base path\n",
    "keywords = [\"debt\", \"liabilities\", \"borrowing\"]\n",
    "years = [2014, 2015, 2016, 2017, 2019, 2020]\n",
    "base_path = Path.cwd().parent.resolve() / \"src\" / \"hidden_debt_gsf\" / \"data\" / \"GFSMAB\"\n",
    "\n",
    "def filter_and_combine(data, column_name, keywords):\n",
    "    \"\"\"\n",
    "    Filter rows based on multiple keywords and return combined results \n",
    "    without duplicates.\n",
    "    \"\"\"\n",
    "    combined_rows = pd.DataFrame()\n",
    "    for keyword in keywords:\n",
    "        # Filter rows matching the keyword\n",
    "        filtered_rows = data[data[column_name].str.contains(keyword, case=False, na=False)].copy()\n",
    "        combined_rows = pd.concat([combined_rows, filtered_rows], ignore_index=True)\n",
    "    \n",
    "    # Drop duplicate rows based on all columns except the 'Keyword' column\n",
    "    combined_rows = combined_rows.drop_duplicates(subset=data.columns.tolist())\n",
    "    \n",
    "    return combined_rows\n",
    "\n",
    "# Output file for the merged data\n",
    "output_parquet = \"filtered_merged_data.parquet\"\n",
    "\n",
    "# Initialize an empty list to collect filtered data\n",
    "filtered_data_chunks = []\n",
    "\n",
    "# Loop through the years and process each dataset in chunks\n",
    "for year in years:\n",
    "    file_dir = f\"GFSMAB{year}\"\n",
    "    file_name = f\"GFSMAB{year}_01-16-2025.csv\"\n",
    "    file_path = base_path / file_dir / file_name\n",
    "    \n",
    "    if file_path.exists():\n",
    "        print(f\"Processing file for {year}: {file_path}\")\n",
    "        \n",
    "        # Process the file in chunks\n",
    "        chunksize = 10_000\n",
    "        for chunk in pd.read_csv(file_path, chunksize=chunksize):\n",
    "            # Add a vintage column\n",
    "            chunk['Vintage'] = year\n",
    "            \n",
    "            # Filter the chunk\n",
    "            filtered_chunk = filter_and_combine(chunk, 'Classification Name', keywords)            \n",
    "            # Append filtered chunk to the list\n",
    "            filtered_data_chunks.append(filtered_chunk)\n",
    "    else:\n",
    "        print(f\"File not found for {year}: {file_path}\")\n",
    "\n",
    "# Combine all filtered data and save as Parquet\n",
    "if filtered_data_chunks:\n",
    "    final_filtered_data = pd.concat(filtered_data_chunks, ignore_index=True)\n",
    "    final_filtered_data.to_parquet(output_parquet, index=False)\n",
    "    print(f\"Filtered data saved to {output_parquet}\")\n",
    "else:\n",
    "    print(\"No data to save.\")\n"
   ]
  },
  {
   "cell_type": "code",
   "execution_count": 16,
   "metadata": {},
   "outputs": [
    {
     "name": "stdout",
     "output_type": "stream",
     "text": [
      "              Country Name  Country Code  \\\n",
      "4760  Armenia, Republic of           911   \n",
      "4761  Armenia, Republic of           911   \n",
      "4762  Armenia, Republic of           911   \n",
      "4763  Armenia, Republic of           911   \n",
      "4764  Armenia, Republic of           911   \n",
      "\n",
      "                       Classification Name Classification Code  \\\n",
      "4760  D2 debt liabilities at market value              G63|FD2   \n",
      "4761  D2 debt liabilities at market value              G63|FD2   \n",
      "4762  D2 debt liabilities at market value              G63|FD2   \n",
      "4763  D2 debt liabilities at market value              G63|FD2   \n",
      "4764  D2 debt liabilities at market value              G63|FD2   \n",
      "\n",
      "                                           Sector Name Sector Code  \\\n",
      "4760  Central government (excl. social security funds)       S1311   \n",
      "4761  Central government (excl. social security funds)       S1311   \n",
      "4762  Central government (excl. social security funds)       S1311   \n",
      "4763  Central government (excl. social security funds)       S1311   \n",
      "4764  Central government (excl. social security funds)       S1311   \n",
      "\n",
      "              Unit Name Unit Code                            Attribute  1972  \\\n",
      "4760  Domestic currency       XDC                               Status  None   \n",
      "4761  Domestic currency       XDC                            Valuation    MV   \n",
      "4762  Domestic currency       XDC  Bases of recording (Cash/ Non Cash)    NP   \n",
      "4763  Domestic currency       XDC       Bases of recording (Gross/Net)    NP   \n",
      "4764  Domestic currency       XDC                       Nature of data  None   \n",
      "\n",
      "      ... Unnamed: 55  2016 Unnamed: 56  2017 Unnamed: 57  2018  2019  \\\n",
      "4760  ...         NaN  None         NaN  None         NaN  None  None   \n",
      "4761  ...         NaN  None         NaN  None         NaN  None  None   \n",
      "4762  ...         NaN  None         NaN  None         NaN  None  None   \n",
      "4763  ...         NaN  None         NaN  None         NaN  None  None   \n",
      "4764  ...         NaN  None         NaN  None         NaN  None  None   \n",
      "\n",
      "     Unnamed: 59  2020 Unnamed: 60  \n",
      "4760         NaN  None         NaN  \n",
      "4761         NaN  None         NaN  \n",
      "4762         NaN  None         NaN  \n",
      "4763         NaN  None         NaN  \n",
      "4764         NaN  None         NaN  \n",
      "\n",
      "[5 rows x 67 columns]\n"
     ]
    }
   ],
   "source": [
    "import pandas as pd\n",
    "merged_df = pd.read_parquet(\"filtered_merged_data.parquet\")\n",
    "# print(merged_df.head())\n",
    "\n",
    "merged_test = merged_df[merged_df['Classification Name'].str.contains('D2', case=False, na=False)].copy()\n",
    "\n",
    "print(merged_test.head())"
   ]
  },
  {
   "cell_type": "code",
   "execution_count": 2,
   "metadata": {},
   "outputs": [
    {
     "name": "stdout",
     "output_type": "stream",
     "text": [
      "2025.1.0\n"
     ]
    }
   ],
   "source": [
    "import dask\n",
    "print(dask.__version__)"
   ]
  },
  {
   "cell_type": "code",
   "execution_count": 12,
   "metadata": {},
   "outputs": [
    {
     "name": "stdout",
     "output_type": "stream",
     "text": [
      "The dataset with the most populated combination of sector and classification by country has been saved to 'most_populated_combinations_by_country.csv'.\n"
     ]
    }
   ],
   "source": [
    "import pandas as pd\n",
    "\n",
    "merged_df = pd.read_parquet('filtered_merged_data.parquet')\n",
    "\n",
    "# Step 1: Initialize an empty list to store the most populated sector and classification data per country\n",
    "most_populated_combinations = []\n",
    "\n",
    "# Step 2: Get a list of unique country codes\n",
    "unique_countries = merged_df['Country Code'].unique()\n",
    "\n",
    "# Step 3: Iterate over each country and process its data\n",
    "for country_code in unique_countries:\n",
    "    # Filter data for the current country\n",
    "    country_data = merged_df[\n",
    "        (merged_df['Country Code'] == country_code) & \n",
    "        (merged_df['Attribute'] == 'Value') & \n",
    "        (merged_df['Unit Code'] == 'XDC') & # Domestic Currency\n",
    "        (merged_df['Sector Code']!= 'S1312') & # State Governments\n",
    "        (merged_df['Sector Code']!= 'S1313') & # Local Governments\n",
    "        (merged_df['Sector Code']!= 'S1314') # Social security funds\n",
    "    ]\n",
    "\n",
    "    # Skip if no data for the country\n",
    "    if country_data.empty:\n",
    "        continue\n",
    "\n",
    "    # Identify year columns (1970 to 2020)\n",
    "    year_columns = [col for col in country_data.columns if col.isdigit() and 1970 <= int(col) <= 2020]\n",
    "\n",
    "    # Identify the most populated combination of Sector Code and Classification Code for the current country\n",
    "    most_data_entries = (\n",
    "        country_data\n",
    "        .groupby(['Sector Code', 'Classification Code'])[year_columns]\n",
    "        .apply(lambda group: group.notna().sum().sum())\n",
    "        .reset_index(name='Data Entry Count')\n",
    "        .sort_values(by='Data Entry Count', ascending=False)\n",
    "    )\n",
    "\n",
    "    # Get the most populated combination\n",
    "    if not most_data_entries.empty:\n",
    "        most_populated_combination = most_data_entries.iloc[0][['Sector Code', 'Classification Code']]\n",
    "        \n",
    "        # Filter data for the most populated combination\n",
    "        most_populated_combination_data = country_data[\n",
    "            (country_data['Sector Code'] == most_populated_combination['Sector Code']) &\n",
    "            (country_data['Classification Code'] == most_populated_combination['Classification Code'])\n",
    "        ]\n",
    "        \n",
    "        # Append the result to the list\n",
    "        most_populated_combinations.append(most_populated_combination_data)\n",
    "\n",
    "# Step 4: Combine all the most populated combination data into a single DataFrame\n",
    "combined_most_populated_combinations = pd.concat(most_populated_combinations, ignore_index=True)\n",
    "\n",
    "# Save the combined data to a CSV file\n",
    "combined_most_populated_combinations.to_csv(\"most_populated_combinations_by_country.csv\", index=False)\n",
    "\n",
    "# Display a message to indicate completion\n",
    "print(\"The dataset with the most populated combination of sector and classification by country has been saved to 'most_populated_combinations_by_country.csv'.\")\n"
   ]
  },
  {
   "cell_type": "code",
   "execution_count": null,
   "metadata": {},
   "outputs": [],
   "source": [
    "import pandas as pd\n",
    "import plotly.express as px\n",
    "\n",
    "# Assuming merged_df is available\n",
    "# Step 1: Filter the dataset\n",
    "filtered_data = merged_df[\n",
    "    (merged_df['Country Code'] == 122) & \n",
    "    (merged_df['Attribute'] == 'Value') & \n",
    "    (merged_df['Unit Code'] == 'XDC')\n",
    "]\n",
    "\n",
    "# Save filtered dataset\n",
    "filtered_data.to_csv(\"austria_filtered.csv\", index=False)\n",
    "\n",
    "# Step 2: Identify year columns (1970 to 2020)\n",
    "year_columns = [col for col in filtered_data.columns if col.isdigit() and 1970 <= int(col) <= 2020]\n",
    "\n",
    "# Identify the most populated Sector Code\n",
    "most_data_entries = (\n",
    "    filtered_data\n",
    "    .groupby('Sector Code')[year_columns]\n",
    "    .apply(lambda group: group.notna().sum().sum())\n",
    "    .reset_index(name='Data Entry Count')\n",
    "    .sort_values(by='Data Entry Count', ascending=False)\n",
    ")\n",
    "\n",
    "# Get the most populated Sector Name\n",
    "most_populated_sector = most_data_entries.iloc[0]['Sector Code']\n",
    "\n",
    "filtered_data = filtered_data[filtered_data['Sector Code'] == most_populated_sector]\n"
   ]
  },
  {
   "cell_type": "code",
   "execution_count": 61,
   "metadata": {},
   "outputs": [
    {
     "name": "stderr",
     "output_type": "stream",
     "text": [
      "/tmp/ipykernel_6380/1732521603.py:50: DeprecationWarning:\n",
      "\n",
      "DataFrameGroupBy.apply operated on the grouping columns. This behavior is deprecated, and in a future version of pandas the grouping columns will be excluded from the operation. Either pass `include_groups=False` to exclude the groupings or explicitly select the grouping columns after groupby to silence this warning.\n",
      "\n"
     ]
    }
   ],
   "source": [
    "import pandas as pd\n",
    "\n",
    "# Assuming merged_df is available\n",
    "# Step 1: Filter the dataset\n",
    "filtered_data = merged_df[\n",
    "    (merged_df['Country Code'] == 122) & \n",
    "    (merged_df['Attribute'] == 'Value') & \n",
    "    (merged_df['Unit Code'] == 'XDC')\n",
    "]\n",
    "\n",
    "# Save filtered dataset\n",
    "filtered_data.to_csv(\"austria_filtered.csv\", index=False)\n",
    "\n",
    "# Step 2: Identify year columns (1970 to 2020)\n",
    "year_columns = [col for col in filtered_data.columns if col.isdigit() and 1970 <= int(col) <= 2020]\n",
    "\n",
    "# Identify the most populated Sector Code\n",
    "most_data_entries = (\n",
    "    filtered_data\n",
    "    .groupby('Sector Code')[year_columns]\n",
    "    .apply(lambda group: group.notna().sum().sum())\n",
    "    .reset_index(name='Data Entry Count')\n",
    "    .sort_values(by='Data Entry Count', ascending=False)\n",
    ")\n",
    "\n",
    "# Get the most populated Sector Name\n",
    "most_populated_sector = most_data_entries.iloc[0]['Sector Code']\n",
    "\n",
    "filtered_data = filtered_data[filtered_data['Sector Code']==most_populated_sector]\n",
    "\n",
    "# Step 3: Reshape data to pivot by vintage\n",
    "pivot_data = (\n",
    "    filtered_data.melt(\n",
    "        id_vars=['Sector Name', 'Vintage'], \n",
    "        value_vars=year_columns, \n",
    "        var_name='Year', \n",
    "        value_name='Value'\n",
    "    )\n",
    ")\n",
    "\n",
    "# Ensure 'Value' is numeric\n",
    "pivot_data['Value'] = pd.to_numeric(pivot_data['Value'], errors='coerce')\n",
    "\n",
    "# Step 4: Calculate differences for the same year across vintages\n",
    "pivot_data['Year'] = pivot_data['Year'].astype(int)\n",
    "difference_data = (\n",
    "    pivot_data\n",
    "    .sort_values(by=['Year', 'Vintage'])\n",
    "    .groupby(['Sector Name', 'Year'], group_keys=False)\n",
    "    .apply(lambda group: group.assign(Difference=group['Value'].diff()))\n",
    "    .dropna(subset=['Difference'])\n",
    ")\n",
    "\n",
    "# Save results\n",
    "difference_data.to_csv(\"austria_vintage_differences.csv\", index=False)\n"
   ]
  },
  {
   "cell_type": "code",
   "execution_count": null,
   "metadata": {},
   "outputs": [
    {
     "name": "stdout",
     "output_type": "stream",
     "text": [
      "          Sector Name Vintage  Year         Value\n",
      "0  General government    2014  1972  5.094366e+08\n",
      "1  General government    2015  1972  5.094366e+08\n",
      "2  General government    2016  1972  5.094366e+08\n",
      "3  General government    2017  1972  5.094366e+08\n",
      "4  General government    2019  1972  5.094366e+08\n"
     ]
    },
    {
     "name": "stderr",
     "output_type": "stream",
     "text": [
      "/tmp/ipykernel_6380/1321573841.py:50: DeprecationWarning:\n",
      "\n",
      "DataFrameGroupBy.apply operated on the grouping columns. This behavior is deprecated, and in a future version of pandas the grouping columns will be excluded from the operation. Either pass `include_groups=False` to exclude the groupings or explicitly select the grouping columns after groupby to silence this warning.\n",
      "\n"
     ]
    },
    {
     "data": {
      "application/vnd.plotly.v1+json": {
       "config": {
        "plotlyServerURL": "https://plot.ly"
       },
       "data": [
        {
         "alignmentgroup": "True",
         "hovertemplate": "Vintage=2014<br>Year=%{x}<br>Value=%{y}<extra></extra>",
         "legendgroup": "2014",
         "marker": {
          "color": "#636efa",
          "pattern": {
           "shape": ""
          }
         },
         "name": "2014",
         "offsetgroup": "2014",
         "orientation": "v",
         "showlegend": true,
         "textposition": "auto",
         "type": "bar",
         "x": [
          1972,
          1973,
          1974,
          1975,
          1976,
          1977,
          1978,
          1979,
          1980,
          1981,
          1982,
          1983,
          1984,
          1985,
          1986,
          1987,
          1988,
          1989,
          1990,
          1991,
          1992,
          1993,
          1994,
          1995,
          1996,
          1997,
          1998,
          1999,
          2000,
          2001,
          2002,
          2003,
          2004,
          2005,
          2006,
          2007,
          2008,
          2009,
          2010,
          2011,
          2012,
          2013
         ],
         "xaxis": "x",
         "y": [
          509436567.516642,
          -28342405.3254414,
          186769183.811359,
          -1380783849.18937,
          -1815367397.5132,
          -1621330930.28495,
          -1880046219.92257,
          -1559559021.24223,
          -1473805076.92421,
          -1435288474.81529,
          -3036997739.87484,
          -3829131632.30453,
          -2645291163.71011,
          -2903279725.00607,
          -4171420681.23512,
          -4844371125.62949,
          -3760819168.18666,
          -3571143071.00859,
          -3143826806.10158,
          -3728843121.15285,
          -2465062534.97379,
          -6726597530.5771,
          -6677180003.34296,
          -10839490000,
          -7944500000,
          -4506840000,
          -5344010000,
          -5291650000,
          -4377300000,
          -1366400000,
          -3050550000,
          -4009310000,
          -11522800000,
          -6362960000,
          -6660850000,
          -3717239999.99998,
          -4275220000,
          -15238430000,
          -13111650000,
          -8174620000,
          -7269470000,
          -4772870000
         ],
         "yaxis": "y"
        },
        {
         "alignmentgroup": "True",
         "hovertemplate": "Vintage=2015<br>Year=%{x}<br>Value=%{y}<extra></extra>",
         "legendgroup": "2015",
         "marker": {
          "color": "#EF553B",
          "pattern": {
           "shape": ""
          }
         },
         "name": "2015",
         "offsetgroup": "2015",
         "orientation": "v",
         "showlegend": true,
         "textposition": "auto",
         "type": "bar",
         "x": [
          1972,
          1973,
          1974,
          1975,
          1976,
          1977,
          1978,
          1979,
          1980,
          1981,
          1982,
          1983,
          1984,
          1985,
          1986,
          1987,
          1988,
          1989,
          1990,
          1991,
          1992,
          1993,
          1994,
          1995,
          1996,
          1997,
          1998,
          1999,
          2000,
          2001,
          2002,
          2003,
          2004,
          2005,
          2006,
          2007,
          2008,
          2009,
          2010,
          2011,
          2012,
          2013,
          2014
         ],
         "xaxis": "x",
         "y": [
          509436567.516642,
          -28342405.3254414,
          186769183.811359,
          -1380783849.18937,
          -1815367397.5132,
          -1621330930.28495,
          -1880046219.92257,
          -1559559021.24223,
          -1473805076.92421,
          -1435288474.81529,
          -3036997739.87484,
          -3829131632.30453,
          -2645291163.71011,
          -2903279725.00607,
          -4171420681.23512,
          -4844371125.62949,
          -3760819168.18666,
          -3571143071.00859,
          -3143826806.10158,
          -3728843121.15285,
          -2465062534.97379,
          -6726597530.5771,
          -6677180003.34296,
          -10831570000,
          -7936430000,
          -4498510000,
          -5335070000,
          -5282530000,
          -4367490000,
          -1356340000,
          -3043400000,
          -4078730000,
          -11534540000,
          -6351350000,
          -6658440000,
          -3717110000,
          -4228570000,
          -15217710000,
          -13104410000,
          -7892820000,
          -6878970000,
          -4158400000,
          -8885950000
         ],
         "yaxis": "y"
        },
        {
         "alignmentgroup": "True",
         "hovertemplate": "Vintage=2016<br>Year=%{x}<br>Value=%{y}<extra></extra>",
         "legendgroup": "2016",
         "marker": {
          "color": "#00cc96",
          "pattern": {
           "shape": ""
          }
         },
         "name": "2016",
         "offsetgroup": "2016",
         "orientation": "v",
         "showlegend": true,
         "textposition": "auto",
         "type": "bar",
         "x": [
          1972,
          1973,
          1974,
          1975,
          1976,
          1977,
          1978,
          1979,
          1980,
          1981,
          1982,
          1983,
          1984,
          1985,
          1986,
          1987,
          1988,
          1989,
          1990,
          1991,
          1992,
          1993,
          1994,
          1995,
          1996,
          1997,
          1998,
          1999,
          2000,
          2001,
          2002,
          2003,
          2004,
          2005,
          2006,
          2007,
          2008,
          2009,
          2010,
          2011,
          2012,
          2013,
          2014,
          2015
         ],
         "xaxis": "x",
         "y": [
          509436567.516642,
          -28342405.3254414,
          186769183.811359,
          -1380783849.18937,
          -1815367397.5132,
          -1621330930.28495,
          -1880046219.92257,
          -1559559021.24223,
          -1473805076.92421,
          -1435288474.81529,
          -3036997739.87484,
          -3829131632.30453,
          -2645291163.71011,
          -2903279725.00607,
          -4171420681.23512,
          -4844371125.62949,
          -3760819168.18666,
          -3571143071.00859,
          -3143826806.10158,
          -3728843121.15285,
          -2465062534.97379,
          -6726597530.5771,
          -6677180003.34296,
          -10842840000,
          -7953480000,
          -4476190000,
          -5336860000,
          -5240020000,
          -4407160000,
          -1451940000,
          -3203760000,
          -4227520000,
          -11727370000,
          -6455450000,
          -6865540000,
          -3925610000.00002,
          -4469290000,
          -15426830000,
          -13177460000,
          -7992440000,
          -7046190000,
          -4409320000,
          -9054630000,
          -3542580000
         ],
         "yaxis": "y"
        },
        {
         "alignmentgroup": "True",
         "hovertemplate": "Vintage=2017<br>Year=%{x}<br>Value=%{y}<extra></extra>",
         "legendgroup": "2017",
         "marker": {
          "color": "#ab63fa",
          "pattern": {
           "shape": ""
          }
         },
         "name": "2017",
         "offsetgroup": "2017",
         "orientation": "v",
         "showlegend": true,
         "textposition": "auto",
         "type": "bar",
         "x": [
          1972,
          1973,
          1974,
          1975,
          1976,
          1977,
          1978,
          1979,
          1980,
          1981,
          1982,
          1983,
          1984,
          1985,
          1986,
          1987,
          1988,
          1989,
          1990,
          1991,
          1992,
          1993,
          1994,
          1995,
          1996,
          1997,
          1998,
          1999,
          2000,
          2001,
          2002,
          2003,
          2004,
          2005,
          2006,
          2007,
          2008,
          2009,
          2010,
          2011,
          2012,
          2013,
          2014,
          2015,
          2016
         ],
         "xaxis": "x",
         "y": [
          509436567.516642,
          -28342405.3254414,
          186769183.811359,
          -1380783849.18937,
          -1815367397.5132,
          -1621330930.28495,
          -1880046219.92257,
          -1559559021.24223,
          -1473805076.92421,
          -1435288474.81529,
          -3036997739.87484,
          -3829131632.30453,
          -2645291163.71011,
          -2903279725.00607,
          -4171420681.23512,
          -4844371125.62949,
          -3760819168.18666,
          -3571143071.00859,
          -3143826806.10158,
          -3728843121.15285,
          -2465062534.97379,
          -6726597530.5771,
          -6677180003.34296,
          -10833130000,
          -8220940000,
          -4861120000,
          -5293950000,
          -5291740000,
          -5136530000,
          -1458940000,
          -3131610000,
          -4142050000,
          -11644800000,
          -6373100000,
          -6790530000,
          -3846800000.00002,
          -4392520000,
          -15351910000,
          -13141590000,
          -7919340000,
          -6975500000,
          -6316500000,
          -8944040000,
          -3561230000,
          -5804470000
         ],
         "yaxis": "y"
        },
        {
         "alignmentgroup": "True",
         "hovertemplate": "Vintage=2019<br>Year=%{x}<br>Value=%{y}<extra></extra>",
         "legendgroup": "2019",
         "marker": {
          "color": "#FFA15A",
          "pattern": {
           "shape": ""
          }
         },
         "name": "2019",
         "offsetgroup": "2019",
         "orientation": "v",
         "showlegend": true,
         "textposition": "auto",
         "type": "bar",
         "x": [
          1972,
          1973,
          1974,
          1975,
          1976,
          1977,
          1978,
          1979,
          1980,
          1981,
          1982,
          1983,
          1984,
          1985,
          1986,
          1987,
          1988,
          1989,
          1990,
          1991,
          1992,
          1993,
          1994,
          1995,
          1996,
          1997,
          1998,
          1999,
          2000,
          2001,
          2002,
          2003,
          2004,
          2005,
          2006,
          2007,
          2008,
          2009,
          2010,
          2011,
          2012,
          2013,
          2014,
          2015,
          2016,
          2017,
          2018
         ],
         "xaxis": "x",
         "y": [
          509436567.516642,
          -28342405.3254414,
          186769183.811359,
          -1380783849.18937,
          -1815367397.5132,
          -1621330930.28495,
          -1880046219.92257,
          -1559559021.24223,
          -1473805076.92421,
          -1435288474.81529,
          -3036997739.87484,
          -3829131632.30453,
          -2645291163.71011,
          -2903279725.00607,
          -4171420681.23512,
          -4844371125.62949,
          -3760819168.18666,
          -3571143071.00859,
          -3143826806.10158,
          -3728843121.15285,
          -2465062534.97379,
          -6726597530.5771,
          -6677180003.34296,
          -10833130000,
          -8220940000,
          -4861120000,
          -5293950000,
          -5291740000,
          -5136530000,
          -1458940000,
          -3131610000,
          -4142050000,
          -11644800000,
          -6373100000,
          -6790530000,
          -3846800000.00002,
          -4392520000,
          -15351910000,
          -13141590000,
          -7919340000,
          -6975500000,
          -6316500000,
          -9092040000,
          -3476980000,
          -5487820000,
          -2754380000,
          762600000
         ],
         "yaxis": "y"
        },
        {
         "alignmentgroup": "True",
         "hovertemplate": "Vintage=2020<br>Year=%{x}<br>Value=%{y}<extra></extra>",
         "legendgroup": "2020",
         "marker": {
          "color": "#19d3f3",
          "pattern": {
           "shape": ""
          }
         },
         "name": "2020",
         "offsetgroup": "2020",
         "orientation": "v",
         "showlegend": true,
         "textposition": "auto",
         "type": "bar",
         "x": [
          1972,
          1973,
          1974,
          1975,
          1976,
          1977,
          1978,
          1979,
          1980,
          1981,
          1982,
          1983,
          1984,
          1985,
          1986,
          1987,
          1988,
          1989,
          1990,
          1991,
          1992,
          1993,
          1994,
          1995,
          1996,
          1997,
          1998,
          1999,
          2000,
          2001,
          2002,
          2003,
          2004,
          2005,
          2006,
          2007,
          2008,
          2009,
          2010,
          2011,
          2012,
          2013,
          2014,
          2015,
          2016,
          2017,
          2018,
          2019
         ],
         "xaxis": "x",
         "y": [
          509436567.516642,
          -28342405.3254414,
          186769183.811359,
          -1380783849.18937,
          -1815367397.5132,
          -1621330930.28495,
          -1880046219.92257,
          -1559559021.24223,
          -1473805076.92421,
          -1435288474.81529,
          -3036997739.87484,
          -3829131632.30453,
          -2645291163.71011,
          -2903279725.00607,
          -4171420681.23512,
          -4844371125.62949,
          -3760819168.18666,
          -3571143071.00859,
          -3143826806.10158,
          -3728843121.15285,
          -2465062534.97379,
          -6726597530.5771,
          -6677180003.34296,
          -10833130000,
          -8220940000,
          -4861130000,
          -5293950000,
          -5291730000,
          -5136600000,
          -1458940000,
          -3131610000,
          -4142050000,
          -11644800000,
          -6373100000,
          -6790550000,
          -3846830000.00002,
          -4392520000,
          -15351900000,
          -13141560000,
          -7919340000,
          -6975540000,
          -6316500000,
          -9092050000,
          -3477080000,
          -5487820000,
          -3014430000,
          675900000,
          2674920000
         ],
         "yaxis": "y"
        }
       ],
       "layout": {
        "bargap": 0.15,
        "bargroupgap": 0.1,
        "barmode": "group",
        "legend": {
         "title": {
          "text": "Vintage"
         },
         "tracegroupgap": 0
        },
        "template": {
         "data": {
          "bar": [
           {
            "error_x": {
             "color": "#2a3f5f"
            },
            "error_y": {
             "color": "#2a3f5f"
            },
            "marker": {
             "line": {
              "color": "white",
              "width": 0.5
             },
             "pattern": {
              "fillmode": "overlay",
              "size": 10,
              "solidity": 0.2
             }
            },
            "type": "bar"
           }
          ],
          "barpolar": [
           {
            "marker": {
             "line": {
              "color": "white",
              "width": 0.5
             },
             "pattern": {
              "fillmode": "overlay",
              "size": 10,
              "solidity": 0.2
             }
            },
            "type": "barpolar"
           }
          ],
          "carpet": [
           {
            "aaxis": {
             "endlinecolor": "#2a3f5f",
             "gridcolor": "#C8D4E3",
             "linecolor": "#C8D4E3",
             "minorgridcolor": "#C8D4E3",
             "startlinecolor": "#2a3f5f"
            },
            "baxis": {
             "endlinecolor": "#2a3f5f",
             "gridcolor": "#C8D4E3",
             "linecolor": "#C8D4E3",
             "minorgridcolor": "#C8D4E3",
             "startlinecolor": "#2a3f5f"
            },
            "type": "carpet"
           }
          ],
          "choropleth": [
           {
            "colorbar": {
             "outlinewidth": 0,
             "ticks": ""
            },
            "type": "choropleth"
           }
          ],
          "contour": [
           {
            "colorbar": {
             "outlinewidth": 0,
             "ticks": ""
            },
            "colorscale": [
             [
              0,
              "#0d0887"
             ],
             [
              0.1111111111111111,
              "#46039f"
             ],
             [
              0.2222222222222222,
              "#7201a8"
             ],
             [
              0.3333333333333333,
              "#9c179e"
             ],
             [
              0.4444444444444444,
              "#bd3786"
             ],
             [
              0.5555555555555556,
              "#d8576b"
             ],
             [
              0.6666666666666666,
              "#ed7953"
             ],
             [
              0.7777777777777778,
              "#fb9f3a"
             ],
             [
              0.8888888888888888,
              "#fdca26"
             ],
             [
              1,
              "#f0f921"
             ]
            ],
            "type": "contour"
           }
          ],
          "contourcarpet": [
           {
            "colorbar": {
             "outlinewidth": 0,
             "ticks": ""
            },
            "type": "contourcarpet"
           }
          ],
          "heatmap": [
           {
            "colorbar": {
             "outlinewidth": 0,
             "ticks": ""
            },
            "colorscale": [
             [
              0,
              "#0d0887"
             ],
             [
              0.1111111111111111,
              "#46039f"
             ],
             [
              0.2222222222222222,
              "#7201a8"
             ],
             [
              0.3333333333333333,
              "#9c179e"
             ],
             [
              0.4444444444444444,
              "#bd3786"
             ],
             [
              0.5555555555555556,
              "#d8576b"
             ],
             [
              0.6666666666666666,
              "#ed7953"
             ],
             [
              0.7777777777777778,
              "#fb9f3a"
             ],
             [
              0.8888888888888888,
              "#fdca26"
             ],
             [
              1,
              "#f0f921"
             ]
            ],
            "type": "heatmap"
           }
          ],
          "heatmapgl": [
           {
            "colorbar": {
             "outlinewidth": 0,
             "ticks": ""
            },
            "colorscale": [
             [
              0,
              "#0d0887"
             ],
             [
              0.1111111111111111,
              "#46039f"
             ],
             [
              0.2222222222222222,
              "#7201a8"
             ],
             [
              0.3333333333333333,
              "#9c179e"
             ],
             [
              0.4444444444444444,
              "#bd3786"
             ],
             [
              0.5555555555555556,
              "#d8576b"
             ],
             [
              0.6666666666666666,
              "#ed7953"
             ],
             [
              0.7777777777777778,
              "#fb9f3a"
             ],
             [
              0.8888888888888888,
              "#fdca26"
             ],
             [
              1,
              "#f0f921"
             ]
            ],
            "type": "heatmapgl"
           }
          ],
          "histogram": [
           {
            "marker": {
             "pattern": {
              "fillmode": "overlay",
              "size": 10,
              "solidity": 0.2
             }
            },
            "type": "histogram"
           }
          ],
          "histogram2d": [
           {
            "colorbar": {
             "outlinewidth": 0,
             "ticks": ""
            },
            "colorscale": [
             [
              0,
              "#0d0887"
             ],
             [
              0.1111111111111111,
              "#46039f"
             ],
             [
              0.2222222222222222,
              "#7201a8"
             ],
             [
              0.3333333333333333,
              "#9c179e"
             ],
             [
              0.4444444444444444,
              "#bd3786"
             ],
             [
              0.5555555555555556,
              "#d8576b"
             ],
             [
              0.6666666666666666,
              "#ed7953"
             ],
             [
              0.7777777777777778,
              "#fb9f3a"
             ],
             [
              0.8888888888888888,
              "#fdca26"
             ],
             [
              1,
              "#f0f921"
             ]
            ],
            "type": "histogram2d"
           }
          ],
          "histogram2dcontour": [
           {
            "colorbar": {
             "outlinewidth": 0,
             "ticks": ""
            },
            "colorscale": [
             [
              0,
              "#0d0887"
             ],
             [
              0.1111111111111111,
              "#46039f"
             ],
             [
              0.2222222222222222,
              "#7201a8"
             ],
             [
              0.3333333333333333,
              "#9c179e"
             ],
             [
              0.4444444444444444,
              "#bd3786"
             ],
             [
              0.5555555555555556,
              "#d8576b"
             ],
             [
              0.6666666666666666,
              "#ed7953"
             ],
             [
              0.7777777777777778,
              "#fb9f3a"
             ],
             [
              0.8888888888888888,
              "#fdca26"
             ],
             [
              1,
              "#f0f921"
             ]
            ],
            "type": "histogram2dcontour"
           }
          ],
          "mesh3d": [
           {
            "colorbar": {
             "outlinewidth": 0,
             "ticks": ""
            },
            "type": "mesh3d"
           }
          ],
          "parcoords": [
           {
            "line": {
             "colorbar": {
              "outlinewidth": 0,
              "ticks": ""
             }
            },
            "type": "parcoords"
           }
          ],
          "pie": [
           {
            "automargin": true,
            "type": "pie"
           }
          ],
          "scatter": [
           {
            "fillpattern": {
             "fillmode": "overlay",
             "size": 10,
             "solidity": 0.2
            },
            "type": "scatter"
           }
          ],
          "scatter3d": [
           {
            "line": {
             "colorbar": {
              "outlinewidth": 0,
              "ticks": ""
             }
            },
            "marker": {
             "colorbar": {
              "outlinewidth": 0,
              "ticks": ""
             }
            },
            "type": "scatter3d"
           }
          ],
          "scattercarpet": [
           {
            "marker": {
             "colorbar": {
              "outlinewidth": 0,
              "ticks": ""
             }
            },
            "type": "scattercarpet"
           }
          ],
          "scattergeo": [
           {
            "marker": {
             "colorbar": {
              "outlinewidth": 0,
              "ticks": ""
             }
            },
            "type": "scattergeo"
           }
          ],
          "scattergl": [
           {
            "marker": {
             "colorbar": {
              "outlinewidth": 0,
              "ticks": ""
             }
            },
            "type": "scattergl"
           }
          ],
          "scattermapbox": [
           {
            "marker": {
             "colorbar": {
              "outlinewidth": 0,
              "ticks": ""
             }
            },
            "type": "scattermapbox"
           }
          ],
          "scatterpolar": [
           {
            "marker": {
             "colorbar": {
              "outlinewidth": 0,
              "ticks": ""
             }
            },
            "type": "scatterpolar"
           }
          ],
          "scatterpolargl": [
           {
            "marker": {
             "colorbar": {
              "outlinewidth": 0,
              "ticks": ""
             }
            },
            "type": "scatterpolargl"
           }
          ],
          "scatterternary": [
           {
            "marker": {
             "colorbar": {
              "outlinewidth": 0,
              "ticks": ""
             }
            },
            "type": "scatterternary"
           }
          ],
          "surface": [
           {
            "colorbar": {
             "outlinewidth": 0,
             "ticks": ""
            },
            "colorscale": [
             [
              0,
              "#0d0887"
             ],
             [
              0.1111111111111111,
              "#46039f"
             ],
             [
              0.2222222222222222,
              "#7201a8"
             ],
             [
              0.3333333333333333,
              "#9c179e"
             ],
             [
              0.4444444444444444,
              "#bd3786"
             ],
             [
              0.5555555555555556,
              "#d8576b"
             ],
             [
              0.6666666666666666,
              "#ed7953"
             ],
             [
              0.7777777777777778,
              "#fb9f3a"
             ],
             [
              0.8888888888888888,
              "#fdca26"
             ],
             [
              1,
              "#f0f921"
             ]
            ],
            "type": "surface"
           }
          ],
          "table": [
           {
            "cells": {
             "fill": {
              "color": "#EBF0F8"
             },
             "line": {
              "color": "white"
             }
            },
            "header": {
             "fill": {
              "color": "#C8D4E3"
             },
             "line": {
              "color": "white"
             }
            },
            "type": "table"
           }
          ]
         },
         "layout": {
          "annotationdefaults": {
           "arrowcolor": "#2a3f5f",
           "arrowhead": 0,
           "arrowwidth": 1
          },
          "autotypenumbers": "strict",
          "coloraxis": {
           "colorbar": {
            "outlinewidth": 0,
            "ticks": ""
           }
          },
          "colorscale": {
           "diverging": [
            [
             0,
             "#8e0152"
            ],
            [
             0.1,
             "#c51b7d"
            ],
            [
             0.2,
             "#de77ae"
            ],
            [
             0.3,
             "#f1b6da"
            ],
            [
             0.4,
             "#fde0ef"
            ],
            [
             0.5,
             "#f7f7f7"
            ],
            [
             0.6,
             "#e6f5d0"
            ],
            [
             0.7,
             "#b8e186"
            ],
            [
             0.8,
             "#7fbc41"
            ],
            [
             0.9,
             "#4d9221"
            ],
            [
             1,
             "#276419"
            ]
           ],
           "sequential": [
            [
             0,
             "#0d0887"
            ],
            [
             0.1111111111111111,
             "#46039f"
            ],
            [
             0.2222222222222222,
             "#7201a8"
            ],
            [
             0.3333333333333333,
             "#9c179e"
            ],
            [
             0.4444444444444444,
             "#bd3786"
            ],
            [
             0.5555555555555556,
             "#d8576b"
            ],
            [
             0.6666666666666666,
             "#ed7953"
            ],
            [
             0.7777777777777778,
             "#fb9f3a"
            ],
            [
             0.8888888888888888,
             "#fdca26"
            ],
            [
             1,
             "#f0f921"
            ]
           ],
           "sequentialminus": [
            [
             0,
             "#0d0887"
            ],
            [
             0.1111111111111111,
             "#46039f"
            ],
            [
             0.2222222222222222,
             "#7201a8"
            ],
            [
             0.3333333333333333,
             "#9c179e"
            ],
            [
             0.4444444444444444,
             "#bd3786"
            ],
            [
             0.5555555555555556,
             "#d8576b"
            ],
            [
             0.6666666666666666,
             "#ed7953"
            ],
            [
             0.7777777777777778,
             "#fb9f3a"
            ],
            [
             0.8888888888888888,
             "#fdca26"
            ],
            [
             1,
             "#f0f921"
            ]
           ]
          },
          "colorway": [
           "#636efa",
           "#EF553B",
           "#00cc96",
           "#ab63fa",
           "#FFA15A",
           "#19d3f3",
           "#FF6692",
           "#B6E880",
           "#FF97FF",
           "#FECB52"
          ],
          "font": {
           "color": "#2a3f5f"
          },
          "geo": {
           "bgcolor": "white",
           "lakecolor": "white",
           "landcolor": "white",
           "showlakes": true,
           "showland": true,
           "subunitcolor": "#C8D4E3"
          },
          "hoverlabel": {
           "align": "left"
          },
          "hovermode": "closest",
          "mapbox": {
           "style": "light"
          },
          "paper_bgcolor": "white",
          "plot_bgcolor": "white",
          "polar": {
           "angularaxis": {
            "gridcolor": "#EBF0F8",
            "linecolor": "#EBF0F8",
            "ticks": ""
           },
           "bgcolor": "white",
           "radialaxis": {
            "gridcolor": "#EBF0F8",
            "linecolor": "#EBF0F8",
            "ticks": ""
           }
          },
          "scene": {
           "xaxis": {
            "backgroundcolor": "white",
            "gridcolor": "#DFE8F3",
            "gridwidth": 2,
            "linecolor": "#EBF0F8",
            "showbackground": true,
            "ticks": "",
            "zerolinecolor": "#EBF0F8"
           },
           "yaxis": {
            "backgroundcolor": "white",
            "gridcolor": "#DFE8F3",
            "gridwidth": 2,
            "linecolor": "#EBF0F8",
            "showbackground": true,
            "ticks": "",
            "zerolinecolor": "#EBF0F8"
           },
           "zaxis": {
            "backgroundcolor": "white",
            "gridcolor": "#DFE8F3",
            "gridwidth": 2,
            "linecolor": "#EBF0F8",
            "showbackground": true,
            "ticks": "",
            "zerolinecolor": "#EBF0F8"
           }
          },
          "shapedefaults": {
           "line": {
            "color": "#2a3f5f"
           }
          },
          "ternary": {
           "aaxis": {
            "gridcolor": "#DFE8F3",
            "linecolor": "#A2B1C6",
            "ticks": ""
           },
           "baxis": {
            "gridcolor": "#DFE8F3",
            "linecolor": "#A2B1C6",
            "ticks": ""
           },
           "bgcolor": "white",
           "caxis": {
            "gridcolor": "#DFE8F3",
            "linecolor": "#A2B1C6",
            "ticks": ""
           }
          },
          "title": {
           "x": 0.05
          },
          "xaxis": {
           "automargin": true,
           "gridcolor": "#EBF0F8",
           "linecolor": "#EBF0F8",
           "ticks": "",
           "title": {
            "standoff": 15
           },
           "zerolinecolor": "#EBF0F8",
           "zerolinewidth": 2
          },
          "yaxis": {
           "automargin": true,
           "gridcolor": "#EBF0F8",
           "linecolor": "#EBF0F8",
           "ticks": "",
           "title": {
            "standoff": 15
           },
           "zerolinecolor": "#EBF0F8",
           "zerolinewidth": 2
          }
         }
        },
        "title": {
         "text": "Yearly Values by Vintage"
        },
        "xaxis": {
         "anchor": "y",
         "domain": [
          0,
          1
         ],
         "title": {
          "text": "Year"
         }
        },
        "yaxis": {
         "anchor": "x",
         "domain": [
          0,
          1
         ],
         "title": {
          "text": "Value"
         }
        }
       }
      }
     },
     "metadata": {},
     "output_type": "display_data"
    }
   ],
   "source": [
    "import pandas as pd\n",
    "import plotly.express as px\n",
    "\n",
    "# Assuming merged_df is available\n",
    "# Step 1: Filter the dataset\n",
    "filtered_data = merged_df[\n",
    "    (merged_df['Country Code'] == 122) & \n",
    "    (merged_df['Attribute'] == 'Value') & \n",
    "    (merged_df['Unit Code'] == 'XDC')\n",
    "]\n",
    "\n",
    "# Save filtered dataset\n",
    "filtered_data.to_csv(\"austria_filtered.csv\", index=False)\n",
    "\n",
    "# Step 2: Identify year columns (1970 to 2020)\n",
    "year_columns = [col for col in filtered_data.columns if col.isdigit() and 1970 <= int(col) <= 2020]\n",
    "\n",
    "# Identify the most populated Sector Code\n",
    "most_data_entries = (\n",
    "    filtered_data\n",
    "    .groupby('Sector Code')[year_columns]\n",
    "    .apply(lambda group: group.notna().sum().sum())\n",
    "    .reset_index(name='Data Entry Count')\n",
    "    .sort_values(by='Data Entry Count', ascending=False)\n",
    ")\n",
    "\n",
    "# Get the most populated Sector Name\n",
    "most_populated_sector = most_data_entries.iloc[0]['Sector Code']\n",
    "\n",
    "filtered_data = filtered_data[filtered_data['Sector Code']==most_populated_sector]\n",
    "\n",
    "# Step 3: Reshape data to pivot by vintage\n",
    "pivot_data = (\n",
    "    filtered_data.melt(\n",
    "        id_vars=['Sector Name', 'Vintage'], \n",
    "        value_vars=year_columns, \n",
    "        var_name='Year', \n",
    "        value_name='Value'\n",
    "    )\n",
    ")\n",
    "\n",
    "# Ensure 'Value' is numeric\n",
    "pivot_data['Value'] = pd.to_numeric(pivot_data['Value'], errors='coerce')\n",
    "\n",
    "# Step 4: Calculate differences for the same year across vintages\n",
    "pivot_data['Year'] = pivot_data['Year'].astype(int)\n",
    "difference_data = (\n",
    "    pivot_data\n",
    "    .sort_values(by=['Year', 'Vintage'])\n",
    "    .groupby(['Sector Name', 'Year'], group_keys=False)\n",
    "    .apply(lambda group: group.assign(Difference=group['Value'].diff()))\n",
    "    .dropna(subset=['Difference'])\n",
    ")\n",
    "\n",
    "# Assuming `pivot_data` is available and contains 'Year', 'Vintage', and 'Value' columns\n",
    "# Ensure 'Year' and 'Vintage' are of the correct type\n",
    "pivot_data['Year'] = pivot_data['Year'].astype(int)\n",
    "pivot_data['Vintage'] = pivot_data['Vintage'].astype(str)\n",
    "\n",
    "# Filter data to exclude NaN values for plotting\n",
    "plot_data = pivot_data.dropna(subset=['Value'])\n",
    "\n",
    "# Create the bar chart with grouped bars\n",
    "fig = px.bar(\n",
    "    plot_data,\n",
    "    x='Year',\n",
    "    y='Value',\n",
    "    color='Vintage',\n",
    "    barmode='group',  # Ensure bars are grouped side by side\n",
    "    title='Yearly Values by Vintage',\n",
    "    labels={'Year': 'Year', 'Value': 'Value', 'Vintage': 'Vintage'},\n",
    ")\n",
    "\n",
    "# Update layout for better readability\n",
    "fig.update_layout(\n",
    "    xaxis_title='Year',\n",
    "    yaxis_title='Value',\n",
    "    legend_title='Vintage',\n",
    "    template='plotly_white',\n",
    "    bargap=0.15,  # Adjust bar spacing for clarity\n",
    "    bargroupgap=0.1  # Adjust group spacing\n",
    ")\n",
    "\n",
    "# Show the figure\n",
    "fig.show()\n"
   ]
  },
  {
   "cell_type": "code",
   "execution_count": 39,
   "metadata": {},
   "outputs": [
    {
     "name": "stdout",
     "output_type": "stream",
     "text": [
      "528\n",
      "96\n",
      "48\n"
     ]
    }
   ],
   "source": [
    "austria_merged = merged_df[merged_df['Country Code']==122]\n",
    "print(len(austria_merged))\n",
    "austria_merged = austria_merged[austria_merged['Attribute']=='Value']\n",
    "print(len(austria_merged))\n",
    "austria_merged = austria_merged[austria_merged['Unit Code']=='XDC']\n",
    "print(len(austria_merged))\n",
    "austria_merged.to_csv(\"austria_merged.csv\", index=False)\n",
    "\n",
    "# Identifying year columns (from 1970 to 2020) in the dataset\n",
    "year_columns = [col for col in austria_merged.columns if col.isdigit() and 1970 <= int(col) <= 2020]\n",
    "\n",
    "# Filtering rows with non-numeric values and counting non-NA numeric entries per combination\n",
    "most_data_entries = (\n",
    "    austria_merged\n",
    "    .groupby('Sector Name')[year_columns]\n",
    "    .apply(lambda group: group.notna().sum().sum())\n",
    "    .reset_index(name='Data Entry Count')\n",
    "    .sort_values(by='Data Entry Count', ascending=False)\n",
    ")\n",
    "\n",
    "most_data_entries.to_csv(\"austria_by_entries.csv\")"
   ]
  },
  {
   "cell_type": "code",
   "execution_count": null,
   "metadata": {},
   "outputs": [],
   "source": [
    "import pandas as pd\n",
    "\n",
    "# Load the previously saved `austria_merged.csv` file\n",
    "file_path = \"austria_merged.csv\"\n",
    "austria_merged = pd.read_csv(file_path)\n",
    "\n",
    "# Identifying year columns (from 1970 to 2020)\n",
    "year_columns = [col for col in austria_merged.columns if col.isdigit() and 1970 <= int(col) <= 2020]\n",
    "\n",
    "# Identify the most populated Sector Code\n",
    "most_data_entries = (\n",
    "    austria_merged\n",
    "    .groupby('Sector Name')[year_columns]\n",
    "    .apply(lambda group: group.notna().sum().sum())\n",
    "    .reset_index(name='Data Entry Count')\n",
    "    .sort_values(by='Data Entry Count', ascending=False)\n",
    ")\n",
    "\n",
    "# Get the most populated Sector Name\n",
    "most_populated_sector = most_data_entries.iloc[0]['Sector Name']\n",
    "\n",
    "# Filter data for the most populated Sector Code\n",
    "filtered_data = austria_merged[austria_merged['Sector Name'] == most_populated_sector]\n",
    "\n",
    "# Sort by vintage (chronological order)\n",
    "filtered_data = filtered_data.sort_values(by='Vintage')\n",
    "\n",
    "# Compute year-over-year changes for each year column\n",
    "yearly_changes = filtered_data[year_columns].diff(axis=0)\n",
    "yearly_changes.insert(0, 'Vintage', filtered_data['Vintage'].values)\n",
    "yearly_changes.insert(1, 'Sector Name', filtered_data['Sector Name'].values)\n",
    "\n",
    "# Save the year-over-year changes to a new CSV file\n",
    "yearly_changes.to_csv(\"austria_yearly_changes.csv\", index=False)\n",
    "\n",
    "# Display the result to the user\n",
    "import ace_tools as tools; tools.display_dataframe_to_user(name=\"Yearly Changes for Most Populated Sector\", dataframe=yearly_changes)\n"
   ]
  },
  {
   "cell_type": "code",
   "execution_count": 32,
   "metadata": {},
   "outputs": [],
   "source": [
    "# Identifying year columns (from 1970 to 2020) in the dataset\n",
    "year_columns = [col for col in austria_merged.columns if col.isdigit() and 1970 <= int(col) <= 2020]\n",
    "\n",
    "# Filtering rows with non-numeric values and counting non-NA numeric entries per combination\n",
    "most_data_entries = (\n",
    "    austria_merged\n",
    "    .groupby(['Sector Code', 'Unit Code'])[year_columns]\n",
    "    .apply(lambda group: group.notna().sum().sum())\n",
    "    .reset_index(name='Data Entry Count')\n",
    "    .sort_values(by='Data Entry Count', ascending=False)\n",
    ")\n",
    "most_data_entries.to_csv(\"austria_by_entries.csv\")"
   ]
  },
  {
   "cell_type": "code",
   "execution_count": 3,
   "metadata": {},
   "outputs": [
    {
     "name": "stdout",
     "output_type": "stream",
     "text": [
      "Headers saved\n"
     ]
    },
    {
     "ename": "KeyError",
     "evalue": "'Residence Name'",
     "output_type": "error",
     "traceback": [
      "\u001b[0;31m---------------------------------------------------------------------------\u001b[0m",
      "\u001b[0;31mKeyError\u001b[0m                                  Traceback (most recent call last)",
      "File \u001b[0;32m~/.local/lib/python3.12/site-packages/pandas/core/indexes/base.py:3805\u001b[0m, in \u001b[0;36mIndex.get_loc\u001b[0;34m(self, key)\u001b[0m\n\u001b[1;32m   3804\u001b[0m \u001b[38;5;28;01mtry\u001b[39;00m:\n\u001b[0;32m-> 3805\u001b[0m     \u001b[38;5;28;01mreturn\u001b[39;00m \u001b[38;5;28;43mself\u001b[39;49m\u001b[38;5;241;43m.\u001b[39;49m\u001b[43m_engine\u001b[49m\u001b[38;5;241;43m.\u001b[39;49m\u001b[43mget_loc\u001b[49m\u001b[43m(\u001b[49m\u001b[43mcasted_key\u001b[49m\u001b[43m)\u001b[49m\n\u001b[1;32m   3806\u001b[0m \u001b[38;5;28;01mexcept\u001b[39;00m \u001b[38;5;167;01mKeyError\u001b[39;00m \u001b[38;5;28;01mas\u001b[39;00m err:\n",
      "File \u001b[0;32mindex.pyx:167\u001b[0m, in \u001b[0;36mpandas._libs.index.IndexEngine.get_loc\u001b[0;34m()\u001b[0m\n",
      "File \u001b[0;32mindex.pyx:196\u001b[0m, in \u001b[0;36mpandas._libs.index.IndexEngine.get_loc\u001b[0;34m()\u001b[0m\n",
      "File \u001b[0;32mpandas/_libs/hashtable_class_helper.pxi:7081\u001b[0m, in \u001b[0;36mpandas._libs.hashtable.PyObjectHashTable.get_item\u001b[0;34m()\u001b[0m\n",
      "File \u001b[0;32mpandas/_libs/hashtable_class_helper.pxi:7089\u001b[0m, in \u001b[0;36mpandas._libs.hashtable.PyObjectHashTable.get_item\u001b[0;34m()\u001b[0m\n",
      "\u001b[0;31mKeyError\u001b[0m: 'Residence Name'",
      "\nThe above exception was the direct cause of the following exception:\n",
      "\u001b[0;31mKeyError\u001b[0m                                  Traceback (most recent call last)",
      "Cell \u001b[0;32mIn[3], line 11\u001b[0m\n\u001b[1;32m      9\u001b[0m \u001b[38;5;66;03m# Extract and save unique values for each column\u001b[39;00m\n\u001b[1;32m     10\u001b[0m \u001b[38;5;28;01mfor\u001b[39;00m column \u001b[38;5;129;01min\u001b[39;00m columns_to_extract:\n\u001b[0;32m---> 11\u001b[0m     unique_values \u001b[38;5;241m=\u001b[39m \u001b[43mdata\u001b[49m\u001b[43m[\u001b[49m\u001b[43mcolumn\u001b[49m\u001b[43m]\u001b[49m\u001b[38;5;241m.\u001b[39mdropna()\u001b[38;5;241m.\u001b[39munique()  \u001b[38;5;66;03m# Drop NaN values and get unique ones\u001b[39;00m\n\u001b[1;32m     12\u001b[0m     unique_df \u001b[38;5;241m=\u001b[39m pd\u001b[38;5;241m.\u001b[39mDataFrame(unique_values, columns\u001b[38;5;241m=\u001b[39m[column])  \u001b[38;5;66;03m# Convert to DataFrame\u001b[39;00m\n\u001b[1;32m     13\u001b[0m     output_file \u001b[38;5;241m=\u001b[39m \u001b[38;5;124mf\u001b[39m\u001b[38;5;124m\"\u001b[39m\u001b[38;5;124munique_\u001b[39m\u001b[38;5;132;01m{\u001b[39;00mcolumn\u001b[38;5;241m.\u001b[39mreplace(\u001b[38;5;124m'\u001b[39m\u001b[38;5;124m \u001b[39m\u001b[38;5;124m'\u001b[39m,\u001b[38;5;250m \u001b[39m\u001b[38;5;124m'\u001b[39m\u001b[38;5;124m_\u001b[39m\u001b[38;5;124m'\u001b[39m)\u001b[38;5;132;01m}\u001b[39;00m\u001b[38;5;124m.csv\u001b[39m\u001b[38;5;124m\"\u001b[39m  \u001b[38;5;66;03m# Save file\u001b[39;00m\n",
      "File \u001b[0;32m~/.local/lib/python3.12/site-packages/pandas/core/frame.py:4102\u001b[0m, in \u001b[0;36mDataFrame.__getitem__\u001b[0;34m(self, key)\u001b[0m\n\u001b[1;32m   4100\u001b[0m \u001b[38;5;28;01mif\u001b[39;00m \u001b[38;5;28mself\u001b[39m\u001b[38;5;241m.\u001b[39mcolumns\u001b[38;5;241m.\u001b[39mnlevels \u001b[38;5;241m>\u001b[39m \u001b[38;5;241m1\u001b[39m:\n\u001b[1;32m   4101\u001b[0m     \u001b[38;5;28;01mreturn\u001b[39;00m \u001b[38;5;28mself\u001b[39m\u001b[38;5;241m.\u001b[39m_getitem_multilevel(key)\n\u001b[0;32m-> 4102\u001b[0m indexer \u001b[38;5;241m=\u001b[39m \u001b[38;5;28;43mself\u001b[39;49m\u001b[38;5;241;43m.\u001b[39;49m\u001b[43mcolumns\u001b[49m\u001b[38;5;241;43m.\u001b[39;49m\u001b[43mget_loc\u001b[49m\u001b[43m(\u001b[49m\u001b[43mkey\u001b[49m\u001b[43m)\u001b[49m\n\u001b[1;32m   4103\u001b[0m \u001b[38;5;28;01mif\u001b[39;00m is_integer(indexer):\n\u001b[1;32m   4104\u001b[0m     indexer \u001b[38;5;241m=\u001b[39m [indexer]\n",
      "File \u001b[0;32m~/.local/lib/python3.12/site-packages/pandas/core/indexes/base.py:3812\u001b[0m, in \u001b[0;36mIndex.get_loc\u001b[0;34m(self, key)\u001b[0m\n\u001b[1;32m   3807\u001b[0m     \u001b[38;5;28;01mif\u001b[39;00m \u001b[38;5;28misinstance\u001b[39m(casted_key, \u001b[38;5;28mslice\u001b[39m) \u001b[38;5;129;01mor\u001b[39;00m (\n\u001b[1;32m   3808\u001b[0m         \u001b[38;5;28misinstance\u001b[39m(casted_key, abc\u001b[38;5;241m.\u001b[39mIterable)\n\u001b[1;32m   3809\u001b[0m         \u001b[38;5;129;01mand\u001b[39;00m \u001b[38;5;28many\u001b[39m(\u001b[38;5;28misinstance\u001b[39m(x, \u001b[38;5;28mslice\u001b[39m) \u001b[38;5;28;01mfor\u001b[39;00m x \u001b[38;5;129;01min\u001b[39;00m casted_key)\n\u001b[1;32m   3810\u001b[0m     ):\n\u001b[1;32m   3811\u001b[0m         \u001b[38;5;28;01mraise\u001b[39;00m InvalidIndexError(key)\n\u001b[0;32m-> 3812\u001b[0m     \u001b[38;5;28;01mraise\u001b[39;00m \u001b[38;5;167;01mKeyError\u001b[39;00m(key) \u001b[38;5;28;01mfrom\u001b[39;00m \u001b[38;5;21;01merr\u001b[39;00m\n\u001b[1;32m   3813\u001b[0m \u001b[38;5;28;01mexcept\u001b[39;00m \u001b[38;5;167;01mTypeError\u001b[39;00m:\n\u001b[1;32m   3814\u001b[0m     \u001b[38;5;66;03m# If we have a listlike key, _check_indexing_error will raise\u001b[39;00m\n\u001b[1;32m   3815\u001b[0m     \u001b[38;5;66;03m#  InvalidIndexError. Otherwise we fall through and re-raise\u001b[39;00m\n\u001b[1;32m   3816\u001b[0m     \u001b[38;5;66;03m#  the TypeError.\u001b[39;00m\n\u001b[1;32m   3817\u001b[0m     \u001b[38;5;28mself\u001b[39m\u001b[38;5;241m.\u001b[39m_check_indexing_error(key)\n",
      "\u001b[0;31mKeyError\u001b[0m: 'Residence Name'"
     ]
    }
   ],
   "source": [
    "# Columns to extract unique values from\n",
    "columns_to_extract = [\"Residence Name\", \"Instrument and Assets Classification Name\"]\n",
    "\n",
    "# Extract and save unique values for each column\n",
    "for column in columns_to_extract:\n",
    "    unique_values = data[column].dropna().unique()  # Drop NaN values and get unique ones\n",
    "    unique_df = pd.DataFrame(unique_values, columns=[column])  # Convert to DataFrame\n",
    "    output_file = f\"unique_{column.replace(' ', '_')}.csv\"  # Save file\n",
    "    unique_df.to_csv(output_file, index=False)\n",
    "    print(f\"Unique values from '{column}' saved to {output_file}\")"
   ]
  },
  {
   "cell_type": "code",
   "execution_count": 36,
   "metadata": {},
   "outputs": [],
   "source": [
    "def filter_and_combine(data, column_name, keywords, output_filename):\n",
    "    \"\"\"\n",
    "    Filters rows based on multiple keywords in a specified column and combines them into one CSV.\n",
    "    \n",
    "    Parameters:\n",
    "        data (pd.DataFrame): The DataFrame to search within.\n",
    "        column_name (str): The column to search for the keywords.\n",
    "        keywords (list): A list of keywords to search for.\n",
    "        output_filename (str): The filename to save the combined filtered rows.\n",
    "\n",
    "    Returns:\n",
    "        pd.DataFrame: Combined DataFrame of filtered rows.\n",
    "    \"\"\"\n",
    "    combined_rows = pd.DataFrame()  # Initialize an empty DataFrame\n",
    "\n",
    "    for keyword in keywords:\n",
    "        # Filter rows where the keyword appears in the specified column (case-insensitive)\n",
    "        filtered_rows = data[data[column_name].str.contains(keyword, case=False, na=False)]\n",
    "        \n",
    "        # Add a column to indicate the keyword used for filtering\n",
    "        filtered_rows['Keyword'] = keyword\n",
    "        \n",
    "        # Append to the combined DataFrame\n",
    "        combined_rows = pd.concat([combined_rows, filtered_rows], ignore_index=True)\n",
    "\n",
    "    # Save the combined rows to a single CSV file\n",
    "    combined_rows.to_csv(Path.cwd() / output_filename, index=False)\n",
    "    \n",
    "    # Return the combined DataFrame\n",
    "    return combined_rows\n",
    "\n",
    "# Define the DataFrame (assuming `data` is already loaded)\n",
    "column_name = \"Classification Name\"\n",
    "\n",
    "# List of keywords to search for\n",
    "keywords = [\"debt\", \"liabilities\", \"borrowing\"]\n",
    "\n",
    "# Call the function to filter and combine rows\n",
    "output_filename = \"filtered_rows_combined.csv\"\n",
    "combined_data = filter_and_combine(data, column_name, keywords, output_filename)\n",
    "\n",
    "# Display the unique values in the \"Classification Name\" column\n",
    "unique_classification_names = combined_data[column_name].unique()\n",
    "print(\"Unique classification names:\", unique_classification_names)"
   ]
  },
  {
   "cell_type": "code",
   "execution_count": 45,
   "metadata": {},
   "outputs": [
    {
     "name": "stderr",
     "output_type": "stream",
     "text": [
      "/tmp/ipykernel_66411/4276670487.py:24: DeprecationWarning: DataFrameGroupBy.apply operated on the grouping columns. This behavior is deprecated, and in a future version of pandas the grouping columns will be excluded from the operation. Either pass `include_groups=False` to exclude the groupings or explicitly select the grouping columns after groupby to silence this warning.\n",
      "  summary = grouped.apply(\n"
     ]
    }
   ],
   "source": [
    "def analyze_data_format(data):\n",
    "    \"\"\"\n",
    "    Analyzes the dataset to calculate the sum of legitimate entries and covered countries\n",
    "    for each combination of Classification, Sector, and Unit.\n",
    "    \n",
    "    Parameters:\n",
    "        data (pd.DataFrame): The input dataset.\n",
    "\n",
    "    Returns:\n",
    "        pd.DataFrame: Summary DataFrame with analysis results.\n",
    "    \"\"\"\n",
    "    # Filter rows where Attribute is \"Value\"\n",
    "    filtered_data = data[data['Attribute'] == 'Value']\n",
    "\n",
    "    # Select year columns (assume all columns except metadata and Attribute are years)\n",
    "    year_columns = [col for col in data.columns if col.startswith('20') or col.startswith('19')]\n",
    "\n",
    "    # Group by Classification, Sector, and Unit\n",
    "    grouped = filtered_data.groupby(\n",
    "        ['Classification Name', 'Sector Name', 'Unit Name']\n",
    "    )\n",
    "\n",
    "    # Calculate the required summaries\n",
    "    summary = grouped.apply(\n",
    "        lambda group: pd.Series({\n",
    "            'Sum of Legitimate Entries': group[year_columns].apply(\n",
    "                pd.to_numeric, errors='coerce'\n",
    "            ).count().sum(),\n",
    "            'Number of Covered Countries': group['Country Code'].nunique()\n",
    "        })\n",
    "    ).reset_index()\n",
    "\n",
    "    return summary\n",
    "\n",
    "# Assuming your dataset is loaded in `data`\n",
    "summary = analyze_data_format(combined_data)\n",
    "\n",
    "# Save the summary to a CSV file if needed\n",
    "summary.to_csv(Path.cwd().parent.resolve()/\"data\"/\"GFSYMAB\"/\"Summaries\"/\"summary_analysis_2015.csv\", index=False)\n"
   ]
  }
 ],
 "metadata": {
  "kernelspec": {
   "display_name": "hidden_debt_gsf",
   "language": "python",
   "name": "python3"
  },
  "language_info": {
   "codemirror_mode": {
    "name": "ipython",
    "version": 3
   },
   "file_extension": ".py",
   "mimetype": "text/x-python",
   "name": "python",
   "nbconvert_exporter": "python",
   "pygments_lexer": "ipython3",
   "version": "3.12.0"
  }
 },
 "nbformat": 4,
 "nbformat_minor": 2
}
