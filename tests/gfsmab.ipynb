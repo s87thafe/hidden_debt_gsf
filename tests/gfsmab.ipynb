{
 "cells": [
  {
   "cell_type": "code",
   "execution_count": 1,
   "metadata": {},
   "outputs": [],
   "source": [
    "import pandas as pd\n",
    "from pathlib import Path"
   ]
  },
  {
   "cell_type": "code",
   "execution_count": 2,
   "metadata": {},
   "outputs": [
    {
     "name": "stdout",
     "output_type": "stream",
     "text": [
      "File loaded successfully.\n"
     ]
    }
   ],
   "source": [
    "# Get the data path\n",
    "data_path = Path.cwd().parent.resolve()/\"data\"/\"GFSMAB\"/\"GFSMAB2020\"\n",
    "\n",
    "# Define the file name\n",
    "file_name = \"GFSMAB2020_01-16-2025.csv\"\n",
    "\n",
    "# Combine the base path and file name\n",
    "file_path = data_path / file_name\n",
    "\n",
    "if file_path.exists():  # Check if the file exists\n",
    "    data = pd.read_csv(file_path)\n",
    "    print(\"File loaded successfully.\")\n",
    "else:\n",
    "    print(f\"File not found at {file_path}\")\n"
   ]
  },
  {
   "cell_type": "code",
   "execution_count": 3,
   "metadata": {},
   "outputs": [
    {
     "name": "stdout",
     "output_type": "stream",
     "text": [
      "Headers saved\n"
     ]
    }
   ],
   "source": [
    "# Extract headers and save to CSV\n",
    "headers = pd.DataFrame(data.columns, columns=[\"Headers\"])\n",
    "headers.to_csv(\"headers.csv\", index=False)\n",
    "print(f\"Headers saved\")"
   ]
  },
  {
   "cell_type": "code",
   "execution_count": 3,
   "metadata": {},
   "outputs": [
    {
     "name": "stdout",
     "output_type": "stream",
     "text": [
      "Headers saved\n"
     ]
    },
    {
     "ename": "KeyError",
     "evalue": "'Residence Name'",
     "output_type": "error",
     "traceback": [
      "\u001b[0;31m---------------------------------------------------------------------------\u001b[0m",
      "\u001b[0;31mKeyError\u001b[0m                                  Traceback (most recent call last)",
      "File \u001b[0;32m~/.local/lib/python3.12/site-packages/pandas/core/indexes/base.py:3805\u001b[0m, in \u001b[0;36mIndex.get_loc\u001b[0;34m(self, key)\u001b[0m\n\u001b[1;32m   3804\u001b[0m \u001b[38;5;28;01mtry\u001b[39;00m:\n\u001b[0;32m-> 3805\u001b[0m     \u001b[38;5;28;01mreturn\u001b[39;00m \u001b[38;5;28;43mself\u001b[39;49m\u001b[38;5;241;43m.\u001b[39;49m\u001b[43m_engine\u001b[49m\u001b[38;5;241;43m.\u001b[39;49m\u001b[43mget_loc\u001b[49m\u001b[43m(\u001b[49m\u001b[43mcasted_key\u001b[49m\u001b[43m)\u001b[49m\n\u001b[1;32m   3806\u001b[0m \u001b[38;5;28;01mexcept\u001b[39;00m \u001b[38;5;167;01mKeyError\u001b[39;00m \u001b[38;5;28;01mas\u001b[39;00m err:\n",
      "File \u001b[0;32mindex.pyx:167\u001b[0m, in \u001b[0;36mpandas._libs.index.IndexEngine.get_loc\u001b[0;34m()\u001b[0m\n",
      "File \u001b[0;32mindex.pyx:196\u001b[0m, in \u001b[0;36mpandas._libs.index.IndexEngine.get_loc\u001b[0;34m()\u001b[0m\n",
      "File \u001b[0;32mpandas/_libs/hashtable_class_helper.pxi:7081\u001b[0m, in \u001b[0;36mpandas._libs.hashtable.PyObjectHashTable.get_item\u001b[0;34m()\u001b[0m\n",
      "File \u001b[0;32mpandas/_libs/hashtable_class_helper.pxi:7089\u001b[0m, in \u001b[0;36mpandas._libs.hashtable.PyObjectHashTable.get_item\u001b[0;34m()\u001b[0m\n",
      "\u001b[0;31mKeyError\u001b[0m: 'Residence Name'",
      "\nThe above exception was the direct cause of the following exception:\n",
      "\u001b[0;31mKeyError\u001b[0m                                  Traceback (most recent call last)",
      "Cell \u001b[0;32mIn[3], line 11\u001b[0m\n\u001b[1;32m      9\u001b[0m \u001b[38;5;66;03m# Extract and save unique values for each column\u001b[39;00m\n\u001b[1;32m     10\u001b[0m \u001b[38;5;28;01mfor\u001b[39;00m column \u001b[38;5;129;01min\u001b[39;00m columns_to_extract:\n\u001b[0;32m---> 11\u001b[0m     unique_values \u001b[38;5;241m=\u001b[39m \u001b[43mdata\u001b[49m\u001b[43m[\u001b[49m\u001b[43mcolumn\u001b[49m\u001b[43m]\u001b[49m\u001b[38;5;241m.\u001b[39mdropna()\u001b[38;5;241m.\u001b[39munique()  \u001b[38;5;66;03m# Drop NaN values and get unique ones\u001b[39;00m\n\u001b[1;32m     12\u001b[0m     unique_df \u001b[38;5;241m=\u001b[39m pd\u001b[38;5;241m.\u001b[39mDataFrame(unique_values, columns\u001b[38;5;241m=\u001b[39m[column])  \u001b[38;5;66;03m# Convert to DataFrame\u001b[39;00m\n\u001b[1;32m     13\u001b[0m     output_file \u001b[38;5;241m=\u001b[39m \u001b[38;5;124mf\u001b[39m\u001b[38;5;124m\"\u001b[39m\u001b[38;5;124munique_\u001b[39m\u001b[38;5;132;01m{\u001b[39;00mcolumn\u001b[38;5;241m.\u001b[39mreplace(\u001b[38;5;124m'\u001b[39m\u001b[38;5;124m \u001b[39m\u001b[38;5;124m'\u001b[39m,\u001b[38;5;250m \u001b[39m\u001b[38;5;124m'\u001b[39m\u001b[38;5;124m_\u001b[39m\u001b[38;5;124m'\u001b[39m)\u001b[38;5;132;01m}\u001b[39;00m\u001b[38;5;124m.csv\u001b[39m\u001b[38;5;124m\"\u001b[39m  \u001b[38;5;66;03m# Save file\u001b[39;00m\n",
      "File \u001b[0;32m~/.local/lib/python3.12/site-packages/pandas/core/frame.py:4102\u001b[0m, in \u001b[0;36mDataFrame.__getitem__\u001b[0;34m(self, key)\u001b[0m\n\u001b[1;32m   4100\u001b[0m \u001b[38;5;28;01mif\u001b[39;00m \u001b[38;5;28mself\u001b[39m\u001b[38;5;241m.\u001b[39mcolumns\u001b[38;5;241m.\u001b[39mnlevels \u001b[38;5;241m>\u001b[39m \u001b[38;5;241m1\u001b[39m:\n\u001b[1;32m   4101\u001b[0m     \u001b[38;5;28;01mreturn\u001b[39;00m \u001b[38;5;28mself\u001b[39m\u001b[38;5;241m.\u001b[39m_getitem_multilevel(key)\n\u001b[0;32m-> 4102\u001b[0m indexer \u001b[38;5;241m=\u001b[39m \u001b[38;5;28;43mself\u001b[39;49m\u001b[38;5;241;43m.\u001b[39;49m\u001b[43mcolumns\u001b[49m\u001b[38;5;241;43m.\u001b[39;49m\u001b[43mget_loc\u001b[49m\u001b[43m(\u001b[49m\u001b[43mkey\u001b[49m\u001b[43m)\u001b[49m\n\u001b[1;32m   4103\u001b[0m \u001b[38;5;28;01mif\u001b[39;00m is_integer(indexer):\n\u001b[1;32m   4104\u001b[0m     indexer \u001b[38;5;241m=\u001b[39m [indexer]\n",
      "File \u001b[0;32m~/.local/lib/python3.12/site-packages/pandas/core/indexes/base.py:3812\u001b[0m, in \u001b[0;36mIndex.get_loc\u001b[0;34m(self, key)\u001b[0m\n\u001b[1;32m   3807\u001b[0m     \u001b[38;5;28;01mif\u001b[39;00m \u001b[38;5;28misinstance\u001b[39m(casted_key, \u001b[38;5;28mslice\u001b[39m) \u001b[38;5;129;01mor\u001b[39;00m (\n\u001b[1;32m   3808\u001b[0m         \u001b[38;5;28misinstance\u001b[39m(casted_key, abc\u001b[38;5;241m.\u001b[39mIterable)\n\u001b[1;32m   3809\u001b[0m         \u001b[38;5;129;01mand\u001b[39;00m \u001b[38;5;28many\u001b[39m(\u001b[38;5;28misinstance\u001b[39m(x, \u001b[38;5;28mslice\u001b[39m) \u001b[38;5;28;01mfor\u001b[39;00m x \u001b[38;5;129;01min\u001b[39;00m casted_key)\n\u001b[1;32m   3810\u001b[0m     ):\n\u001b[1;32m   3811\u001b[0m         \u001b[38;5;28;01mraise\u001b[39;00m InvalidIndexError(key)\n\u001b[0;32m-> 3812\u001b[0m     \u001b[38;5;28;01mraise\u001b[39;00m \u001b[38;5;167;01mKeyError\u001b[39;00m(key) \u001b[38;5;28;01mfrom\u001b[39;00m \u001b[38;5;21;01merr\u001b[39;00m\n\u001b[1;32m   3813\u001b[0m \u001b[38;5;28;01mexcept\u001b[39;00m \u001b[38;5;167;01mTypeError\u001b[39;00m:\n\u001b[1;32m   3814\u001b[0m     \u001b[38;5;66;03m# If we have a listlike key, _check_indexing_error will raise\u001b[39;00m\n\u001b[1;32m   3815\u001b[0m     \u001b[38;5;66;03m#  InvalidIndexError. Otherwise we fall through and re-raise\u001b[39;00m\n\u001b[1;32m   3816\u001b[0m     \u001b[38;5;66;03m#  the TypeError.\u001b[39;00m\n\u001b[1;32m   3817\u001b[0m     \u001b[38;5;28mself\u001b[39m\u001b[38;5;241m.\u001b[39m_check_indexing_error(key)\n",
      "\u001b[0;31mKeyError\u001b[0m: 'Residence Name'"
     ]
    }
   ],
   "source": [
    "# Columns to extract unique values from\n",
    "columns_to_extract = [\"Residence Name\", \"Instrument and Assets Classification Name\"]\n",
    "\n",
    "# Extract and save unique values for each column\n",
    "for column in columns_to_extract:\n",
    "    unique_values = data[column].dropna().unique()  # Drop NaN values and get unique ones\n",
    "    unique_df = pd.DataFrame(unique_values, columns=[column])  # Convert to DataFrame\n",
    "    output_file = f\"unique_{column.replace(' ', '_')}.csv\"  # Save file\n",
    "    unique_df.to_csv(output_file, index=False)\n",
    "    print(f\"Unique values from '{column}' saved to {output_file}\")"
   ]
  },
  {
   "cell_type": "code",
   "execution_count": 36,
   "metadata": {},
   "outputs": [],
   "source": [
    "def filter_and_combine(data, column_name, keywords, output_filename):\n",
    "    \"\"\"\n",
    "    Filters rows based on multiple keywords in a specified column and combines them into one CSV.\n",
    "    \n",
    "    Parameters:\n",
    "        data (pd.DataFrame): The DataFrame to search within.\n",
    "        column_name (str): The column to search for the keywords.\n",
    "        keywords (list): A list of keywords to search for.\n",
    "        output_filename (str): The filename to save the combined filtered rows.\n",
    "\n",
    "    Returns:\n",
    "        pd.DataFrame: Combined DataFrame of filtered rows.\n",
    "    \"\"\"\n",
    "    combined_rows = pd.DataFrame()  # Initialize an empty DataFrame\n",
    "\n",
    "    for keyword in keywords:\n",
    "        # Filter rows where the keyword appears in the specified column (case-insensitive)\n",
    "        filtered_rows = data[data[column_name].str.contains(keyword, case=False, na=False)]\n",
    "        \n",
    "        # Add a column to indicate the keyword used for filtering\n",
    "        filtered_rows['Keyword'] = keyword\n",
    "        \n",
    "        # Append to the combined DataFrame\n",
    "        combined_rows = pd.concat([combined_rows, filtered_rows], ignore_index=True)\n",
    "\n",
    "    # Save the combined rows to a single CSV file\n",
    "    combined_rows.to_csv(Path.cwd() / output_filename, index=False)\n",
    "    \n",
    "    # Return the combined DataFrame\n",
    "    return combined_rows\n",
    "\n",
    "# Define the DataFrame (assuming `data` is already loaded)\n",
    "column_name = \"Classification Name\"\n",
    "\n",
    "# List of keywords to search for\n",
    "keywords = [\"debt\", \"liabilities\", \"borrowing\"]\n",
    "\n",
    "# Call the function to filter and combine rows\n",
    "output_filename = \"filtered_rows_combined.csv\"\n",
    "combined_data = filter_and_combine(data, column_name, keywords, output_filename)\n",
    "\n",
    "# Display the unique values in the \"Classification Name\" column\n",
    "unique_classification_names = combined_data[column_name].unique()\n",
    "print(\"Unique classification names:\", unique_classification_names)"
   ]
  },
  {
   "cell_type": "code",
   "execution_count": 45,
   "metadata": {},
   "outputs": [
    {
     "name": "stderr",
     "output_type": "stream",
     "text": [
      "/tmp/ipykernel_66411/4276670487.py:24: DeprecationWarning: DataFrameGroupBy.apply operated on the grouping columns. This behavior is deprecated, and in a future version of pandas the grouping columns will be excluded from the operation. Either pass `include_groups=False` to exclude the groupings or explicitly select the grouping columns after groupby to silence this warning.\n",
      "  summary = grouped.apply(\n"
     ]
    }
   ],
   "source": [
    "def analyze_data_format(data):\n",
    "    \"\"\"\n",
    "    Analyzes the dataset to calculate the sum of legitimate entries and covered countries\n",
    "    for each combination of Classification, Sector, and Unit.\n",
    "    \n",
    "    Parameters:\n",
    "        data (pd.DataFrame): The input dataset.\n",
    "\n",
    "    Returns:\n",
    "        pd.DataFrame: Summary DataFrame with analysis results.\n",
    "    \"\"\"\n",
    "    # Filter rows where Attribute is \"Value\"\n",
    "    filtered_data = data[data['Attribute'] == 'Value']\n",
    "\n",
    "    # Select year columns (assume all columns except metadata and Attribute are years)\n",
    "    year_columns = [col for col in data.columns if col.startswith('20') or col.startswith('19')]\n",
    "\n",
    "    # Group by Classification, Sector, and Unit\n",
    "    grouped = filtered_data.groupby(\n",
    "        ['Classification Name', 'Sector Name', 'Unit Name']\n",
    "    )\n",
    "\n",
    "    # Calculate the required summaries\n",
    "    summary = grouped.apply(\n",
    "        lambda group: pd.Series({\n",
    "            'Sum of Legitimate Entries': group[year_columns].apply(\n",
    "                pd.to_numeric, errors='coerce'\n",
    "            ).count().sum(),\n",
    "            'Number of Covered Countries': group['Country Code'].nunique()\n",
    "        })\n",
    "    ).reset_index()\n",
    "\n",
    "    return summary\n",
    "\n",
    "# Assuming your dataset is loaded in `data`\n",
    "summary = analyze_data_format(combined_data)\n",
    "\n",
    "# Save the summary to a CSV file if needed\n",
    "summary.to_csv(Path.cwd().parent.resolve()/\"data\"/\"GFSYMAB\"/\"Summaries\"/\"summary_analysis_2015.csv\", index=False)\n"
   ]
  },
  {
   "cell_type": "code",
   "execution_count": 2,
   "metadata": {},
   "outputs": [
    {
     "name": "stderr",
     "output_type": "stream",
     "text": [
      "/tmp/ipykernel_97024/3508515484.py:33: SettingWithCopyWarning: \n",
      "A value is trying to be set on a copy of a slice from a DataFrame.\n",
      "Try using .loc[row_indexer,col_indexer] = value instead\n",
      "\n",
      "See the caveats in the documentation: https://pandas.pydata.org/pandas-docs/stable/user_guide/indexing.html#returning-a-view-versus-a-copy\n",
      "  filtered_rows['Keyword'] = keyword\n",
      "/tmp/ipykernel_97024/3508515484.py:33: SettingWithCopyWarning: \n",
      "A value is trying to be set on a copy of a slice from a DataFrame.\n",
      "Try using .loc[row_indexer,col_indexer] = value instead\n",
      "\n",
      "See the caveats in the documentation: https://pandas.pydata.org/pandas-docs/stable/user_guide/indexing.html#returning-a-view-versus-a-copy\n",
      "  filtered_rows['Keyword'] = keyword\n",
      "/tmp/ipykernel_97024/3508515484.py:33: SettingWithCopyWarning: \n",
      "A value is trying to be set on a copy of a slice from a DataFrame.\n",
      "Try using .loc[row_indexer,col_indexer] = value instead\n",
      "\n",
      "See the caveats in the documentation: https://pandas.pydata.org/pandas-docs/stable/user_guide/indexing.html#returning-a-view-versus-a-copy\n",
      "  filtered_rows['Keyword'] = keyword\n",
      "/tmp/ipykernel_97024/3508515484.py:42: DeprecationWarning: DataFrameGroupBy.apply operated on the grouping columns. This behavior is deprecated, and in a future version of pandas the grouping columns will be excluded from the operation. Either pass `include_groups=False` to exclude the groupings or explicitly select the grouping columns after groupby to silence this warning.\n",
      "  summary = grouped.apply(\n"
     ]
    },
    {
     "name": "stdout",
     "output_type": "stream",
     "text": [
      "Summary for 2014 saved to /home/torbenhaferkamp/Desktop/IfW_Kiel/GSF/hidden_debt_gsf/src/hidden_debt_gsf/data/GFSMAB/Summaries/summary_analysis_2014.csv\n"
     ]
    },
    {
     "name": "stderr",
     "output_type": "stream",
     "text": [
      "/tmp/ipykernel_97024/3508515484.py:33: SettingWithCopyWarning: \n",
      "A value is trying to be set on a copy of a slice from a DataFrame.\n",
      "Try using .loc[row_indexer,col_indexer] = value instead\n",
      "\n",
      "See the caveats in the documentation: https://pandas.pydata.org/pandas-docs/stable/user_guide/indexing.html#returning-a-view-versus-a-copy\n",
      "  filtered_rows['Keyword'] = keyword\n",
      "/tmp/ipykernel_97024/3508515484.py:33: SettingWithCopyWarning: \n",
      "A value is trying to be set on a copy of a slice from a DataFrame.\n",
      "Try using .loc[row_indexer,col_indexer] = value instead\n",
      "\n",
      "See the caveats in the documentation: https://pandas.pydata.org/pandas-docs/stable/user_guide/indexing.html#returning-a-view-versus-a-copy\n",
      "  filtered_rows['Keyword'] = keyword\n",
      "/tmp/ipykernel_97024/3508515484.py:33: SettingWithCopyWarning: \n",
      "A value is trying to be set on a copy of a slice from a DataFrame.\n",
      "Try using .loc[row_indexer,col_indexer] = value instead\n",
      "\n",
      "See the caveats in the documentation: https://pandas.pydata.org/pandas-docs/stable/user_guide/indexing.html#returning-a-view-versus-a-copy\n",
      "  filtered_rows['Keyword'] = keyword\n",
      "/tmp/ipykernel_97024/3508515484.py:42: DeprecationWarning: DataFrameGroupBy.apply operated on the grouping columns. This behavior is deprecated, and in a future version of pandas the grouping columns will be excluded from the operation. Either pass `include_groups=False` to exclude the groupings or explicitly select the grouping columns after groupby to silence this warning.\n",
      "  summary = grouped.apply(\n"
     ]
    },
    {
     "name": "stdout",
     "output_type": "stream",
     "text": [
      "Summary for 2015 saved to /home/torbenhaferkamp/Desktop/IfW_Kiel/GSF/hidden_debt_gsf/src/hidden_debt_gsf/data/GFSMAB/Summaries/summary_analysis_2015.csv\n"
     ]
    },
    {
     "name": "stderr",
     "output_type": "stream",
     "text": [
      "/tmp/ipykernel_97024/3508515484.py:33: SettingWithCopyWarning: \n",
      "A value is trying to be set on a copy of a slice from a DataFrame.\n",
      "Try using .loc[row_indexer,col_indexer] = value instead\n",
      "\n",
      "See the caveats in the documentation: https://pandas.pydata.org/pandas-docs/stable/user_guide/indexing.html#returning-a-view-versus-a-copy\n",
      "  filtered_rows['Keyword'] = keyword\n",
      "/tmp/ipykernel_97024/3508515484.py:33: SettingWithCopyWarning: \n",
      "A value is trying to be set on a copy of a slice from a DataFrame.\n",
      "Try using .loc[row_indexer,col_indexer] = value instead\n",
      "\n",
      "See the caveats in the documentation: https://pandas.pydata.org/pandas-docs/stable/user_guide/indexing.html#returning-a-view-versus-a-copy\n",
      "  filtered_rows['Keyword'] = keyword\n",
      "/tmp/ipykernel_97024/3508515484.py:33: SettingWithCopyWarning: \n",
      "A value is trying to be set on a copy of a slice from a DataFrame.\n",
      "Try using .loc[row_indexer,col_indexer] = value instead\n",
      "\n",
      "See the caveats in the documentation: https://pandas.pydata.org/pandas-docs/stable/user_guide/indexing.html#returning-a-view-versus-a-copy\n",
      "  filtered_rows['Keyword'] = keyword\n",
      "/tmp/ipykernel_97024/3508515484.py:42: DeprecationWarning: DataFrameGroupBy.apply operated on the grouping columns. This behavior is deprecated, and in a future version of pandas the grouping columns will be excluded from the operation. Either pass `include_groups=False` to exclude the groupings or explicitly select the grouping columns after groupby to silence this warning.\n",
      "  summary = grouped.apply(\n"
     ]
    },
    {
     "name": "stdout",
     "output_type": "stream",
     "text": [
      "Summary for 2016 saved to /home/torbenhaferkamp/Desktop/IfW_Kiel/GSF/hidden_debt_gsf/src/hidden_debt_gsf/data/GFSMAB/Summaries/summary_analysis_2016.csv\n"
     ]
    },
    {
     "name": "stderr",
     "output_type": "stream",
     "text": [
      "/tmp/ipykernel_97024/3508515484.py:33: SettingWithCopyWarning: \n",
      "A value is trying to be set on a copy of a slice from a DataFrame.\n",
      "Try using .loc[row_indexer,col_indexer] = value instead\n",
      "\n",
      "See the caveats in the documentation: https://pandas.pydata.org/pandas-docs/stable/user_guide/indexing.html#returning-a-view-versus-a-copy\n",
      "  filtered_rows['Keyword'] = keyword\n",
      "/tmp/ipykernel_97024/3508515484.py:33: SettingWithCopyWarning: \n",
      "A value is trying to be set on a copy of a slice from a DataFrame.\n",
      "Try using .loc[row_indexer,col_indexer] = value instead\n",
      "\n",
      "See the caveats in the documentation: https://pandas.pydata.org/pandas-docs/stable/user_guide/indexing.html#returning-a-view-versus-a-copy\n",
      "  filtered_rows['Keyword'] = keyword\n",
      "/tmp/ipykernel_97024/3508515484.py:33: SettingWithCopyWarning: \n",
      "A value is trying to be set on a copy of a slice from a DataFrame.\n",
      "Try using .loc[row_indexer,col_indexer] = value instead\n",
      "\n",
      "See the caveats in the documentation: https://pandas.pydata.org/pandas-docs/stable/user_guide/indexing.html#returning-a-view-versus-a-copy\n",
      "  filtered_rows['Keyword'] = keyword\n",
      "/tmp/ipykernel_97024/3508515484.py:42: DeprecationWarning: DataFrameGroupBy.apply operated on the grouping columns. This behavior is deprecated, and in a future version of pandas the grouping columns will be excluded from the operation. Either pass `include_groups=False` to exclude the groupings or explicitly select the grouping columns after groupby to silence this warning.\n",
      "  summary = grouped.apply(\n"
     ]
    },
    {
     "name": "stdout",
     "output_type": "stream",
     "text": [
      "Summary for 2017 saved to /home/torbenhaferkamp/Desktop/IfW_Kiel/GSF/hidden_debt_gsf/src/hidden_debt_gsf/data/GFSMAB/Summaries/summary_analysis_2017.csv\n"
     ]
    },
    {
     "name": "stderr",
     "output_type": "stream",
     "text": [
      "/tmp/ipykernel_97024/3508515484.py:33: SettingWithCopyWarning: \n",
      "A value is trying to be set on a copy of a slice from a DataFrame.\n",
      "Try using .loc[row_indexer,col_indexer] = value instead\n",
      "\n",
      "See the caveats in the documentation: https://pandas.pydata.org/pandas-docs/stable/user_guide/indexing.html#returning-a-view-versus-a-copy\n",
      "  filtered_rows['Keyword'] = keyword\n",
      "/tmp/ipykernel_97024/3508515484.py:33: SettingWithCopyWarning: \n",
      "A value is trying to be set on a copy of a slice from a DataFrame.\n",
      "Try using .loc[row_indexer,col_indexer] = value instead\n",
      "\n",
      "See the caveats in the documentation: https://pandas.pydata.org/pandas-docs/stable/user_guide/indexing.html#returning-a-view-versus-a-copy\n",
      "  filtered_rows['Keyword'] = keyword\n",
      "/tmp/ipykernel_97024/3508515484.py:33: SettingWithCopyWarning: \n",
      "A value is trying to be set on a copy of a slice from a DataFrame.\n",
      "Try using .loc[row_indexer,col_indexer] = value instead\n",
      "\n",
      "See the caveats in the documentation: https://pandas.pydata.org/pandas-docs/stable/user_guide/indexing.html#returning-a-view-versus-a-copy\n",
      "  filtered_rows['Keyword'] = keyword\n",
      "/tmp/ipykernel_97024/3508515484.py:42: DeprecationWarning: DataFrameGroupBy.apply operated on the grouping columns. This behavior is deprecated, and in a future version of pandas the grouping columns will be excluded from the operation. Either pass `include_groups=False` to exclude the groupings or explicitly select the grouping columns after groupby to silence this warning.\n",
      "  summary = grouped.apply(\n"
     ]
    },
    {
     "name": "stdout",
     "output_type": "stream",
     "text": [
      "Summary for 2019 saved to /home/torbenhaferkamp/Desktop/IfW_Kiel/GSF/hidden_debt_gsf/src/hidden_debt_gsf/data/GFSMAB/Summaries/summary_analysis_2019.csv\n"
     ]
    },
    {
     "name": "stderr",
     "output_type": "stream",
     "text": [
      "/tmp/ipykernel_97024/3508515484.py:33: SettingWithCopyWarning: \n",
      "A value is trying to be set on a copy of a slice from a DataFrame.\n",
      "Try using .loc[row_indexer,col_indexer] = value instead\n",
      "\n",
      "See the caveats in the documentation: https://pandas.pydata.org/pandas-docs/stable/user_guide/indexing.html#returning-a-view-versus-a-copy\n",
      "  filtered_rows['Keyword'] = keyword\n",
      "/tmp/ipykernel_97024/3508515484.py:33: SettingWithCopyWarning: \n",
      "A value is trying to be set on a copy of a slice from a DataFrame.\n",
      "Try using .loc[row_indexer,col_indexer] = value instead\n",
      "\n",
      "See the caveats in the documentation: https://pandas.pydata.org/pandas-docs/stable/user_guide/indexing.html#returning-a-view-versus-a-copy\n",
      "  filtered_rows['Keyword'] = keyword\n",
      "/tmp/ipykernel_97024/3508515484.py:33: SettingWithCopyWarning: \n",
      "A value is trying to be set on a copy of a slice from a DataFrame.\n",
      "Try using .loc[row_indexer,col_indexer] = value instead\n",
      "\n",
      "See the caveats in the documentation: https://pandas.pydata.org/pandas-docs/stable/user_guide/indexing.html#returning-a-view-versus-a-copy\n",
      "  filtered_rows['Keyword'] = keyword\n"
     ]
    },
    {
     "name": "stdout",
     "output_type": "stream",
     "text": [
      "Summary for 2020 saved to /home/torbenhaferkamp/Desktop/IfW_Kiel/GSF/hidden_debt_gsf/src/hidden_debt_gsf/data/GFSMAB/Summaries/summary_analysis_2020.csv\n"
     ]
    },
    {
     "name": "stderr",
     "output_type": "stream",
     "text": [
      "/tmp/ipykernel_97024/3508515484.py:42: DeprecationWarning: DataFrameGroupBy.apply operated on the grouping columns. This behavior is deprecated, and in a future version of pandas the grouping columns will be excluded from the operation. Either pass `include_groups=False` to exclude the groupings or explicitly select the grouping columns after groupby to silence this warning.\n",
      "  summary = grouped.apply(\n"
     ]
    }
   ],
   "source": [
    "import pandas as pd\n",
    "from pathlib import Path\n",
    "\n",
    "# Define the data directory\n",
    "data_dir = Path.cwd().parent.resolve() / \"data\" / \"GFSMAB\"\n",
    "output_dir = data_dir / \"Summaries\"\n",
    "\n",
    "# Ensure the output directory exists\n",
    "output_dir.mkdir(parents=True, exist_ok=True)\n",
    "\n",
    "# List of years to process\n",
    "years = [2014, 2015, 2016, 2017, 2019, 2020]\n",
    "\n",
    "# List of keywords for filtering\n",
    "keywords = [\"debt\", \"liabilities\", \"borrowing\"]\n",
    "\n",
    "def load_data_for_year(data_dir, year):\n",
    "    \"\"\"Load the CSV file for a specific year.\"\"\"\n",
    "    file_dir = f\"GFSMAB{year}\"\n",
    "    file_name = f\"GFSMAB{year}_01-16-2025.csv\"\n",
    "    file_path = data_dir / file_dir / file_name\n",
    "    if file_path.exists():\n",
    "        return pd.read_csv(file_path)\n",
    "    else:\n",
    "        print(f\"File not found for year {year}: {file_path}\")\n",
    "        return None\n",
    "\n",
    "def filter_and_combine(data, column_name, keywords):\n",
    "    \"\"\"Filter rows based on multiple keywords and return combined results.\"\"\"\n",
    "    combined_rows = pd.DataFrame()\n",
    "    for keyword in keywords:\n",
    "        filtered_rows = data[data[column_name].str.contains(keyword, case=False, na=False)]\n",
    "        filtered_rows['Keyword'] = keyword\n",
    "        combined_rows = pd.concat([combined_rows, filtered_rows], ignore_index=True)\n",
    "    return combined_rows\n",
    "\n",
    "def analyze_data_format(data):\n",
    "    \"\"\"Analyze data to calculate sums of legitimate entries and covered countries.\"\"\"\n",
    "    filtered_data = data[data['Attribute'] == 'Value']\n",
    "    year_columns = [col for col in data.columns if col.startswith(('20', '19'))]\n",
    "    grouped = filtered_data.groupby(['Classification Name', 'Sector Name', 'Unit Name'])\n",
    "    summary = grouped.apply(\n",
    "        lambda group: pd.Series({\n",
    "            'Sum of Legitimate Entries': group[year_columns].apply(pd.to_numeric, errors='coerce').count().sum(),\n",
    "            'Number of Covered Countries': group['Country Code'].nunique()\n",
    "        })\n",
    "    ).reset_index()\n",
    "    return summary\n",
    "\n",
    "def process_all_years(data_dir, years, keywords, output_dir):\n",
    "    \"\"\"Process all years, filter and analyze data, and save summaries.\"\"\"\n",
    "    for year in years:\n",
    "        # Load data\n",
    "        data = load_data_for_year(data_dir, year)\n",
    "        if data is None:\n",
    "            continue  # Skip if the file for the year is not found\n",
    "\n",
    "        # Filter and combine data\n",
    "        combined_data = filter_and_combine(data, \"Classification Name\", keywords)\n",
    "\n",
    "        # Analyze data\n",
    "        summary = analyze_data_format(combined_data)\n",
    "\n",
    "        # Save the summary\n",
    "        summary_file = output_dir / f\"summary_analysis_{year}.csv\"\n",
    "        summary.to_csv(summary_file, index=False)\n",
    "        print(f\"Summary for {year} saved to {summary_file}\")\n",
    "\n",
    "# Run the processing\n",
    "process_all_years(data_dir, years, keywords, output_dir)\n"
   ]
  },
  {
   "cell_type": "code",
   "execution_count": 3,
   "metadata": {},
   "outputs": [
    {
     "name": "stdout",
     "output_type": "stream",
     "text": [
      "Aggregated summary saved to /home/torbenhaferkamp/Desktop/IfW_Kiel/GSF/hidden_debt_gsf/src/hidden_debt_gsf/data/GFSMAB/Summaries/aggregated_summary_2014_2020.csv\n"
     ]
    }
   ],
   "source": [
    "import pandas as pd\n",
    "from pathlib import Path\n",
    "\n",
    "# Define the directory containing summary files\n",
    "summary_dir = output_dir\n",
    "\n",
    "# Load all summary files into a list of DataFrames\n",
    "summary_dfs = []\n",
    "for year in years:\n",
    "    file_path = summary_dir / f\"summary_analysis_{year}.csv\"\n",
    "    if file_path.exists():\n",
    "        summary_dfs.append(pd.read_csv(file_path))\n",
    "    else:\n",
    "        print(f\"Summary file for {year} not found at {file_path}\")\n",
    "\n",
    "# Combine all summaries into a single DataFrame\n",
    "combined_summary = pd.concat(summary_dfs, ignore_index=True)\n",
    "\n",
    "# Group by relevant columns and calculate aggregated values\n",
    "aggregated_summary = combined_summary.groupby(\n",
    "    ['Classification Name', 'Sector Name', 'Unit Name'],\n",
    "    as_index=False\n",
    ").agg({\n",
    "    'Sum of Legitimate Entries': 'sum',\n",
    "    'Number of Covered Countries': 'max'\n",
    "})\n",
    "\n",
    "# Sort by the most legitimate entries\n",
    "aggregated_summary = aggregated_summary.sort_values(by='Sum of Legitimate Entries', ascending=False)\n",
    "\n",
    "# Save the aggregated summary to a CSV file\n",
    "output_path = summary_dir / \"aggregated_summary_2014_2020.csv\"\n",
    "aggregated_summary.to_csv(output_path, index=False)\n",
    "\n",
    "print(f\"Aggregated summary saved to {output_path}\")\n"
   ]
  }
 ],
 "metadata": {
  "kernelspec": {
   "display_name": "hidden_debt_gsf",
   "language": "python",
   "name": "python3"
  },
  "language_info": {
   "codemirror_mode": {
    "name": "ipython",
    "version": 3
   },
   "file_extension": ".py",
   "mimetype": "text/x-python",
   "name": "python",
   "nbconvert_exporter": "python",
   "pygments_lexer": "ipython3",
   "version": "3.12.0"
  }
 },
 "nbformat": 4,
 "nbformat_minor": 2
}
